{
 "cells": [
  {
   "cell_type": "code",
   "execution_count": 1,
   "metadata": {},
   "outputs": [],
   "source": [
    "import os\n",
    "cwd = os.getcwd()"
   ]
  },
  {
   "cell_type": "code",
   "execution_count": 2,
   "metadata": {},
   "outputs": [],
   "source": [
    "import sys\n",
    "sys.path.insert(0, cwd + \"/src/\")"
   ]
  },
  {
   "cell_type": "code",
   "execution_count": 3,
   "metadata": {},
   "outputs": [
    {
     "name": "stderr",
     "output_type": "stream",
     "text": [
      "Initialized logger\n"
     ]
    },
    {
     "name": "stdout",
     "output_type": "stream",
     "text": [
      "/home/roman/Documents/code\n"
     ]
    }
   ],
   "source": [
    "import chanopy"
   ]
  },
  {
   "cell_type": "code",
   "execution_count": 4,
   "metadata": {},
   "outputs": [],
   "source": [
    "modm = chanopy.MODManager(path_to_data= cwd + '/static/data/mod')"
   ]
  },
  {
   "cell_type": "code",
   "execution_count": 5,
   "metadata": {},
   "outputs": [
    {
     "data": {
      "text/plain": [
       "('/home/roman/Documents/code/chanopy2/app/static/data/mod',\n",
       " '/home/roman/Documents/code/chanopy2/src/chanopy/templates',\n",
       " '/home/roman/Documents/code/chanopy2/app/chanopy/collection')"
      ]
     },
     "execution_count": 5,
     "metadata": {},
     "output_type": "execute_result"
    }
   ],
   "source": [
    "modm.path_to_data, modm.path_to_templates, modm.path_to_mechanisms"
   ]
  },
  {
   "cell_type": "code",
   "execution_count": 6,
   "metadata": {},
   "outputs": [
    {
     "name": "stdout",
     "output_type": "stream",
     "text": [
      "Available archives in\n",
      "/home/roman/Documents/code/chanopy2/app/static/data/mod/\n",
      "\n",
      "├── Base/\n",
      "│   ├── Na\n",
      "│   └── Kv\n",
      "└── Park_2019/\n",
      "    ├── Park_Ka\n",
      "    ├── Park_Km\n",
      "    ├── Na\n",
      "    ├── Kv\n",
      "    ├── Park_Ca_LVA\n",
      "    ├── Park_Ca_HVA\n",
      "    └── Park_KCa\n"
     ]
    }
   ],
   "source": [
    "modm.list_archives()"
   ]
  },
  {
   "cell_type": "code",
   "execution_count": 7,
   "metadata": {},
   "outputs": [
    {
     "data": {
      "text/plain": [
       "['test']"
      ]
     },
     "execution_count": 7,
     "metadata": {},
     "output_type": "execute_result"
    }
   ],
   "source": [
    "modm.loader._loaded_archives"
   ]
  },
  {
   "cell_type": "code",
   "execution_count": 8,
   "metadata": {},
   "outputs": [
    {
     "name": "stdout",
     "output_type": "stream",
     "text": [
      "/home/roman/Documents/code/chanopy2/app/static/data/mod/Base\n",
      "Mod files: \"./Kv.mod\" \"./Na.mod\"\n",
      "\n",
      "Creating 'x86_64' directory for .o files.\n",
      "\n",
      " -> \u001b[32mCompiling\u001b[0m mod_func.cpp\n",
      " -> \u001b[32mNMODL\u001b[0m ../Kv.mod\n",
      " -> \u001b[32mNMODL\u001b[0m ../Na.mod\n",
      "Compiled mod files from \"/home/roman/Documents/code/chanopy2/app/static/data/mod/Base\"\n",
      "NEURON mechanisms not found in /home/roman/Documents/code/chanopy2/app/static/data/mod/Base.\n",
      "Loaded mechanisms from \"/home/roman/Documents/code/chanopy2/app/static/data/mod/Base\"\n"
     ]
    },
    {
     "name": "stderr",
     "output_type": "stream",
     "text": [
      "/home/roman/anaconda3/envs/dendrotweaks/bin/nrnivmodl:10: DeprecationWarning: pkg_resources is deprecated as an API. See https://setuptools.pypa.io/en/latest/pkg_resources.html\n",
      "  from pkg_resources import working_set\n",
      "Translating Kv.mod into /home/roman/Documents/code/chanopy2/app/static/data/mod/Base/x86_64/Kv.c\n",
      "Translating Na.mod into /home/roman/Documents/code/chanopy2/app/static/data/mod/Base/x86_64/Na.c\n",
      "syntax error:\n",
      " Illegal block at line 112 in file Na.mod\n",
      "this text won't be captured by the parser\n",
      "    ^\n",
      "Thread Safe\n",
      "make: *** [makemod2c_inc:11: Na.c] Error 1\n",
      "make: *** Waiting for unfinished jobs....\n",
      "Traceback (most recent call last):\n",
      "  File \"/home/roman/anaconda3/envs/dendrotweaks/bin/nrnivmodl\", line 94, in <module>\n",
      "    subprocess.check_call([exe, *sys.argv[1:]])\n",
      "  File \"/home/roman/anaconda3/envs/dendrotweaks/lib/python3.11/subprocess.py\", line 413, in check_call\n",
      "    raise CalledProcessError(retcode, cmd)\n",
      "subprocess.CalledProcessError: Command '['/home/roman/anaconda3/envs/dendrotweaks/lib/python3.11/site-packages/neuron/.data/bin/nrnivmodl']' returned non-zero exit status 2.\n"
     ]
    }
   ],
   "source": [
    "modm.load_archive('Base')"
   ]
  },
  {
   "cell_type": "code",
   "execution_count": 9,
   "metadata": {},
   "outputs": [
    {
     "name": "stderr",
     "output_type": "stream",
     "text": [
      "Reading file:\n",
      "/home/roman/Documents/code/chanopy2/app/static/data/mod/Park_2019/Na.mod\n"
     ]
    }
   ],
   "source": [
    "modm.read(file_name='Na', archive_name='Park_2019')"
   ]
  },
  {
   "cell_type": "code",
   "execution_count": 10,
   "metadata": {},
   "outputs": [
    {
     "name": "stderr",
     "output_type": "stream",
     "text": [
      "Removed suffix from 'gbar' (e.g. gnabar -> gbar)\n",
      "Removed 'UNITSOFF' and 'UNITSON'\n",
      "Removed inline comments\n",
      "Split content into blocks:\n",
      "    1 - TITLE\n",
      "    1 - COMMENT\n",
      "    1 - NEURON\n",
      "    1 - UNITS\n",
      "    1 - PARAMETER\n",
      "    1 - ASSIGNED\n",
      "    1 - STATE\n",
      "    1 - BREAKPOINT\n",
      "    1 - DERIVATIVE\n",
      "    1 - INITIAL\n",
      "    1 - FUNCTION\n",
      "    1 - PROCEDURE\n",
      "    0 - KINETIC\n",
      "No unmatched content.\n"
     ]
    }
   ],
   "source": [
    "config = {\n",
    "    \"remove_unitsoff\": True, \n",
    "    \"remove_inline_comments\":True, \n",
    "    \"remove_suffix_from_gbar\":True\n",
    "}\n",
    "\n",
    "modm.preprocess(config)"
   ]
  },
  {
   "cell_type": "code",
   "execution_count": 11,
   "metadata": {},
   "outputs": [
    {
     "data": {
      "text/plain": [
       "{'TITLE': ['TITLE Na channel\\n'],\n",
       " 'COMMENT': ['COMMENT\\n26 Ago 2002 Modification of original channel to allow variable time\\nstep and to correct an initialization error.\\n    Done by Michael Hines(michael.hines@yale.e) and Ruggero\\nScorcioni(rscorcio@gmu.edu) at EU Advance Course in Computational\\nNeuroscience. Obidos, Portugal\\n11 Jan 2007\\n    Glitch in trap where (v/th) was where (v-th)/q is. (thanks Ronald\\nvan Elburg!)\\n\\nna.mod\\n\\nSodium channel, Hodgkin-Huxley style kinetics.  \\n\\nKinetics were fit to data from Huguenard et al. (1988) and Hamill et\\nal. (1991)\\n\\nMainen, Z. F., Joerges, J., Huguenard, J. R., & Sejnowski, T. J. (1995). \\nA model of spike initiation in neocortical pyramidal neurons. \\nNeuron, 15(6), 1427–1439. doi\\nENDCOMMENT'],\n",
       " 'NEURON': ['NEURON {\\n\\tSUFFIX Na\\n\\tUSEION na READ ena WRITE ina\\n\\tRANGE gbar, i, v12m, qm, v12ha, v12hb, qh, v12hinf, qhinf, Rma, Rmb, Rhb, Rha\\n}'],\n",
       " 'UNITS': ['UNITS {\\n\\t(mA) = (milliamp)\\n\\t(mV) = (millivolt)\\n\\t(S)  = (siemens)\\n\\t(um) = (micron)\\n}'],\n",
       " 'PARAMETER': ['PARAMETER {\\n\\tgbar    = 0.0    (S/cm2)\\n\\tRma     = 0.182  (/mV/ms) \\n\\tRmb     = 0.14   (/mV/ms) \\n\\tv12m    = -30    (mV)     \\n\\tqm      = 9.8    (mV)     \\n\\n\\tRhb     = 0.0091 (/mV/ms) \\n\\tRha     = 0.024  (/mV/ms) \\n\\tv12ha   = -45\\t (mV)     \\n\\tv12hb   = -70\\t (mV)     \\n\\tqh      = 5      (mV)     \\n\\tv12hinf = -60    (mV)     \\n\\tqhinf   = 6.2\\t (mV)     \\n\\n\\ttemp    = 23     (degC)   \\n\\tq10     = 2.3    (1)      \\n\\n}'],\n",
       " 'ASSIGNED': ['ASSIGNED {\\n\\tv       (mV)\\n\\ti \\t    (mA/cm2)\\n\\tina     (mA/cm2)\\n\\tgna     (S/cm2)\\n\\tena     (mV)\\n\\tminf    (1)\\n\\thinf    (1)\\n\\tmtau    (ms)\\n\\thtau    (ms)\\n\\ttadj    (1)\\n\\tcelsius (degC)\\n}'],\n",
       " 'STATE': ['STATE { m h }'],\n",
       " 'BREAKPOINT': ['BREAKPOINT {\\n    SOLVE states METHOD cnexp\\n    gna = tadj * gbar * pow(m, 3) * h\\n\\ti = gna * (v - ena)\\n\\tina = i\\n}'],\n",
       " 'DERIVATIVE': [\"DERIVATIVE states {   \\n        rates(v)\\n        m' = (minf - m)/mtau\\n        h' = (hinf - h)/htau\\n}\"],\n",
       " 'INITIAL': ['INITIAL { \\n\\trates(v)\\n\\tm = minf\\n\\th = hinf\\n}'],\n",
       " 'FUNCTION': ['FUNCTION rateconst(v (mV), r (/mV/ms), v12 (mV), q (mV)) (/ms) {\\n\\tif (fabs((v - v12)/q) > 1e-6) {\\n\\t        rateconst = r * (v - v12) / (1 - exp(-(v - v12)/q))\\n\\t} else {\\n\\t        rateconst = r * q\\n \\t}\\n}'],\n",
       " 'PROCEDURE': ['PROCEDURE rates(v (mV)) {\\n\\n\\tLOCAL alpm, betm, alph, beth\\n\\n\\ttadj = q10^((celsius - temp)/10(degC))\\n\\n\\talpm = rateconst(v, Rma, v12m, qm)\\n\\tbetm = rateconst(-v, Rmb, -v12m,  qm)\\n\\n\\talph = rateconst(v, Rha, v12ha,  qh)\\n\\tbeth = rateconst(-v, Rhb, -v12hb, qh)\\n\\n\\tmtau = 1 / (tadj * (alpm + betm))\\n\\tminf = alpm / (alpm + betm)\\n\\n\\thtau = 1 / (tadj * (alph + beth))\\n\\thinf = 1 / (1 + exp((v - v12hinf)/qhinf))\\n}'],\n",
       " 'KINETIC': []}"
      ]
     },
     "execution_count": 11,
     "metadata": {},
     "output_type": "execute_result"
    }
   ],
   "source": [
    "modm.blocks"
   ]
  },
  {
   "cell_type": "markdown",
   "metadata": {},
   "source": [
    "# Parsing"
   ]
  },
  {
   "cell_type": "code",
   "execution_count": 12,
   "metadata": {},
   "outputs": [
    {
     "name": "stderr",
     "output_type": "stream",
     "text": [
      "Parsed TITLE block.\n",
      "Parsed COMMENT block.\n",
      "Parsed NEURON block.\n",
      "Parsed UNITS block.\n",
      "Parsed PARAMETER block.\n",
      "Parsed ASSIGNED block.\n",
      "Parsed STATE block.\n",
      "Parsed BREAKPOINT block.\n",
      "Parsed DERIVATIVE block.\n",
      "Parsed INITIAL block.\n",
      "Parsed FUNCTION block.\n",
      "Parsed PROCEDURE block.\n"
     ]
    }
   ],
   "source": [
    "modm.parse()"
   ]
  },
  {
   "cell_type": "code",
   "execution_count": 13,
   "metadata": {},
   "outputs": [
    {
     "name": "stdout",
     "output_type": "stream",
     "text": [
      "Restoring expressions in BREAKPOINT\n",
      "Restoring expressions in DERIVATIVE\n",
      "Restoring expressions in FUNCTION\n",
      "Restoring expressions in PROCEDURE\n"
     ]
    }
   ],
   "source": [
    "config = {\n",
    "        \"update_state_vars_with_powers\":True, \n",
    "        \"replace_constants_with_values\":True, \n",
    "        \"restore_expressions\":True\n",
    "}\n",
    "\n",
    "modm.postprocess(config)"
   ]
  },
  {
   "cell_type": "code",
   "execution_count": 14,
   "metadata": {},
   "outputs": [],
   "source": [
    "ast = modm.ast"
   ]
  },
  {
   "cell_type": "code",
   "execution_count": 15,
   "metadata": {},
   "outputs": [],
   "source": [
    "import json \n",
    "with open(cwd + '/static/data/Na.json', 'w') as f:\n",
    "    json.dump(modm.parser._ast, f, indent=4)"
   ]
  },
  {
   "cell_type": "markdown",
   "metadata": {},
   "source": [
    "# Generate python code"
   ]
  },
  {
   "cell_type": "code",
   "execution_count": 16,
   "metadata": {},
   "outputs": [
    {
     "data": {
      "text/plain": [
       "['template_dd.py', 'template2.py', 'template_jaxley.py']"
      ]
     },
     "execution_count": 16,
     "metadata": {},
     "output_type": "execute_result"
    }
   ],
   "source": [
    "modm.path_to_templates\n",
    "import os\n",
    "os.listdir(modm.path_to_templates)"
   ]
  },
  {
   "cell_type": "code",
   "execution_count": 17,
   "metadata": {},
   "outputs": [],
   "source": [
    "template_name = 'template_dd'"
   ]
  },
  {
   "cell_type": "code",
   "execution_count": 18,
   "metadata": {},
   "outputs": [
    {
     "name": "stdout",
     "output_type": "stream",
     "text": [
      "/home/roman/Documents/code/chanopy2/src/chanopy/templates/template_dd.py\n"
     ]
    }
   ],
   "source": [
    "modm.ast_to_python(template_name)"
   ]
  },
  {
   "cell_type": "code",
   "execution_count": 19,
   "metadata": {},
   "outputs": [
    {
     "data": {
      "text/plain": [
       "'/home/roman/Documents/code/chanopy2/app/chanopy/collection'"
      ]
     },
     "execution_count": 19,
     "metadata": {},
     "output_type": "execute_result"
    }
   ],
   "source": [
    "modm.path_to_mechanisms"
   ]
  },
  {
   "cell_type": "code",
   "execution_count": 20,
   "metadata": {},
   "outputs": [
    {
     "name": "stdout",
     "output_type": "stream",
     "text": [
      "Saved content to /home/roman/Documents/code/chanopy2/app/chanopy/collection/Na.py\n"
     ]
    }
   ],
   "source": [
    "modm.write()"
   ]
  },
  {
   "cell_type": "markdown",
   "metadata": {},
   "source": [
    "# Test the channel"
   ]
  },
  {
   "cell_type": "code",
   "execution_count": 21,
   "metadata": {},
   "outputs": [],
   "source": [
    "from chanopy.mechanisms import IonChannel"
   ]
  },
  {
   "cell_type": "code",
   "execution_count": 22,
   "metadata": {},
   "outputs": [],
   "source": [
    "from static.data.collection.Na import Na\n",
    "from static.data.collection.Kv import Kv\n",
    "import numpy as np"
   ]
  },
  {
   "cell_type": "code",
   "execution_count": 23,
   "metadata": {},
   "outputs": [],
   "source": [
    "# kv = Kv()\n",
    "na = Na()"
   ]
  },
  {
   "cell_type": "code",
   "execution_count": 24,
   "metadata": {},
   "outputs": [
    {
     "data": {
      "text/plain": [
       "'Na'"
      ]
     },
     "execution_count": 24,
     "metadata": {},
     "output_type": "execute_result"
    }
   ],
   "source": [
    "na.name"
   ]
  },
  {
   "cell_type": "code",
   "execution_count": 25,
   "metadata": {},
   "outputs": [],
   "source": [
    "v = np.linspace(-100, 100, 1000)"
   ]
  },
  {
   "cell_type": "code",
   "execution_count": 26,
   "metadata": {},
   "outputs": [],
   "source": [
    "data = na.get_data(v)"
   ]
  },
  {
   "cell_type": "code",
   "execution_count": 27,
   "metadata": {},
   "outputs": [
    {
     "data": {
      "image/png": "[encoded data removed]",
      "text/plain": [
       "<Figure size 1000x500 with 2 Axes>"
      ]
     },
     "metadata": {},
     "output_type": "display_data"
    }
   ],
   "source": [
    "import matplotlib.pyplot as plt\n",
    "fig, ax = plt.subplots(1, 2, figsize=(10, 5))\n",
    "na.plot_kinetic_variables(ax)\n",
    "# kv.plot_kinetic_variables(ax)"
   ]
  }
 ],
 "metadata": {
  "kernelspec": {
   "display_name": "dendrotweaks",
   "language": "python",
   "name": "python3"
  },
  "language_info": {
   "codemirror_mode": {
    "name": "ipython",
    "version": 3
   },
   "file_extension": ".py",
   "mimetype": "text/x-python",
   "name": "python",
   "nbconvert_exporter": "python",
   "pygments_lexer": "ipython3",
   "version": "3.11.3"
  }
 },
 "nbformat": 4,
 "nbformat_minor": 2
}
