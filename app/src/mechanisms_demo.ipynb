{
 "cells": [
  {
   "cell_type": "code",
   "execution_count": 1,
   "metadata": {},
   "outputs": [],
   "source": [
    "# from dendrotweaks.file_managers.mod_manager.reader import MODReader\n",
    "# from dendrotweaks.file_managers.mod_manager.parser import MODParser\n",
    "# from dendrotweaks.file_managers.mod_manager.code_generator import CodeGenerator\n",
    "import dendrotweaks as dd"
   ]
  },
  {
   "cell_type": "code",
   "execution_count": 2,
   "metadata": {},
   "outputs": [],
   "source": [
    "modm = dd.file_managers.MODManager()"
   ]
  },
  {
   "cell_type": "code",
   "execution_count": 3,
   "metadata": {},
   "outputs": [
    {
     "name": "stdout",
     "output_type": "stream",
     "text": [
      "====================\n",
      "MOD MANAGER\n",
      "\n",
      "Path to data: data/\n",
      "Simulator: NEURON\n",
      "\n",
      "Available archives:\n",
      "{'Base': ['Leak'],\n",
      " 'Park_2019': ['Na', 'KCa', 'Kv', 'Ka', 'CaHVA', 'Km', 'CaLVA'],\n",
      " 'Park_test': ['Na', 'Kv']}\n",
      "\n",
      "READ      : False\n",
      "PARSED    : False\n",
      "GENERATED : False\n"
     ]
    }
   ],
   "source": [
    "modm.info()"
   ]
  },
  {
   "cell_type": "code",
   "execution_count": 4,
   "metadata": {},
   "outputs": [
    {
     "data": {
      "text/plain": [
       "{'Base': ['Leak'],\n",
       " 'Park_2019': ['Na', 'KCa', 'Kv', 'Ka', 'CaHVA', 'Km', 'CaLVA'],\n",
       " 'Park_test': ['Na', 'Kv']}"
      ]
     },
     "execution_count": 4,
     "metadata": {},
     "output_type": "execute_result"
    }
   ],
   "source": [
    "modm.list_archives()"
   ]
  },
  {
   "cell_type": "code",
   "execution_count": 5,
   "metadata": {},
   "outputs": [
    {
     "name": "stdout",
     "output_type": "stream",
     "text": [
      "Replacing SUFFIX na with SUFFIX Na\n",
      "Saved changes to data/mod/Park_test/Na.mod\n",
      "Replacing SUFFIX Kv with SUFFIX Kv\n",
      "Saved changes to data/mod/Park_test/Kv.mod\n"
     ]
    }
   ],
   "source": [
    "modm._replace_suffix_with_name(archive=\"Park_test\")"
   ]
  },
  {
   "cell_type": "markdown",
   "metadata": {},
   "source": [
    "# Preprocessing"
   ]
  },
  {
   "cell_type": "code",
   "execution_count": 21,
   "metadata": {},
   "outputs": [],
   "source": [
    "mechanism_name = 'Kv'\n",
    "archive_name='Park_test'\n",
    "path_to_mod_file = f'data/mod/{archive_name}/{mechanism_name}.mod'.replace('//', '/')\n",
    "modm.read(path_to_mod_file)\n",
    "# modm.parse()\n",
    "# modm.ast_to_python()"
   ]
  },
  {
   "cell_type": "code",
   "execution_count": 22,
   "metadata": {},
   "outputs": [
    {
     "name": "stdout",
     "output_type": "stream",
     "text": [
      "\n",
      "====================\n",
      "READER\n",
      "\n",
      "Path to file: data/mod/Park_test/Kv.mod\n",
      "1 - TITLE\n",
      "1 - COMMENT\n",
      "1 - NEURON\n",
      "1 - UNITS\n",
      "1 - PARAMETER\n",
      "1 - ASSIGNED\n",
      "1 - STATE\n",
      "1 - BREAKPOINT\n",
      "1 - DERIVATIVE\n",
      "1 - INITIAL\n",
      "1 - FUNCTION\n",
      "1 - PROCEDURE\n",
      "0 - KINETIC\n",
      "No unmatched content.\n"
     ]
    }
   ],
   "source": [
    "modm.reader.info()"
   ]
  },
  {
   "cell_type": "code",
   "execution_count": 23,
   "metadata": {},
   "outputs": [
    {
     "data": {
      "text/plain": [
       "{'TITLE': ['TITLE Kv_Park_ref\\n'],\n",
       " 'COMMENT': ['COMMENT\\n26 Ago 2002 Modification of original channel to allow variable time step and to correct an initialization error.\\n    Done by Michael Hines(michael.hines@yale.e) and Ruggero Scorcioni(rscorcio@gmu.edu) at EU Advance Course in Computational Neuroscience. Obidos, Portugal\\n\\nkv.mod\\n\\nPotassium channel, Hodgkin-Huxley style kinetics\\nKinetic rates based roughly on Sah et al. and Hamill et al. (1991)\\n\\nAuthor\\nENDCOMMENT'],\n",
       " 'NEURON': ['NEURON {\\n\\tSUFFIX Kv\\n\\tUSEION k READ ek WRITE ik\\n\\tRANGE gbar, i, v12, q\\n}'],\n",
       " 'UNITS': ['UNITS {\\n\\t(mA) = (milliamp)\\n\\t(mV) = (millivolt)\\n\\t(S)  = (siemens)\\n\\t(um) = (micron)\\n}'],\n",
       " 'PARAMETER': ['PARAMETER {\\n\\tgbar = 0.0   (S/cm2)                                                                                      \\n\\tRa   = 0.02  (/mV/ms) \\n\\tRb   = 0.006 (/mV/ms) \\n\\tv12  = 25    (mV)\\t  \\n\\tq    = 9     (mV)     \\n\\ttemp = 23    (degC)   \\n\\tq10  = 2.3   (1)\\t  \\n}'],\n",
       " 'ASSIGNED': ['ASSIGNED {\\n\\tv       (mV)\\n\\ti \\t    (mA/cm2)\\n\\tik      (mA/cm2)\\n\\tgk      (S/cm2)\\n\\tek      (mV)\\n\\tninf    (1)\\n\\tntau    (ms)\\n\\ttadj    (1)\\n\\tcelsius (degC)\\n}'],\n",
       " 'STATE': ['STATE { n }'],\n",
       " 'BREAKPOINT': ['BREAKPOINT {\\n    SOLVE states METHOD cnexp\\n\\tgk = tadj * gbar * n\\n\\ti = gk * (v - ek)\\n\\tik = i\\n}'],\n",
       " 'DERIVATIVE': [\"DERIVATIVE  states {   \\n        rates(v)\\n        n' =  (ninf - n)/ntau\\n}\"],\n",
       " 'INITIAL': ['INITIAL { \\n\\trates(v)\\n\\tn = ninf\\n}'],\n",
       " 'FUNCTION': ['FUNCTION rateconst(v (mV), r (/mV/ms), th (mV), q (mV)) (/ms) {\\n\\trateconst = r * (v - th) / (1 - exp(-(v - th)/q))\\n}'],\n",
       " 'PROCEDURE': ['PROCEDURE rates(v (mV)) {\\n\\n\\tLOCAL alpn, betn\\n\\n\\ttadj = q10^((celsius - temp)/10(degC))\\n\\n\\talpn = rateconst(v, Ra, v12, q)\\n\\tbetn = rateconst(v, -Rb, v12, -q)\\n\\n    ntau = 1 / (tadj * (alpn + betn))\\n\\tninf = alpn/(alpn + betn)\\n}'],\n",
       " 'KINETIC': []}"
      ]
     },
     "execution_count": 23,
     "metadata": {},
     "output_type": "execute_result"
    }
   ],
   "source": [
    "modm.blocks"
   ]
  },
  {
   "cell_type": "markdown",
   "metadata": {},
   "source": [
    "# Parsing"
   ]
  },
  {
   "cell_type": "code",
   "execution_count": 24,
   "metadata": {},
   "outputs": [],
   "source": [
    "modm.parse()"
   ]
  },
  {
   "cell_type": "code",
   "execution_count": 25,
   "metadata": {},
   "outputs": [
    {
     "name": "stdout",
     "output_type": "stream",
     "text": [
      "\n",
      "====================\n",
      "PARSER\n",
      "\n",
      "File parsed: True\n",
      "1 - TITLE\n",
      "1 - COMMENT\n",
      "1 - NEURON\n",
      "1 - UNITS\n",
      "1 - PARAMETER\n",
      "1 - ASSIGNED\n",
      "1 - STATE\n",
      "1 - BREAKPOINT\n",
      "1 - DERIVATIVE\n",
      "1 - INITIAL\n",
      "1 - FUNCTION\n",
      "1 - PROCEDURE\n"
     ]
    }
   ],
   "source": [
    "modm.parser.info()"
   ]
  },
  {
   "cell_type": "code",
   "execution_count": 26,
   "metadata": {},
   "outputs": [
    {
     "data": {
      "text/plain": [
       "{'suffix': 'Kv',\n",
       " 'useion': [{'ion': 'k', 'read': ['ek'], 'write': ['ik']}],\n",
       " 'range': ['gbar', 'i', 'v12', 'q']}"
      ]
     },
     "execution_count": 26,
     "metadata": {},
     "output_type": "execute_result"
    }
   ],
   "source": [
    "modm.ast['NEURON']"
   ]
  },
  {
   "cell_type": "code",
   "execution_count": 27,
   "metadata": {},
   "outputs": [
    {
     "data": {
      "text/plain": [
       "{'n': 1}"
      ]
     },
     "execution_count": 27,
     "metadata": {},
     "output_type": "execute_result"
    }
   ],
   "source": [
    "modm.ast['STATE']"
   ]
  },
  {
   "cell_type": "code",
   "execution_count": 28,
   "metadata": {},
   "outputs": [
    {
     "data": {
      "text/plain": [
       "{'signature': {'f_name': 'rates', 'args': [{'name': 'v', 'unit': 'mV'}]},\n",
       " 'locals': ['alpn', 'betn'],\n",
       " 'assignment_statements': [{'assigned_var': 'tadj',\n",
       "   'expression': {'^': ['q10', {'/': [{'-': ['celsius', 'temp']}, 10]}]}},\n",
       "  {'assigned_var': 'alpn',\n",
       "   'expression': {'rateconst': ['v', 'Ra', 'v12', 'q']}},\n",
       "  {'assigned_var': 'betn',\n",
       "   'expression': {'rateconst': ['v', {'-': ['Rb']}, 'v12', {'-': ['q']}]}},\n",
       "  {'assigned_var': 'nTau',\n",
       "   'expression': {'/': [1, {'*': ['tadj', {'+': ['alpn', 'betn']}]}]}},\n",
       "  {'assigned_var': 'nInf',\n",
       "   'expression': {'/': ['alpn', {'+': ['alpn', 'betn']}]}}],\n",
       " 'statements': [{'assigned_var': 'tadj',\n",
       "   'expression': {'^': ['q10', {'/': [{'-': ['celsius', 'temp']}, 10]}]}},\n",
       "  {'assigned_var': 'alpn',\n",
       "   'expression': {'rateconst': ['v', 'Ra', 'v12', 'q']}},\n",
       "  {'assigned_var': 'betn',\n",
       "   'expression': {'rateconst': ['v', {'-': ['Rb']}, 'v12', {'-': ['q']}]}},\n",
       "  {'assigned_var': 'nTau',\n",
       "   'expression': {'/': [1, {'*': ['tadj', {'+': ['alpn', 'betn']}]}]}},\n",
       "  {'assigned_var': 'nInf',\n",
       "   'expression': {'/': ['alpn', {'+': ['alpn', 'betn']}]}}]}"
      ]
     },
     "execution_count": 28,
     "metadata": {},
     "output_type": "execute_result"
    }
   ],
   "source": [
    "modm.ast['PROCEDURE'][0]"
   ]
  },
  {
   "cell_type": "markdown",
   "metadata": {},
   "source": [
    "# Generate python code"
   ]
  },
  {
   "cell_type": "code",
   "execution_count": 29,
   "metadata": {},
   "outputs": [],
   "source": [
    "modm.ast_to_python()"
   ]
  },
  {
   "cell_type": "code",
   "execution_count": 30,
   "metadata": {},
   "outputs": [
    {
     "name": "stdout",
     "output_type": "stream",
     "text": [
      "\n",
      "====================\n",
      "GENERATOR\n",
      "\n",
      "Template: dendrotweaks/file_managers/mod_manager/templates/template_dd.py\n",
      "Library: np\n",
      "Code is generated: True\n"
     ]
    }
   ],
   "source": [
    "modm.code_generator.info()"
   ]
  },
  {
   "cell_type": "code",
   "execution_count": 31,
   "metadata": {},
   "outputs": [
    {
     "name": "stdout",
     "output_type": "stream",
     "text": [
      "Saved content to data/collection/Park_test/Kv.py\n"
     ]
    }
   ],
   "source": [
    "path_to_file = f'data/collection/{archive_name}/{mechanism_name}.py'\n",
    "modm.write(path_to_file)"
   ]
  },
  {
   "cell_type": "markdown",
   "metadata": {},
   "source": [
    "# Test the channel"
   ]
  },
  {
   "cell_type": "code",
   "execution_count": 32,
   "metadata": {},
   "outputs": [],
   "source": [
    "from data.collection.Park_test.Na import Na\n",
    "from data.collection.Park_test.Kv import Kv\n",
    "import numpy as np"
   ]
  },
  {
   "cell_type": "code",
   "execution_count": 33,
   "metadata": {},
   "outputs": [],
   "source": [
    "kv = Kv()\n",
    "na = Na()"
   ]
  },
  {
   "cell_type": "code",
   "execution_count": 34,
   "metadata": {},
   "outputs": [
    {
     "data": {
      "text/plain": [
       "('Kv', 'Na')"
      ]
     },
     "execution_count": 34,
     "metadata": {},
     "output_type": "execute_result"
    }
   ],
   "source": [
    "kv.name, na.name"
   ]
  },
  {
   "cell_type": "code",
   "execution_count": 35,
   "metadata": {},
   "outputs": [],
   "source": [
    "v = np.linspace(-100, 100, 1000)"
   ]
  },
  {
   "cell_type": "code",
   "execution_count": 36,
   "metadata": {},
   "outputs": [],
   "source": [
    "data = kv.get_data(v)"
   ]
  },
  {
   "cell_type": "code",
   "execution_count": 37,
   "metadata": {},
   "outputs": [
    {
     "data": {
      "image/png": "[encoded data removed]",
      "text/plain": [
       "<Figure size 1000x500 with 2 Axes>"
      ]
     },
     "metadata": {},
     "output_type": "display_data"
    }
   ],
   "source": [
    "import matplotlib.pyplot as plt\n",
    "fig, ax = plt.subplots(1, 2, figsize=(10, 5))\n",
    "na.plot_kinetic_variables(ax)\n",
    "kv.plot_kinetic_variables(ax)"
   ]
  }
 ],
 "metadata": {
  "kernelspec": {
   "display_name": "dendrotweaks",
   "language": "python",
   "name": "python3"
  },
  "language_info": {
   "codemirror_mode": {
    "name": "ipython",
    "version": 3
   },
   "file_extension": ".py",
   "mimetype": "text/x-python",
   "name": "python",
   "nbconvert_exporter": "python",
   "pygments_lexer": "ipython3",
   "version": "3.11.3"
  }
 },
 "nbformat": 4,
 "nbformat_minor": 2
}
