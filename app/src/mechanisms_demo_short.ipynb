{
 "cells": [
  {
   "cell_type": "code",
   "execution_count": 1,
   "metadata": {},
   "outputs": [],
   "source": [
    "import os\n",
    "cwd = os.getcwd()"
   ]
  },
  {
   "cell_type": "code",
   "execution_count": 2,
   "metadata": {},
   "outputs": [],
   "source": [
    "import sys\n",
    "sys.path.insert(0, cwd + \"/src/\")"
   ]
  },
  {
   "cell_type": "code",
   "execution_count": 3,
   "metadata": {},
   "outputs": [
    {
     "name": "stdout",
     "output_type": "stream",
     "text": [
      "/home/roman/Documents/code/DendroTweaks/app/src\n"
     ]
    },
    {
     "ename": "ModuleNotFoundError",
     "evalue": "No module named 'dendrotweaks.membrane.io.preprocessor'",
     "output_type": "error",
     "traceback": [
      "\u001b[0;31m---------------------------------------------------------------------------\u001b[0m",
      "\u001b[0;31mModuleNotFoundError\u001b[0m                       Traceback (most recent call last)",
      "Cell \u001b[0;32mIn[3], line 1\u001b[0m\n\u001b[0;32m----> 1\u001b[0m \u001b[38;5;28;01mimport\u001b[39;00m \u001b[38;5;21;01mdendrotweaks\u001b[39;00m \u001b[38;5;28;01mas\u001b[39;00m \u001b[38;5;21;01mdd\u001b[39;00m\n\u001b[1;32m      2\u001b[0m \u001b[38;5;28;01mimport\u001b[39;00m \u001b[38;5;21;01mnumpy\u001b[39;00m \u001b[38;5;28;01mas\u001b[39;00m \u001b[38;5;21;01mnp\u001b[39;00m\n",
      "File \u001b[0;32m~/Documents/code/DendroTweaks/app/src/dendrotweaks/__init__.py:1\u001b[0m\n\u001b[0;32m----> 1\u001b[0m \u001b[38;5;28;01mfrom\u001b[39;00m \u001b[38;5;21;01mdendrotweaks\u001b[39;00m\u001b[38;5;21;01m.\u001b[39;00m\u001b[38;5;21;01mmodel\u001b[39;00m \u001b[38;5;28;01mimport\u001b[39;00m Model\n\u001b[1;32m      2\u001b[0m \u001b[38;5;28;01mfrom\u001b[39;00m \u001b[38;5;21;01mdendrotweaks\u001b[39;00m\u001b[38;5;21;01m.\u001b[39;00m\u001b[38;5;21;01msimulators\u001b[39;00m \u001b[38;5;28;01mimport\u001b[39;00m NEURONSimulator\n\u001b[1;32m      3\u001b[0m \u001b[38;5;28;01mfrom\u001b[39;00m \u001b[38;5;21;01mdendrotweaks\u001b[39;00m\u001b[38;5;21;01m.\u001b[39;00m\u001b[38;5;21;01mmembrane\u001b[39;00m\u001b[38;5;21;01m.\u001b[39;00m\u001b[38;5;21;01mdistributions\u001b[39;00m \u001b[38;5;28;01mimport\u001b[39;00m Distribution\n",
      "File \u001b[0;32m~/Documents/code/DendroTweaks/app/src/dendrotweaks/model.py:6\u001b[0m\n\u001b[1;32m      4\u001b[0m \u001b[38;5;28;01mfrom\u001b[39;00m \u001b[38;5;21;01mdendrotweaks\u001b[39;00m\u001b[38;5;21;01m.\u001b[39;00m\u001b[38;5;21;01mmorphology\u001b[39;00m\u001b[38;5;21;01m.\u001b[39;00m\u001b[38;5;21;01mseg_trees\u001b[39;00m \u001b[38;5;28;01mimport\u001b[39;00m Segment, SegmentTree\n\u001b[1;32m      5\u001b[0m \u001b[38;5;28;01mfrom\u001b[39;00m \u001b[38;5;21;01mdendrotweaks\u001b[39;00m\u001b[38;5;21;01m.\u001b[39;00m\u001b[38;5;21;01msimulators\u001b[39;00m \u001b[38;5;28;01mimport\u001b[39;00m NEURONSimulator\n\u001b[0;32m----> 6\u001b[0m \u001b[38;5;28;01mfrom\u001b[39;00m \u001b[38;5;21;01mdendrotweaks\u001b[39;00m\u001b[38;5;21;01m.\u001b[39;00m\u001b[38;5;21;01mmembrane\u001b[39;00m\u001b[38;5;21;01m.\u001b[39;00m\u001b[38;5;21;01mgroups\u001b[39;00m \u001b[38;5;28;01mimport\u001b[39;00m SectionGroup\n\u001b[1;32m      7\u001b[0m \u001b[38;5;28;01mfrom\u001b[39;00m \u001b[38;5;21;01mdendrotweaks\u001b[39;00m\u001b[38;5;21;01m.\u001b[39;00m\u001b[38;5;21;01mmembrane\u001b[39;00m\u001b[38;5;21;01m.\u001b[39;00m\u001b[38;5;21;01mmechanisms\u001b[39;00m \u001b[38;5;28;01mimport\u001b[39;00m Mechanism, LeakChannel\n\u001b[1;32m      8\u001b[0m \u001b[38;5;28;01mfrom\u001b[39;00m \u001b[38;5;21;01mdendrotweaks\u001b[39;00m\u001b[38;5;21;01m.\u001b[39;00m\u001b[38;5;21;01mfile_managers\u001b[39;00m \u001b[38;5;28;01mimport\u001b[39;00m SWCManager, MODManager\n",
      "File \u001b[0;32m~/Documents/code/DendroTweaks/app/src/dendrotweaks/membrane/__init__.py:6\u001b[0m\n\u001b[1;32m      3\u001b[0m \u001b[38;5;28;01mfrom\u001b[39;00m \u001b[38;5;21;01mdendrotweaks\u001b[39;00m\u001b[38;5;21;01m.\u001b[39;00m\u001b[38;5;21;01mmembrane\u001b[39;00m\u001b[38;5;21;01m.\u001b[39;00m\u001b[38;5;21;01mgroups\u001b[39;00m \u001b[38;5;28;01mimport\u001b[39;00m SectionGroup\n\u001b[1;32m      4\u001b[0m \u001b[38;5;28;01mfrom\u001b[39;00m \u001b[38;5;21;01mdendrotweaks\u001b[39;00m\u001b[38;5;21;01m.\u001b[39;00m\u001b[38;5;21;01mmembrane\u001b[39;00m\u001b[38;5;21;01m.\u001b[39;00m\u001b[38;5;21;01mdistributions\u001b[39;00m \u001b[38;5;28;01mimport\u001b[39;00m Distribution\n\u001b[0;32m----> 6\u001b[0m \u001b[38;5;28;01mimport\u001b[39;00m \u001b[38;5;21;01mdendrotweaks\u001b[39;00m\u001b[38;5;21;01m.\u001b[39;00m\u001b[38;5;21;01mmembrane\u001b[39;00m\u001b[38;5;21;01m.\u001b[39;00m\u001b[38;5;21;01mio\u001b[39;00m \u001b[38;5;28;01mas\u001b[39;00m \u001b[38;5;21;01mio\u001b[39;00m\n",
      "File \u001b[0;32m~/Documents/code/DendroTweaks/app/src/dendrotweaks/membrane/io/__init__.py:4\u001b[0m\n\u001b[1;32m      1\u001b[0m \u001b[38;5;28;01mfrom\u001b[39;00m \u001b[38;5;21;01mdendrotweaks\u001b[39;00m\u001b[38;5;21;01m.\u001b[39;00m\u001b[38;5;21;01mmembrane\u001b[39;00m\u001b[38;5;21;01m.\u001b[39;00m\u001b[38;5;21;01mio\u001b[39;00m\u001b[38;5;21;01m.\u001b[39;00m\u001b[38;5;21;01mloader\u001b[39;00m \u001b[38;5;28;01mimport\u001b[39;00m MODFileLoader\n\u001b[1;32m      2\u001b[0m \u001b[38;5;28;01mfrom\u001b[39;00m \u001b[38;5;21;01mdendrotweaks\u001b[39;00m\u001b[38;5;21;01m.\u001b[39;00m\u001b[38;5;21;01mmembrane\u001b[39;00m\u001b[38;5;21;01m.\u001b[39;00m\u001b[38;5;21;01mio\u001b[39;00m\u001b[38;5;21;01m.\u001b[39;00m\u001b[38;5;21;01mconverter\u001b[39;00m \u001b[38;5;28;01mimport\u001b[39;00m MODFileConverter\n\u001b[0;32m----> 4\u001b[0m \u001b[38;5;28;01mfrom\u001b[39;00m \u001b[38;5;21;01mdendrotweaks\u001b[39;00m\u001b[38;5;21;01m.\u001b[39;00m\u001b[38;5;21;01mmembrane\u001b[39;00m\u001b[38;5;21;01m.\u001b[39;00m\u001b[38;5;21;01mio\u001b[39;00m\u001b[38;5;21;01m.\u001b[39;00m\u001b[38;5;21;01mpreprocessor\u001b[39;00m \u001b[38;5;28;01mimport\u001b[39;00m MODFilePreprocessor\n\u001b[1;32m      5\u001b[0m \u001b[38;5;28;01mfrom\u001b[39;00m \u001b[38;5;21;01mdendrotweaks\u001b[39;00m\u001b[38;5;21;01m.\u001b[39;00m\u001b[38;5;21;01mmembrane\u001b[39;00m\u001b[38;5;21;01m.\u001b[39;00m\u001b[38;5;21;01mio\u001b[39;00m\u001b[38;5;21;01m.\u001b[39;00m\u001b[38;5;21;01mparser\u001b[39;00m \u001b[38;5;28;01mimport\u001b[39;00m MODFileParser\n\u001b[1;32m      6\u001b[0m \u001b[38;5;28;01mfrom\u001b[39;00m \u001b[38;5;21;01mdendrotweaks\u001b[39;00m\u001b[38;5;21;01m.\u001b[39;00m\u001b[38;5;21;01mmembrane\u001b[39;00m\u001b[38;5;21;01m.\u001b[39;00m\u001b[38;5;21;01mio\u001b[39;00m\u001b[38;5;21;01m.\u001b[39;00m\u001b[38;5;21;01mcode_generators\u001b[39;00m \u001b[38;5;28;01mimport\u001b[39;00m PythonCodeGenerator\n",
      "\u001b[0;31mModuleNotFoundError\u001b[0m: No module named 'dendrotweaks.membrane.io.preprocessor'"
     ]
    }
   ],
   "source": [
    "import dendrotweaks as dd\n",
    "import numpy as np"
   ]
  },
  {
   "cell_type": "code",
   "execution_count": 4,
   "metadata": {},
   "outputs": [],
   "source": [
    "path_to_data = os.path.join(cwd, \"data/\")\n",
    "\n",
    "PATHS = {\n",
    "    \"path_to_mod\": os.path.join(path_to_data, \"mod/\"),\n",
    "    \"path_to_templates\": os.path.join(path_to_data, \"templates/\"),\n",
    "    \"path_to_mechanisms\": os.path.join(path_to_data, \"mechanisms/\"),\n",
    "}"
   ]
  },
  {
   "cell_type": "code",
   "execution_count": 8,
   "metadata": {},
   "outputs": [
    {
     "ename": "AttributeError",
     "evalue": "module 'dendrotweaks.membrane' has no attribute 'io'",
     "output_type": "error",
     "traceback": [
      "\u001b[0;31m---------------------------------------------------------------------------\u001b[0m",
      "\u001b[0;31mAttributeError\u001b[0m                            Traceback (most recent call last)",
      "Cell \u001b[0;32mIn[8], line 1\u001b[0m\n\u001b[0;32m----> 1\u001b[0m factory \u001b[38;5;241m=\u001b[39m dd\u001b[38;5;241m.\u001b[39mmembrane\u001b[38;5;241m.\u001b[39mio\u001b[38;5;241m.\u001b[39mMechanismFactory()\n",
      "\u001b[0;31mAttributeError\u001b[0m: module 'dendrotweaks.membrane' has no attribute 'io'"
     ]
    }
   ],
   "source": [
    "factory = dd.membrane.io.MechanismFactory()"
   ]
  },
  {
   "cell_type": "code",
   "execution_count": 7,
   "metadata": {},
   "outputs": [
    {
     "name": "stderr",
     "output_type": "stream",
     "text": [
      "Reading file:\n",
      "/home/roman/Documents/code/chanopy2/app/static/data/mod/Park_2019/Na.mod\n",
      "Removed suffix from 'gbar' (e.g. gnabar -> gbar)\n",
      "Removed 'UNITSOFF' and 'UNITSON'\n",
      "Removed inline comments\n",
      "Removed content between 'VERBATIM' and 'ENDVERBATIM'\n",
      "Split content into blocks:\n",
      "    1 - TITLE\n",
      "    1 - COMMENT\n",
      "    1 - NEURON\n",
      "    1 - UNITS\n",
      "    1 - PARAMETER\n",
      "    1 - ASSIGNED\n",
      "    1 - STATE\n",
      "    1 - BREAKPOINT\n",
      "    1 - DERIVATIVE\n",
      "    1 - INITIAL\n",
      "    1 - FUNCTION\n",
      "    1 - PROCEDURE\n",
      "    0 - KINETIC\n",
      "No unmatched content.\n",
      "Parsed TITLE block.\n",
      "Parsed COMMENT block.\n",
      "Parsed NEURON block.\n",
      "Parsed UNITS block.\n",
      "Parsed PARAMETER block.\n",
      "Parsed ASSIGNED block.\n",
      "Parsed STATE block.\n",
      "Parsed BREAKPOINT block.\n",
      "Parsed DERIVATIVE block.\n",
      "Parsed INITIAL block.\n",
      "Parsed FUNCTION block.\n"
     ]
    },
    {
     "name": "stdout",
     "output_type": "stream",
     "text": [
      "Replacing SUFFIX Na with SUFFIX Na\n",
      "Overwritten /home/roman/Documents/code/chanopy2/app/static/data/mod/Park_2019/Na.mod\n"
     ]
    },
    {
     "name": "stderr",
     "output_type": "stream",
     "text": [
      "Parsed PROCEDURE block.\n"
     ]
    },
    {
     "name": "stdout",
     "output_type": "stream",
     "text": [
      "Restoring expressions in BREAKPOINT\n",
      "Restoring expressions in DERIVATIVE\n",
      "Restoring expressions in FUNCTION\n",
      "Restoring expressions in PROCEDURE\n",
      "Saved content to /home/roman/Documents/code/chanopy2/app/chanopy/collection/Na.py\n"
     ]
    }
   ],
   "source": [
    "modm.convert_mod_to_python(file_name='Na', \n",
    "                           archive_name='Park_2019', \n",
    "                           template_name=template_name)"
   ]
  },
  {
   "cell_type": "markdown",
   "metadata": {},
   "source": [
    "# Test the channel"
   ]
  },
  {
   "cell_type": "code",
   "execution_count": 8,
   "metadata": {},
   "outputs": [
    {
     "name": "stderr",
     "output_type": "stream",
     "text": [
      "Reading file:\n",
      "/home/roman/Documents/code/chanopy2/app/static/data/mod/Park_2019/Na.mod\n",
      "Removed suffix from 'gbar' (e.g. gnabar -> gbar)\n",
      "Removed 'UNITSOFF' and 'UNITSON'\n",
      "Removed inline comments\n",
      "Removed content between 'VERBATIM' and 'ENDVERBATIM'\n",
      "Split content into blocks:\n",
      "    1 - TITLE\n",
      "    1 - COMMENT\n",
      "    1 - NEURON\n",
      "    1 - UNITS\n",
      "    1 - PARAMETER\n",
      "    1 - ASSIGNED\n",
      "    1 - STATE\n",
      "    1 - BREAKPOINT\n",
      "    1 - DERIVATIVE\n",
      "    1 - INITIAL\n",
      "    1 - FUNCTION\n",
      "    1 - PROCEDURE\n",
      "    0 - KINETIC\n",
      "No unmatched content.\n",
      "Parsed TITLE block.\n",
      "Parsed COMMENT block.\n",
      "Parsed NEURON block.\n",
      "Parsed UNITS block.\n",
      "Parsed PARAMETER block.\n",
      "Parsed ASSIGNED block.\n",
      "Parsed STATE block.\n",
      "Parsed BREAKPOINT block.\n",
      "Parsed DERIVATIVE block.\n",
      "Parsed INITIAL block.\n",
      "Parsed FUNCTION block.\n"
     ]
    },
    {
     "name": "stdout",
     "output_type": "stream",
     "text": [
      "Replacing SUFFIX Na with SUFFIX Na\n",
      "Overwritten /home/roman/Documents/code/chanopy2/app/static/data/mod/Park_2019/Na.mod\n"
     ]
    },
    {
     "name": "stderr",
     "output_type": "stream",
     "text": [
      "Parsed PROCEDURE block.\n"
     ]
    },
    {
     "name": "stdout",
     "output_type": "stream",
     "text": [
      "Restoring expressions in BREAKPOINT\n",
      "Restoring expressions in DERIVATIVE\n",
      "Restoring expressions in FUNCTION\n",
      "Restoring expressions in PROCEDURE\n",
      "Saved content to /home/roman/Documents/code/chanopy2/app/chanopy/collection/Na.py\n"
     ]
    }
   ],
   "source": [
    "na = modm.create_mechanism('Na', \n",
    "                           'Park_2019', \n",
    "                           template_name=template_name)"
   ]
  },
  {
   "cell_type": "code",
   "execution_count": 9,
   "metadata": {},
   "outputs": [
    {
     "data": {
      "text/plain": [
       "'Na'"
      ]
     },
     "execution_count": 9,
     "metadata": {},
     "output_type": "execute_result"
    }
   ],
   "source": [
    "na.name"
   ]
  },
  {
   "cell_type": "code",
   "execution_count": 10,
   "metadata": {},
   "outputs": [
    {
     "data": {
      "text/plain": [
       "{'m': 0.0, 'h': 0.0}"
      ]
     },
     "execution_count": 10,
     "metadata": {},
     "output_type": "execute_result"
    }
   ],
   "source": [
    "na.states"
   ]
  },
  {
   "cell_type": "code",
   "execution_count": 11,
   "metadata": {},
   "outputs": [
    {
     "data": {
      "text/plain": [
       "1"
      ]
     },
     "execution_count": 11,
     "metadata": {},
     "output_type": "execute_result"
    }
   ],
   "source": [
    "na.tadj"
   ]
  },
  {
   "cell_type": "code",
   "execution_count": 12,
   "metadata": {},
   "outputs": [
    {
     "data": {
      "text/plain": [
       "{'gbar': 0.0,\n",
       " 'Rma': 0.182,\n",
       " 'Rmb': 0.14,\n",
       " 'v12m': -30,\n",
       " 'qm': 9.8,\n",
       " 'Rhb': 0.0091,\n",
       " 'Rha': 0.024,\n",
       " 'v12ha': -45,\n",
       " 'v12hb': -70,\n",
       " 'qh': 5,\n",
       " 'v12hinf': -60,\n",
       " 'qhinf': 6.2,\n",
       " 'temp': 23,\n",
       " 'q10': 2.3}"
      ]
     },
     "execution_count": 12,
     "metadata": {},
     "output_type": "execute_result"
    }
   ],
   "source": [
    "na.params"
   ]
  },
  {
   "cell_type": "code",
   "execution_count": 13,
   "metadata": {},
   "outputs": [
    {
     "name": "stdout",
     "output_type": "stream",
     "text": [
      "Got data for v in range -100.0 to 100.0 at 23°C\n"
     ]
    },
    {
     "data": {
      "image/png": "[encoded data removed]",
      "text/plain": [
       "<Figure size 1000x500 with 2 Axes>"
      ]
     },
     "metadata": {},
     "output_type": "display_data"
    }
   ],
   "source": [
    "import matplotlib.pyplot as plt\n",
    "fig, ax = plt.subplots(1, 2, figsize=(10, 5))\n",
    "na.plot_kinetic_variables(ax, temperature=23)\n",
    "# kv.plot_kinetic_variables(ax)"
   ]
  },
  {
   "cell_type": "markdown",
   "metadata": {},
   "source": [
    "# Standardize channel"
   ]
  },
  {
   "cell_type": "code",
   "execution_count": 14,
   "metadata": {},
   "outputs": [
    {
     "data": {
      "text/plain": [
       "'na'"
      ]
     },
     "execution_count": 14,
     "metadata": {},
     "output_type": "execute_result"
    }
   ],
   "source": [
    "na.ion"
   ]
  },
  {
   "cell_type": "code",
   "execution_count": 15,
   "metadata": {},
   "outputs": [],
   "source": [
    "from chanopy.mechanisms import StandardIonChannel\n",
    "standard_channel = StandardIonChannel(name=na.name, \n",
    "                                      state_powers=na._state_powers,\n",
    "                                      ion=na.ion)"
   ]
  },
  {
   "cell_type": "code",
   "execution_count": 16,
   "metadata": {},
   "outputs": [
    {
     "name": "stdout",
     "output_type": "stream",
     "text": [
      "Got data for v in range -100.0 to 100.0 at 37°C\n"
     ]
    }
   ],
   "source": [
    "data = na.get_data()"
   ]
  },
  {
   "cell_type": "code",
   "execution_count": 17,
   "metadata": {},
   "outputs": [
    {
     "data": {
      "text/plain": [
       "23"
      ]
     },
     "execution_count": 17,
     "metadata": {},
     "output_type": "execute_result"
    }
   ],
   "source": [
    "na.params['temp']"
   ]
  },
  {
   "cell_type": "code",
   "execution_count": 18,
   "metadata": {},
   "outputs": [
    {
     "name": "stdout",
     "output_type": "stream",
     "text": [
      "Got data for v in range -100.0 to 100.0 at 23°C\n"
     ]
    }
   ],
   "source": [
    "na_standard = modm.standardize_channel(na, \n",
    "                                       x=np.linspace(-100, 100, 1000),\n",
    "                                       temperature=na.params['temp'])"
   ]
  },
  {
   "cell_type": "code",
   "execution_count": 19,
   "metadata": {},
   "outputs": [
    {
     "data": {
      "text/plain": [
       "{'vhalf_m': -32.571,\n",
       " 'sigma_m': 9.8,\n",
       " 'k_m': 1.884,\n",
       " 'delta_m': 0.541,\n",
       " 'tau0_m': 0.065,\n",
       " 'vhalf_h': -60.0,\n",
       " 'sigma_h': -6.2,\n",
       " 'k_h': 0.018,\n",
       " 'delta_h': 0.397,\n",
       " 'tau0_h': 0.795,\n",
       " 'gbar': 0.0,\n",
       " 'q10': 2.3,\n",
       " 'temp': 23}"
      ]
     },
     "execution_count": 19,
     "metadata": {},
     "output_type": "execute_result"
    }
   ],
   "source": [
    "na_standard.params"
   ]
  },
  {
   "cell_type": "code",
   "execution_count": 20,
   "metadata": {},
   "outputs": [
    {
     "name": "stdout",
     "output_type": "stream",
     "text": [
      "Got data for v in range -100.0 to 100.0 at 37°C\n",
      "Got data for v in range -100.0 to 100.0 at 37°C\n"
     ]
    },
    {
     "data": {
      "image/png": "[encoded data removed]",
      "text/plain": [
       "<Figure size 1000x500 with 2 Axes>"
      ]
     },
     "metadata": {},
     "output_type": "display_data"
    }
   ],
   "source": [
    "T = 37\n",
    "import matplotlib.pyplot as plt\n",
    "fig, ax = plt.subplots(1, 2, figsize=(10, 5))\n",
    "na.plot_kinetic_variables(ax, temperature=T)\n",
    "na_standard.plot_kinetic_variables(ax, linestyle='--', temperature=T)"
   ]
  },
  {
   "cell_type": "code",
   "execution_count": 21,
   "metadata": {},
   "outputs": [
    {
     "data": {
      "text/plain": [
       "'/home/roman/Documents/code/chanopy2/src/chanopy/templates'"
      ]
     },
     "execution_count": 21,
     "metadata": {},
     "output_type": "execute_result"
    }
   ],
   "source": [
    "modm.path_to_templates"
   ]
  },
  {
   "cell_type": "code",
   "execution_count": 22,
   "metadata": {},
   "outputs": [
    {
     "name": "stdout",
     "output_type": "stream",
     "text": [
      "Saved content to /home/roman/Documents/code/chanopy2/app/static/data/mod/sNa/sNa.mod\n"
     ]
    }
   ],
   "source": [
    "modm.generate_and_write_nmodl(na_standard, \n",
    "                              template_name='standard')"
   ]
  },
  {
   "cell_type": "markdown",
   "metadata": {},
   "source": [
    "# Make sure channels are avaliable in NEURON"
   ]
  },
  {
   "cell_type": "code",
   "execution_count": 23,
   "metadata": {},
   "outputs": [],
   "source": [
    "import neuron\n",
    "from neuron import h"
   ]
  },
  {
   "cell_type": "code",
   "execution_count": 24,
   "metadata": {},
   "outputs": [],
   "source": [
    "soma = neuron.h.Section(name='soma')"
   ]
  },
  {
   "cell_type": "code",
   "execution_count": 25,
   "metadata": {},
   "outputs": [
    {
     "name": "stdout",
     "output_type": "stream",
     "text": [
      "Available archives in\n",
      "/home/roman/Documents/code/chanopy2/app/static/data/mod/\n",
      "\n",
      "├── Base/\n",
      "│   ├── Na\n",
      "│   └── Kv\n",
      "├── Park_2019/\n",
      "│   ├── Park_Ka\n",
      "│   ├── Park_Km\n",
      "│   ├── Na\n",
      "│   ├── Kv\n",
      "│   ├── Park_Ca_LVA\n",
      "│   ├── Park_Ca_HVA\n",
      "│   └── Park_KCa\n",
      "└── sNa/\n",
      "    └── sNa\n"
     ]
    }
   ],
   "source": [
    "modm.list_archives()"
   ]
  },
  {
   "cell_type": "code",
   "execution_count": 26,
   "metadata": {},
   "outputs": [
    {
     "data": {
      "text/plain": [
       "['test']"
      ]
     },
     "execution_count": 26,
     "metadata": {},
     "output_type": "execute_result"
    }
   ],
   "source": [
    "modm.loader._loaded_archives"
   ]
  },
  {
   "cell_type": "code",
   "execution_count": 27,
   "metadata": {},
   "outputs": [
    {
     "name": "stdout",
     "output_type": "stream",
     "text": [
      "/home/roman/Documents/code/chanopy2/app/static/data/mod/Base\n",
      "Mod files: \"./Kv.mod\" \"./Na.mod\"\n",
      "\n",
      "Creating 'x86_64' directory for .o files.\n",
      "\n",
      " -> \u001b[32mCompiling\u001b[0m mod_func.cpp\n",
      " -> \u001b[32mNMODL\u001b[0m ../Kv.mod\n",
      " -> \u001b[32mNMODL\u001b[0m ../Na.mod\n",
      " -> \u001b[32mCompiling\u001b[0m Kv.c\n",
      " -> \u001b[32mCompiling\u001b[0m Na.c\n"
     ]
    },
    {
     "name": "stderr",
     "output_type": "stream",
     "text": [
      "/home/roman/anaconda3/envs/dendrotweaks/bin/nrnivmodl:10: DeprecationWarning: pkg_resources is deprecated as an API. See https://setuptools.pypa.io/en/latest/pkg_resources.html\n",
      "  from pkg_resources import working_set\n",
      "Translating Kv.mod into /home/roman/Documents/code/chanopy2/app/static/data/mod/Base/x86_64/Kv.c\n",
      "Translating Na.mod into /home/roman/Documents/code/chanopy2/app/static/data/mod/Base/x86_64/Na.c\n",
      "Thread Safe\n",
      "Thread Safe\n"
     ]
    },
    {
     "name": "stdout",
     "output_type": "stream",
     "text": [
      " => \u001b[32mLINKING\u001b[0m shared library ./libnrnmech.so\n",
      " => \u001b[32mLINKING\u001b[0m executable ./special LDFLAGS are:    -pthread\n",
      "Successfully created x86_64/special\n",
      "Compiled mod files from \"/home/roman/Documents/code/chanopy2/app/static/data/mod/Base\"\n",
      "Loaded mechanisms from \"/home/roman/Documents/code/chanopy2/app/static/data/mod/Base\"\n"
     ]
    }
   ],
   "source": [
    "modm.load_archive('Base')"
   ]
  },
  {
   "cell_type": "code",
   "execution_count": 28,
   "metadata": {},
   "outputs": [
    {
     "data": {
      "text/plain": [
       "soma"
      ]
     },
     "execution_count": 28,
     "metadata": {},
     "output_type": "execute_result"
    }
   ],
   "source": [
    "soma.insert('Na')"
   ]
  },
  {
   "cell_type": "code",
   "execution_count": 29,
   "metadata": {},
   "outputs": [
    {
     "name": "stderr",
     "output_type": "stream",
     "text": [
      "/home/roman/anaconda3/envs/dendrotweaks/bin/nrnivmodl:10: DeprecationWarning: pkg_resources is deprecated as an API. See https://setuptools.pypa.io/en/latest/pkg_resources.html\n",
      "  from pkg_resources import working_set\n",
      "Translating sNa.mod into /home/roman/Documents/code/chanopy2/app/static/data/mod/sNa/x86_64/sNa.c\n",
      "Thread Safe\n"
     ]
    },
    {
     "name": "stdout",
     "output_type": "stream",
     "text": [
      "/home/roman/Documents/code/chanopy2/app/static/data/mod/sNa\n",
      "Mod files: \"./sNa.mod\"\n",
      "\n",
      "Creating 'x86_64' directory for .o files.\n",
      "\n",
      " -> \u001b[32mCompiling\u001b[0m mod_func.cpp\n",
      " -> \u001b[32mNMODL\u001b[0m ../sNa.mod\n",
      " -> \u001b[32mCompiling\u001b[0m sNa.c\n",
      " => \u001b[32mLINKING\u001b[0m shared library ./libnrnmech.so\n",
      " => \u001b[32mLINKING\u001b[0m executable ./special LDFLAGS are:    -pthread\n",
      "Successfully created x86_64/special\n",
      "Compiled mod files from \"/home/roman/Documents/code/chanopy2/app/static/data/mod/sNa\"\n",
      "Loaded mechanisms from \"/home/roman/Documents/code/chanopy2/app/static/data/mod/sNa\"\n"
     ]
    }
   ],
   "source": [
    "modm.load_archive('sNa')"
   ]
  },
  {
   "cell_type": "code",
   "execution_count": 30,
   "metadata": {},
   "outputs": [
    {
     "data": {
      "text/plain": [
       "soma"
      ]
     },
     "execution_count": 30,
     "metadata": {},
     "output_type": "execute_result"
    }
   ],
   "source": [
    "soma.insert('sNa')"
   ]
  }
 ],
 "metadata": {
  "kernelspec": {
   "display_name": "dendrotweaks",
   "language": "python",
   "name": "python3"
  },
  "language_info": {
   "codemirror_mode": {
    "name": "ipython",
    "version": 3
   },
   "file_extension": ".py",
   "mimetype": "text/x-python",
   "name": "python",
   "nbconvert_exporter": "python",
   "pygments_lexer": "ipython3",
   "version": "3.11.3"
  }
 },
 "nbformat": 4,
 "nbformat_minor": 2
}
