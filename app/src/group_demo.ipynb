{
 "cells": [
  {
   "cell_type": "code",
   "execution_count": 1,
   "metadata": {},
   "outputs": [],
   "source": [
    "from pprint import pprint\n",
    "import json"
   ]
  },
  {
   "cell_type": "code",
   "execution_count": 3,
   "metadata": {},
   "outputs": [],
   "source": [
    "import dendrotweaks as dd"
   ]
  },
  {
   "cell_type": "code",
   "execution_count": 4,
   "metadata": {},
   "outputs": [],
   "source": [
    "class Segment():\n",
    "\n",
    "    def __init__(self, idx, position):\n",
    "        self.idx = idx\n",
    "        self.position = position\n",
    "        self.gbar_na = 0.05\n",
    "        self.vhalf_na = -35\n",
    "\n",
    "    def update_parameter(self, param_name, distribution_function):\n",
    "        # In case of a section this would be done for nodes.\n",
    "        if not hasattr(self, param_name):\n",
    "            raise ValueError(f\"Segment does not have parameter {param_name}\")\n",
    "        value = distribution_function(self.position)\n",
    "        setattr(self, param_name, value)\n",
    "\n",
    "class Section():\n",
    "\n",
    "    def __init__(self, idx, name, position):\n",
    "        self.idx = idx\n",
    "        self.name = name\n",
    "        self.position = position\n",
    "        self.cm = 10\n",
    "        self.Ra = 1000\n",
    "        self.segments = [Segment(0, position)]\n",
    "\n",
    "    def update_parameter(self, param_name, distribution_function):\n",
    "        # In case of a section this would be done for nodes.\n",
    "        if hasattr(self, param_name):\n",
    "            value = distribution_function(self.position)\n",
    "            setattr(self, param_name, value)\n",
    "        else:\n",
    "            for segment in self.segments:\n",
    "                segment.update_parameter(param_name, distribution_function)"
   ]
  },
  {
   "cell_type": "code",
   "execution_count": 5,
   "metadata": {},
   "outputs": [],
   "source": [
    "nodes = [Section(1, 'A', 10), Section(2, 'B', 20), Section(3, 'C', 30)]"
   ]
  },
  {
   "cell_type": "code",
   "execution_count": null,
   "metadata": {},
   "outputs": [
    {
     "name": "stdout",
     "output_type": "stream",
     "text": [
      "  Elapsed time: 0.0 seconds\n",
      "  Elapsed time: 0.0 seconds\n"
     ]
    },
    {
     "data": {
      "text/plain": [
       "Group(apical) with 3 nodes\n",
       "Parameters: ['cm', 'Ra']"
      ]
     },
     "execution_count": 7,
     "metadata": {},
     "output_type": "execute_result"
    }
   ],
   "source": [
    "apical = dd.SectionGroup('apical', nodes)\n",
    "apical"
   ]
  },
  {
   "cell_type": "code",
   "execution_count": 8,
   "metadata": {},
   "outputs": [
    {
     "name": "stdout",
     "output_type": "stream",
     "text": [
      "1 1 100\n",
      "2 1 100\n",
      "3 1 100\n"
     ]
    }
   ],
   "source": [
    "for node in apical.nodes:\n",
    "    print(node.idx, node.cm, node.Ra)"
   ]
  },
  {
   "cell_type": "code",
   "execution_count": 7,
   "metadata": {},
   "outputs": [
    {
     "data": {
      "text/plain": [
       "Mechanism(na) with parameters: {'gbar_na': 0.01, 'vhalf_na': -35}"
      ]
     },
     "execution_count": 7,
     "metadata": {},
     "output_type": "execute_result"
    }
   ],
   "source": [
    "na = Mechanism('na', {'gbar':0.01, 'vhalf': -35})\n",
    "na"
   ]
  },
  {
   "cell_type": "code",
   "execution_count": 8,
   "metadata": {},
   "outputs": [],
   "source": [
    "apical.add_mechanism(na)"
   ]
  },
  {
   "cell_type": "code",
   "execution_count": 9,
   "metadata": {},
   "outputs": [
    {
     "data": {
      "text/plain": [
       "{'cm': constant({'value': 1}),\n",
       " 'Ra': constant({'value': 100}),\n",
       " 'gbar_na': constant({'value': 0.01}),\n",
       " 'vhalf_na': constant({'value': -35})}"
      ]
     },
     "execution_count": 9,
     "metadata": {},
     "output_type": "execute_result"
    }
   ],
   "source": [
    "apical.parameters"
   ]
  },
  {
   "cell_type": "code",
   "execution_count": 10,
   "metadata": {},
   "outputs": [],
   "source": [
    "func = ParametrizedFunction('constant', value=0.06)\n",
    "apical.replace_distribution_function('gbar_na', func)"
   ]
  },
  {
   "cell_type": "code",
   "execution_count": null,
   "metadata": {},
   "outputs": [],
   "source": [
    "func = DistributionFunction('linear', intercept=0.06)\n",
    "apical.replace_distribution_function('gbar_na', func)"
   ]
  },
  {
   "cell_type": "code",
   "execution_count": 12,
   "metadata": {},
   "outputs": [],
   "source": [
    "apical.update_distribution_function_parameters('gbar_na', slope=1, intercept=0.07)"
   ]
  },
  {
   "cell_type": "code",
   "execution_count": 13,
   "metadata": {},
   "outputs": [
    {
     "name": "stdout",
     "output_type": "stream",
     "text": [
      "1 1 100\n",
      "   0 10.07 -35\n",
      "2 1 100\n",
      "   0 20.07 -35\n",
      "3 1 100\n",
      "   0 30.07 -35\n"
     ]
    }
   ],
   "source": [
    "for sec in apical.nodes:\n",
    "    print(sec.idx, sec.cm, sec.Ra)\n",
    "    for seg in sec.segments:\n",
    "        print('  ', seg.idx, seg.gbar_na, seg.vhalf_na)"
   ]
  },
  {
   "cell_type": "code",
   "execution_count": 14,
   "metadata": {},
   "outputs": [
    {
     "name": "stdout",
     "output_type": "stream",
     "text": [
      "{'group': {'name': 'apical',\n",
      "           'nodes': [1, 2, 3],\n",
      "           'parameters': [{'name': 'cm',\n",
      "                           'distribution_function': {'function': 'constant',\n",
      "                                                     'parameters': {'value': 1}}},\n",
      "                          {'name': 'Ra',\n",
      "                           'distribution_function': {'function': 'constant',\n",
      "                                                     'parameters': {'value': 100}}},\n",
      "                          {'name': 'gbar_na',\n",
      "                           'distribution_function': {'function': 'linear',\n",
      "                                                     'parameters': {'slope': 1,\n",
      "                                                                    'intercept': 0.07}}},\n",
      "                          {'name': 'vhalf_na',\n",
      "                           'distribution_function': {'function': 'constant',\n",
      "                                                     'parameters': {'value': -35}}}]}}\n"
     ]
    }
   ],
   "source": [
    "pprint(apical.to_dict(), sort_dicts=False)"
   ]
  },
  {
   "cell_type": "code",
   "execution_count": 15,
   "metadata": {},
   "outputs": [
    {
     "name": "stdout",
     "output_type": "stream",
     "text": [
      "{\n",
      "    \"group\": {\n",
      "        \"name\": \"apical\",\n",
      "        \"nodes\": [\n",
      "            1,\n",
      "            2,\n",
      "            3\n",
      "        ],\n",
      "        \"parameters\": [\n",
      "            {\n",
      "                \"name\": \"cm\",\n",
      "                \"distribution_function\": {\n",
      "                    \"function\": \"constant\",\n",
      "                    \"parameters\": {\n",
      "                        \"value\": 1\n",
      "                    }\n",
      "                }\n",
      "            },\n",
      "            {\n",
      "                \"name\": \"Ra\",\n",
      "                \"distribution_function\": {\n",
      "                    \"function\": \"constant\",\n",
      "                    \"parameters\": {\n",
      "                        \"value\": 100\n",
      "                    }\n",
      "                }\n",
      "            },\n",
      "            {\n",
      "                \"name\": \"gbar_na\",\n",
      "                \"distribution_function\": {\n",
      "                    \"function\": \"linear\",\n",
      "                    \"parameters\": {\n",
      "                        \"slope\": 1,\n",
      "                        \"intercept\": 0.07\n",
      "                    }\n",
      "                }\n",
      "            },\n",
      "            {\n",
      "                \"name\": \"vhalf_na\",\n",
      "                \"distribution_function\": {\n",
      "                    \"function\": \"constant\",\n",
      "                    \"parameters\": {\n",
      "                        \"value\": -35\n",
      "                    }\n",
      "                }\n",
      "            }\n",
      "        ]\n",
      "    }\n",
      "}\n"
     ]
    }
   ],
   "source": [
    "print(json.dumps(apical.to_dict(), indent=4))"
   ]
  }
 ],
 "metadata": {
  "kernelspec": {
   "display_name": "dendrotweaks",
   "language": "python",
   "name": "python3"
  },
  "language_info": {
   "codemirror_mode": {
    "name": "ipython",
    "version": 3
   },
   "file_extension": ".py",
   "mimetype": "text/x-python",
   "name": "python",
   "nbconvert_exporter": "python",
   "pygments_lexer": "ipython3",
   "version": "3.11.3"
  }
 },
 "nbformat": 4,
 "nbformat_minor": 2
}
