{
 "cells": [
  {
   "cell_type": "markdown",
   "metadata": {},
   "source": [
    "# Imports"
   ]
  },
  {
   "cell_type": "code",
   "execution_count": 1,
   "metadata": {},
   "outputs": [],
   "source": [
    "import numpy as np\n",
    "import matplotlib.pyplot as plt\n",
    "import json\n",
    "from pprint import pprint"
   ]
  },
  {
   "cell_type": "code",
   "execution_count": 2,
   "metadata": {},
   "outputs": [],
   "source": [
    "import dendrotweaks as dd"
   ]
  },
  {
   "cell_type": "code",
   "execution_count": 3,
   "metadata": {},
   "outputs": [
    {
     "data": {
      "text/plain": [
       "dendrotweaks.morphology.seg_trees.SegmentTree"
      ]
     },
     "execution_count": 3,
     "metadata": {},
     "output_type": "execute_result"
    }
   ],
   "source": [
    "# morphology\n",
    "dd.morphology.Node\n",
    "dd.morphology.Tree\n",
    "dd.morphology.SWCNode\n",
    "dd.morphology.SWCTree\n",
    "dd.morphology.Section\n",
    "dd.morphology.Domain\n",
    "dd.morphology.SectionTree\n",
    "dd.morphology.Segment\n",
    "dd.morphology.SegmentTree"
   ]
  },
  {
   "cell_type": "code",
   "execution_count": 4,
   "metadata": {},
   "outputs": [
    {
     "data": {
      "text/plain": [
       "dendrotweaks.membrane.distributions.Distribution"
      ]
     },
     "execution_count": 4,
     "metadata": {},
     "output_type": "execute_result"
    }
   ],
   "source": [
    "# membrane\n",
    "dd.membrane.Mechanism\n",
    "dd.membrane.SectionGroup\n",
    "dd.membrane.SegmentGroup\n",
    "dd.membrane.Distribution"
   ]
  },
  {
   "cell_type": "code",
   "execution_count": 5,
   "metadata": {},
   "outputs": [
    {
     "data": {
      "text/plain": [
       "dendrotweaks.stimuli.populations.Population"
      ]
     },
     "execution_count": 5,
     "metadata": {},
     "output_type": "execute_result"
    }
   ],
   "source": [
    "# stimuli\n",
    "dd.stimuli.IClamp\n",
    "dd.stimuli.Synapse\n",
    "dd.stimuli.Population"
   ]
  },
  {
   "cell_type": "code",
   "execution_count": 6,
   "metadata": {},
   "outputs": [
    {
     "data": {
      "text/plain": [
       "dendrotweaks.simulators.NEURONSimulator"
      ]
     },
     "execution_count": 6,
     "metadata": {},
     "output_type": "execute_result"
    }
   ],
   "source": [
    "dd.Model\n",
    "dd.NEURONSimulator"
   ]
  },
  {
   "cell_type": "markdown",
   "metadata": {},
   "source": [
    "# Create a Model"
   ]
  },
  {
   "cell_type": "code",
   "execution_count": 7,
   "metadata": {},
   "outputs": [],
   "source": [
    "import os\n",
    "cwd = os.getcwd()\n",
    "path_to_data = os.path.join(cwd, 'data')"
   ]
  },
  {
   "cell_type": "code",
   "execution_count": 8,
   "metadata": {},
   "outputs": [],
   "source": [
    "model = dd.Model(name='CA1_old', \n",
    "                 path_to_data=path_to_data)"
   ]
  },
  {
   "cell_type": "code",
   "execution_count": 9,
   "metadata": {},
   "outputs": [
    {
     "data": {
      "text/plain": [
       "'CA1_old'"
      ]
     },
     "execution_count": 9,
     "metadata": {},
     "output_type": "execute_result"
    }
   ],
   "source": [
    "model.name"
   ]
  },
  {
   "cell_type": "markdown",
   "metadata": {},
   "source": [
    "## Load morphology from SWC"
   ]
  },
  {
   "cell_type": "code",
   "execution_count": 10,
   "metadata": {},
   "outputs": [
    {
     "name": "stdout",
     "output_type": "stream",
     "text": [
      "├── csv\n",
      "└── swc\n",
      "    ├── E_3_6_smooth_smaller_diam.swc\n",
      "    ├── E_3_7_smooth_smaller_diam.swc\n",
      "    ├── E_6_14_smooth_smaller_diam.swc\n",
      "    ├── E_6_15_smooth_smaller_diam.swc\n",
      "    ├── E_9_11_smooth_smaller_diam.swc\n",
      "    └── E_9_3_smooth_smaller_diam.swc\n"
     ]
    }
   ],
   "source": [
    "model.path_manager.print_directory_tree()"
   ]
  },
  {
   "cell_type": "code",
   "execution_count": 11,
   "metadata": {},
   "outputs": [],
   "source": [
    "morphologies = model.path_manager.list_morphologies()"
   ]
  },
  {
   "cell_type": "code",
   "execution_count": 12,
   "metadata": {},
   "outputs": [
    {
     "data": {
      "text/plain": [
       "['E_9_11_smooth_smaller_diam',\n",
       " 'E_3_7_smooth_smaller_diam',\n",
       " 'E_6_14_smooth_smaller_diam',\n",
       " 'E_3_6_smooth_smaller_diam',\n",
       " 'E_9_3_smooth_smaller_diam',\n",
       " 'E_6_15_smooth_smaller_diam']"
      ]
     },
     "execution_count": 12,
     "metadata": {},
     "output_type": "execute_result"
    }
   ],
   "source": [
    "morphologies"
   ]
  },
  {
   "cell_type": "code",
   "execution_count": 13,
   "metadata": {},
   "outputs": [
    {
     "data": {
      "text/plain": [
       "PathManager(/home/roman/Documents/code/DendroTweaks/app/src/data/CA1_old)"
      ]
     },
     "execution_count": 13,
     "metadata": {},
     "output_type": "execute_result"
    }
   ],
   "source": [
    "model.path_manager"
   ]
  },
  {
   "cell_type": "code",
   "execution_count": 14,
   "metadata": {},
   "outputs": [
    {
     "data": {
      "text/plain": [
       "'E_9_11_smooth_smaller_diam'"
      ]
     },
     "execution_count": 14,
     "metadata": {},
     "output_type": "execute_result"
    }
   ],
   "source": [
    "file_name = morphologies[0]\n",
    "file_name"
   ]
  },
  {
   "cell_type": "code",
   "execution_count": 15,
   "metadata": {},
   "outputs": [
    {
     "data": {
      "text/plain": [
       "'/home/roman/Documents/code/DendroTweaks/app/src/data/CA1_old/swc/E_9_11_smooth_smaller_diam.swc'"
      ]
     },
     "execution_count": 15,
     "metadata": {},
     "output_type": "execute_result"
    }
   ],
   "source": [
    "model.path_manager.get_file_path('swc', file_name, extension='swc')"
   ]
  },
  {
   "cell_type": "code",
   "execution_count": 16,
   "metadata": {},
   "outputs": [
    {
     "data": {
      "text/plain": [
       "{'default_mod': '/home/roman/Documents/code/DendroTweaks/app/src/data/Default',\n",
       " 'templates': '/home/roman/Documents/code/DendroTweaks/app/src/data/Templates',\n",
       " 'model': '/home/roman/Documents/code/DendroTweaks/app/src/data/CA1_old',\n",
       " 'mod': '/home/roman/Documents/code/DendroTweaks/app/src/data/CA1_old/mod',\n",
       " 'python': '/home/roman/Documents/code/DendroTweaks/app/src/data/CA1_old/python',\n",
       " 'swc': '/home/roman/Documents/code/DendroTweaks/app/src/data/CA1_old/swc',\n",
       " 'csv': '/home/roman/Documents/code/DendroTweaks/app/src/data/CA1_old/csv',\n",
       " 'json': '/home/roman/Documents/code/DendroTweaks/app/src/data/CA1_old/json'}"
      ]
     },
     "execution_count": 16,
     "metadata": {},
     "output_type": "execute_result"
    }
   ],
   "source": [
    "model.path_manager.paths"
   ]
  },
  {
   "cell_type": "code",
   "execution_count": 17,
   "metadata": {},
   "outputs": [
    {
     "data": {
      "text/plain": [
       "'/home/roman/Documents/code/DendroTweaks/app/src/data/CA1_old/swc'"
      ]
     },
     "execution_count": 17,
     "metadata": {},
     "output_type": "execute_result"
    }
   ],
   "source": [
    "model.path_manager.get_path('swc')"
   ]
  },
  {
   "cell_type": "code",
   "execution_count": 18,
   "metadata": {},
   "outputs": [
    {
     "name": "stdout",
     "output_type": "stream",
     "text": [
      "Connecting tree.\n"
     ]
    },
    {
     "ename": "RecursionError",
     "evalue": "maximum recursion depth exceeded",
     "output_type": "error",
     "traceback": [
      "\u001b[0;31m---------------------------------------------------------------------------\u001b[0m",
      "\u001b[0;31mRecursionError\u001b[0m                            Traceback (most recent call last)",
      "Cell \u001b[0;32mIn[18], line 1\u001b[0m\n\u001b[0;32m----> 1\u001b[0m model\u001b[38;5;241m.\u001b[39mfrom_swc(file_name)\n",
      "File \u001b[0;32m~/Documents/code/DendroTweaks/app/src/dendrotweaks/model.py:260\u001b[0m, in \u001b[0;36mModel.from_swc\u001b[0;34m(self, file_name)\u001b[0m\n\u001b[1;32m    258\u001b[0m \u001b[38;5;66;03m# self.name = file_name.split('.')[0]\u001b[39;00m\n\u001b[1;32m    259\u001b[0m path_to_swc_file \u001b[38;5;241m=\u001b[39m \u001b[38;5;28mself\u001b[39m\u001b[38;5;241m.\u001b[39mpath_manager\u001b[38;5;241m.\u001b[39mget_file_path(\u001b[38;5;124m'\u001b[39m\u001b[38;5;124mswc\u001b[39m\u001b[38;5;124m'\u001b[39m, file_name, extension\u001b[38;5;241m=\u001b[39m\u001b[38;5;124m'\u001b[39m\u001b[38;5;124mswc\u001b[39m\u001b[38;5;124m'\u001b[39m)\n\u001b[0;32m--> 260\u001b[0m swc_tree \u001b[38;5;241m=\u001b[39m \u001b[38;5;28mself\u001b[39m\u001b[38;5;241m.\u001b[39mtree_factory\u001b[38;5;241m.\u001b[39mcreate_swc_tree(path_to_swc_file)\n\u001b[1;32m    261\u001b[0m swc_tree\u001b[38;5;241m.\u001b[39msort()\n\u001b[1;32m    262\u001b[0m swc_tree\u001b[38;5;241m.\u001b[39mshift_coordinates_to_soma_center()\n",
      "File \u001b[0;32m~/Documents/code/DendroTweaks/app/src/dendrotweaks/morphology/io/factory.py:39\u001b[0m, in \u001b[0;36mTreeFactory.create_swc_tree\u001b[0;34m(self, source, standardize)\u001b[0m\n\u001b[1;32m     33\u001b[0m     \u001b[38;5;28;01mraise\u001b[39;00m \u001b[38;5;167;01mValueError\u001b[39;00m(\u001b[38;5;124m\"\u001b[39m\u001b[38;5;124mSource must be a file path (str) or a DataFrame.\u001b[39m\u001b[38;5;124m\"\u001b[39m)\n\u001b[1;32m     35\u001b[0m nodes \u001b[38;5;241m=\u001b[39m [\n\u001b[1;32m     36\u001b[0m     SWCNode(row[\u001b[38;5;124m'\u001b[39m\u001b[38;5;124mIndex\u001b[39m\u001b[38;5;124m'\u001b[39m], row[\u001b[38;5;124m'\u001b[39m\u001b[38;5;124mType\u001b[39m\u001b[38;5;124m'\u001b[39m], row[\u001b[38;5;124m'\u001b[39m\u001b[38;5;124mX\u001b[39m\u001b[38;5;124m'\u001b[39m], row[\u001b[38;5;124m'\u001b[39m\u001b[38;5;124mY\u001b[39m\u001b[38;5;124m'\u001b[39m], row[\u001b[38;5;124m'\u001b[39m\u001b[38;5;124mZ\u001b[39m\u001b[38;5;124m'\u001b[39m], row[\u001b[38;5;124m'\u001b[39m\u001b[38;5;124mR\u001b[39m\u001b[38;5;124m'\u001b[39m], row[\u001b[38;5;124m'\u001b[39m\u001b[38;5;124mParent\u001b[39m\u001b[38;5;124m'\u001b[39m])\n\u001b[1;32m     37\u001b[0m     \u001b[38;5;28;01mfor\u001b[39;00m _, row \u001b[38;5;129;01min\u001b[39;00m df\u001b[38;5;241m.\u001b[39miterrows()\n\u001b[1;32m     38\u001b[0m ]\n\u001b[0;32m---> 39\u001b[0m swc_tree \u001b[38;5;241m=\u001b[39m  SWCTree(nodes)\n\u001b[1;32m     41\u001b[0m \u001b[38;5;66;03m# swc_tree.remove_overlaps()\u001b[39;00m\n\u001b[1;32m     42\u001b[0m \u001b[38;5;66;03m# swc_tree.sort()\u001b[39;00m\n\u001b[1;32m     43\u001b[0m \u001b[38;5;66;03m# if standardize:\u001b[39;00m\n\u001b[1;32m     44\u001b[0m \u001b[38;5;66;03m#     self._convert_to_3PS_notation(swc_tree)\u001b[39;00m\n\u001b[1;32m     45\u001b[0m \u001b[38;5;66;03m# swc_tree.sort()\u001b[39;00m\n\u001b[1;32m     46\u001b[0m \u001b[38;5;28;01mreturn\u001b[39;00m swc_tree\n",
      "File \u001b[0;32m~/Documents/code/DendroTweaks/app/src/dendrotweaks/morphology/swc_trees.py:135\u001b[0m, in \u001b[0;36mSWCTree.__init__\u001b[0;34m(self, nodes)\u001b[0m\n\u001b[1;32m    134\u001b[0m \u001b[38;5;28;01mdef\u001b[39;00m \u001b[38;5;21m__init__\u001b[39m(\u001b[38;5;28mself\u001b[39m, nodes: \u001b[38;5;28mlist\u001b[39m[SWCNode]) \u001b[38;5;241m-\u001b[39m\u001b[38;5;241m>\u001b[39m \u001b[38;5;28;01mNone\u001b[39;00m:\n\u001b[0;32m--> 135\u001b[0m     \u001b[38;5;28msuper\u001b[39m()\u001b[38;5;241m.\u001b[39m\u001b[38;5;21m__init__\u001b[39m(nodes)\n\u001b[1;32m    136\u001b[0m     \u001b[38;5;28mself\u001b[39m\u001b[38;5;241m.\u001b[39m_sections \u001b[38;5;241m=\u001b[39m []\n\u001b[1;32m    137\u001b[0m     \u001b[38;5;28mself\u001b[39m\u001b[38;5;241m.\u001b[39m_is_extended \u001b[38;5;241m=\u001b[39m \u001b[38;5;28;01mFalse\u001b[39;00m\n",
      "File \u001b[0;32m~/Documents/code/DendroTweaks/app/src/dendrotweaks/morphology/trees.py:168\u001b[0m, in \u001b[0;36mTree.__init__\u001b[0;34m(self, nodes)\u001b[0m\n\u001b[1;32m    165\u001b[0m \u001b[38;5;28mself\u001b[39m\u001b[38;5;241m.\u001b[39mroot \u001b[38;5;241m=\u001b[39m \u001b[38;5;28mself\u001b[39m\u001b[38;5;241m.\u001b[39m_find_root()\n\u001b[1;32m    167\u001b[0m \u001b[38;5;28;01mif\u001b[39;00m \u001b[38;5;129;01mnot\u001b[39;00m \u001b[38;5;28mself\u001b[39m\u001b[38;5;241m.\u001b[39mis_connected:\n\u001b[0;32m--> 168\u001b[0m     \u001b[38;5;28mself\u001b[39m\u001b[38;5;241m.\u001b[39m_connect_nodes()\n",
      "File \u001b[0;32m~/Documents/code/DendroTweaks/app/src/dendrotweaks/morphology/trees.py:271\u001b[0m, in \u001b[0;36mTree._connect_nodes\u001b[0;34m(self)\u001b[0m\n\u001b[1;32m    268\u001b[0m                 node\u001b[38;5;241m.\u001b[39mconnect_to_parent(parent_node)\n\u001b[1;32m    269\u001b[0m                 \u001b[38;5;28;01mbreak\u001b[39;00m\n\u001b[0;32m--> 271\u001b[0m \u001b[38;5;28;01mif\u001b[39;00m \u001b[38;5;129;01mnot\u001b[39;00m \u001b[38;5;28mself\u001b[39m\u001b[38;5;241m.\u001b[39mis_connected:\n\u001b[1;32m    272\u001b[0m     \u001b[38;5;28;01mraise\u001b[39;00m \u001b[38;5;167;01mValueError\u001b[39;00m(\u001b[38;5;124m'\u001b[39m\u001b[38;5;124mTree is not connected.\u001b[39m\u001b[38;5;124m'\u001b[39m)\n",
      "File \u001b[0;32m~/Documents/code/DendroTweaks/app/src/dendrotweaks/morphology/trees.py:202\u001b[0m, in \u001b[0;36mTree.is_connected\u001b[0;34m(self)\u001b[0m\n\u001b[1;32m    192\u001b[0m \u001b[38;5;250m\u001b[39m\u001b[38;5;124;03m\"\"\"\u001b[39;00m\n\u001b[1;32m    193\u001b[0m \u001b[38;5;124;03mChecks if all nodes in the tree are connected \u001b[39;00m\n\u001b[1;32m    194\u001b[0m \u001b[38;5;124;03mi.e. reachable from the root. \u001b[39;00m\n\u001b[0;32m   (...)\u001b[0m\n\u001b[1;32m    199\u001b[0m \u001b[38;5;124;03mas the entire tree. False otherwise.\u001b[39;00m\n\u001b[1;32m    200\u001b[0m \u001b[38;5;124;03m\"\"\"\u001b[39;00m\n\u001b[1;32m    201\u001b[0m nodes_set \u001b[38;5;241m=\u001b[39m \u001b[38;5;28mset\u001b[39m(\u001b[38;5;28mself\u001b[39m\u001b[38;5;241m.\u001b[39m_nodes)\n\u001b[0;32m--> 202\u001b[0m subtree_set \u001b[38;5;241m=\u001b[39m \u001b[38;5;28mset\u001b[39m(\u001b[38;5;28mself\u001b[39m\u001b[38;5;241m.\u001b[39mroot\u001b[38;5;241m.\u001b[39msubtree)\n\u001b[1;32m    203\u001b[0m \u001b[38;5;28;01mreturn\u001b[39;00m nodes_set \u001b[38;5;241m==\u001b[39m subtree_set\n",
      "File \u001b[0;32m~/Documents/code/DendroTweaks/app/src/dendrotweaks/morphology/trees.py:73\u001b[0m, in \u001b[0;36mNode.subtree\u001b[0;34m(self)\u001b[0m\n\u001b[1;32m     71\u001b[0m subtree \u001b[38;5;241m=\u001b[39m [\u001b[38;5;28mself\u001b[39m]\n\u001b[1;32m     72\u001b[0m \u001b[38;5;28;01mfor\u001b[39;00m child \u001b[38;5;129;01min\u001b[39;00m \u001b[38;5;28mself\u001b[39m\u001b[38;5;241m.\u001b[39mchildren:\n\u001b[0;32m---> 73\u001b[0m     subtree \u001b[38;5;241m+\u001b[39m\u001b[38;5;241m=\u001b[39m child\u001b[38;5;241m.\u001b[39msubtree\n\u001b[1;32m     74\u001b[0m \u001b[38;5;28;01mreturn\u001b[39;00m subtree\n",
      "File \u001b[0;32m~/Documents/code/DendroTweaks/app/src/dendrotweaks/morphology/trees.py:73\u001b[0m, in \u001b[0;36mNode.subtree\u001b[0;34m(self)\u001b[0m\n\u001b[1;32m     71\u001b[0m subtree \u001b[38;5;241m=\u001b[39m [\u001b[38;5;28mself\u001b[39m]\n\u001b[1;32m     72\u001b[0m \u001b[38;5;28;01mfor\u001b[39;00m child \u001b[38;5;129;01min\u001b[39;00m \u001b[38;5;28mself\u001b[39m\u001b[38;5;241m.\u001b[39mchildren:\n\u001b[0;32m---> 73\u001b[0m     subtree \u001b[38;5;241m+\u001b[39m\u001b[38;5;241m=\u001b[39m child\u001b[38;5;241m.\u001b[39msubtree\n\u001b[1;32m     74\u001b[0m \u001b[38;5;28;01mreturn\u001b[39;00m subtree\n",
      "    \u001b[0;31m[... skipping similar frames: Node.subtree at line 73 (2964 times)]\u001b[0m\n",
      "File \u001b[0;32m~/Documents/code/DendroTweaks/app/src/dendrotweaks/morphology/trees.py:73\u001b[0m, in \u001b[0;36mNode.subtree\u001b[0;34m(self)\u001b[0m\n\u001b[1;32m     71\u001b[0m subtree \u001b[38;5;241m=\u001b[39m [\u001b[38;5;28mself\u001b[39m]\n\u001b[1;32m     72\u001b[0m \u001b[38;5;28;01mfor\u001b[39;00m child \u001b[38;5;129;01min\u001b[39;00m \u001b[38;5;28mself\u001b[39m\u001b[38;5;241m.\u001b[39mchildren:\n\u001b[0;32m---> 73\u001b[0m     subtree \u001b[38;5;241m+\u001b[39m\u001b[38;5;241m=\u001b[39m child\u001b[38;5;241m.\u001b[39msubtree\n\u001b[1;32m     74\u001b[0m \u001b[38;5;28;01mreturn\u001b[39;00m subtree\n",
      "\u001b[0;31mRecursionError\u001b[0m: maximum recursion depth exceeded"
     ]
    }
   ],
   "source": [
    "model.from_swc(file_name)"
   ]
  },
  {
   "cell_type": "code",
   "execution_count": 11,
   "metadata": {},
   "outputs": [
    {
     "ename": "AttributeError",
     "evalue": "'NoneType' object has no attribute 'topology'",
     "output_type": "error",
     "traceback": [
      "\u001b[0;31m---------------------------------------------------------------------------\u001b[0m",
      "\u001b[0;31mAttributeError\u001b[0m                            Traceback (most recent call last)",
      "Cell \u001b[0;32mIn[11], line 1\u001b[0m\n\u001b[0;32m----> 1\u001b[0m model\u001b[38;5;241m.\u001b[39msec_tree\u001b[38;5;241m.\u001b[39mtopology()\n",
      "\u001b[0;31mAttributeError\u001b[0m: 'NoneType' object has no attribute 'topology'"
     ]
    }
   ],
   "source": [
    "model.sec_tree.topology()"
   ]
  },
  {
   "cell_type": "code",
   "execution_count": 12,
   "metadata": {},
   "outputs": [
    {
     "data": {
      "image/png": "[encoded data removed]",
      "text/plain": [
       "<Figure size 800x800 with 1 Axes>"
      ]
     },
     "metadata": {},
     "output_type": "display_data"
    }
   ],
   "source": [
    "fig, ax = plt.subplots(figsize=(8, 8))\n",
    "model.sec_tree.plot(ax, \n",
    "                    show_points=True,\n",
    "                    show_lines=True,\n",
    "                    annotate=True)"
   ]
  },
  {
   "cell_type": "code",
   "execution_count": 11,
   "metadata": {},
   "outputs": [
    {
     "data": {
      "image/png": "[encoded data removed]",
      "text/plain": [
       "<Figure size 800x800 with 1 Axes>"
      ]
     },
     "metadata": {},
     "output_type": "display_data"
    }
   ],
   "source": [
    "fig, ax = plt.subplots(figsize=(8, 8))\n",
    "model.swc_tree.plot(ax, edges=True, projection='XY', \n",
    "              annotate=False)"
   ]
  },
  {
   "cell_type": "code",
   "execution_count": 12,
   "metadata": {},
   "outputs": [
    {
     "ename": "TypeError",
     "evalue": "'NoneType' object is not iterable",
     "output_type": "error",
     "traceback": [
      "\u001b[0;31m---------------------------------------------------------------------------\u001b[0m",
      "\u001b[0;31mTypeError\u001b[0m                                 Traceback (most recent call last)",
      "Cell \u001b[0;32mIn[12], line 1\u001b[0m\n\u001b[0;32m----> 1\u001b[0m apical_sections \u001b[38;5;241m=\u001b[39m [sec\u001b[38;5;241m.\u001b[39midx \u001b[38;5;28;01mfor\u001b[39;00m sec \u001b[38;5;129;01min\u001b[39;00m model\u001b[38;5;241m.\u001b[39msec_tree \u001b[38;5;28;01mif\u001b[39;00m sec\u001b[38;5;241m.\u001b[39mdomain \u001b[38;5;241m==\u001b[39m \u001b[38;5;124m'\u001b[39m\u001b[38;5;124mapic\u001b[39m\u001b[38;5;124m'\u001b[39m]\n\u001b[1;32m      2\u001b[0m model\u001b[38;5;241m.\u001b[39msec_tree\u001b[38;5;241m.\u001b[39mplot_radii_distribution(highlight\u001b[38;5;241m=\u001b[39mapical_sections, show_soma\u001b[38;5;241m=\u001b[39m\u001b[38;5;28;01mFalse\u001b[39;00m)\n",
      "\u001b[0;31mTypeError\u001b[0m: 'NoneType' object is not iterable"
     ]
    }
   ],
   "source": [
    "apical_sections = [sec.idx for sec in model.sec_tree if sec.domain == 'apic']\n",
    "model.sec_tree.plot_radii_distribution(highlight=apical_sections, show_soma=False)"
   ]
  },
  {
   "cell_type": "code",
   "execution_count": 16,
   "metadata": {},
   "outputs": [
    {
     "data": {
      "text/plain": [
       "{'soma': <Domain(soma, 1 sections)>,\n",
       " 'axon': <Domain(axon, 1 sections)>,\n",
       " 'dend': <Domain(dend, 7 sections)>,\n",
       " 'apic': <Domain(apic, 43 sections)>}"
      ]
     },
     "execution_count": 16,
     "metadata": {},
     "output_type": "execute_result"
    }
   ],
   "source": [
    "model.domains"
   ]
  },
  {
   "cell_type": "code",
   "execution_count": 17,
   "metadata": {},
   "outputs": [],
   "source": [
    "# model.create_and_reference_sections_in_simulator()\n",
    "# model.set_segmentation(d_lambda=0.1)\n",
    "# model.add_group('all', model.domains)"
   ]
  },
  {
   "cell_type": "code",
   "execution_count": 18,
   "metadata": {},
   "outputs": [
    {
     "data": {
      "text/plain": [
       "••0"
      ]
     },
     "execution_count": 18,
     "metadata": {},
     "output_type": "execute_result"
    }
   ],
   "source": [
    "model.sec_tree.soma"
   ]
  },
  {
   "cell_type": "code",
   "execution_count": 19,
   "metadata": {},
   "outputs": [],
   "source": [
    "from neuron import h"
   ]
  },
  {
   "cell_type": "code",
   "execution_count": 20,
   "metadata": {},
   "outputs": [
    {
     "name": "stdout",
     "output_type": "stream",
     "text": [
      "__nrnsec_0x231bcb50\n",
      "__nrnsec_0x231bcbb0\n",
      "__nrnsec_0x231bcc10\n",
      "__nrnsec_0x231bcc70\n",
      "__nrnsec_0x231bccd0\n",
      "__nrnsec_0x231bcd30\n",
      "__nrnsec_0x231bcd90\n",
      "__nrnsec_0x231bcdf0\n",
      "__nrnsec_0x231bce50\n",
      "__nrnsec_0x231bceb0\n",
      "__nrnsec_0x231bcf10\n",
      "__nrnsec_0x231bcf70\n",
      "__nrnsec_0x231bcfd0\n",
      "__nrnsec_0x231bd030\n",
      "__nrnsec_0x231bd090\n",
      "__nrnsec_0x231bd0f0\n",
      "__nrnsec_0x231bd150\n",
      "__nrnsec_0x231bd1b0\n",
      "__nrnsec_0x231bd210\n",
      "__nrnsec_0x231bd270\n",
      "__nrnsec_0x231bd2d0\n",
      "__nrnsec_0x231bd330\n",
      "__nrnsec_0x231bd390\n",
      "__nrnsec_0x231bd3f0\n",
      "__nrnsec_0x231bd450\n",
      "__nrnsec_0x231bd4b0\n",
      "__nrnsec_0x231bd510\n",
      "__nrnsec_0x231bd570\n",
      "__nrnsec_0x231bd5d0\n",
      "__nrnsec_0x231bd630\n",
      "__nrnsec_0x231bd690\n",
      "__nrnsec_0x231bd6f0\n",
      "__nrnsec_0x231bd750\n",
      "__nrnsec_0x231bd7b0\n",
      "__nrnsec_0x231bd810\n",
      "__nrnsec_0x231bd870\n",
      "__nrnsec_0x231bd8d0\n",
      "__nrnsec_0x231bd930\n",
      "__nrnsec_0x231bd990\n",
      "__nrnsec_0x231bd9f0\n",
      "__nrnsec_0x231bda50\n",
      "__nrnsec_0x231bdab0\n",
      "__nrnsec_0x231bdb10\n",
      "__nrnsec_0x231bdb70\n",
      "__nrnsec_0x231bdbd0\n",
      "__nrnsec_0x231bdc30\n",
      "__nrnsec_0x231bdc90\n",
      "__nrnsec_0x231bdcf0\n",
      "__nrnsec_0x231bdd50\n",
      "__nrnsec_0x231bddb0\n",
      "__nrnsec_0x231bde10\n",
      "__nrnsec_0x231bde70\n"
     ]
    }
   ],
   "source": [
    "for sec in h.allsec():\n",
    "    print(sec)"
   ]
  },
  {
   "cell_type": "code",
   "execution_count": 21,
   "metadata": {},
   "outputs": [],
   "source": [
    "# sec_to_remove = model.sec_tree[6]"
   ]
  },
  {
   "cell_type": "code",
   "execution_count": 22,
   "metadata": {},
   "outputs": [],
   "source": [
    "# model.sec_tree.remove_subtree(sec_to_remove)"
   ]
  },
  {
   "cell_type": "code",
   "execution_count": 23,
   "metadata": {},
   "outputs": [],
   "source": [
    "# model.sec_tree.sort()"
   ]
  },
  {
   "cell_type": "markdown",
   "metadata": {},
   "source": [
    "## Add Mechanisms"
   ]
  },
  {
   "cell_type": "code",
   "execution_count": 24,
   "metadata": {},
   "outputs": [
    {
     "name": "stdout",
     "output_type": "stream",
     "text": [
      "├── CaHVA\n",
      "│   ├── CaHVA.mod\n",
      "│   └── x86_64\n",
      "├── CaHVA.mod\n",
      "├── CaLVA\n",
      "│   ├── CaLVA.mod\n",
      "│   └── x86_64\n",
      "├── CaLVA.mod\n",
      "├── KCa\n",
      "│   ├── KCa.mod\n",
      "│   └── x86_64\n",
      "├── KCa.mod\n",
      "├── Ka\n",
      "│   ├── Ka.mod\n",
      "│   └── x86_64\n",
      "├── Ka.mod\n",
      "├── Km\n",
      "│   ├── Km.mod\n",
      "│   └── x86_64\n",
      "├── Km.mod\n",
      "├── Kv\n",
      "│   ├── Kv.mod\n",
      "│   └── x86_64\n",
      "├── Kv.mod\n",
      "├── Na\n",
      "│   ├── Na.mod\n",
      "│   └── x86_64\n",
      "└── Na.mod\n"
     ]
    }
   ],
   "source": [
    "model.path_manager.print_directory_tree('mod')"
   ]
  },
  {
   "cell_type": "markdown",
   "metadata": {},
   "source": [
    "The choice here is:\n",
    "- load all, add where needed (new, faster!)\n",
    "- load one, add everywhere (old)"
   ]
  },
  {
   "cell_type": "code",
   "execution_count": 25,
   "metadata": {},
   "outputs": [
    {
     "data": {
      "text/plain": [
       "['vecstim', 'AMPA_NMDA', 'Leak', 'AMPA', 'GABAa', 'NMDA']"
      ]
     },
     "execution_count": 25,
     "metadata": {},
     "output_type": "execute_result"
    }
   ],
   "source": [
    "model.path_manager.list_files('default_mod', 'mod')"
   ]
  },
  {
   "cell_type": "code",
   "execution_count": 26,
   "metadata": {},
   "outputs": [
    {
     "data": {
      "text/plain": [
       "'/home/roman/Documents/code/DendroTweaks/app/src/data/Default/Leak.mod'"
      ]
     },
     "execution_count": 26,
     "metadata": {},
     "output_type": "execute_result"
    }
   ],
   "source": [
    "model.path_manager.get_file_path('default_mod', 'Leak', 'mod')"
   ]
  },
  {
   "cell_type": "code",
   "execution_count": 27,
   "metadata": {},
   "outputs": [
    {
     "name": "stdout",
     "output_type": "stream",
     "text": [
      "============================================================\n",
      "Adding mechanism vecstim to model...\n",
      "============================================================\n",
      "Using precompiled mechanism \"vecstim\"\n",
      "Loaded mechanism \"vecstim\"\n",
      "Mechanism vecstim loaded to NEURON.\n",
      "\n",
      "============================================================\n",
      "Adding mechanism AMPA_NMDA to model...\n",
      "============================================================\n",
      "Using precompiled mechanism \"AMPA_NMDA\"\n",
      "Loaded mechanism \"AMPA_NMDA\"\n",
      "Mechanism AMPA_NMDA loaded to NEURON.\n",
      "\n",
      "============================================================\n",
      "Adding mechanism Leak to model...\n",
      "============================================================\n",
      "Using precompiled mechanism \"Leak\"\n",
      "Loaded mechanism \"Leak\"\n",
      "Mechanism Leak loaded to NEURON.\n",
      "\n",
      "============================================================\n",
      "Adding mechanism AMPA to model...\n",
      "============================================================\n",
      "Using precompiled mechanism \"AMPA\"\n",
      "Loaded mechanism \"AMPA\"\n",
      "Mechanism AMPA loaded to NEURON.\n",
      "\n",
      "============================================================\n",
      "Adding mechanism GABAa to model...\n",
      "============================================================\n",
      "Using precompiled mechanism \"GABAa\"\n",
      "Loaded mechanism \"GABAa\"\n",
      "Mechanism GABAa loaded to NEURON.\n",
      "\n",
      "============================================================\n",
      "Adding mechanism NMDA to model...\n",
      "============================================================\n",
      "Using precompiled mechanism \"NMDA\"\n",
      "Loaded mechanism \"NMDA\"\n",
      "Mechanism NMDA loaded to NEURON.\n",
      "\n"
     ]
    }
   ],
   "source": [
    "model.add_default_mechanisms(recompile=False)"
   ]
  },
  {
   "cell_type": "code",
   "execution_count": 28,
   "metadata": {},
   "outputs": [
    {
     "data": {
      "text/plain": [
       "{'Leak': <Mechnaism(Leak)>}"
      ]
     },
     "execution_count": 28,
     "metadata": {},
     "output_type": "execute_result"
    }
   ],
   "source": [
    "model.mechanisms"
   ]
  },
  {
   "cell_type": "code",
   "execution_count": 29,
   "metadata": {},
   "outputs": [
    {
     "name": "stdout",
     "output_type": "stream",
     "text": [
      "├── CaHVA\n",
      "│   ├── CaHVA.mod\n",
      "│   └── x86_64\n",
      "├── CaHVA.mod\n",
      "├── CaLVA\n",
      "│   ├── CaLVA.mod\n",
      "│   └── x86_64\n",
      "├── CaLVA.mod\n",
      "├── KCa\n",
      "│   ├── KCa.mod\n",
      "│   └── x86_64\n",
      "├── KCa.mod\n",
      "├── Ka\n",
      "│   ├── Ka.mod\n",
      "│   └── x86_64\n",
      "├── Ka.mod\n",
      "├── Km\n",
      "│   ├── Km.mod\n",
      "│   └── x86_64\n",
      "├── Km.mod\n",
      "├── Kv\n",
      "│   ├── Kv.mod\n",
      "│   └── x86_64\n",
      "├── Kv.mod\n",
      "├── Na\n",
      "│   ├── Na.mod\n",
      "│   └── x86_64\n",
      "└── Na.mod\n"
     ]
    }
   ],
   "source": [
    "model.path_manager.print_directory_tree('mod')"
   ]
  },
  {
   "cell_type": "code",
   "execution_count": 30,
   "metadata": {},
   "outputs": [
    {
     "name": "stdout",
     "output_type": "stream",
     "text": [
      "Replacing SUFFIX Na with SUFFIX Na\n",
      "Overwritten /home/roman/Documents/code/DendroTweaks/app/src/data/Park_2019/mod/Na.mod\n",
      "Saved content to /home/roman/Documents/code/DendroTweaks/app/src/data/Park_2019/python/Na.py\n",
      "Registering Na from Na in /home/roman/Documents/code/DendroTweaks/app/src/data/Park_2019/python\n",
      "Importing class Na from module Na.py\n",
      "Mechanism Na added to model.\n",
      "============================================================\n",
      "Adding mechanism Na to model...\n",
      "============================================================\n",
      "Using precompiled mechanism \"Na\"\n",
      "Loaded mechanism \"Na\"\n",
      "Mechanism Na loaded to NEURON.\n",
      "\n",
      "Replacing SUFFIX KCa with SUFFIX KCa\n",
      "Overwritten /home/roman/Documents/code/DendroTweaks/app/src/data/Park_2019/mod/KCa.mod\n",
      "Saved content to /home/roman/Documents/code/DendroTweaks/app/src/data/Park_2019/python/KCa.py\n",
      "Registering KCa from KCa in /home/roman/Documents/code/DendroTweaks/app/src/data/Park_2019/python\n",
      "Importing class KCa from module KCa.py\n",
      "Mechanism KCa added to model.\n",
      "============================================================\n",
      "Adding mechanism KCa to model...\n",
      "============================================================\n",
      "Using precompiled mechanism \"KCa\"\n",
      "Loaded mechanism \"KCa\"\n",
      "Mechanism KCa loaded to NEURON.\n",
      "\n",
      "Replacing SUFFIX Kv with SUFFIX Kv\n",
      "Overwritten /home/roman/Documents/code/DendroTweaks/app/src/data/Park_2019/mod/Kv.mod\n",
      "Saved content to /home/roman/Documents/code/DendroTweaks/app/src/data/Park_2019/python/Kv.py\n",
      "Registering Kv from Kv in /home/roman/Documents/code/DendroTweaks/app/src/data/Park_2019/python\n",
      "Importing class Kv from module Kv.py\n",
      "Mechanism Kv added to model.\n",
      "============================================================\n",
      "Adding mechanism Kv to model...\n",
      "============================================================\n",
      "Using precompiled mechanism \"Kv\"\n",
      "Loaded mechanism \"Kv\"\n",
      "Mechanism Kv loaded to NEURON.\n",
      "\n",
      "Replacing SUFFIX Ka with SUFFIX Ka\n",
      "Overwritten /home/roman/Documents/code/DendroTweaks/app/src/data/Park_2019/mod/Ka.mod\n",
      "Saved content to /home/roman/Documents/code/DendroTweaks/app/src/data/Park_2019/python/Ka.py\n",
      "Registering Ka from Ka in /home/roman/Documents/code/DendroTweaks/app/src/data/Park_2019/python\n",
      "Importing class Ka from module Ka.py\n",
      "Mechanism Ka added to model.\n",
      "============================================================\n",
      "Adding mechanism Ka to model...\n",
      "============================================================\n",
      "Using precompiled mechanism \"Ka\"\n",
      "Loaded mechanism \"Ka\"\n",
      "Mechanism Ka loaded to NEURON.\n",
      "\n",
      "Replacing SUFFIX CaHVA with SUFFIX CaHVA\n",
      "Overwritten /home/roman/Documents/code/DendroTweaks/app/src/data/Park_2019/mod/CaHVA.mod\n",
      "Saved content to /home/roman/Documents/code/DendroTweaks/app/src/data/Park_2019/python/CaHVA.py\n",
      "Registering CaHVA from CaHVA in /home/roman/Documents/code/DendroTweaks/app/src/data/Park_2019/python\n",
      "Importing class CaHVA from module CaHVA.py\n",
      "Mechanism CaHVA added to model.\n",
      "============================================================\n",
      "Adding mechanism CaHVA to model...\n",
      "============================================================\n",
      "Using precompiled mechanism \"CaHVA\"\n",
      "Loaded mechanism \"CaHVA\"\n",
      "Mechanism CaHVA loaded to NEURON.\n",
      "\n",
      "Replacing SUFFIX Km with SUFFIX Km\n",
      "Overwritten /home/roman/Documents/code/DendroTweaks/app/src/data/Park_2019/mod/Km.mod\n",
      "Saved content to /home/roman/Documents/code/DendroTweaks/app/src/data/Park_2019/python/Km.py\n",
      "Registering Km from Km in /home/roman/Documents/code/DendroTweaks/app/src/data/Park_2019/python\n",
      "Importing class Km from module Km.py\n",
      "Mechanism Km added to model.\n",
      "============================================================\n",
      "Adding mechanism Km to model...\n",
      "============================================================\n",
      "Using precompiled mechanism \"Km\"\n",
      "Loaded mechanism \"Km\"\n",
      "Mechanism Km loaded to NEURON.\n",
      "\n",
      "Replacing SUFFIX CaLVA with SUFFIX CaLVA\n",
      "Overwritten /home/roman/Documents/code/DendroTweaks/app/src/data/Park_2019/mod/CaLVA.mod\n",
      "Saved content to /home/roman/Documents/code/DendroTweaks/app/src/data/Park_2019/python/CaLVA.py\n",
      "Registering CaLVA from CaLVA in /home/roman/Documents/code/DendroTweaks/app/src/data/Park_2019/python\n",
      "Importing class CaLVA from module CaLVA.py\n",
      "Mechanism CaLVA added to model.\n",
      "============================================================\n",
      "Adding mechanism CaLVA to model...\n",
      "============================================================\n",
      "Using precompiled mechanism \"CaLVA\"\n",
      "Loaded mechanism \"CaLVA\"\n",
      "Mechanism CaLVA loaded to NEURON.\n",
      "\n"
     ]
    }
   ],
   "source": [
    "model.add_mechanisms(recompile=False)"
   ]
  },
  {
   "cell_type": "code",
   "execution_count": 31,
   "metadata": {},
   "outputs": [
    {
     "data": {
      "text/plain": [
       "{'Leak': <Mechnaism(Leak)>,\n",
       " 'Na': <Mechnaism(Na)>,\n",
       " 'KCa': <Mechnaism(KCa)>,\n",
       " 'Kv': <Mechnaism(Kv)>,\n",
       " 'Ka': <Mechnaism(Ka)>,\n",
       " 'CaHVA': <Mechnaism(CaHVA)>,\n",
       " 'Km': <Mechnaism(Km)>,\n",
       " 'CaLVA': <Mechnaism(CaLVA)>}"
      ]
     },
     "execution_count": 31,
     "metadata": {},
     "output_type": "execute_result"
    }
   ],
   "source": [
    "model.mechanisms"
   ]
  },
  {
   "cell_type": "code",
   "execution_count": 32,
   "metadata": {},
   "outputs": [
    {
     "data": {
      "text/plain": [
       "{'cm': {'all': constant({'value': 1})},\n",
       " 'Ra': {'all': constant({'value': 35.4})}}"
      ]
     },
     "execution_count": 32,
     "metadata": {},
     "output_type": "execute_result"
    }
   ],
   "source": [
    "model.params"
   ]
  },
  {
   "cell_type": "code",
   "execution_count": 33,
   "metadata": {},
   "outputs": [
    {
     "data": {
      "text/plain": [
       "{'cm': 'Independent', 'Ra': 'Independent'}"
      ]
     },
     "execution_count": 33,
     "metadata": {},
     "output_type": "execute_result"
    }
   ],
   "source": [
    "model.params_to_mechs"
   ]
  },
  {
   "cell_type": "code",
   "execution_count": 34,
   "metadata": {},
   "outputs": [
    {
     "data": {
      "text/plain": [
       "{'Independent': ['cm', 'Ra']}"
      ]
     },
     "execution_count": 34,
     "metadata": {},
     "output_type": "execute_result"
    }
   ],
   "source": [
    "model.mechs_to_params"
   ]
  },
  {
   "cell_type": "code",
   "execution_count": 35,
   "metadata": {},
   "outputs": [
    {
     "data": {
      "text/plain": [
       "{'Leak': <Mechnaism(Leak)>,\n",
       " 'Na': <Mechnaism(Na)>,\n",
       " 'KCa': <Mechnaism(KCa)>,\n",
       " 'Kv': <Mechnaism(Kv)>,\n",
       " 'Ka': <Mechnaism(Ka)>,\n",
       " 'CaHVA': <Mechnaism(CaHVA)>,\n",
       " 'Km': <Mechnaism(Km)>,\n",
       " 'CaLVA': <Mechnaism(CaLVA)>}"
      ]
     },
     "execution_count": 35,
     "metadata": {},
     "output_type": "execute_result"
    }
   ],
   "source": [
    "model.mechanisms"
   ]
  },
  {
   "cell_type": "markdown",
   "metadata": {},
   "source": [
    "## Add groups"
   ]
  },
  {
   "cell_type": "code",
   "execution_count": 36,
   "metadata": {},
   "outputs": [
    {
     "data": {
      "text/plain": [
       "{'soma': <Domain(soma, 1 sections)>,\n",
       " 'axon': <Domain(axon, 1 sections)>,\n",
       " 'dend': <Domain(dend, 7 sections)>,\n",
       " 'apic': <Domain(apic, 43 sections)>}"
      ]
     },
     "execution_count": 36,
     "metadata": {},
     "output_type": "execute_result"
    }
   ],
   "source": [
    "model.domains"
   ]
  },
  {
   "cell_type": "code",
   "execution_count": 37,
   "metadata": {},
   "outputs": [
    {
     "data": {
      "text/plain": [
       "{'all': SegmentGroup(\"all\", domains=['soma', 'axon', 'dend', 'apic']),\n",
       " 'somatic': SegmentGroup(\"somatic\", domains=['soma']),\n",
       " 'axonal': SegmentGroup(\"axonal\", domains=['axon']),\n",
       " 'dendritic': SegmentGroup(\"dendritic\", domains=['dend']),\n",
       " 'apical': SegmentGroup(\"apical\", domains=['apic'])}"
      ]
     },
     "execution_count": 37,
     "metadata": {},
     "output_type": "execute_result"
    }
   ],
   "source": [
    "model.groups"
   ]
  },
  {
   "cell_type": "code",
   "execution_count": 38,
   "metadata": {},
   "outputs": [
    {
     "data": {
      "text/plain": [
       "{'cm': {'all': constant({'value': 1})},\n",
       " 'Ra': {'all': constant({'value': 35.4})}}"
      ]
     },
     "execution_count": 38,
     "metadata": {},
     "output_type": "execute_result"
    }
   ],
   "source": [
    "model.params"
   ]
  },
  {
   "cell_type": "markdown",
   "metadata": {},
   "source": [
    "## Segmentation"
   ]
  },
  {
   "cell_type": "markdown",
   "metadata": {},
   "source": [
    "### Set independent parameters"
   ]
  },
  {
   "cell_type": "code",
   "execution_count": 39,
   "metadata": {},
   "outputs": [
    {
     "data": {
      "text/plain": [
       "{'all': SegmentGroup(\"all\", domains=['soma', 'axon', 'dend', 'apic']),\n",
       " 'somatic': SegmentGroup(\"somatic\", domains=['soma']),\n",
       " 'axonal': SegmentGroup(\"axonal\", domains=['axon']),\n",
       " 'dendritic': SegmentGroup(\"dendritic\", domains=['dend']),\n",
       " 'apical': SegmentGroup(\"apical\", domains=['apic'])}"
      ]
     },
     "execution_count": 39,
     "metadata": {},
     "output_type": "execute_result"
    }
   ],
   "source": [
    "model.groups"
   ]
  },
  {
   "cell_type": "code",
   "execution_count": 40,
   "metadata": {},
   "outputs": [],
   "source": [
    "model.set_param(param_name='cm', \n",
    "                group_name='all',\n",
    "                distr_type = 'constant', value=1)\n",
    "model.set_param(param_name='cm', \n",
    "                group_name='somatic',\n",
    "                distr_type = 'constant', value=2)"
   ]
  },
  {
   "cell_type": "code",
   "execution_count": 41,
   "metadata": {},
   "outputs": [],
   "source": [
    "model.set_param(param_name='Ra', \n",
    "                group_name='all',\n",
    "                distr_type = 'constant', value=100)"
   ]
  },
  {
   "cell_type": "code",
   "execution_count": 42,
   "metadata": {},
   "outputs": [
    {
     "data": {
      "text/plain": [
       "{'cm': {'all': constant({'value': 1}), 'somatic': constant({'value': 2})},\n",
       " 'Ra': {'all': constant({'value': 100})}}"
      ]
     },
     "execution_count": 42,
     "metadata": {},
     "output_type": "execute_result"
    }
   ],
   "source": [
    "model.params"
   ]
  },
  {
   "cell_type": "markdown",
   "metadata": {},
   "source": [
    "### Create seg tree"
   ]
  },
  {
   "cell_type": "code",
   "execution_count": 43,
   "metadata": {},
   "outputs": [
    {
     "name": "stdout",
     "output_type": "stream",
     "text": [
      "Connecting tree.\n"
     ]
    }
   ],
   "source": [
    "d_lambda = 0.1\n",
    "model.set_segmentation(d_lambda=0.1)"
   ]
  },
  {
   "cell_type": "code",
   "execution_count": 44,
   "metadata": {},
   "outputs": [
    {
     "data": {
      "text/plain": [
       "Tree [•0, •1, •2, •3, •4, •5, •6, •7, •8, •9, •10, •11, •12, •13, •14, •15, •16, •17, •18, •19, •20, •21, •22, •23, •24, •25, •26, •27, •28, •29, •30, •31, •32, •33, •34, •35, •36, •37, •38, •39, •40, •41, •42, •43, •44, •45, •46, •47, •48, •49, •50, •51, •52, •53, •54, •55, •56, •57, •58, •59, •60, •61, •62, •63, •64, •65, •66, •67, •68, •69, •70, •71, •72, •73, •74, •75, •76, •77, •78, •79, •80, •81, •82, •83, •84, •85, •86, •87, •88, •89, •90, •91, •92, •93, •94, •95, •96, •97, •98, •99, •100, •101, •102, •103, •104, •105, •106, •107, •108, •109, •110, •111, •112, •113, •114, •115, •116, •117, •118, •119, •120, •121, •122, •123, •124, •125, •126, •127, •128, •129, •130, •131, •132, •133, •134, •135, •136, •137, •138, •139, •140, •141, •142, •143, •144, •145, •146, •147, •148, •149, •150, •151, •152, •153, •154, •155, •156, •157, •158, •159, •160, •161, •162, •163, •164, •165, •166, •167, •168, •169, •170, •171, •172, •173, •174, •175, •176, •177, •178, •179, •180, •181, •182, •183, •184, •185, •186, •187, •188, •189]"
      ]
     },
     "execution_count": 44,
     "metadata": {},
     "output_type": "execute_result"
    }
   ],
   "source": [
    "model.seg_tree"
   ]
  },
  {
   "cell_type": "code",
   "execution_count": 45,
   "metadata": {},
   "outputs": [
    {
     "data": {
      "image/png": "[encoded data removed]",
      "text/plain": [
       "<Figure size 500x100 with 1 Axes>"
      ]
     },
     "metadata": {},
     "output_type": "display_data"
    },
    {
     "data": {
      "image/png": "[encoded data removed]",
      "text/plain": [
       "<Figure size 500x100 with 1 Axes>"
      ]
     },
     "metadata": {},
     "output_type": "display_data"
    },
    {
     "data": {
      "image/png": "[encoded data removed]",
      "text/plain": [
       "<Figure size 500x100 with 1 Axes>"
      ]
     },
     "metadata": {},
     "output_type": "display_data"
    },
    {
     "data": {
      "image/png": "[encoded data removed]",
      "text/plain": [
       "<Figure size 500x100 with 1 Axes>"
      ]
     },
     "metadata": {},
     "output_type": "display_data"
    },
    {
     "data": {
      "image/png": "[encoded data removed]",
      "text/plain": [
       "<Figure size 500x100 with 1 Axes>"
      ]
     },
     "metadata": {},
     "output_type": "display_data"
    },
    {
     "data": {
      "image/png": "[encoded data removed]",
      "text/plain": [
       "<Figure size 500x100 with 1 Axes>"
      ]
     },
     "metadata": {},
     "output_type": "display_data"
    }
   ],
   "source": [
    "for sec in model.sec_tree.sections:\n",
    "        fig, ax = plt.subplots(figsize=(5, 1))\n",
    "        sec.plot_radii(ax)\n",
    "        ax.set_title(f'Section {sec.idx}')\n",
    "        if sec.idx >= 5:\n",
    "            break"
   ]
  },
  {
   "cell_type": "code",
   "execution_count": 46,
   "metadata": {},
   "outputs": [
    {
     "data": {
      "text/plain": [
       "190"
      ]
     },
     "execution_count": 46,
     "metadata": {},
     "output_type": "execute_result"
    }
   ],
   "source": [
    "len(model.seg_tree)"
   ]
  },
  {
   "cell_type": "code",
   "execution_count": 47,
   "metadata": {},
   "outputs": [],
   "source": [
    "model.insert_mechanism('Leak', 'soma')"
   ]
  },
  {
   "cell_type": "code",
   "execution_count": 48,
   "metadata": {},
   "outputs": [],
   "source": [
    "domain = model.domains['soma']"
   ]
  },
  {
   "cell_type": "code",
   "execution_count": 49,
   "metadata": {},
   "outputs": [
    {
     "name": "stdout",
     "output_type": "stream",
     "text": [
      "Creating domain roma...\n"
     ]
    },
    {
     "name": "stderr",
     "output_type": "stream",
     "text": [
      "UserWarning: Domain soma is empty and will be removed. (model.py, line 520)\n",
      "UserWarning: Group somatic is empty and will be removed. (model.py, line 541)\n"
     ]
    }
   ],
   "source": [
    "model.define_domain('roma', model.get_sections(lambda sec: sec.domain == 'soma'))"
   ]
  },
  {
   "cell_type": "code",
   "execution_count": 45,
   "metadata": {},
   "outputs": [
    {
     "data": {
      "text/plain": [
       "[<Mechnaism(Leak)>]"
      ]
     },
     "execution_count": 45,
     "metadata": {},
     "output_type": "execute_result"
    }
   ],
   "source": [
    "list(domain.inserted_mechanisms.values())"
   ]
  },
  {
   "cell_type": "code",
   "execution_count": 46,
   "metadata": {},
   "outputs": [
    {
     "name": "stderr",
     "output_type": "stream",
     "text": [
      "UserWarning: Mechanism Leak is not inserted in any domain. Removing its parameters. (model.py, line 604)\n"
     ]
    }
   ],
   "source": [
    "model.uninsert_mechanism('Leak', 'soma')"
   ]
  },
  {
   "cell_type": "code",
   "execution_count": 47,
   "metadata": {},
   "outputs": [
    {
     "data": {
      "text/plain": [
       "{'cm': {'all': constant({'value': 1}), 'somatic': constant({'value': 2})},\n",
       " 'Ra': {'all': constant({'value': 100})}}"
      ]
     },
     "execution_count": 47,
     "metadata": {},
     "output_type": "execute_result"
    }
   ],
   "source": [
    "model.params"
   ]
  },
  {
   "cell_type": "code",
   "execution_count": 48,
   "metadata": {},
   "outputs": [
    {
     "data": {
      "text/plain": [
       "{'all': SegmentGroup(\"all\", domains=['soma', 'axon', 'dend', 'apic']),\n",
       " 'somatic': SegmentGroup(\"somatic\", domains=['soma']),\n",
       " 'axonal': SegmentGroup(\"axonal\", domains=['axon']),\n",
       " 'dendritic': SegmentGroup(\"dendritic\", domains=['dend']),\n",
       " 'apical': SegmentGroup(\"apical\", domains=['apic'])}"
      ]
     },
     "execution_count": 48,
     "metadata": {},
     "output_type": "execute_result"
    }
   ],
   "source": [
    "model.groups"
   ]
  },
  {
   "cell_type": "markdown",
   "metadata": {},
   "source": [
    "## Distribute mech parameters"
   ]
  },
  {
   "cell_type": "code",
   "execution_count": 46,
   "metadata": {},
   "outputs": [],
   "source": [
    "all_domains = ['soma', 'dend', 'axon', 'apic']\n",
    "for domain in all_domains:\n",
    "    model.insert_mechanism('Leak', domain)\n",
    "    model.insert_mechanism('Na', domain)\n",
    "    model.insert_mechanism('Kv', domain)"
   ]
  },
  {
   "cell_type": "code",
   "execution_count": 47,
   "metadata": {},
   "outputs": [
    {
     "data": {
      "text/plain": [
       "{'soma': ['Independent', 'Leak', 'Na', 'Kv'],\n",
       " 'axon': ['Independent', 'Na', 'Kv'],\n",
       " 'dend': ['Independent', 'Na', 'Kv'],\n",
       " 'apic': ['Independent', 'Na', 'Kv']}"
      ]
     },
     "execution_count": 47,
     "metadata": {},
     "output_type": "execute_result"
    }
   ],
   "source": [
    "model.domains_to_mechanisms"
   ]
  },
  {
   "cell_type": "code",
   "execution_count": 48,
   "metadata": {},
   "outputs": [
    {
     "data": {
      "text/plain": [
       "{'Independent': ['cm', 'Ra', 'ena', 'ek'],\n",
       " 'Leak': ['gbar_Leak', 'e_Leak'],\n",
       " 'Na': ['gbar_Na',\n",
       "  'Rma_Na',\n",
       "  'Rmb_Na',\n",
       "  'v12m_Na',\n",
       "  'qm_Na',\n",
       "  'Rhb_Na',\n",
       "  'Rha_Na',\n",
       "  'v12ha_Na',\n",
       "  'v12hb_Na',\n",
       "  'qh_Na',\n",
       "  'v12hinf_Na',\n",
       "  'qhinf_Na'],\n",
       " 'Kv': ['gbar_Kv', 'v12_Kv', 'q_Kv']}"
      ]
     },
     "execution_count": 48,
     "metadata": {},
     "output_type": "execute_result"
    }
   ],
   "source": [
    "model.mechs_to_params"
   ]
  },
  {
   "cell_type": "code",
   "execution_count": 50,
   "metadata": {},
   "outputs": [
    {
     "name": "stdout",
     "output_type": "stream",
     "text": [
      "{'cm': {'all': constant({'value': 1}),\n",
      "        'soma': constant({'value': 2})},\n",
      " 'Ra': {'all': constant({'value': 100})},\n",
      " 'gbar_Leak': {'all': constant({'value': 0.0})},\n",
      " 'e_Leak': {'all': constant({'value': -70})},\n",
      " 'gbar_Na': {'all': constant({'value': 0.0})},\n",
      " 'Rma_Na': {'all': constant({'value': 0.182})},\n",
      " 'Rmb_Na': {'all': constant({'value': 0.14})},\n",
      " 'v12m_Na': {'all': constant({'value': -30})},\n",
      " 'qm_Na': {'all': constant({'value': 9.8})},\n",
      " 'Rhb_Na': {'all': constant({'value': 0.0091})},\n",
      " 'Rha_Na': {'all': constant({'value': 0.024})},\n",
      " 'v12ha_Na': {'all': constant({'value': -45})},\n",
      " 'v12hb_Na': {'all': constant({'value': -70})},\n",
      " 'qh_Na': {'all': constant({'value': 5})},\n",
      " 'v12hinf_Na': {'all': constant({'value': -60})},\n",
      " 'qhinf_Na': {'all': constant({'value': 6.2})},\n",
      " 'ena': {'all': constant({'value': 50})},\n",
      " 'gbar_Kv': {'all': constant({'value': 0.0})},\n",
      " 'v12_Kv': {'all': constant({'value': 25})},\n",
      " 'q_Kv': {'all': constant({'value': 9})},\n",
      " 'ek': {'all': constant({'value': -77})}}\n"
     ]
    }
   ],
   "source": [
    "pprint(model.params, sort_dicts=False, width=1)"
   ]
  },
  {
   "cell_type": "code",
   "execution_count": 51,
   "metadata": {},
   "outputs": [
    {
     "data": {
      "text/html": [
       "<div>\n",
       "<style scoped>\n",
       "    .dataframe tbody tr th:only-of-type {\n",
       "        vertical-align: middle;\n",
       "    }\n",
       "\n",
       "    .dataframe tbody tr th {\n",
       "        vertical-align: top;\n",
       "    }\n",
       "\n",
       "    .dataframe thead th {\n",
       "        text-align: right;\n",
       "    }\n",
       "</style>\n",
       "<table border=\"1\" class=\"dataframe\">\n",
       "  <thead>\n",
       "    <tr style=\"text-align: right;\">\n",
       "      <th></th>\n",
       "      <th>Mechanism</th>\n",
       "      <th>Parameter</th>\n",
       "      <th>Group</th>\n",
       "      <th>Distribution</th>\n",
       "    </tr>\n",
       "  </thead>\n",
       "  <tbody>\n",
       "    <tr>\n",
       "      <th>0</th>\n",
       "      <td>Independent</td>\n",
       "      <td>cm</td>\n",
       "      <td>all</td>\n",
       "      <td>constant({'value': 1})</td>\n",
       "    </tr>\n",
       "    <tr>\n",
       "      <th>1</th>\n",
       "      <td>Independent</td>\n",
       "      <td>cm</td>\n",
       "      <td>soma</td>\n",
       "      <td>constant({'value': 2})</td>\n",
       "    </tr>\n",
       "    <tr>\n",
       "      <th>2</th>\n",
       "      <td>Independent</td>\n",
       "      <td>Ra</td>\n",
       "      <td>all</td>\n",
       "      <td>constant({'value': 100})</td>\n",
       "    </tr>\n",
       "    <tr>\n",
       "      <th>3</th>\n",
       "      <td>Independent</td>\n",
       "      <td>ena</td>\n",
       "      <td>all</td>\n",
       "      <td>constant({'value': 50})</td>\n",
       "    </tr>\n",
       "    <tr>\n",
       "      <th>4</th>\n",
       "      <td>Independent</td>\n",
       "      <td>ek</td>\n",
       "      <td>all</td>\n",
       "      <td>constant({'value': -77})</td>\n",
       "    </tr>\n",
       "    <tr>\n",
       "      <th>5</th>\n",
       "      <td>Leak</td>\n",
       "      <td>gbar_Leak</td>\n",
       "      <td>all</td>\n",
       "      <td>constant({'value': 0.0})</td>\n",
       "    </tr>\n",
       "    <tr>\n",
       "      <th>6</th>\n",
       "      <td>Leak</td>\n",
       "      <td>e_Leak</td>\n",
       "      <td>all</td>\n",
       "      <td>constant({'value': -70})</td>\n",
       "    </tr>\n",
       "    <tr>\n",
       "      <th>7</th>\n",
       "      <td>Na</td>\n",
       "      <td>gbar_Na</td>\n",
       "      <td>all</td>\n",
       "      <td>constant({'value': 0.0})</td>\n",
       "    </tr>\n",
       "    <tr>\n",
       "      <th>8</th>\n",
       "      <td>Na</td>\n",
       "      <td>Rma_Na</td>\n",
       "      <td>all</td>\n",
       "      <td>constant({'value': 0.182})</td>\n",
       "    </tr>\n",
       "    <tr>\n",
       "      <th>9</th>\n",
       "      <td>Na</td>\n",
       "      <td>Rmb_Na</td>\n",
       "      <td>all</td>\n",
       "      <td>constant({'value': 0.14})</td>\n",
       "    </tr>\n",
       "    <tr>\n",
       "      <th>10</th>\n",
       "      <td>Na</td>\n",
       "      <td>v12m_Na</td>\n",
       "      <td>all</td>\n",
       "      <td>constant({'value': -30})</td>\n",
       "    </tr>\n",
       "    <tr>\n",
       "      <th>11</th>\n",
       "      <td>Na</td>\n",
       "      <td>qm_Na</td>\n",
       "      <td>all</td>\n",
       "      <td>constant({'value': 9.8})</td>\n",
       "    </tr>\n",
       "    <tr>\n",
       "      <th>12</th>\n",
       "      <td>Na</td>\n",
       "      <td>Rhb_Na</td>\n",
       "      <td>all</td>\n",
       "      <td>constant({'value': 0.0091})</td>\n",
       "    </tr>\n",
       "    <tr>\n",
       "      <th>13</th>\n",
       "      <td>Na</td>\n",
       "      <td>Rha_Na</td>\n",
       "      <td>all</td>\n",
       "      <td>constant({'value': 0.024})</td>\n",
       "    </tr>\n",
       "    <tr>\n",
       "      <th>14</th>\n",
       "      <td>Na</td>\n",
       "      <td>v12ha_Na</td>\n",
       "      <td>all</td>\n",
       "      <td>constant({'value': -45})</td>\n",
       "    </tr>\n",
       "    <tr>\n",
       "      <th>15</th>\n",
       "      <td>Na</td>\n",
       "      <td>v12hb_Na</td>\n",
       "      <td>all</td>\n",
       "      <td>constant({'value': -70})</td>\n",
       "    </tr>\n",
       "    <tr>\n",
       "      <th>16</th>\n",
       "      <td>Na</td>\n",
       "      <td>qh_Na</td>\n",
       "      <td>all</td>\n",
       "      <td>constant({'value': 5})</td>\n",
       "    </tr>\n",
       "    <tr>\n",
       "      <th>17</th>\n",
       "      <td>Na</td>\n",
       "      <td>v12hinf_Na</td>\n",
       "      <td>all</td>\n",
       "      <td>constant({'value': -60})</td>\n",
       "    </tr>\n",
       "    <tr>\n",
       "      <th>18</th>\n",
       "      <td>Na</td>\n",
       "      <td>qhinf_Na</td>\n",
       "      <td>all</td>\n",
       "      <td>constant({'value': 6.2})</td>\n",
       "    </tr>\n",
       "    <tr>\n",
       "      <th>19</th>\n",
       "      <td>Kv</td>\n",
       "      <td>gbar_Kv</td>\n",
       "      <td>all</td>\n",
       "      <td>constant({'value': 0.0})</td>\n",
       "    </tr>\n",
       "    <tr>\n",
       "      <th>20</th>\n",
       "      <td>Kv</td>\n",
       "      <td>v12_Kv</td>\n",
       "      <td>all</td>\n",
       "      <td>constant({'value': 25})</td>\n",
       "    </tr>\n",
       "    <tr>\n",
       "      <th>21</th>\n",
       "      <td>Kv</td>\n",
       "      <td>q_Kv</td>\n",
       "      <td>all</td>\n",
       "      <td>constant({'value': 9})</td>\n",
       "    </tr>\n",
       "  </tbody>\n",
       "</table>\n",
       "</div>"
      ],
      "text/plain": [
       "      Mechanism   Parameter Group                 Distribution\n",
       "0   Independent          cm   all       constant({'value': 1})\n",
       "1   Independent          cm  soma       constant({'value': 2})\n",
       "2   Independent          Ra   all     constant({'value': 100})\n",
       "3   Independent         ena   all      constant({'value': 50})\n",
       "4   Independent          ek   all     constant({'value': -77})\n",
       "5          Leak   gbar_Leak   all     constant({'value': 0.0})\n",
       "6          Leak      e_Leak   all     constant({'value': -70})\n",
       "7            Na     gbar_Na   all     constant({'value': 0.0})\n",
       "8            Na      Rma_Na   all   constant({'value': 0.182})\n",
       "9            Na      Rmb_Na   all    constant({'value': 0.14})\n",
       "10           Na     v12m_Na   all     constant({'value': -30})\n",
       "11           Na       qm_Na   all     constant({'value': 9.8})\n",
       "12           Na      Rhb_Na   all  constant({'value': 0.0091})\n",
       "13           Na      Rha_Na   all   constant({'value': 0.024})\n",
       "14           Na    v12ha_Na   all     constant({'value': -45})\n",
       "15           Na    v12hb_Na   all     constant({'value': -70})\n",
       "16           Na       qh_Na   all       constant({'value': 5})\n",
       "17           Na  v12hinf_Na   all     constant({'value': -60})\n",
       "18           Na    qhinf_Na   all     constant({'value': 6.2})\n",
       "19           Kv     gbar_Kv   all     constant({'value': 0.0})\n",
       "20           Kv      v12_Kv   all      constant({'value': 25})\n",
       "21           Kv        q_Kv   all       constant({'value': 9})"
      ]
     },
     "execution_count": 51,
     "metadata": {},
     "output_type": "execute_result"
    }
   ],
   "source": [
    "model.params_to_dataframe()"
   ]
  },
  {
   "cell_type": "code",
   "execution_count": 52,
   "metadata": {},
   "outputs": [],
   "source": [
    "model.set_param(param_name='gbar_Leak',\n",
    "                group_name='all',\n",
    "                distr_type = 'constant', value=0.0001)"
   ]
  },
  {
   "cell_type": "code",
   "execution_count": 57,
   "metadata": {},
   "outputs": [
    {
     "name": "stdout",
     "output_type": "stream",
     "text": [
      "Segment 0 gbar_Leak:0.0001\n",
      "Segment 1 gbar_Leak:nan\n",
      "Segment 2 gbar_Leak:nan\n",
      "Segment 3 gbar_Leak:nan\n",
      "Segment 4 gbar_Leak:nan\n",
      "Segment 5 gbar_Leak:nan\n",
      "Segment 6 gbar_Leak:nan\n",
      "Segment 7 gbar_Leak:nan\n",
      "Segment 8 gbar_Leak:nan\n",
      "Segment 9 gbar_Leak:nan\n",
      "Segment 10 gbar_Leak:nan\n",
      "Segment 11 gbar_Leak:nan\n",
      "Segment 12 gbar_Leak:nan\n",
      "Segment 13 gbar_Leak:nan\n",
      "Segment 14 gbar_Leak:nan\n",
      "Segment 15 gbar_Leak:nan\n",
      "Segment 16 gbar_Leak:nan\n",
      "Segment 17 gbar_Leak:nan\n",
      "Segment 18 gbar_Leak:nan\n",
      "Segment 19 gbar_Leak:nan\n",
      "Segment 20 gbar_Leak:nan\n"
     ]
    }
   ],
   "source": [
    "for seg in model.seg_tree:\n",
    "    print(f\"Segment {seg.idx} gbar_Leak:{seg.get_param_value('gbar_Leak')}\")\n",
    "    if seg.idx >= 20:\n",
    "        break"
   ]
  },
  {
   "cell_type": "code",
   "execution_count": 51,
   "metadata": {},
   "outputs": [],
   "source": [
    "model.set_param(param_name='gbar_Na',\n",
    "                group_name='all',\n",
    "                distr_type = 'constant', value=0.03)\n",
    "model.set_param(param_name='gbar_Na',\n",
    "                group_name='soma',\n",
    "                distr_type = 'constant', value=0.05)"
   ]
  },
  {
   "cell_type": "code",
   "execution_count": 52,
   "metadata": {},
   "outputs": [],
   "source": [
    "model.set_param(param_name='gbar_Kv',\n",
    "                group_name='all', \n",
    "                distr_type = 'constant', value=0.003)\n",
    "model.set_param(param_name='gbar_Kv',\n",
    "                group_name='soma', \n",
    "                distr_type = 'constant', value=0.005)"
   ]
  },
  {
   "cell_type": "code",
   "execution_count": 53,
   "metadata": {},
   "outputs": [
    {
     "data": {
      "text/plain": [
       "{'Independent': ['cm', 'Ra', 'ena', 'ek'],\n",
       " 'Leak': ['gbar_Leak', 'e_Leak'],\n",
       " 'Na': ['gbar_Na',\n",
       "  'Rma_Na',\n",
       "  'Rmb_Na',\n",
       "  'v12m_Na',\n",
       "  'qm_Na',\n",
       "  'Rhb_Na',\n",
       "  'Rha_Na',\n",
       "  'v12ha_Na',\n",
       "  'v12hb_Na',\n",
       "  'qh_Na',\n",
       "  'v12hinf_Na',\n",
       "  'qhinf_Na'],\n",
       " 'Kv': ['gbar_Kv', 'v12_Kv', 'q_Kv']}"
      ]
     },
     "execution_count": 53,
     "metadata": {},
     "output_type": "execute_result"
    }
   ],
   "source": [
    "model.mechs_to_params"
   ]
  },
  {
   "cell_type": "code",
   "execution_count": 54,
   "metadata": {},
   "outputs": [
    {
     "name": "stdout",
     "output_type": "stream",
     "text": [
      "Model: Park_2019\n",
      "Path to data: /home/roman/Documents/code/DendroTweaks/app/src/data\n",
      "Simulator: NEURON\n",
      "Groups: 2\n",
      "Avaliable mechanisms: 8\n",
      "Inserted mechanisms: 3\n",
      "IClamps: 0\n",
      "\n"
     ]
    }
   ],
   "source": [
    "model.info()"
   ]
  },
  {
   "cell_type": "code",
   "execution_count": 55,
   "metadata": {},
   "outputs": [
    {
     "data": {
      "text/html": [
       "<div>\n",
       "<style scoped>\n",
       "    .dataframe tbody tr th:only-of-type {\n",
       "        vertical-align: middle;\n",
       "    }\n",
       "\n",
       "    .dataframe tbody tr th {\n",
       "        vertical-align: top;\n",
       "    }\n",
       "\n",
       "    .dataframe thead th {\n",
       "        text-align: right;\n",
       "    }\n",
       "</style>\n",
       "<table border=\"1\" class=\"dataframe\">\n",
       "  <thead>\n",
       "    <tr style=\"text-align: right;\">\n",
       "      <th></th>\n",
       "      <th>Mechanism</th>\n",
       "      <th>Parameter</th>\n",
       "      <th>Group</th>\n",
       "      <th>Distribution</th>\n",
       "    </tr>\n",
       "  </thead>\n",
       "  <tbody>\n",
       "    <tr>\n",
       "      <th>0</th>\n",
       "      <td>Independent</td>\n",
       "      <td>cm</td>\n",
       "      <td>all</td>\n",
       "      <td>constant({'value': 1})</td>\n",
       "    </tr>\n",
       "    <tr>\n",
       "      <th>1</th>\n",
       "      <td>Independent</td>\n",
       "      <td>cm</td>\n",
       "      <td>soma</td>\n",
       "      <td>constant({'value': 2})</td>\n",
       "    </tr>\n",
       "    <tr>\n",
       "      <th>2</th>\n",
       "      <td>Independent</td>\n",
       "      <td>Ra</td>\n",
       "      <td>all</td>\n",
       "      <td>constant({'value': 100})</td>\n",
       "    </tr>\n",
       "    <tr>\n",
       "      <th>3</th>\n",
       "      <td>Independent</td>\n",
       "      <td>ena</td>\n",
       "      <td>all</td>\n",
       "      <td>constant({'value': 50})</td>\n",
       "    </tr>\n",
       "    <tr>\n",
       "      <th>4</th>\n",
       "      <td>Independent</td>\n",
       "      <td>ek</td>\n",
       "      <td>all</td>\n",
       "      <td>constant({'value': -77})</td>\n",
       "    </tr>\n",
       "    <tr>\n",
       "      <th>5</th>\n",
       "      <td>Leak</td>\n",
       "      <td>gbar_Leak</td>\n",
       "      <td>all</td>\n",
       "      <td>constant({'value': 0.0001})</td>\n",
       "    </tr>\n",
       "    <tr>\n",
       "      <th>6</th>\n",
       "      <td>Leak</td>\n",
       "      <td>e_Leak</td>\n",
       "      <td>all</td>\n",
       "      <td>constant({'value': -70})</td>\n",
       "    </tr>\n",
       "    <tr>\n",
       "      <th>7</th>\n",
       "      <td>Na</td>\n",
       "      <td>gbar_Na</td>\n",
       "      <td>all</td>\n",
       "      <td>constant({'value': 0.03})</td>\n",
       "    </tr>\n",
       "    <tr>\n",
       "      <th>8</th>\n",
       "      <td>Na</td>\n",
       "      <td>gbar_Na</td>\n",
       "      <td>soma</td>\n",
       "      <td>constant({'value': 0.05})</td>\n",
       "    </tr>\n",
       "    <tr>\n",
       "      <th>9</th>\n",
       "      <td>Na</td>\n",
       "      <td>Rma_Na</td>\n",
       "      <td>all</td>\n",
       "      <td>constant({'value': 0.182})</td>\n",
       "    </tr>\n",
       "    <tr>\n",
       "      <th>10</th>\n",
       "      <td>Na</td>\n",
       "      <td>Rmb_Na</td>\n",
       "      <td>all</td>\n",
       "      <td>constant({'value': 0.14})</td>\n",
       "    </tr>\n",
       "    <tr>\n",
       "      <th>11</th>\n",
       "      <td>Na</td>\n",
       "      <td>v12m_Na</td>\n",
       "      <td>all</td>\n",
       "      <td>constant({'value': -30})</td>\n",
       "    </tr>\n",
       "    <tr>\n",
       "      <th>12</th>\n",
       "      <td>Na</td>\n",
       "      <td>qm_Na</td>\n",
       "      <td>all</td>\n",
       "      <td>constant({'value': 9.8})</td>\n",
       "    </tr>\n",
       "    <tr>\n",
       "      <th>13</th>\n",
       "      <td>Na</td>\n",
       "      <td>Rhb_Na</td>\n",
       "      <td>all</td>\n",
       "      <td>constant({'value': 0.0091})</td>\n",
       "    </tr>\n",
       "    <tr>\n",
       "      <th>14</th>\n",
       "      <td>Na</td>\n",
       "      <td>Rha_Na</td>\n",
       "      <td>all</td>\n",
       "      <td>constant({'value': 0.024})</td>\n",
       "    </tr>\n",
       "    <tr>\n",
       "      <th>15</th>\n",
       "      <td>Na</td>\n",
       "      <td>v12ha_Na</td>\n",
       "      <td>all</td>\n",
       "      <td>constant({'value': -45})</td>\n",
       "    </tr>\n",
       "    <tr>\n",
       "      <th>16</th>\n",
       "      <td>Na</td>\n",
       "      <td>v12hb_Na</td>\n",
       "      <td>all</td>\n",
       "      <td>constant({'value': -70})</td>\n",
       "    </tr>\n",
       "    <tr>\n",
       "      <th>17</th>\n",
       "      <td>Na</td>\n",
       "      <td>qh_Na</td>\n",
       "      <td>all</td>\n",
       "      <td>constant({'value': 5})</td>\n",
       "    </tr>\n",
       "    <tr>\n",
       "      <th>18</th>\n",
       "      <td>Na</td>\n",
       "      <td>v12hinf_Na</td>\n",
       "      <td>all</td>\n",
       "      <td>constant({'value': -60})</td>\n",
       "    </tr>\n",
       "    <tr>\n",
       "      <th>19</th>\n",
       "      <td>Na</td>\n",
       "      <td>qhinf_Na</td>\n",
       "      <td>all</td>\n",
       "      <td>constant({'value': 6.2})</td>\n",
       "    </tr>\n",
       "    <tr>\n",
       "      <th>20</th>\n",
       "      <td>Kv</td>\n",
       "      <td>gbar_Kv</td>\n",
       "      <td>all</td>\n",
       "      <td>constant({'value': 0.003})</td>\n",
       "    </tr>\n",
       "    <tr>\n",
       "      <th>21</th>\n",
       "      <td>Kv</td>\n",
       "      <td>gbar_Kv</td>\n",
       "      <td>soma</td>\n",
       "      <td>constant({'value': 0.005})</td>\n",
       "    </tr>\n",
       "    <tr>\n",
       "      <th>22</th>\n",
       "      <td>Kv</td>\n",
       "      <td>v12_Kv</td>\n",
       "      <td>all</td>\n",
       "      <td>constant({'value': 25})</td>\n",
       "    </tr>\n",
       "    <tr>\n",
       "      <th>23</th>\n",
       "      <td>Kv</td>\n",
       "      <td>q_Kv</td>\n",
       "      <td>all</td>\n",
       "      <td>constant({'value': 9})</td>\n",
       "    </tr>\n",
       "  </tbody>\n",
       "</table>\n",
       "</div>"
      ],
      "text/plain": [
       "      Mechanism   Parameter Group                 Distribution\n",
       "0   Independent          cm   all       constant({'value': 1})\n",
       "1   Independent          cm  soma       constant({'value': 2})\n",
       "2   Independent          Ra   all     constant({'value': 100})\n",
       "3   Independent         ena   all      constant({'value': 50})\n",
       "4   Independent          ek   all     constant({'value': -77})\n",
       "5          Leak   gbar_Leak   all  constant({'value': 0.0001})\n",
       "6          Leak      e_Leak   all     constant({'value': -70})\n",
       "7            Na     gbar_Na   all    constant({'value': 0.03})\n",
       "8            Na     gbar_Na  soma    constant({'value': 0.05})\n",
       "9            Na      Rma_Na   all   constant({'value': 0.182})\n",
       "10           Na      Rmb_Na   all    constant({'value': 0.14})\n",
       "11           Na     v12m_Na   all     constant({'value': -30})\n",
       "12           Na       qm_Na   all     constant({'value': 9.8})\n",
       "13           Na      Rhb_Na   all  constant({'value': 0.0091})\n",
       "14           Na      Rha_Na   all   constant({'value': 0.024})\n",
       "15           Na    v12ha_Na   all     constant({'value': -45})\n",
       "16           Na    v12hb_Na   all     constant({'value': -70})\n",
       "17           Na       qh_Na   all       constant({'value': 5})\n",
       "18           Na  v12hinf_Na   all     constant({'value': -60})\n",
       "19           Na    qhinf_Na   all     constant({'value': 6.2})\n",
       "20           Kv     gbar_Kv   all   constant({'value': 0.003})\n",
       "21           Kv     gbar_Kv  soma   constant({'value': 0.005})\n",
       "22           Kv      v12_Kv   all      constant({'value': 25})\n",
       "23           Kv        q_Kv   all       constant({'value': 9})"
      ]
     },
     "execution_count": 55,
     "metadata": {},
     "output_type": "execute_result"
    }
   ],
   "source": [
    "model.params_to_dataframe()"
   ]
  },
  {
   "cell_type": "code",
   "execution_count": 56,
   "metadata": {},
   "outputs": [],
   "source": [
    "# model.add_group('axon', lambda sec: sec.domain == 'axon')"
   ]
  },
  {
   "cell_type": "markdown",
   "metadata": {},
   "source": [
    "## Problem with diams"
   ]
  },
  {
   "cell_type": "code",
   "execution_count": 57,
   "metadata": {},
   "outputs": [
    {
     "data": {
      "text/plain": [
       "0.9730643074640786"
      ]
     },
     "execution_count": 57,
     "metadata": {},
     "output_type": "execute_result"
    }
   ],
   "source": [
    "# Section diam in NEURON\n",
    "sec._ref.diam"
   ]
  },
  {
   "cell_type": "code",
   "execution_count": 58,
   "metadata": {},
   "outputs": [
    {
     "name": "stdout",
     "output_type": "stream",
     "text": [
      "5 segments with diam 0.9746563460933271\n"
     ]
    }
   ],
   "source": [
    "# diam of each segment in NEURON\n",
    "seg_diams = np.array([seg.diam for seg in sec._ref])\n",
    "print(f'{seg_diams.size} segments with diam {seg_diams.mean()}')"
   ]
  },
  {
   "cell_type": "code",
   "execution_count": 59,
   "metadata": {},
   "outputs": [
    {
     "name": "stdout",
     "output_type": "stream",
     "text": [
      "49 pt3d with diam 0.9991836675575801\n"
     ]
    }
   ],
   "source": [
    "# diam of each pt3d in neuron\n",
    "pts3d_diams = np.array([sec._ref.diam3d(i) for i in range(sec._ref.n3d())])\n",
    "print(f'{pts3d_diams.size} pt3d with diam {pts3d_diams.mean()}')"
   ]
  },
  {
   "cell_type": "code",
   "execution_count": 60,
   "metadata": {},
   "outputs": [
    {
     "name": "stdout",
     "output_type": "stream",
     "text": [
      "49 pt3d with diam 0.9991836734693877\n"
     ]
    }
   ],
   "source": [
    "# diam of each pt3d in custom section\n",
    "swc_diams = np.array([2*pt.r for pt in sec.pts3d])\n",
    "print(f'{swc_diams.size} pt3d with diam {swc_diams.mean()}')"
   ]
  },
  {
   "cell_type": "code",
   "execution_count": 61,
   "metadata": {},
   "outputs": [
    {
     "name": "stdout",
     "output_type": "stream",
     "text": [
      "1.17 1.1699999570846558\n",
      "1.17 1.1699999570846558\n",
      "1.17 1.1699999570846558\n",
      "1.17 1.1699999570846558\n",
      "1.17 1.1699999570846558\n",
      "1.47 1.4700000286102295\n",
      "1.47 1.4700000286102295\n",
      "1.47 1.4700000286102295\n",
      "1.47 1.4700000286102295\n",
      "1.47 1.4700000286102295\n",
      "1.47 1.4700000286102295\n",
      "1.47 1.4700000286102295\n"
     ]
    }
   ],
   "source": [
    "for i, (swc_diam, neuron_diam) in enumerate(zip(swc_diams, pts3d_diams)):\n",
    "    print(f'{swc_diam} {neuron_diam}')\n",
    "    if i > 10 : break"
   ]
  },
  {
   "cell_type": "code",
   "execution_count": 62,
   "metadata": {},
   "outputs": [],
   "source": [
    "# from core.utils import calculate_lambda_f\n",
    "# from neuron import h\n",
    "# h.load_file('stdrun.hoc')\n",
    "# f = 100\n",
    "# for sec in model.sec_tree.sections:\n",
    "#     neuron_sec = sec._ref\n",
    "#     # diam = neuron_sec.diam\n",
    "#     diam = np.array([seg.diam for seg in sec._ref]).mean()\n",
    "#     lambda_f = calculate_lambda_f(diam, neuron_sec.Ra, neuron_sec.cm)\n",
    "#     lambda_f_neuron = h.lambda_f(f, sec=neuron_sec)\n",
    "#     nseg = int((neuron_sec.L / (0.1 * lambda_f) + 0.9) / 2) * 2 + 1\n",
    "#     # print(f'Section {sec.idx} has {nseg} segments with lambda_f = {lambda_f:.5f} um')\n",
    "#     nseg_neuron = int((neuron_sec.L / (0.1 * lambda_f_neuron) + 0.9) / 2) * 2 + 1\n",
    "#     # print(f'Section {sec.idx} has {nseg} segments with lambda_f = {lambda_f_neuron:.5f} um')\n",
    "#     # print(f'Neuron lambda_f = {lambda_f_neuron:.5f} um, calculated lambda_f = {lambda_f:.5f} um')\n",
    "#     print(f'Neuron nseg = {nseg_neuron}, calculated nseg = {nseg}')"
   ]
  },
  {
   "cell_type": "markdown",
   "metadata": {},
   "source": [
    "# Problem with nseg"
   ]
  },
  {
   "cell_type": "code",
   "execution_count": 63,
   "metadata": {},
   "outputs": [
    {
     "data": {
      "text/plain": [
       "Text(0.5, 1.0, 'Correspondence between nseg and length')"
      ]
     },
     "execution_count": 63,
     "metadata": {},
     "output_type": "execute_result"
    },
    {
     "data": {
      "image/png": "[encoded data removed]",
      "text/plain": [
       "<Figure size 800x200 with 1 Axes>"
      ]
     },
     "metadata": {},
     "output_type": "display_data"
    }
   ],
   "source": [
    "fig, ax = plt.subplots(figsize=(8, 2))\n",
    "sec_ids = np.array([sec.idx for sec in model.sec_tree.sections])\n",
    "sec_nseg = np.array([sec._ref.nseg for sec in model.sec_tree.sections])\n",
    "sec_diams = np.array([np.array([seg.diam for seg in sec._ref]).mean() for sec in model.sec_tree.sections])\n",
    "# sec_cm = np.array([sec._ref.cm for sec in model.sec_tree.sections])\n",
    "# sec_Ra = np.array([sec._ref.Ra for sec in model.sec_tree.sections])\n",
    "sec_lenghts = np.array([sec._ref.L for sec in model.sec_tree.sections])\n",
    "# draw a vertical line between nseg and length datapoints for each section\n",
    "\n",
    "sec_nseg = sec_nseg / sec_nseg.mean()\n",
    "sec_lenghts = sec_lenghts / sec_lenghts.mean()\n",
    "\n",
    "ys = sec_nseg - sec_lenghts\n",
    "\n",
    "# ax.vlines(sec_ids, sec_nseg, sec_lenghts, color='k', label='nseg')\n",
    "ax.plot(sec_ids, sec_lenghts, '-', label='length')\n",
    "ax.plot(sec_ids, sec_nseg, '-', label='nseg')\n",
    "# ax.stem(sec_ids, ys, use_line_collection=True)\n",
    "ax.legend()\n",
    "ax.set_title('Correspondence between nseg and length')"
   ]
  },
  {
   "cell_type": "code",
   "execution_count": 64,
   "metadata": {},
   "outputs": [
    {
     "name": "stdout",
     "output_type": "stream",
     "text": [
      "Section 0 has 1 segments\n",
      "Section 1 has 3 segments\n",
      "Section 2 has 7 segments\n",
      "Section 3 has 5 segments\n",
      "Section 4 has 5 segments\n",
      "Section 5 has 5 segments\n",
      "Section 6 has 3 segments\n",
      "Section 7 has 5 segments\n",
      "Section 8 has 5 segments\n",
      "Section 9 has 1 segments\n",
      "Section 10 has 1 segments\n",
      "Section 11 has 3 segments\n",
      "Section 12 has 5 segments\n",
      "Section 13 has 3 segments\n",
      "Section 14 has 3 segments\n",
      "Section 15 has 5 segments\n",
      "Section 16 has 3 segments\n",
      "Section 17 has 1 segments\n",
      "Section 18 has 3 segments\n",
      "Section 19 has 3 segments\n",
      "Section 20 has 5 segments\n",
      "Section 21 has 3 segments\n",
      "Section 22 has 5 segments\n",
      "Section 23 has 3 segments\n",
      "Section 24 has 3 segments\n",
      "Section 25 has 3 segments\n",
      "Section 26 has 3 segments\n",
      "Section 27 has 9 segments\n",
      "Section 28 has 3 segments\n",
      "Section 29 has 5 segments\n",
      "Section 30 has 3 segments\n",
      "Section 31 has 5 segments\n",
      "Section 32 has 5 segments\n",
      "Section 33 has 1 segments\n",
      "Section 34 has 1 segments\n",
      "Section 35 has 5 segments\n",
      "Section 36 has 5 segments\n",
      "Section 37 has 3 segments\n",
      "Section 38 has 5 segments\n",
      "Section 39 has 1 segments\n",
      "Section 40 has 1 segments\n",
      "Section 41 has 7 segments\n",
      "Section 42 has 1 segments\n",
      "Section 43 has 5 segments\n",
      "Section 44 has 3 segments\n",
      "Section 45 has 3 segments\n",
      "Section 46 has 1 segments\n",
      "Section 47 has 3 segments\n",
      "Section 48 has 5 segments\n",
      "Section 49 has 1 segments\n",
      "Section 50 has 5 segments\n",
      "Section 51 has 5 segments\n"
     ]
    }
   ],
   "source": [
    "for sec in model.sec_tree.sections:\n",
    "    print(f'Section {sec.idx} has {sec._ref.nseg} segments')"
   ]
  },
  {
   "cell_type": "markdown",
   "metadata": {},
   "source": [
    "# Mechanisms kinetics"
   ]
  },
  {
   "cell_type": "code",
   "execution_count": 65,
   "metadata": {},
   "outputs": [
    {
     "name": "stdout",
     "output_type": "stream",
     "text": [
      "Got data for v in range -100.0 to 100.0 at 37°C\n",
      "Got data for v in range -100.0 to 100.0 at 37°C\n"
     ]
    },
    {
     "data": {
      "image/png": "[encoded data removed]",
      "text/plain": [
       "<Figure size 1000x500 with 2 Axes>"
      ]
     },
     "metadata": {},
     "output_type": "display_data"
    }
   ],
   "source": [
    "fig, ax = plt.subplots(1,2, figsize=(10, 5))\n",
    "model.mechanisms['Na'].plot_kinetics(ax)\n",
    "model.mechanisms['Kv'].plot_kinetics(ax)"
   ]
  },
  {
   "cell_type": "markdown",
   "metadata": {},
   "source": [
    "# Simulate"
   ]
  },
  {
   "cell_type": "code",
   "execution_count": 66,
   "metadata": {},
   "outputs": [],
   "source": [
    "model.set_param('e_Leak', value=-79)\n",
    "model.set_param('ena', value=60)\n",
    "model.set_param('ek', value=-80)\n",
    "model.set_param('temperature', value=37)\n",
    "model.set_param('v_init', value=-79)"
   ]
  },
  {
   "cell_type": "code",
   "execution_count": 67,
   "metadata": {},
   "outputs": [],
   "source": [
    "soma = model.sec_tree.soma"
   ]
  },
  {
   "cell_type": "code",
   "execution_count": 68,
   "metadata": {},
   "outputs": [
    {
     "data": {
      "text/plain": [
       "{'point_processes': {},\n",
       " 'density_mechs': {'Leak': {'gbar': [0.0001], 'e': [-79.0], 'i': [0.0]},\n",
       "  'Na': {'gbar': [0.05],\n",
       "   'Rma': [0.182],\n",
       "   'Rmb': [0.14],\n",
       "   'v12m': [-30.0],\n",
       "   'qm': [9.8],\n",
       "   'Rhb': [0.0091],\n",
       "   'Rha': [0.024],\n",
       "   'v12ha': [-45.0],\n",
       "   'v12hb': [-70.0],\n",
       "   'qh': [5.0],\n",
       "   'v12hinf': [-60.0],\n",
       "   'qhinf': [6.2],\n",
       "   'i': [0.0],\n",
       "   'm': [0.0],\n",
       "   'h': [0.0]},\n",
       "  'Kv': {'gbar': [0.005], 'v12': [25.0], 'q': [9.0], 'i': [0.0], 'n': [0.0]}},\n",
       " 'ions': {'na': {'ena': [60.0],\n",
       "   'nai': [10.0],\n",
       "   'nao': [140.0],\n",
       "   'ina': [0.0],\n",
       "   'dina_dv_': [0.0]},\n",
       "  'k': {'ek': [-80.0],\n",
       "   'ki': [54.4],\n",
       "   'ko': [2.5],\n",
       "   'ik': [0.0],\n",
       "   'dik_dv_': [0.0]}},\n",
       " 'morphology': {'L': 20.43792569120254,\n",
       "  'diam': [20.437925338745117],\n",
       "  'pts3d': [(1.0855352878570557,\n",
       "    -10.078556060791016,\n",
       "    -1.292873740196228,\n",
       "    20.437925338745117),\n",
       "   (0.0, 0.0, 0.0, 20.437925338745117),\n",
       "   (-1.0855352878570557,\n",
       "    10.078556060791016,\n",
       "    1.292873740196228,\n",
       "    20.437925338745117)],\n",
       "  'parent': None,\n",
       "  'trueparent': None},\n",
       " 'nseg': 1,\n",
       " 'Ra': 100.0,\n",
       " 'cm': [2.0],\n",
       " 'regions': set(),\n",
       " 'species': set(),\n",
       " 'name': 'Sec_0',\n",
       " 'hoc_internal_name': '__nrnsec_0xc7b9270',\n",
       " 'cell': None}"
      ]
     },
     "execution_count": 68,
     "metadata": {},
     "output_type": "execute_result"
    }
   ],
   "source": [
    "soma._ref.psection()"
   ]
  },
  {
   "cell_type": "code",
   "execution_count": 69,
   "metadata": {},
   "outputs": [],
   "source": [
    "model.add_recording(soma, loc=0.5)"
   ]
  },
  {
   "cell_type": "code",
   "execution_count": 70,
   "metadata": {},
   "outputs": [
    {
     "data": {
      "text/plain": [
       "{•0: Vector[0]}"
      ]
     },
     "execution_count": 70,
     "metadata": {},
     "output_type": "execute_result"
    }
   ],
   "source": [
    "model.simulator.recordings"
   ]
  },
  {
   "cell_type": "code",
   "execution_count": 71,
   "metadata": {},
   "outputs": [
    {
     "name": "stdout",
     "output_type": "stream",
     "text": [
      "IClamp added to sec ••0 at loc 0.5.\n"
     ]
    }
   ],
   "source": [
    "model.remove_all_iclamps()\n",
    "model.add_iclamp(soma, loc=0.5, amp=0.15, delay=100, dur=100)"
   ]
  },
  {
   "cell_type": "code",
   "execution_count": 72,
   "metadata": {},
   "outputs": [
    {
     "data": {
      "text/plain": [
       "{•0: <IClamp(sec[0](0.50))>}"
      ]
     },
     "execution_count": 72,
     "metadata": {},
     "output_type": "execute_result"
    }
   ],
   "source": [
    "model.iclamps"
   ]
  },
  {
   "cell_type": "code",
   "execution_count": 73,
   "metadata": {},
   "outputs": [],
   "source": [
    "t, v, _ = model.simulator.run(duration=300)"
   ]
  },
  {
   "cell_type": "code",
   "execution_count": 74,
   "metadata": {},
   "outputs": [
    {
     "data": {
      "text/plain": [
       "(-100.0, 60.0)"
      ]
     },
     "execution_count": 74,
     "metadata": {},
     "output_type": "execute_result"
    },
    {
     "data": {
      "image/png": "[encoded data removed]",
      "text/plain": [
       "<Figure size 800x400 with 1 Axes>"
      ]
     },
     "metadata": {},
     "output_type": "display_data"
    }
   ],
   "source": [
    "fig, ax = plt.subplots(figsize=(8, 4))\n",
    "ax.plot(t[0], v[0])\n",
    "ax.set_ylim(-100, 60)"
   ]
  },
  {
   "cell_type": "markdown",
   "metadata": {},
   "source": [
    "# Synapses"
   ]
  },
  {
   "cell_type": "code",
   "execution_count": 75,
   "metadata": {},
   "outputs": [
    {
     "name": "stdout",
     "output_type": "stream",
     "text": [
      "├── AMPA\n",
      "│   ├── AMPA.mod\n",
      "│   └── x86_64\n",
      "├── AMPA.mod\n",
      "├── AMPA_NMDA\n",
      "│   ├── AMPA_NMDA.mod\n",
      "│   └── x86_64\n",
      "├── AMPA_NMDA.mod\n",
      "├── GABAa\n",
      "│   ├── GABAa.mod\n",
      "│   └── x86_64\n",
      "├── GABAa.mod\n",
      "├── Leak\n",
      "│   ├── Leak.mod\n",
      "│   └── x86_64\n",
      "├── Leak.mod\n",
      "├── NMDA\n",
      "│   ├── NMDA.mod\n",
      "│   └── x86_64\n",
      "├── NMDA.mod\n",
      "├── vecstim\n",
      "│   ├── vecstim.mod\n",
      "│   └── x86_64\n",
      "└── vecstim.mod\n"
     ]
    }
   ],
   "source": [
    "model.path_manager.print_directory_tree('default_mod')"
   ]
  },
  {
   "cell_type": "code",
   "execution_count": 76,
   "metadata": {},
   "outputs": [],
   "source": [
    "model.add_population(\n",
    "    segments=[seg for sec in model.get_sections(lambda sec: sec.domain == 'dend') for seg in sec.segments], \n",
    "    N=10, \n",
    "    syn_type='AMPA'\n",
    ")"
   ]
  },
  {
   "cell_type": "code",
   "execution_count": 77,
   "metadata": {},
   "outputs": [],
   "source": [
    "pop = model.populations['AMPA']['AMPA_0']"
   ]
  },
  {
   "cell_type": "code",
   "execution_count": 78,
   "metadata": {},
   "outputs": [
    {
     "data": {
      "text/plain": [
       "Text(0, 0.5, 'Number of synapses')"
      ]
     },
     "execution_count": 78,
     "metadata": {},
     "output_type": "execute_result"
    },
    {
     "data": {
      "image/png": "[encoded data removed]",
      "text/plain": [
       "<Figure size 500x200 with 1 Axes>"
      ]
     },
     "metadata": {},
     "output_type": "display_data"
    }
   ],
   "source": [
    "fig, ax = plt.subplots(figsize=(5, 2))\n",
    "# histogram of synapse N per secton (pop.n_per_sec)\n",
    "plt.plot([v for k,v in pop.n_per_seg.items()], 'o-');\n",
    "plt.xlabel('Segment index')\n",
    "plt.ylabel('Number of synapses')"
   ]
  },
  {
   "cell_type": "code",
   "execution_count": 79,
   "metadata": {},
   "outputs": [],
   "source": [
    "pop.update_input_params({'rate':100, 'weight':1, 'noise':1})"
   ]
  },
  {
   "cell_type": "code",
   "execution_count": 80,
   "metadata": {},
   "outputs": [
    {
     "name": "stdout",
     "output_type": "stream",
     "text": [
      "{'metadata': {'name': 'Park_2019'},\n",
      " 'simulation': {'d_lambda': 0.1,\n",
      "                'temperature': 37,\n",
      "                'v_init': -79,\n",
      "                'dt': 0.025},\n",
      " 'domains': {0: 'soma',\n",
      "             1: 'axon',\n",
      "             2: 'dend',\n",
      "             3: 'dend',\n",
      "             4: 'dend',\n",
      "             5: 'dend',\n",
      "             6: 'dend',\n",
      "             7: 'dend',\n",
      "             8: 'dend',\n",
      "             9: 'apic',\n",
      "             10: 'apic',\n",
      "             11: 'apic',\n",
      "             12: 'apic',\n",
      "             13: 'apic',\n",
      "             14: 'apic',\n",
      "             15: 'apic',\n",
      "             16: 'apic',\n",
      "             17: 'apic',\n",
      "             18: 'apic',\n",
      "             19: 'apic',\n",
      "             20: 'apic',\n",
      "             21: 'apic',\n",
      "             22: 'apic',\n",
      "             23: 'apic',\n",
      "             24: 'apic',\n",
      "             25: 'apic',\n",
      "             26: 'apic',\n",
      "             27: 'apic',\n",
      "             28: 'apic',\n",
      "             29: 'apic',\n",
      "             30: 'apic',\n",
      "             31: 'apic',\n",
      "             32: 'apic',\n",
      "             33: 'apic',\n",
      "             34: 'apic',\n",
      "             35: 'apic',\n",
      "             36: 'apic',\n",
      "             37: 'apic',\n",
      "             38: 'apic',\n",
      "             39: 'apic',\n",
      "             40: 'apic',\n",
      "             41: 'apic',\n",
      "             42: 'apic',\n",
      "             43: 'apic',\n",
      "             44: 'apic',\n",
      "             45: 'apic',\n",
      "             46: 'apic',\n",
      "             47: 'apic',\n",
      "             48: 'apic',\n",
      "             49: 'apic',\n",
      "             50: 'apic',\n",
      "             51: 'apic'},\n",
      " 'domains_to_mechanisms': {'soma': ['Independent',\n",
      "                                    'Leak',\n",
      "                                    'Na',\n",
      "                                    'Kv'],\n",
      "                           'axon': ['Independent',\n",
      "                                    'Leak',\n",
      "                                    'Na',\n",
      "                                    'Kv'],\n",
      "                           'dend': ['Independent',\n",
      "                                    'Leak',\n",
      "                                    'Na',\n",
      "                                    'Kv'],\n",
      "                           'apic': ['Independent',\n",
      "                                    'Leak',\n",
      "                                    'Na',\n",
      "                                    'Kv']},\n",
      " 'groups': [{'name': 'all',\n",
      "             'domains': ['soma',\n",
      "                         'dend',\n",
      "                         'apic',\n",
      "                         'axon']},\n",
      "            {'name': 'soma',\n",
      "             'domains': ['soma']}],\n",
      " 'params': {'cm': {'all': {'function': 'constant',\n",
      "                           'parameters': {'value': 1}},\n",
      "                   'soma': {'function': 'constant',\n",
      "                            'parameters': {'value': 2}}},\n",
      "            'Ra': {'all': {'function': 'constant',\n",
      "                           'parameters': {'value': 100}}},\n",
      "            'gbar_Leak': {'all': {'function': 'constant',\n",
      "                                  'parameters': {'value': 0.0001}}},\n",
      "            'e_Leak': {'all': {'function': 'constant',\n",
      "                               'parameters': {'value': -79}}},\n",
      "            'gbar_Na': {'all': {'function': 'constant',\n",
      "                                'parameters': {'value': 0.03}},\n",
      "                        'soma': {'function': 'constant',\n",
      "                                 'parameters': {'value': 0.05}}},\n",
      "            'Rma_Na': {'all': {'function': 'constant',\n",
      "                               'parameters': {'value': 0.182}}},\n",
      "            'Rmb_Na': {'all': {'function': 'constant',\n",
      "                               'parameters': {'value': 0.14}}},\n",
      "            'v12m_Na': {'all': {'function': 'constant',\n",
      "                                'parameters': {'value': -30}}},\n",
      "            'qm_Na': {'all': {'function': 'constant',\n",
      "                              'parameters': {'value': 9.8}}},\n",
      "            'Rhb_Na': {'all': {'function': 'constant',\n",
      "                               'parameters': {'value': 0.0091}}},\n",
      "            'Rha_Na': {'all': {'function': 'constant',\n",
      "                               'parameters': {'value': 0.024}}},\n",
      "            'v12ha_Na': {'all': {'function': 'constant',\n",
      "                                 'parameters': {'value': -45}}},\n",
      "            'v12hb_Na': {'all': {'function': 'constant',\n",
      "                                 'parameters': {'value': -70}}},\n",
      "            'qh_Na': {'all': {'function': 'constant',\n",
      "                              'parameters': {'value': 5}}},\n",
      "            'v12hinf_Na': {'all': {'function': 'constant',\n",
      "                                   'parameters': {'value': -60}}},\n",
      "            'qhinf_Na': {'all': {'function': 'constant',\n",
      "                                 'parameters': {'value': 6.2}}},\n",
      "            'ena': {'all': {'function': 'constant',\n",
      "                            'parameters': {'value': 60}}},\n",
      "            'gbar_Kv': {'all': {'function': 'constant',\n",
      "                                'parameters': {'value': 0.003}},\n",
      "                        'soma': {'function': 'constant',\n",
      "                                 'parameters': {'value': 0.005}}},\n",
      "            'v12_Kv': {'all': {'function': 'constant',\n",
      "                               'parameters': {'value': 25}}},\n",
      "            'q_Kv': {'all': {'function': 'constant',\n",
      "                             'parameters': {'value': 9}}},\n",
      "            'ek': {'all': {'function': 'constant',\n",
      "                           'parameters': {'value': -80}}}},\n",
      " 'stimuli': {'iclamps': [{'name': 'iclamp_0',\n",
      "                          'amp': 0.15,\n",
      "                          'delay': 100.0,\n",
      "                          'dur': 100.0}],\n",
      "             'populations': {'AMPA': [{'name': 'AMPA_0',\n",
      "                                       'syn_type': 'AMPA',\n",
      "                                       'N': 10,\n",
      "                                       'input_params': {'rate': 100,\n",
      "                                                        'noise': 1,\n",
      "                                                        'start': 100,\n",
      "                                                        'end': 200,\n",
      "                                                        'weight': 1,\n",
      "                                                        'delay': 0},\n",
      "                                       'kinetic_params': {'gmax': 0.001,\n",
      "                                                          'tau_rise': 0.1,\n",
      "                                                          'tau_decay': 2.5,\n",
      "                                                          'e': 0}}],\n",
      "                             'NMDA': [],\n",
      "                             'AMPA_NMDA': [],\n",
      "                             'GABAa': []}}}\n"
     ]
    }
   ],
   "source": [
    "pprint(model.to_dict(), sort_dicts=False, width=1)"
   ]
  },
  {
   "cell_type": "code",
   "execution_count": 81,
   "metadata": {},
   "outputs": [
    {
     "name": "stdout",
     "output_type": "stream",
     "text": [
      "{'type': ['recording'], 'idx': [0], 'sec_idx': [0], 'loc': [0.5], 'n_per_seg': [1]}\n"
     ]
    }
   ],
   "source": [
    "model.export_data()"
   ]
  }
 ],
 "metadata": {
  "kernelspec": {
   "display_name": "dendrotweaks",
   "language": "python",
   "name": "python3"
  },
  "language_info": {
   "codemirror_mode": {
    "name": "ipython",
    "version": 3
   },
   "file_extension": ".py",
   "mimetype": "text/x-python",
   "name": "python",
   "nbconvert_exporter": "python",
   "pygments_lexer": "ipython3",
   "version": "3.11.3"
  }
 },
 "nbformat": 4,
 "nbformat_minor": 2
}
