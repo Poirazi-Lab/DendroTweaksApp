{
 "cells": [
  {
   "cell_type": "markdown",
   "metadata": {},
   "source": [
    "# Imports"
   ]
  },
  {
   "cell_type": "code",
   "execution_count": 1,
   "metadata": {},
   "outputs": [],
   "source": [
    "import numpy as np\n",
    "import matplotlib.pyplot as plt\n",
    "import json\n",
    "from pprint import pprint"
   ]
  },
  {
   "cell_type": "code",
   "execution_count": 2,
   "metadata": {},
   "outputs": [],
   "source": [
    "import dendrotweaks as dd"
   ]
  },
  {
   "cell_type": "code",
   "execution_count": 3,
   "metadata": {},
   "outputs": [
    {
     "data": {
      "text/plain": [
       "dendrotweaks.morphology.seg_trees.SegmentTree"
      ]
     },
     "execution_count": 3,
     "metadata": {},
     "output_type": "execute_result"
    }
   ],
   "source": [
    "# morphology\n",
    "dd.morphology.Node\n",
    "dd.morphology.Tree\n",
    "dd.morphology.Point\n",
    "dd.morphology.PointTree\n",
    "dd.morphology.Section\n",
    "dd.morphology.Domain\n",
    "dd.morphology.SectionTree\n",
    "dd.morphology.Segment\n",
    "dd.morphology.SegmentTree"
   ]
  },
  {
   "cell_type": "code",
   "execution_count": 4,
   "metadata": {},
   "outputs": [
    {
     "data": {
      "text/plain": [
       "dendrotweaks.membrane.distributions.Distribution"
      ]
     },
     "execution_count": 4,
     "metadata": {},
     "output_type": "execute_result"
    }
   ],
   "source": [
    "# membrane\n",
    "dd.membrane.Mechanism\n",
    "dd.membrane.SectionGroup\n",
    "dd.membrane.SegmentGroup\n",
    "dd.membrane.Distribution"
   ]
  },
  {
   "cell_type": "code",
   "execution_count": 5,
   "metadata": {},
   "outputs": [
    {
     "data": {
      "text/plain": [
       "dendrotweaks.stimuli.populations.Population"
      ]
     },
     "execution_count": 5,
     "metadata": {},
     "output_type": "execute_result"
    }
   ],
   "source": [
    "# stimuli\n",
    "dd.stimuli.IClamp\n",
    "dd.stimuli.Synapse\n",
    "dd.stimuli.Population"
   ]
  },
  {
   "cell_type": "code",
   "execution_count": 6,
   "metadata": {},
   "outputs": [
    {
     "data": {
      "text/plain": [
       "dendrotweaks.simulators.NEURONSimulator"
      ]
     },
     "execution_count": 6,
     "metadata": {},
     "output_type": "execute_result"
    }
   ],
   "source": [
    "dd.Model\n",
    "dd.NEURONSimulator"
   ]
  },
  {
   "cell_type": "markdown",
   "metadata": {},
   "source": [
    "# Create a Model"
   ]
  },
  {
   "cell_type": "code",
   "execution_count": 7,
   "metadata": {},
   "outputs": [],
   "source": [
    "import os\n",
    "cwd = os.getcwd()\n",
    "path_to_data = os.path.join(cwd, 'data')"
   ]
  },
  {
   "cell_type": "code",
   "execution_count": 8,
   "metadata": {},
   "outputs": [],
   "source": [
    "model = dd.Model(name='Park_2019', \n",
    "                 path_to_data=path_to_data)"
   ]
  },
  {
   "cell_type": "markdown",
   "metadata": {},
   "source": [
    "## Load morphology from SWC"
   ]
  },
  {
   "cell_type": "code",
   "execution_count": 9,
   "metadata": {},
   "outputs": [
    {
     "name": "stdout",
     "output_type": "stream",
     "text": [
      "├── membrane\n",
      "│   └── Park_2019_test.json\n",
      "├── mod\n",
      "│   ├── CaHVA\n",
      "│   │   ├── CaHVA.mod\n",
      "│   │   └── x86_64\n",
      "│   ├── CaHVA.mod\n",
      "│   ├── CaLVA\n",
      "│   │   ├── CaLVA.mod\n",
      "│   │   └── x86_64\n",
      "│   ├── CaLVA.mod\n",
      "│   ├── KCa\n",
      "│   │   ├── KCa.mod\n",
      "│   │   └── x86_64\n",
      "│   ├── KCa.mod\n",
      "│   ├── Ka\n",
      "│   │   ├── Ka.mod\n",
      "│   │   └── x86_64\n",
      "│   ├── Ka.mod\n",
      "│   ├── Km\n",
      "│   │   ├── Km.mod\n",
      "│   │   └── x86_64\n",
      "│   ├── Km.mod\n",
      "│   ├── Kv\n",
      "│   │   ├── Kv.mod\n",
      "│   │   └── x86_64\n",
      "│   ├── Kv.mod\n",
      "│   ├── Na\n",
      "│   │   ├── Na.mod\n",
      "│   │   └── x86_64\n",
      "│   └── Na.mod\n",
      "├── mod_temp\n",
      "│   ├── CaHVA.mod\n",
      "│   ├── CaLVA.mod\n",
      "│   ├── KCa.mod\n",
      "│   ├── Ka.mod\n",
      "│   └── Km.mod\n",
      "├── morphology\n",
      "│   └── Park_2019.swc\n",
      "├── python\n",
      "│   ├── CaHVA.py\n",
      "│   ├── CaLVA.py\n",
      "│   ├── KCa.py\n",
      "│   ├── Ka.py\n",
      "│   ├── Km.py\n",
      "│   ├── Kv.py\n",
      "│   ├── Na.py\n",
      "│   └── __pycache__\n",
      "│       ├── CaHVA.cpython-311.pyc\n",
      "│       ├── CaLVA.cpython-311.pyc\n",
      "│       ├── KCa.cpython-311.pyc\n",
      "│       ├── Ka.cpython-311.pyc\n",
      "│       ├── Km.cpython-311.pyc\n",
      "│       ├── Kv.cpython-311.pyc\n",
      "│       └── Na.cpython-311.pyc\n",
      "└── stimuli\n",
      "    ├── Park_2019_test.csv\n",
      "    └── Park_2019_test.json\n"
     ]
    }
   ],
   "source": [
    "model.print_directory_tree()"
   ]
  },
  {
   "cell_type": "code",
   "execution_count": 10,
   "metadata": {},
   "outputs": [
    {
     "data": {
      "text/plain": [
       "['Park_2019']"
      ]
     },
     "execution_count": 10,
     "metadata": {},
     "output_type": "execute_result"
    }
   ],
   "source": [
    "available_morphologies = model.path_manager.list_morphologies()\n",
    "available_morphologies"
   ]
  },
  {
   "cell_type": "code",
   "execution_count": 11,
   "metadata": {},
   "outputs": [
    {
     "data": {
      "text/plain": [
       "'Park_2019'"
      ]
     },
     "execution_count": 11,
     "metadata": {},
     "output_type": "execute_result"
    }
   ],
   "source": [
    "file_name = available_morphologies[0]\n",
    "file_name"
   ]
  },
  {
   "cell_type": "code",
   "execution_count": 12,
   "metadata": {},
   "outputs": [
    {
     "name": "stdout",
     "output_type": "stream",
     "text": [
      "Removed 0 overlapping nodes.\n",
      "  Elapsed time: 0.02 seconds\n",
      "Extended 44 nodes.\n",
      "  Elapsed time: 0.02 seconds\n",
      "Tree already sorted.\n",
      "  Elapsed time: 0.0 seconds\n",
      "Tree already sorted.\n",
      "  Elapsed time: 0.0 seconds\n",
      "Building sections in NEURON...\n",
      "52 sections created.\n",
      "Adding group all...\n",
      "Adding group somatic...\n",
      "Adding group apical...\n",
      "Adding group dendritic...\n",
      "Adding group axonal...\n"
     ]
    }
   ],
   "source": [
    "model.load_morphology(file_name)"
   ]
  },
  {
   "cell_type": "code",
   "execution_count": 13,
   "metadata": {},
   "outputs": [
    {
     "data": {
      "text/plain": [
       "{'cm': {'all': constant({'value': 1})},\n",
       " 'Ra': {'all': constant({'value': 35.4})}}"
      ]
     },
     "execution_count": 13,
     "metadata": {},
     "output_type": "execute_result"
    }
   ],
   "source": [
    "model.params"
   ]
  },
  {
   "cell_type": "code",
   "execution_count": 14,
   "metadata": {},
   "outputs": [
    {
     "name": "stdout",
     "output_type": "stream",
     "text": [
      "parent |   idx\n",
      "---------------\n",
      "    -1 |   •0\n",
      "     0 |   ├─•1\n",
      "     0 |   ├─•2\n",
      "     0 |   ├─•3\n",
      "     0 |   ├─•4\n",
      "     0 |   ├─•5\n",
      "     0 |   ├─•6\n",
      "     6 |   │ ├─•7\n",
      "     6 |   │ └─•8\n",
      "     0 |   └─•9\n",
      "     9 |     ├─•10\n",
      "    10 |     │ ├─•11\n",
      "    11 |     │ │ ├─•12\n",
      "    11 |     │ │ └─•13\n",
      "    10 |     │ └─•14\n",
      "    14 |     │   ├─•15\n",
      "    14 |     │   └─•16\n",
      "     9 |     └─•17\n",
      "    17 |       ├─•18\n",
      "    18 |       │ ├─•19\n",
      "    19 |       │ │ ├─•20\n",
      "    19 |       │ │ └─•21\n",
      "    21 |       │ │   ├─•22\n",
      "    21 |       │ │   └─•23\n",
      "    23 |       │ │     ├─•24\n",
      "    23 |       │ │     └─•25\n",
      "    18 |       │ └─•26\n",
      "    26 |       │   ├─•27\n",
      "    26 |       │   └─•28\n",
      "    28 |       │     ├─•29\n",
      "    28 |       │     └─•30\n",
      "    30 |       │       ├─•31\n",
      "    30 |       │       └─•32\n",
      "    17 |       └─•33\n",
      "    33 |         ├─•34\n",
      "    34 |         │ ├─•35\n",
      "    34 |         │ └─•36\n",
      "    33 |         └─•37\n",
      "    37 |           ├─•38\n",
      "    37 |           └─•39\n",
      "    39 |             ├─•40\n",
      "    40 |             │ ├─•41\n",
      "    40 |             │ └─•42\n",
      "    42 |             │   ├─•43\n",
      "    42 |             │   └─•44\n",
      "    39 |             └─•45\n",
      "    45 |               ├─•46\n",
      "    46 |               │ ├─•47\n",
      "    46 |               │ └─•48\n",
      "    45 |               └─•49\n",
      "    49 |                 ├─•50\n",
      "    49 |                 └─•51\n"
     ]
    }
   ],
   "source": [
    "model.sec_tree.topology()"
   ]
  },
  {
   "cell_type": "code",
   "execution_count": 15,
   "metadata": {},
   "outputs": [
    {
     "data": {
      "image/png": "[encoded data removed]",
      "text/plain": [
       "<Figure size 800x800 with 1 Axes>"
      ]
     },
     "metadata": {},
     "output_type": "display_data"
    }
   ],
   "source": [
    "fig, ax = plt.subplots(figsize=(8, 8))\n",
    "model.sec_tree.plot(ax, \n",
    "                    show_points=True,\n",
    "                    show_lines=True,\n",
    "                    annotate=True,\n",
    "                    domains=True)"
   ]
  },
  {
   "cell_type": "code",
   "execution_count": 16,
   "metadata": {},
   "outputs": [
    {
     "data": {
      "image/png": "[encoded data removed]",
      "text/plain": [
       "<Figure size 800x300 with 1 Axes>"
      ]
     },
     "metadata": {},
     "output_type": "display_data"
    }
   ],
   "source": [
    "apical_sections = [sec.idx for sec in model.sec_tree if sec.domain == 'apic']\n",
    "model.sec_tree.plot_radii_distribution(highlight=apical_sections, show_soma=False)"
   ]
  },
  {
   "cell_type": "code",
   "execution_count": 17,
   "metadata": {},
   "outputs": [
    {
     "data": {
      "text/plain": [
       "{'soma': <Domain(soma, 1 sections)>,\n",
       " 'apic': <Domain(apic, 43 sections)>,\n",
       " 'dend': <Domain(dend, 7 sections)>,\n",
       " 'axon': <Domain(axon, 1 sections)>}"
      ]
     },
     "execution_count": 17,
     "metadata": {},
     "output_type": "execute_result"
    }
   ],
   "source": [
    "model.domains"
   ]
  },
  {
   "cell_type": "code",
   "execution_count": 18,
   "metadata": {},
   "outputs": [
    {
     "data": {
      "text/plain": [
       "{'all': SegmentGroup(\"all\", domains=['soma', 'apic', 'dend', 'axon']),\n",
       " 'somatic': SegmentGroup(\"somatic\", domains=['soma']),\n",
       " 'apical': SegmentGroup(\"apical\", domains=['apic']),\n",
       " 'dendritic': SegmentGroup(\"dendritic\", domains=['dend']),\n",
       " 'axonal': SegmentGroup(\"axonal\", domains=['axon'])}"
      ]
     },
     "execution_count": 18,
     "metadata": {},
     "output_type": "execute_result"
    }
   ],
   "source": [
    "model.groups"
   ]
  },
  {
   "cell_type": "code",
   "execution_count": 19,
   "metadata": {},
   "outputs": [
    {
     "data": {
      "text/plain": [
       "{'soma': set(), 'apic': set(), 'dend': set(), 'axon': set()}"
      ]
     },
     "execution_count": 19,
     "metadata": {},
     "output_type": "execute_result"
    }
   ],
   "source": [
    "model.domains_to_mechs"
   ]
  },
  {
   "cell_type": "markdown",
   "metadata": {},
   "source": [
    "## Add Mechanisms"
   ]
  },
  {
   "cell_type": "markdown",
   "metadata": {},
   "source": [
    "The choice here is:\n",
    "- load all, add where needed (new, faster!)\n",
    "- load one, add everywhere (old)"
   ]
  },
  {
   "cell_type": "code",
   "execution_count": 20,
   "metadata": {},
   "outputs": [
    {
     "data": {
      "text/plain": [
       "['vecstim', 'AMPA_NMDA', 'Leak', 'AMPA', 'GABAa', 'NMDA']"
      ]
     },
     "execution_count": 20,
     "metadata": {},
     "output_type": "execute_result"
    }
   ],
   "source": [
    "model.path_manager.list_files('default_mod', 'mod')"
   ]
  },
  {
   "cell_type": "code",
   "execution_count": 21,
   "metadata": {},
   "outputs": [
    {
     "name": "stdout",
     "output_type": "stream",
     "text": [
      "============================================================\n",
      "Adding mechanism vecstim to model...\n",
      "============================================================\n",
      "Using precompiled mechanism \"vecstim\"\n",
      "Loaded mechanism \"vecstim\"\n",
      "Mechanism vecstim loaded to NEURON.\n",
      "\n",
      "============================================================\n",
      "Adding mechanism AMPA_NMDA to model...\n",
      "============================================================\n",
      "Using precompiled mechanism \"AMPA_NMDA\"\n",
      "Loaded mechanism \"AMPA_NMDA\"\n",
      "Mechanism AMPA_NMDA loaded to NEURON.\n",
      "\n",
      "============================================================\n",
      "Adding mechanism Leak to model...\n",
      "============================================================\n",
      "Using precompiled mechanism \"Leak\"\n",
      "Loaded mechanism \"Leak\"\n",
      "Mechanism Leak loaded to NEURON.\n",
      "\n",
      "============================================================\n",
      "Adding mechanism AMPA to model...\n",
      "============================================================\n",
      "Using precompiled mechanism \"AMPA\"\n",
      "Loaded mechanism \"AMPA\"\n",
      "Mechanism AMPA loaded to NEURON.\n",
      "\n",
      "============================================================\n",
      "Adding mechanism GABAa to model...\n",
      "============================================================\n",
      "Using precompiled mechanism \"GABAa\"\n",
      "Loaded mechanism \"GABAa\"\n",
      "Mechanism GABAa loaded to NEURON.\n",
      "\n",
      "============================================================\n",
      "Adding mechanism NMDA to model...\n",
      "============================================================\n",
      "Using precompiled mechanism \"NMDA\"\n",
      "Loaded mechanism \"NMDA\"\n",
      "Mechanism NMDA loaded to NEURON.\n",
      "\n"
     ]
    }
   ],
   "source": [
    "model.add_default_mechanisms(recompile=False)"
   ]
  },
  {
   "cell_type": "code",
   "execution_count": 22,
   "metadata": {},
   "outputs": [
    {
     "data": {
      "text/plain": [
       "['Na', 'KCa', 'Kv', 'Ka', 'CaHVA', 'Km', 'CaLVA']"
      ]
     },
     "execution_count": 22,
     "metadata": {},
     "output_type": "execute_result"
    }
   ],
   "source": [
    "model.list_mechanisms()"
   ]
  },
  {
   "cell_type": "code",
   "execution_count": 23,
   "metadata": {},
   "outputs": [
    {
     "name": "stdout",
     "output_type": "stream",
     "text": [
      "Replacing SUFFIX Na with SUFFIX Na\n",
      "Overwritten /home/roman/Documents/code/DendroTweaks/app/src/data/Park_2019/mod/Na.mod\n",
      "Saved content to /home/roman/Documents/code/DendroTweaks/app/src/data/Park_2019/python/Na.py\n",
      "Registering Na from Na in /home/roman/Documents/code/DendroTweaks/app/src/data/Park_2019/python\n",
      "Importing class Na from module Na.py\n",
      "============================================================\n",
      "Adding mechanism Na to model...\n",
      "============================================================\n",
      "Using precompiled mechanism \"Na\"\n",
      "Loaded mechanism \"Na\"\n",
      "Mechanism Na loaded to NEURON.\n",
      "\n",
      "Mechanism Na added to model.\n",
      "Replacing SUFFIX KCa with SUFFIX KCa\n",
      "Overwritten /home/roman/Documents/code/DendroTweaks/app/src/data/Park_2019/mod/KCa.mod\n",
      "Saved content to /home/roman/Documents/code/DendroTweaks/app/src/data/Park_2019/python/KCa.py\n",
      "Registering KCa from KCa in /home/roman/Documents/code/DendroTweaks/app/src/data/Park_2019/python\n",
      "Importing class KCa from module KCa.py\n",
      "============================================================\n",
      "Adding mechanism KCa to model...\n",
      "============================================================\n",
      "Using precompiled mechanism \"KCa\"\n",
      "Loaded mechanism \"KCa\"\n",
      "Mechanism KCa loaded to NEURON.\n",
      "\n",
      "Mechanism KCa added to model.\n",
      "Replacing SUFFIX Kv with SUFFIX Kv\n",
      "Overwritten /home/roman/Documents/code/DendroTweaks/app/src/data/Park_2019/mod/Kv.mod\n",
      "Saved content to /home/roman/Documents/code/DendroTweaks/app/src/data/Park_2019/python/Kv.py\n",
      "Registering Kv from Kv in /home/roman/Documents/code/DendroTweaks/app/src/data/Park_2019/python\n",
      "Importing class Kv from module Kv.py\n",
      "============================================================\n",
      "Adding mechanism Kv to model...\n",
      "============================================================\n",
      "Using precompiled mechanism \"Kv\"\n",
      "Loaded mechanism \"Kv\"\n",
      "Mechanism Kv loaded to NEURON.\n",
      "\n",
      "Mechanism Kv added to model.\n",
      "Replacing SUFFIX Ka with SUFFIX Ka\n",
      "Overwritten /home/roman/Documents/code/DendroTweaks/app/src/data/Park_2019/mod/Ka.mod\n",
      "Saved content to /home/roman/Documents/code/DendroTweaks/app/src/data/Park_2019/python/Ka.py\n",
      "Registering Ka from Ka in /home/roman/Documents/code/DendroTweaks/app/src/data/Park_2019/python\n",
      "Importing class Ka from module Ka.py\n",
      "============================================================\n",
      "Adding mechanism Ka to model...\n",
      "============================================================\n",
      "Using precompiled mechanism \"Ka\"\n",
      "Loaded mechanism \"Ka\"\n",
      "Mechanism Ka loaded to NEURON.\n",
      "\n",
      "Mechanism Ka added to model.\n",
      "Replacing SUFFIX CaHVA with SUFFIX CaHVA\n",
      "Overwritten /home/roman/Documents/code/DendroTweaks/app/src/data/Park_2019/mod/CaHVA.mod\n",
      "Saved content to /home/roman/Documents/code/DendroTweaks/app/src/data/Park_2019/python/CaHVA.py\n",
      "Registering CaHVA from CaHVA in /home/roman/Documents/code/DendroTweaks/app/src/data/Park_2019/python\n",
      "Importing class CaHVA from module CaHVA.py\n",
      "============================================================\n",
      "Adding mechanism CaHVA to model...\n",
      "============================================================\n",
      "Using precompiled mechanism \"CaHVA\"\n",
      "Loaded mechanism \"CaHVA\"\n",
      "Mechanism CaHVA loaded to NEURON.\n",
      "\n",
      "Mechanism CaHVA added to model.\n",
      "Replacing SUFFIX Km with SUFFIX Km\n",
      "Overwritten /home/roman/Documents/code/DendroTweaks/app/src/data/Park_2019/mod/Km.mod\n",
      "Saved content to /home/roman/Documents/code/DendroTweaks/app/src/data/Park_2019/python/Km.py\n",
      "Registering Km from Km in /home/roman/Documents/code/DendroTweaks/app/src/data/Park_2019/python\n",
      "Importing class Km from module Km.py\n",
      "============================================================\n",
      "Adding mechanism Km to model...\n",
      "============================================================\n",
      "Using precompiled mechanism \"Km\"\n",
      "Loaded mechanism \"Km\"\n",
      "Mechanism Km loaded to NEURON.\n",
      "\n",
      "Mechanism Km added to model.\n",
      "Replacing SUFFIX CaLVA with SUFFIX CaLVA\n",
      "Overwritten /home/roman/Documents/code/DendroTweaks/app/src/data/Park_2019/mod/CaLVA.mod\n",
      "Saved content to /home/roman/Documents/code/DendroTweaks/app/src/data/Park_2019/python/CaLVA.py\n",
      "Registering CaLVA from CaLVA in /home/roman/Documents/code/DendroTweaks/app/src/data/Park_2019/python\n",
      "Importing class CaLVA from module CaLVA.py\n",
      "============================================================\n",
      "Adding mechanism CaLVA to model...\n",
      "============================================================\n",
      "Using precompiled mechanism \"CaLVA\"\n",
      "Loaded mechanism \"CaLVA\"\n",
      "Mechanism CaLVA loaded to NEURON.\n",
      "\n",
      "Mechanism CaLVA added to model.\n"
     ]
    }
   ],
   "source": [
    "for mech in model.list_mechanisms():\n",
    "    model.add_mechanism(mech, recompile=False)"
   ]
  },
  {
   "cell_type": "code",
   "execution_count": 24,
   "metadata": {},
   "outputs": [
    {
     "data": {
      "text/plain": [
       "{'Leak': <Mechnaism(Leak)>,\n",
       " 'Na': <Mechnaism(Na)>,\n",
       " 'KCa': <Mechnaism(KCa)>,\n",
       " 'Kv': <Mechnaism(Kv)>,\n",
       " 'Ka': <Mechnaism(Ka)>,\n",
       " 'CaHVA': <Mechnaism(CaHVA)>,\n",
       " 'Km': <Mechnaism(Km)>,\n",
       " 'CaLVA': <Mechnaism(CaLVA)>}"
      ]
     },
     "execution_count": 24,
     "metadata": {},
     "output_type": "execute_result"
    }
   ],
   "source": [
    "model.mechanisms"
   ]
  },
  {
   "cell_type": "code",
   "execution_count": 25,
   "metadata": {},
   "outputs": [
    {
     "data": {
      "text/plain": [
       "{'cm': {'all': constant({'value': 1})},\n",
       " 'Ra': {'all': constant({'value': 35.4})}}"
      ]
     },
     "execution_count": 25,
     "metadata": {},
     "output_type": "execute_result"
    }
   ],
   "source": [
    "model.params"
   ]
  },
  {
   "cell_type": "code",
   "execution_count": 26,
   "metadata": {},
   "outputs": [
    {
     "data": {
      "text/plain": [
       "{'cm': 'Independent', 'Ra': 'Independent'}"
      ]
     },
     "execution_count": 26,
     "metadata": {},
     "output_type": "execute_result"
    }
   ],
   "source": [
    "model.params_to_mechs"
   ]
  },
  {
   "cell_type": "code",
   "execution_count": 27,
   "metadata": {},
   "outputs": [
    {
     "data": {
      "text/plain": [
       "{'Independent': ['cm', 'Ra']}"
      ]
     },
     "execution_count": 27,
     "metadata": {},
     "output_type": "execute_result"
    }
   ],
   "source": [
    "model.mechs_to_params"
   ]
  },
  {
   "cell_type": "markdown",
   "metadata": {},
   "source": [
    "## Segmentation"
   ]
  },
  {
   "cell_type": "markdown",
   "metadata": {},
   "source": [
    "### Set independent parameters"
   ]
  },
  {
   "cell_type": "code",
   "execution_count": 28,
   "metadata": {},
   "outputs": [
    {
     "data": {
      "text/plain": [
       "{'all': SegmentGroup(\"all\", domains=['soma', 'apic', 'dend', 'axon']),\n",
       " 'somatic': SegmentGroup(\"somatic\", domains=['soma']),\n",
       " 'apical': SegmentGroup(\"apical\", domains=['apic']),\n",
       " 'dendritic': SegmentGroup(\"dendritic\", domains=['dend']),\n",
       " 'axonal': SegmentGroup(\"axonal\", domains=['axon'])}"
      ]
     },
     "execution_count": 28,
     "metadata": {},
     "output_type": "execute_result"
    }
   ],
   "source": [
    "model.groups"
   ]
  },
  {
   "cell_type": "code",
   "execution_count": 29,
   "metadata": {},
   "outputs": [],
   "source": [
    "model.set_param(param_name='cm', \n",
    "                group_name='all',\n",
    "                distr_type = 'constant', value=1)\n",
    "model.set_param(param_name='cm', \n",
    "                group_name='somatic',\n",
    "                distr_type = 'constant', value=2)"
   ]
  },
  {
   "cell_type": "code",
   "execution_count": 30,
   "metadata": {},
   "outputs": [],
   "source": [
    "model.set_param(param_name='Ra', \n",
    "                group_name='all',\n",
    "                distr_type = 'constant', value=100)"
   ]
  },
  {
   "cell_type": "code",
   "execution_count": 31,
   "metadata": {},
   "outputs": [
    {
     "data": {
      "text/plain": [
       "{'cm': {'all': constant({'value': 1}), 'somatic': constant({'value': 2})},\n",
       " 'Ra': {'all': constant({'value': 100})}}"
      ]
     },
     "execution_count": 31,
     "metadata": {},
     "output_type": "execute_result"
    }
   ],
   "source": [
    "model.params"
   ]
  },
  {
   "cell_type": "markdown",
   "metadata": {},
   "source": [
    "### Create seg tree"
   ]
  },
  {
   "cell_type": "code",
   "execution_count": 32,
   "metadata": {},
   "outputs": [],
   "source": [
    "d_lambda = 0.1\n",
    "model.set_segmentation(d_lambda=0.1)"
   ]
  },
  {
   "cell_type": "code",
   "execution_count": 33,
   "metadata": {},
   "outputs": [
    {
     "data": {
      "text/plain": [
       "0.1"
      ]
     },
     "execution_count": 33,
     "metadata": {},
     "output_type": "execute_result"
    }
   ],
   "source": [
    "model.d_lambda"
   ]
  },
  {
   "cell_type": "code",
   "execution_count": 34,
   "metadata": {},
   "outputs": [
    {
     "data": {
      "text/plain": [
       "Tree [•0, •1, •2, •3, •4, •5, •6, •7, •8, •9, •10, •11, •12, •13, •14, •15, •16, •17, •18, •19, •20, •21, •22, •23, •24, •25, •26, •27, •28, •29, •30, •31, •32, •33, •34, •35, •36, •37, •38, •39, •40, •41, •42, •43, •44, •45, •46, •47, •48, •49, •50, •51, •52, •53, •54, •55, •56, •57, •58, •59, •60, •61, •62, •63, •64, •65, •66, •67, •68, •69, •70, •71, •72, •73, •74, •75, •76, •77, •78, •79, •80, •81, •82, •83, •84, •85, •86, •87, •88, •89, •90, •91, •92, •93, •94, •95, •96, •97, •98, •99, •100, •101, •102, •103, •104, •105, •106, •107, •108, •109, •110, •111, •112, •113, •114, •115, •116, •117, •118, •119, •120, •121, •122, •123, •124, •125, •126, •127, •128, •129, •130, •131, •132, •133, •134, •135, •136, •137, •138, •139, •140, •141, •142, •143, •144, •145, •146, •147, •148, •149, •150, •151, •152, •153, •154, •155, •156, •157, •158, •159, •160, •161, •162, •163, •164, •165, •166, •167, •168, •169, •170, •171, •172, •173, •174, •175, •176, •177, •178, •179, •180, •181, •182, •183, •184, •185, •186, •187, •188, •189]"
      ]
     },
     "execution_count": 34,
     "metadata": {},
     "output_type": "execute_result"
    }
   ],
   "source": [
    "model.seg_tree"
   ]
  },
  {
   "cell_type": "code",
   "execution_count": 35,
   "metadata": {},
   "outputs": [
    {
     "data": {
      "image/png": "[encoded data removed]",
      "text/plain": [
       "<Figure size 500x100 with 1 Axes>"
      ]
     },
     "metadata": {},
     "output_type": "display_data"
    },
    {
     "data": {
      "image/png": "[encoded data removed]",
      "text/plain": [
       "<Figure size 500x100 with 1 Axes>"
      ]
     },
     "metadata": {},
     "output_type": "display_data"
    },
    {
     "data": {
      "image/png": "[encoded data removed]",
      "text/plain": [
       "<Figure size 500x100 with 1 Axes>"
      ]
     },
     "metadata": {},
     "output_type": "display_data"
    },
    {
     "data": {
      "image/png": "[encoded data removed]",
      "text/plain": [
       "<Figure size 500x100 with 1 Axes>"
      ]
     },
     "metadata": {},
     "output_type": "display_data"
    },
    {
     "data": {
      "image/png": "[encoded data removed]",
      "text/plain": [
       "<Figure size 500x100 with 1 Axes>"
      ]
     },
     "metadata": {},
     "output_type": "display_data"
    },
    {
     "data": {
      "image/png": "[encoded data removed]",
      "text/plain": [
       "<Figure size 500x100 with 1 Axes>"
      ]
     },
     "metadata": {},
     "output_type": "display_data"
    }
   ],
   "source": [
    "for sec in model.sec_tree.sections:\n",
    "        fig, ax = plt.subplots(figsize=(5, 1))\n",
    "        sec.plot_radii(ax)\n",
    "        ax.set_title(f'Section {sec.idx}')\n",
    "        if sec.idx >= 5:\n",
    "            break"
   ]
  },
  {
   "cell_type": "code",
   "execution_count": 36,
   "metadata": {},
   "outputs": [
    {
     "data": {
      "text/plain": [
       "190"
      ]
     },
     "execution_count": 36,
     "metadata": {},
     "output_type": "execute_result"
    }
   ],
   "source": [
    "len(model.seg_tree)"
   ]
  },
  {
   "cell_type": "markdown",
   "metadata": {},
   "source": [
    "## Distribute mech parameters"
   ]
  },
  {
   "cell_type": "code",
   "execution_count": 37,
   "metadata": {},
   "outputs": [],
   "source": [
    "all_domains = ['soma', 'dend', 'axon', 'apic']\n",
    "for domain in all_domains:\n",
    "    model.insert_mechanism('Leak', domain)\n",
    "    model.insert_mechanism('Na', domain)\n",
    "    model.insert_mechanism('Kv', domain)"
   ]
  },
  {
   "cell_type": "code",
   "execution_count": 38,
   "metadata": {},
   "outputs": [
    {
     "data": {
      "text/plain": [
       "{'soma': {'Kv', 'Leak', 'Na'},\n",
       " 'apic': {'Kv', 'Leak', 'Na'},\n",
       " 'dend': {'Kv', 'Leak', 'Na'},\n",
       " 'axon': {'Kv', 'Leak', 'Na'}}"
      ]
     },
     "execution_count": 38,
     "metadata": {},
     "output_type": "execute_result"
    }
   ],
   "source": [
    "model.domains_to_mechs"
   ]
  },
  {
   "cell_type": "code",
   "execution_count": 39,
   "metadata": {},
   "outputs": [
    {
     "data": {
      "text/plain": [
       "{'Independent': ['cm', 'Ra', 'ena', 'ek'],\n",
       " 'Leak': ['gbar_Leak', 'e_Leak'],\n",
       " 'Na': ['gbar_Na',\n",
       "  'Rma_Na',\n",
       "  'Rmb_Na',\n",
       "  'v12m_Na',\n",
       "  'qm_Na',\n",
       "  'Rhb_Na',\n",
       "  'Rha_Na',\n",
       "  'v12ha_Na',\n",
       "  'v12hb_Na',\n",
       "  'qh_Na',\n",
       "  'v12hinf_Na',\n",
       "  'qhinf_Na'],\n",
       " 'Kv': ['gbar_Kv', 'v12_Kv', 'q_Kv']}"
      ]
     },
     "execution_count": 39,
     "metadata": {},
     "output_type": "execute_result"
    }
   ],
   "source": [
    "model.mechs_to_params"
   ]
  },
  {
   "cell_type": "code",
   "execution_count": 40,
   "metadata": {},
   "outputs": [
    {
     "name": "stdout",
     "output_type": "stream",
     "text": [
      "{'cm': {'all': constant({'value': 1}),\n",
      "        'somatic': constant({'value': 2})},\n",
      " 'Ra': {'all': constant({'value': 100})},\n",
      " 'gbar_Leak': {'all': constant({'value': 0.0})},\n",
      " 'e_Leak': {'all': constant({'value': -70})},\n",
      " 'gbar_Na': {'all': constant({'value': 0.0})},\n",
      " 'Rma_Na': {'all': constant({'value': 0.182})},\n",
      " 'Rmb_Na': {'all': constant({'value': 0.14})},\n",
      " 'v12m_Na': {'all': constant({'value': -30})},\n",
      " 'qm_Na': {'all': constant({'value': 9.8})},\n",
      " 'Rhb_Na': {'all': constant({'value': 0.0091})},\n",
      " 'Rha_Na': {'all': constant({'value': 0.024})},\n",
      " 'v12ha_Na': {'all': constant({'value': -45})},\n",
      " 'v12hb_Na': {'all': constant({'value': -70})},\n",
      " 'qh_Na': {'all': constant({'value': 5})},\n",
      " 'v12hinf_Na': {'all': constant({'value': -60})},\n",
      " 'qhinf_Na': {'all': constant({'value': 6.2})},\n",
      " 'ena': {'all': constant({'value': 50})},\n",
      " 'gbar_Kv': {'all': constant({'value': 0.0})},\n",
      " 'v12_Kv': {'all': constant({'value': 25})},\n",
      " 'q_Kv': {'all': constant({'value': 9})},\n",
      " 'ek': {'all': constant({'value': -77})}}\n"
     ]
    }
   ],
   "source": [
    "pprint(model.params, sort_dicts=False, width=1)"
   ]
  },
  {
   "cell_type": "code",
   "execution_count": 41,
   "metadata": {},
   "outputs": [
    {
     "data": {
      "text/html": [
       "<div>\n",
       "<style scoped>\n",
       "    .dataframe tbody tr th:only-of-type {\n",
       "        vertical-align: middle;\n",
       "    }\n",
       "\n",
       "    .dataframe tbody tr th {\n",
       "        vertical-align: top;\n",
       "    }\n",
       "\n",
       "    .dataframe thead th {\n",
       "        text-align: right;\n",
       "    }\n",
       "</style>\n",
       "<table border=\"1\" class=\"dataframe\">\n",
       "  <thead>\n",
       "    <tr style=\"text-align: right;\">\n",
       "      <th></th>\n",
       "      <th>Mechanism</th>\n",
       "      <th>Parameter</th>\n",
       "      <th>Group</th>\n",
       "      <th>Distribution</th>\n",
       "      <th>Distribution params</th>\n",
       "    </tr>\n",
       "  </thead>\n",
       "  <tbody>\n",
       "    <tr>\n",
       "      <th>0</th>\n",
       "      <td>Independent</td>\n",
       "      <td>cm</td>\n",
       "      <td>all</td>\n",
       "      <td>constant</td>\n",
       "      <td>{'value': 1}</td>\n",
       "    </tr>\n",
       "    <tr>\n",
       "      <th>1</th>\n",
       "      <td>Independent</td>\n",
       "      <td>cm</td>\n",
       "      <td>somatic</td>\n",
       "      <td>constant</td>\n",
       "      <td>{'value': 2}</td>\n",
       "    </tr>\n",
       "    <tr>\n",
       "      <th>2</th>\n",
       "      <td>Independent</td>\n",
       "      <td>Ra</td>\n",
       "      <td>all</td>\n",
       "      <td>constant</td>\n",
       "      <td>{'value': 100}</td>\n",
       "    </tr>\n",
       "    <tr>\n",
       "      <th>3</th>\n",
       "      <td>Independent</td>\n",
       "      <td>ena</td>\n",
       "      <td>all</td>\n",
       "      <td>constant</td>\n",
       "      <td>{'value': 50}</td>\n",
       "    </tr>\n",
       "    <tr>\n",
       "      <th>4</th>\n",
       "      <td>Independent</td>\n",
       "      <td>ek</td>\n",
       "      <td>all</td>\n",
       "      <td>constant</td>\n",
       "      <td>{'value': -77}</td>\n",
       "    </tr>\n",
       "    <tr>\n",
       "      <th>5</th>\n",
       "      <td>Leak</td>\n",
       "      <td>gbar_Leak</td>\n",
       "      <td>all</td>\n",
       "      <td>constant</td>\n",
       "      <td>{'value': 0.0}</td>\n",
       "    </tr>\n",
       "    <tr>\n",
       "      <th>6</th>\n",
       "      <td>Leak</td>\n",
       "      <td>e_Leak</td>\n",
       "      <td>all</td>\n",
       "      <td>constant</td>\n",
       "      <td>{'value': -70}</td>\n",
       "    </tr>\n",
       "    <tr>\n",
       "      <th>7</th>\n",
       "      <td>Na</td>\n",
       "      <td>gbar_Na</td>\n",
       "      <td>all</td>\n",
       "      <td>constant</td>\n",
       "      <td>{'value': 0.0}</td>\n",
       "    </tr>\n",
       "    <tr>\n",
       "      <th>8</th>\n",
       "      <td>Na</td>\n",
       "      <td>Rma_Na</td>\n",
       "      <td>all</td>\n",
       "      <td>constant</td>\n",
       "      <td>{'value': 0.182}</td>\n",
       "    </tr>\n",
       "    <tr>\n",
       "      <th>9</th>\n",
       "      <td>Na</td>\n",
       "      <td>Rmb_Na</td>\n",
       "      <td>all</td>\n",
       "      <td>constant</td>\n",
       "      <td>{'value': 0.14}</td>\n",
       "    </tr>\n",
       "    <tr>\n",
       "      <th>10</th>\n",
       "      <td>Na</td>\n",
       "      <td>v12m_Na</td>\n",
       "      <td>all</td>\n",
       "      <td>constant</td>\n",
       "      <td>{'value': -30}</td>\n",
       "    </tr>\n",
       "    <tr>\n",
       "      <th>11</th>\n",
       "      <td>Na</td>\n",
       "      <td>qm_Na</td>\n",
       "      <td>all</td>\n",
       "      <td>constant</td>\n",
       "      <td>{'value': 9.8}</td>\n",
       "    </tr>\n",
       "    <tr>\n",
       "      <th>12</th>\n",
       "      <td>Na</td>\n",
       "      <td>Rhb_Na</td>\n",
       "      <td>all</td>\n",
       "      <td>constant</td>\n",
       "      <td>{'value': 0.0091}</td>\n",
       "    </tr>\n",
       "    <tr>\n",
       "      <th>13</th>\n",
       "      <td>Na</td>\n",
       "      <td>Rha_Na</td>\n",
       "      <td>all</td>\n",
       "      <td>constant</td>\n",
       "      <td>{'value': 0.024}</td>\n",
       "    </tr>\n",
       "    <tr>\n",
       "      <th>14</th>\n",
       "      <td>Na</td>\n",
       "      <td>v12ha_Na</td>\n",
       "      <td>all</td>\n",
       "      <td>constant</td>\n",
       "      <td>{'value': -45}</td>\n",
       "    </tr>\n",
       "    <tr>\n",
       "      <th>15</th>\n",
       "      <td>Na</td>\n",
       "      <td>v12hb_Na</td>\n",
       "      <td>all</td>\n",
       "      <td>constant</td>\n",
       "      <td>{'value': -70}</td>\n",
       "    </tr>\n",
       "    <tr>\n",
       "      <th>16</th>\n",
       "      <td>Na</td>\n",
       "      <td>qh_Na</td>\n",
       "      <td>all</td>\n",
       "      <td>constant</td>\n",
       "      <td>{'value': 5}</td>\n",
       "    </tr>\n",
       "    <tr>\n",
       "      <th>17</th>\n",
       "      <td>Na</td>\n",
       "      <td>v12hinf_Na</td>\n",
       "      <td>all</td>\n",
       "      <td>constant</td>\n",
       "      <td>{'value': -60}</td>\n",
       "    </tr>\n",
       "    <tr>\n",
       "      <th>18</th>\n",
       "      <td>Na</td>\n",
       "      <td>qhinf_Na</td>\n",
       "      <td>all</td>\n",
       "      <td>constant</td>\n",
       "      <td>{'value': 6.2}</td>\n",
       "    </tr>\n",
       "    <tr>\n",
       "      <th>19</th>\n",
       "      <td>Kv</td>\n",
       "      <td>gbar_Kv</td>\n",
       "      <td>all</td>\n",
       "      <td>constant</td>\n",
       "      <td>{'value': 0.0}</td>\n",
       "    </tr>\n",
       "    <tr>\n",
       "      <th>20</th>\n",
       "      <td>Kv</td>\n",
       "      <td>v12_Kv</td>\n",
       "      <td>all</td>\n",
       "      <td>constant</td>\n",
       "      <td>{'value': 25}</td>\n",
       "    </tr>\n",
       "    <tr>\n",
       "      <th>21</th>\n",
       "      <td>Kv</td>\n",
       "      <td>q_Kv</td>\n",
       "      <td>all</td>\n",
       "      <td>constant</td>\n",
       "      <td>{'value': 9}</td>\n",
       "    </tr>\n",
       "  </tbody>\n",
       "</table>\n",
       "</div>"
      ],
      "text/plain": [
       "      Mechanism   Parameter    Group Distribution Distribution params\n",
       "0   Independent          cm      all     constant        {'value': 1}\n",
       "1   Independent          cm  somatic     constant        {'value': 2}\n",
       "2   Independent          Ra      all     constant      {'value': 100}\n",
       "3   Independent         ena      all     constant       {'value': 50}\n",
       "4   Independent          ek      all     constant      {'value': -77}\n",
       "5          Leak   gbar_Leak      all     constant      {'value': 0.0}\n",
       "6          Leak      e_Leak      all     constant      {'value': -70}\n",
       "7            Na     gbar_Na      all     constant      {'value': 0.0}\n",
       "8            Na      Rma_Na      all     constant    {'value': 0.182}\n",
       "9            Na      Rmb_Na      all     constant     {'value': 0.14}\n",
       "10           Na     v12m_Na      all     constant      {'value': -30}\n",
       "11           Na       qm_Na      all     constant      {'value': 9.8}\n",
       "12           Na      Rhb_Na      all     constant   {'value': 0.0091}\n",
       "13           Na      Rha_Na      all     constant    {'value': 0.024}\n",
       "14           Na    v12ha_Na      all     constant      {'value': -45}\n",
       "15           Na    v12hb_Na      all     constant      {'value': -70}\n",
       "16           Na       qh_Na      all     constant        {'value': 5}\n",
       "17           Na  v12hinf_Na      all     constant      {'value': -60}\n",
       "18           Na    qhinf_Na      all     constant      {'value': 6.2}\n",
       "19           Kv     gbar_Kv      all     constant      {'value': 0.0}\n",
       "20           Kv      v12_Kv      all     constant       {'value': 25}\n",
       "21           Kv        q_Kv      all     constant        {'value': 9}"
      ]
     },
     "execution_count": 41,
     "metadata": {},
     "output_type": "execute_result"
    }
   ],
   "source": [
    "model.df_params"
   ]
  },
  {
   "cell_type": "code",
   "execution_count": 42,
   "metadata": {},
   "outputs": [
    {
     "data": {
      "text/plain": [
       "{'Independent': ['cm', 'Ra', 'ena', 'ek'],\n",
       " 'Leak': ['gbar_Leak', 'e_Leak'],\n",
       " 'Na': ['gbar_Na',\n",
       "  'Rma_Na',\n",
       "  'Rmb_Na',\n",
       "  'v12m_Na',\n",
       "  'qm_Na',\n",
       "  'Rhb_Na',\n",
       "  'Rha_Na',\n",
       "  'v12ha_Na',\n",
       "  'v12hb_Na',\n",
       "  'qh_Na',\n",
       "  'v12hinf_Na',\n",
       "  'qhinf_Na'],\n",
       " 'Kv': ['gbar_Kv', 'v12_Kv', 'q_Kv']}"
      ]
     },
     "execution_count": 42,
     "metadata": {},
     "output_type": "execute_result"
    }
   ],
   "source": [
    "model.mechs_to_params"
   ]
  },
  {
   "cell_type": "code",
   "execution_count": 43,
   "metadata": {},
   "outputs": [],
   "source": [
    "model.set_param(param_name='gbar_Leak',\n",
    "                group_name='all',\n",
    "                distr_type = 'constant', value=0.0001)"
   ]
  },
  {
   "cell_type": "code",
   "execution_count": 44,
   "metadata": {},
   "outputs": [
    {
     "name": "stdout",
     "output_type": "stream",
     "text": [
      "Segment 0 gbar_Leak:0.0001\n",
      "Segment 1 gbar_Leak:0.0001\n",
      "Segment 2 gbar_Leak:0.0001\n",
      "Segment 3 gbar_Leak:0.0001\n",
      "Segment 4 gbar_Leak:0.0001\n",
      "Segment 5 gbar_Leak:0.0001\n",
      "Segment 6 gbar_Leak:0.0001\n",
      "Segment 7 gbar_Leak:0.0001\n",
      "Segment 8 gbar_Leak:0.0001\n",
      "Segment 9 gbar_Leak:0.0001\n",
      "Segment 10 gbar_Leak:0.0001\n",
      "Segment 11 gbar_Leak:0.0001\n",
      "Segment 12 gbar_Leak:0.0001\n",
      "Segment 13 gbar_Leak:0.0001\n",
      "Segment 14 gbar_Leak:0.0001\n",
      "Segment 15 gbar_Leak:0.0001\n",
      "Segment 16 gbar_Leak:0.0001\n",
      "Segment 17 gbar_Leak:0.0001\n",
      "Segment 18 gbar_Leak:0.0001\n",
      "Segment 19 gbar_Leak:0.0001\n",
      "Segment 20 gbar_Leak:0.0001\n"
     ]
    }
   ],
   "source": [
    "for seg in model.seg_tree:\n",
    "    print(f\"Segment {seg.idx} gbar_Leak:{seg.get_param_value('gbar_Leak')}\")\n",
    "    if seg.idx >= 20:\n",
    "        break"
   ]
  },
  {
   "cell_type": "code",
   "execution_count": 45,
   "metadata": {},
   "outputs": [],
   "source": [
    "model.set_param(param_name='gbar_Na',\n",
    "                group_name='all',\n",
    "                distr_type = 'constant', value=0.03)\n",
    "model.set_param(param_name='gbar_Na',\n",
    "                group_name='somatic',\n",
    "                distr_type = 'constant', value=0.05)"
   ]
  },
  {
   "cell_type": "code",
   "execution_count": 46,
   "metadata": {},
   "outputs": [],
   "source": [
    "model.set_param(param_name='gbar_Kv',\n",
    "                group_name='all', \n",
    "                distr_type = 'constant', value=0.003)\n",
    "model.set_param(param_name='gbar_Kv',\n",
    "                group_name='somatic', \n",
    "                distr_type = 'constant', value=0.005)"
   ]
  },
  {
   "cell_type": "code",
   "execution_count": 47,
   "metadata": {},
   "outputs": [
    {
     "data": {
      "text/plain": [
       "{'Independent': ['cm', 'Ra', 'ena', 'ek'],\n",
       " 'Leak': ['gbar_Leak', 'e_Leak'],\n",
       " 'Na': ['gbar_Na',\n",
       "  'Rma_Na',\n",
       "  'Rmb_Na',\n",
       "  'v12m_Na',\n",
       "  'qm_Na',\n",
       "  'Rhb_Na',\n",
       "  'Rha_Na',\n",
       "  'v12ha_Na',\n",
       "  'v12hb_Na',\n",
       "  'qh_Na',\n",
       "  'v12hinf_Na',\n",
       "  'qhinf_Na'],\n",
       " 'Kv': ['gbar_Kv', 'v12_Kv', 'q_Kv']}"
      ]
     },
     "execution_count": 47,
     "metadata": {},
     "output_type": "execute_result"
    }
   ],
   "source": [
    "model.mechs_to_params"
   ]
  },
  {
   "cell_type": "code",
   "execution_count": 48,
   "metadata": {},
   "outputs": [
    {
     "name": "stdout",
     "output_type": "stream",
     "text": [
      "Model: Park_2019\n",
      "Path to data: /home/roman/Documents/code/DendroTweaks/app/src/data\n",
      "Simulator: NEURON\n",
      "Groups: 5\n",
      "Avaliable mechanisms: 8\n",
      "Inserted mechanisms: 3\n",
      "IClamps: 0\n",
      "\n"
     ]
    }
   ],
   "source": [
    "model.info()"
   ]
  },
  {
   "cell_type": "code",
   "execution_count": 49,
   "metadata": {},
   "outputs": [
    {
     "data": {
      "text/html": [
       "<div>\n",
       "<style scoped>\n",
       "    .dataframe tbody tr th:only-of-type {\n",
       "        vertical-align: middle;\n",
       "    }\n",
       "\n",
       "    .dataframe tbody tr th {\n",
       "        vertical-align: top;\n",
       "    }\n",
       "\n",
       "    .dataframe thead th {\n",
       "        text-align: right;\n",
       "    }\n",
       "</style>\n",
       "<table border=\"1\" class=\"dataframe\">\n",
       "  <thead>\n",
       "    <tr style=\"text-align: right;\">\n",
       "      <th></th>\n",
       "      <th>Mechanism</th>\n",
       "      <th>Parameter</th>\n",
       "      <th>Group</th>\n",
       "      <th>Distribution</th>\n",
       "      <th>Distribution params</th>\n",
       "    </tr>\n",
       "  </thead>\n",
       "  <tbody>\n",
       "    <tr>\n",
       "      <th>0</th>\n",
       "      <td>Independent</td>\n",
       "      <td>cm</td>\n",
       "      <td>all</td>\n",
       "      <td>constant</td>\n",
       "      <td>{'value': 1}</td>\n",
       "    </tr>\n",
       "    <tr>\n",
       "      <th>1</th>\n",
       "      <td>Independent</td>\n",
       "      <td>cm</td>\n",
       "      <td>somatic</td>\n",
       "      <td>constant</td>\n",
       "      <td>{'value': 2}</td>\n",
       "    </tr>\n",
       "    <tr>\n",
       "      <th>2</th>\n",
       "      <td>Independent</td>\n",
       "      <td>Ra</td>\n",
       "      <td>all</td>\n",
       "      <td>constant</td>\n",
       "      <td>{'value': 100}</td>\n",
       "    </tr>\n",
       "    <tr>\n",
       "      <th>3</th>\n",
       "      <td>Independent</td>\n",
       "      <td>ena</td>\n",
       "      <td>all</td>\n",
       "      <td>constant</td>\n",
       "      <td>{'value': 50}</td>\n",
       "    </tr>\n",
       "    <tr>\n",
       "      <th>4</th>\n",
       "      <td>Independent</td>\n",
       "      <td>ek</td>\n",
       "      <td>all</td>\n",
       "      <td>constant</td>\n",
       "      <td>{'value': -77}</td>\n",
       "    </tr>\n",
       "    <tr>\n",
       "      <th>5</th>\n",
       "      <td>Leak</td>\n",
       "      <td>gbar_Leak</td>\n",
       "      <td>all</td>\n",
       "      <td>constant</td>\n",
       "      <td>{'value': 0.0001}</td>\n",
       "    </tr>\n",
       "    <tr>\n",
       "      <th>6</th>\n",
       "      <td>Leak</td>\n",
       "      <td>e_Leak</td>\n",
       "      <td>all</td>\n",
       "      <td>constant</td>\n",
       "      <td>{'value': -70}</td>\n",
       "    </tr>\n",
       "    <tr>\n",
       "      <th>7</th>\n",
       "      <td>Na</td>\n",
       "      <td>gbar_Na</td>\n",
       "      <td>all</td>\n",
       "      <td>constant</td>\n",
       "      <td>{'value': 0.03}</td>\n",
       "    </tr>\n",
       "    <tr>\n",
       "      <th>8</th>\n",
       "      <td>Na</td>\n",
       "      <td>gbar_Na</td>\n",
       "      <td>somatic</td>\n",
       "      <td>constant</td>\n",
       "      <td>{'value': 0.05}</td>\n",
       "    </tr>\n",
       "    <tr>\n",
       "      <th>9</th>\n",
       "      <td>Na</td>\n",
       "      <td>Rma_Na</td>\n",
       "      <td>all</td>\n",
       "      <td>constant</td>\n",
       "      <td>{'value': 0.182}</td>\n",
       "    </tr>\n",
       "    <tr>\n",
       "      <th>10</th>\n",
       "      <td>Na</td>\n",
       "      <td>Rmb_Na</td>\n",
       "      <td>all</td>\n",
       "      <td>constant</td>\n",
       "      <td>{'value': 0.14}</td>\n",
       "    </tr>\n",
       "    <tr>\n",
       "      <th>11</th>\n",
       "      <td>Na</td>\n",
       "      <td>v12m_Na</td>\n",
       "      <td>all</td>\n",
       "      <td>constant</td>\n",
       "      <td>{'value': -30}</td>\n",
       "    </tr>\n",
       "    <tr>\n",
       "      <th>12</th>\n",
       "      <td>Na</td>\n",
       "      <td>qm_Na</td>\n",
       "      <td>all</td>\n",
       "      <td>constant</td>\n",
       "      <td>{'value': 9.8}</td>\n",
       "    </tr>\n",
       "    <tr>\n",
       "      <th>13</th>\n",
       "      <td>Na</td>\n",
       "      <td>Rhb_Na</td>\n",
       "      <td>all</td>\n",
       "      <td>constant</td>\n",
       "      <td>{'value': 0.0091}</td>\n",
       "    </tr>\n",
       "    <tr>\n",
       "      <th>14</th>\n",
       "      <td>Na</td>\n",
       "      <td>Rha_Na</td>\n",
       "      <td>all</td>\n",
       "      <td>constant</td>\n",
       "      <td>{'value': 0.024}</td>\n",
       "    </tr>\n",
       "    <tr>\n",
       "      <th>15</th>\n",
       "      <td>Na</td>\n",
       "      <td>v12ha_Na</td>\n",
       "      <td>all</td>\n",
       "      <td>constant</td>\n",
       "      <td>{'value': -45}</td>\n",
       "    </tr>\n",
       "    <tr>\n",
       "      <th>16</th>\n",
       "      <td>Na</td>\n",
       "      <td>v12hb_Na</td>\n",
       "      <td>all</td>\n",
       "      <td>constant</td>\n",
       "      <td>{'value': -70}</td>\n",
       "    </tr>\n",
       "    <tr>\n",
       "      <th>17</th>\n",
       "      <td>Na</td>\n",
       "      <td>qh_Na</td>\n",
       "      <td>all</td>\n",
       "      <td>constant</td>\n",
       "      <td>{'value': 5}</td>\n",
       "    </tr>\n",
       "    <tr>\n",
       "      <th>18</th>\n",
       "      <td>Na</td>\n",
       "      <td>v12hinf_Na</td>\n",
       "      <td>all</td>\n",
       "      <td>constant</td>\n",
       "      <td>{'value': -60}</td>\n",
       "    </tr>\n",
       "    <tr>\n",
       "      <th>19</th>\n",
       "      <td>Na</td>\n",
       "      <td>qhinf_Na</td>\n",
       "      <td>all</td>\n",
       "      <td>constant</td>\n",
       "      <td>{'value': 6.2}</td>\n",
       "    </tr>\n",
       "    <tr>\n",
       "      <th>20</th>\n",
       "      <td>Kv</td>\n",
       "      <td>gbar_Kv</td>\n",
       "      <td>all</td>\n",
       "      <td>constant</td>\n",
       "      <td>{'value': 0.003}</td>\n",
       "    </tr>\n",
       "    <tr>\n",
       "      <th>21</th>\n",
       "      <td>Kv</td>\n",
       "      <td>gbar_Kv</td>\n",
       "      <td>somatic</td>\n",
       "      <td>constant</td>\n",
       "      <td>{'value': 0.005}</td>\n",
       "    </tr>\n",
       "    <tr>\n",
       "      <th>22</th>\n",
       "      <td>Kv</td>\n",
       "      <td>v12_Kv</td>\n",
       "      <td>all</td>\n",
       "      <td>constant</td>\n",
       "      <td>{'value': 25}</td>\n",
       "    </tr>\n",
       "    <tr>\n",
       "      <th>23</th>\n",
       "      <td>Kv</td>\n",
       "      <td>q_Kv</td>\n",
       "      <td>all</td>\n",
       "      <td>constant</td>\n",
       "      <td>{'value': 9}</td>\n",
       "    </tr>\n",
       "  </tbody>\n",
       "</table>\n",
       "</div>"
      ],
      "text/plain": [
       "      Mechanism   Parameter    Group Distribution Distribution params\n",
       "0   Independent          cm      all     constant        {'value': 1}\n",
       "1   Independent          cm  somatic     constant        {'value': 2}\n",
       "2   Independent          Ra      all     constant      {'value': 100}\n",
       "3   Independent         ena      all     constant       {'value': 50}\n",
       "4   Independent          ek      all     constant      {'value': -77}\n",
       "5          Leak   gbar_Leak      all     constant   {'value': 0.0001}\n",
       "6          Leak      e_Leak      all     constant      {'value': -70}\n",
       "7            Na     gbar_Na      all     constant     {'value': 0.03}\n",
       "8            Na     gbar_Na  somatic     constant     {'value': 0.05}\n",
       "9            Na      Rma_Na      all     constant    {'value': 0.182}\n",
       "10           Na      Rmb_Na      all     constant     {'value': 0.14}\n",
       "11           Na     v12m_Na      all     constant      {'value': -30}\n",
       "12           Na       qm_Na      all     constant      {'value': 9.8}\n",
       "13           Na      Rhb_Na      all     constant   {'value': 0.0091}\n",
       "14           Na      Rha_Na      all     constant    {'value': 0.024}\n",
       "15           Na    v12ha_Na      all     constant      {'value': -45}\n",
       "16           Na    v12hb_Na      all     constant      {'value': -70}\n",
       "17           Na       qh_Na      all     constant        {'value': 5}\n",
       "18           Na  v12hinf_Na      all     constant      {'value': -60}\n",
       "19           Na    qhinf_Na      all     constant      {'value': 6.2}\n",
       "20           Kv     gbar_Kv      all     constant    {'value': 0.003}\n",
       "21           Kv     gbar_Kv  somatic     constant    {'value': 0.005}\n",
       "22           Kv      v12_Kv      all     constant       {'value': 25}\n",
       "23           Kv        q_Kv      all     constant        {'value': 9}"
      ]
     },
     "execution_count": 49,
     "metadata": {},
     "output_type": "execute_result"
    }
   ],
   "source": [
    "model.df_params"
   ]
  },
  {
   "cell_type": "code",
   "execution_count": 50,
   "metadata": {},
   "outputs": [],
   "source": [
    "# model.add_group('axon', lambda sec: sec.domain == 'axon')"
   ]
  },
  {
   "cell_type": "markdown",
   "metadata": {},
   "source": [
    "## Problem with diams"
   ]
  },
  {
   "cell_type": "code",
   "execution_count": 51,
   "metadata": {},
   "outputs": [
    {
     "data": {
      "text/plain": [
       "0.9730643396402275"
      ]
     },
     "execution_count": 51,
     "metadata": {},
     "output_type": "execute_result"
    }
   ],
   "source": [
    "# Section diam in NEURON\n",
    "sec._ref.diam"
   ]
  },
  {
   "cell_type": "code",
   "execution_count": 52,
   "metadata": {},
   "outputs": [
    {
     "name": "stdout",
     "output_type": "stream",
     "text": [
      "5 segments with diam 0.9746563570269734\n"
     ]
    }
   ],
   "source": [
    "# diam of each segment in NEURON\n",
    "seg_diams = np.array([seg.diam for seg in sec._ref])\n",
    "print(f'{seg_diams.size} segments with diam {seg_diams.mean()}')"
   ]
  },
  {
   "cell_type": "code",
   "execution_count": 53,
   "metadata": {},
   "outputs": [
    {
     "name": "stdout",
     "output_type": "stream",
     "text": [
      "49 pt3d with diam 0.9991836675575801\n"
     ]
    }
   ],
   "source": [
    "# diam of each pt3d in neuron\n",
    "pts3d_diams = np.array([sec._ref.diam3d(i) for i in range(sec._ref.n3d())])\n",
    "print(f'{pts3d_diams.size} pt3d with diam {pts3d_diams.mean()}')"
   ]
  },
  {
   "cell_type": "code",
   "execution_count": 54,
   "metadata": {},
   "outputs": [
    {
     "name": "stdout",
     "output_type": "stream",
     "text": [
      "49 pt3d with diam 0.9991836734693877\n"
     ]
    }
   ],
   "source": [
    "# diam of each pt3d in custom section\n",
    "swc_diams = np.array([2*pt.r for pt in sec.points])\n",
    "print(f'{swc_diams.size} pt3d with diam {swc_diams.mean()}')"
   ]
  },
  {
   "cell_type": "code",
   "execution_count": 55,
   "metadata": {},
   "outputs": [
    {
     "name": "stdout",
     "output_type": "stream",
     "text": [
      "1.17 1.1699999570846558\n",
      "1.17 1.1699999570846558\n",
      "1.17 1.1699999570846558\n",
      "1.17 1.1699999570846558\n",
      "1.17 1.1699999570846558\n",
      "1.47 1.4700000286102295\n",
      "1.47 1.4700000286102295\n",
      "1.47 1.4700000286102295\n",
      "1.47 1.4700000286102295\n",
      "1.47 1.4700000286102295\n",
      "1.47 1.4700000286102295\n",
      "1.47 1.4700000286102295\n"
     ]
    }
   ],
   "source": [
    "for i, (swc_diam, neuron_diam) in enumerate(zip(swc_diams, pts3d_diams)):\n",
    "    print(f'{swc_diam} {neuron_diam}')\n",
    "    if i > 10 : break"
   ]
  },
  {
   "cell_type": "code",
   "execution_count": 56,
   "metadata": {},
   "outputs": [],
   "source": [
    "# from core.utils import calculate_lambda_f\n",
    "# from neuron import h\n",
    "# h.load_file('stdrun.hoc')\n",
    "# f = 100\n",
    "# for sec in model.sec_tree.sections:\n",
    "#     neuron_sec = sec._ref\n",
    "#     # diam = neuron_sec.diam\n",
    "#     diam = np.array([seg.diam for seg in sec._ref]).mean()\n",
    "#     lambda_f = calculate_lambda_f(diam, neuron_sec.Ra, neuron_sec.cm)\n",
    "#     lambda_f_neuron = h.lambda_f(f, sec=neuron_sec)\n",
    "#     nseg = int((neuron_sec.L / (0.1 * lambda_f) + 0.9) / 2) * 2 + 1\n",
    "#     # print(f'Section {sec.idx} has {nseg} segments with lambda_f = {lambda_f:.5f} um')\n",
    "#     nseg_neuron = int((neuron_sec.L / (0.1 * lambda_f_neuron) + 0.9) / 2) * 2 + 1\n",
    "#     # print(f'Section {sec.idx} has {nseg} segments with lambda_f = {lambda_f_neuron:.5f} um')\n",
    "#     # print(f'Neuron lambda_f = {lambda_f_neuron:.5f} um, calculated lambda_f = {lambda_f:.5f} um')\n",
    "#     print(f'Neuron nseg = {nseg_neuron}, calculated nseg = {nseg}')"
   ]
  },
  {
   "cell_type": "markdown",
   "metadata": {},
   "source": [
    "# Problem with nseg"
   ]
  },
  {
   "cell_type": "code",
   "execution_count": 57,
   "metadata": {},
   "outputs": [
    {
     "data": {
      "text/plain": [
       "Text(0.5, 1.0, 'Correspondence between nseg and length')"
      ]
     },
     "execution_count": 57,
     "metadata": {},
     "output_type": "execute_result"
    },
    {
     "data": {
      "image/png": "[encoded data removed]",
      "text/plain": [
       "<Figure size 800x200 with 1 Axes>"
      ]
     },
     "metadata": {},
     "output_type": "display_data"
    }
   ],
   "source": [
    "fig, ax = plt.subplots(figsize=(8, 2))\n",
    "sec_ids = np.array([sec.idx for sec in model.sec_tree.sections])\n",
    "sec_nseg = np.array([sec._ref.nseg for sec in model.sec_tree.sections])\n",
    "sec_diams = np.array([np.array([seg.diam for seg in sec._ref]).mean() for sec in model.sec_tree.sections])\n",
    "# sec_cm = np.array([sec._ref.cm for sec in model.sec_tree.sections])\n",
    "# sec_Ra = np.array([sec._ref.Ra for sec in model.sec_tree.sections])\n",
    "sec_lenghts = np.array([sec._ref.L for sec in model.sec_tree.sections])\n",
    "# draw a vertical line between nseg and length datapoints for each section\n",
    "\n",
    "sec_nseg = sec_nseg / sec_nseg.mean()\n",
    "sec_lenghts = sec_lenghts / sec_lenghts.mean()\n",
    "\n",
    "ys = sec_nseg - sec_lenghts\n",
    "\n",
    "# ax.vlines(sec_ids, sec_nseg, sec_lenghts, color='k', label='nseg')\n",
    "ax.plot(sec_ids, sec_lenghts, '-', label='length')\n",
    "ax.plot(sec_ids, sec_nseg, '-', label='nseg')\n",
    "# ax.stem(sec_ids, ys, use_line_collection=True)\n",
    "ax.legend()\n",
    "ax.set_title('Correspondence between nseg and length')"
   ]
  },
  {
   "cell_type": "code",
   "execution_count": 58,
   "metadata": {},
   "outputs": [
    {
     "name": "stdout",
     "output_type": "stream",
     "text": [
      "Section 0 has 1 segments\n",
      "Section 1 has 3 segments\n",
      "Section 2 has 9 segments\n",
      "Section 3 has 5 segments\n",
      "Section 4 has 7 segments\n",
      "Section 5 has 5 segments\n",
      "Section 6 has 3 segments\n",
      "Section 7 has 5 segments\n",
      "Section 8 has 5 segments\n",
      "Section 9 has 1 segments\n",
      "Section 10 has 1 segments\n",
      "Section 11 has 3 segments\n",
      "Section 12 has 5 segments\n",
      "Section 13 has 3 segments\n",
      "Section 14 has 3 segments\n",
      "Section 15 has 5 segments\n",
      "Section 16 has 3 segments\n",
      "Section 17 has 1 segments\n",
      "Section 18 has 3 segments\n",
      "Section 19 has 3 segments\n",
      "Section 20 has 5 segments\n",
      "Section 21 has 3 segments\n",
      "Section 22 has 5 segments\n",
      "Section 23 has 3 segments\n",
      "Section 24 has 3 segments\n",
      "Section 25 has 3 segments\n",
      "Section 26 has 3 segments\n",
      "Section 27 has 9 segments\n",
      "Section 28 has 3 segments\n",
      "Section 29 has 5 segments\n",
      "Section 30 has 3 segments\n",
      "Section 31 has 5 segments\n",
      "Section 32 has 5 segments\n",
      "Section 33 has 1 segments\n",
      "Section 34 has 1 segments\n",
      "Section 35 has 5 segments\n",
      "Section 36 has 5 segments\n",
      "Section 37 has 3 segments\n",
      "Section 38 has 5 segments\n",
      "Section 39 has 1 segments\n",
      "Section 40 has 1 segments\n",
      "Section 41 has 7 segments\n",
      "Section 42 has 1 segments\n",
      "Section 43 has 5 segments\n",
      "Section 44 has 3 segments\n",
      "Section 45 has 3 segments\n",
      "Section 46 has 1 segments\n",
      "Section 47 has 3 segments\n",
      "Section 48 has 5 segments\n",
      "Section 49 has 1 segments\n",
      "Section 50 has 5 segments\n",
      "Section 51 has 5 segments\n"
     ]
    }
   ],
   "source": [
    "for sec in model.sec_tree.sections:\n",
    "    print(f'Section {sec.idx} has {sec._ref.nseg} segments')"
   ]
  },
  {
   "cell_type": "markdown",
   "metadata": {},
   "source": [
    "# Mechanisms kinetics"
   ]
  },
  {
   "cell_type": "code",
   "execution_count": 59,
   "metadata": {},
   "outputs": [
    {
     "name": "stdout",
     "output_type": "stream",
     "text": [
      "Got data for v in range -100.0 to 100.0 at 37°C\n",
      "Got data for v in range -100.0 to 100.0 at 37°C\n"
     ]
    },
    {
     "data": {
      "image/png": "[encoded data removed]",
      "text/plain": [
       "<Figure size 1000x500 with 2 Axes>"
      ]
     },
     "metadata": {},
     "output_type": "display_data"
    }
   ],
   "source": [
    "fig, ax = plt.subplots(1,2, figsize=(10, 5))\n",
    "model.mechanisms['Na'].plot_kinetics(ax)\n",
    "model.mechanisms['Kv'].plot_kinetics(ax)"
   ]
  },
  {
   "cell_type": "markdown",
   "metadata": {},
   "source": [
    "# Simulate"
   ]
  },
  {
   "cell_type": "code",
   "execution_count": 60,
   "metadata": {},
   "outputs": [],
   "source": [
    "model.set_param('e_Leak', value=-79)\n",
    "model.set_param('ena', value=60)\n",
    "model.set_param('ek', value=-80)\n",
    "model.set_param('temperature', value=37)\n",
    "model.set_param('v_init', value=-79)"
   ]
  },
  {
   "cell_type": "code",
   "execution_count": 61,
   "metadata": {},
   "outputs": [],
   "source": [
    "soma = model.sec_tree.soma\n",
    "dend = model.sec_tree.domains['dend'].sections[0]"
   ]
  },
  {
   "cell_type": "code",
   "execution_count": 62,
   "metadata": {},
   "outputs": [],
   "source": [
    "model.add_recording(soma, loc=0.5)\n",
    "model.add_recording(dend, loc=0.5)"
   ]
  },
  {
   "cell_type": "code",
   "execution_count": 63,
   "metadata": {},
   "outputs": [
    {
     "data": {
      "text/plain": [
       "{•0: Vector[0], •8: Vector[1]}"
      ]
     },
     "execution_count": 63,
     "metadata": {},
     "output_type": "execute_result"
    }
   ],
   "source": [
    "model.simulator.recordings"
   ]
  },
  {
   "cell_type": "code",
   "execution_count": 64,
   "metadata": {},
   "outputs": [
    {
     "name": "stdout",
     "output_type": "stream",
     "text": [
      "IClamp added to sec ••0 at loc 0.5.\n"
     ]
    }
   ],
   "source": [
    "model.remove_all_iclamps()\n",
    "model.add_iclamp(soma, loc=0.5, amp=0.15, delay=100, dur=100)"
   ]
  },
  {
   "cell_type": "code",
   "execution_count": 65,
   "metadata": {},
   "outputs": [
    {
     "data": {
      "text/plain": [
       "{•0: <IClamp(sec[0](0.50))>}"
      ]
     },
     "execution_count": 65,
     "metadata": {},
     "output_type": "execute_result"
    }
   ],
   "source": [
    "model.iclamps"
   ]
  },
  {
   "cell_type": "code",
   "execution_count": 66,
   "metadata": {},
   "outputs": [],
   "source": [
    "model.simulator.run(duration=300)"
   ]
  },
  {
   "cell_type": "code",
   "execution_count": 67,
   "metadata": {},
   "outputs": [
    {
     "data": {
      "image/png": "[encoded data removed]",
      "text/plain": [
       "<Figure size 1000x500 with 1 Axes>"
      ]
     },
     "metadata": {},
     "output_type": "display_data"
    }
   ],
   "source": [
    "fig, ax = plt.subplots(1, 1, figsize=(10, 5))\n",
    "model.simulator.plot_voltage(ax=ax, segments=[0])"
   ]
  },
  {
   "cell_type": "code",
   "execution_count": 66,
   "metadata": {},
   "outputs": [],
   "source": [
    "t, v, _ = model.simulator.run(duration=300)"
   ]
  },
  {
   "cell_type": "code",
   "execution_count": 84,
   "metadata": {},
   "outputs": [
    {
     "data": {
      "text/plain": [
       "{•0: Vector[0], •8: Vector[1]}"
      ]
     },
     "execution_count": 84,
     "metadata": {},
     "output_type": "execute_result"
    }
   ],
   "source": [
    "model.simulator.recordings"
   ]
  },
  {
   "cell_type": "code",
   "execution_count": 76,
   "metadata": {},
   "outputs": [],
   "source": [
    "model.simulator.v"
   ]
  },
  {
   "cell_type": "code",
   "execution_count": 83,
   "metadata": {},
   "outputs": [
    {
     "data": {
      "text/plain": [
       "(-100.0, 60.0)"
      ]
     },
     "execution_count": 83,
     "metadata": {},
     "output_type": "execute_result"
    },
    {
     "data": {
      "image/png": "[encoded data removed]",
      "text/plain": [
       "<Figure size 800x400 with 1 Axes>"
      ]
     },
     "metadata": {},
     "output_type": "display_data"
    }
   ],
   "source": [
    "fig, ax = plt.subplots(figsize=(8, 4))\n",
    "ax.plot(t[0], v[0])\n",
    "ax.set_ylim(-100, 60)"
   ]
  },
  {
   "cell_type": "code",
   "execution_count": 84,
   "metadata": {},
   "outputs": [
    {
     "data": {
      "text/plain": [
       "[SegmentGroup(\"all\", domains=['dend', 'soma', 'apic', 'axon']),\n",
       " SegmentGroup(\"dendritic\", domains=['dend']),\n",
       " SegmentGroup(\"somatic\", domains=['soma']),\n",
       " SegmentGroup(\"apical\", domains=['apic']),\n",
       " SegmentGroup(\"axonal\", domains=['axon'])]"
      ]
     },
     "execution_count": 84,
     "metadata": {},
     "output_type": "execute_result"
    }
   ],
   "source": [
    "model._groups"
   ]
  },
  {
   "cell_type": "code",
   "execution_count": 85,
   "metadata": {},
   "outputs": [
    {
     "name": "stdout",
     "output_type": "stream",
     "text": [
      "{'metadata': {'name': 'Park_2019'},\n",
      " 'd_lambda': 0.1,\n",
      " 'domains': {'dend': ['Leak',\n",
      "                      'Na',\n",
      "                      'Kv'],\n",
      "             'soma': ['Leak',\n",
      "                      'Na',\n",
      "                      'Kv'],\n",
      "             'apic': ['Leak',\n",
      "                      'Na',\n",
      "                      'Kv'],\n",
      "             'axon': ['Leak',\n",
      "                      'Na',\n",
      "                      'Kv']},\n",
      " 'groups': [{'name': 'all',\n",
      "             'domains': ['dend',\n",
      "                         'soma',\n",
      "                         'apic',\n",
      "                         'axon']},\n",
      "            {'name': 'dendritic',\n",
      "             'domains': ['dend']},\n",
      "            {'name': 'somatic',\n",
      "             'domains': ['soma']},\n",
      "            {'name': 'apical',\n",
      "             'domains': ['apic']},\n",
      "            {'name': 'axonal',\n",
      "             'domains': ['axon']}],\n",
      " 'params': {'cm': {'all': {'function': 'constant',\n",
      "                           'parameters': {'value': 1}},\n",
      "                   'somatic': {'function': 'constant',\n",
      "                               'parameters': {'value': 2}}},\n",
      "            'Ra': {'all': {'function': 'constant',\n",
      "                           'parameters': {'value': 100}}},\n",
      "            'gbar_Leak': {'all': {'function': 'constant',\n",
      "                                  'parameters': {'value': 0.0001}}},\n",
      "            'e_Leak': {'all': {'function': 'constant',\n",
      "                               'parameters': {'value': -79}}},\n",
      "            'gbar_Na': {'all': {'function': 'constant',\n",
      "                                'parameters': {'value': 0.03}},\n",
      "                        'somatic': {'function': 'constant',\n",
      "                                    'parameters': {'value': 0.05}}},\n",
      "            'Rma_Na': {'all': {'function': 'constant',\n",
      "                               'parameters': {'value': 0.182}}},\n",
      "            'Rmb_Na': {'all': {'function': 'constant',\n",
      "                               'parameters': {'value': 0.14}}},\n",
      "            'v12m_Na': {'all': {'function': 'constant',\n",
      "                                'parameters': {'value': -30}}},\n",
      "            'qm_Na': {'all': {'function': 'constant',\n",
      "                              'parameters': {'value': 9.8}}},\n",
      "            'Rhb_Na': {'all': {'function': 'constant',\n",
      "                               'parameters': {'value': 0.0091}}},\n",
      "            'Rha_Na': {'all': {'function': 'constant',\n",
      "                               'parameters': {'value': 0.024}}},\n",
      "            'v12ha_Na': {'all': {'function': 'constant',\n",
      "                                 'parameters': {'value': -45}}},\n",
      "            'v12hb_Na': {'all': {'function': 'constant',\n",
      "                                 'parameters': {'value': -70}}},\n",
      "            'qh_Na': {'all': {'function': 'constant',\n",
      "                              'parameters': {'value': 5}}},\n",
      "            'v12hinf_Na': {'all': {'function': 'constant',\n",
      "                                   'parameters': {'value': -60}}},\n",
      "            'qhinf_Na': {'all': {'function': 'constant',\n",
      "                                 'parameters': {'value': 6.2}}},\n",
      "            'ena': {'all': {'function': 'constant',\n",
      "                            'parameters': {'value': 60}}},\n",
      "            'gbar_Kv': {'all': {'function': 'constant',\n",
      "                                'parameters': {'value': 0.003}},\n",
      "                        'somatic': {'function': 'constant',\n",
      "                                    'parameters': {'value': 0.005}}},\n",
      "            'v12_Kv': {'all': {'function': 'constant',\n",
      "                               'parameters': {'value': 25}}},\n",
      "            'q_Kv': {'all': {'function': 'constant',\n",
      "                             'parameters': {'value': 9}}},\n",
      "            'ek': {'all': {'function': 'constant',\n",
      "                           'parameters': {'value': -80}}}}}\n"
     ]
    }
   ],
   "source": [
    "pprint(model.to_dict(), sort_dicts=False, width=1)"
   ]
  },
  {
   "cell_type": "code",
   "execution_count": 86,
   "metadata": {},
   "outputs": [
    {
     "data": {
      "text/plain": [
       "{'metadata': {'name': 'Park_2019'},\n",
       " 'simulation': {'temperature': 37, 'v_init': -79, 'dt': 0.025},\n",
       " 'stimuli': {'iclamps': [{'name': 'iclamp_0',\n",
       "    'amp': 0.15,\n",
       "    'delay': 100.0,\n",
       "    'dur': 100.0}],\n",
       "  'populations': {'AMPA': [], 'NMDA': [], 'AMPA_NMDA': [], 'GABAa': []}}}"
      ]
     },
     "execution_count": 86,
     "metadata": {},
     "output_type": "execute_result"
    }
   ],
   "source": [
    "model.stimuli_to_dict()"
   ]
  },
  {
   "cell_type": "code",
   "execution_count": 87,
   "metadata": {},
   "outputs": [
    {
     "name": "stdout",
     "output_type": "stream",
     "text": [
      "{'type': ['recording'], 'idx': [0], 'sec_idx': [0], 'loc': [0.5], 'n_per_seg': [1]}\n"
     ]
    },
    {
     "data": {
      "text/html": [
       "<div>\n",
       "<style scoped>\n",
       "    .dataframe tbody tr th:only-of-type {\n",
       "        vertical-align: middle;\n",
       "    }\n",
       "\n",
       "    .dataframe tbody tr th {\n",
       "        vertical-align: top;\n",
       "    }\n",
       "\n",
       "    .dataframe thead th {\n",
       "        text-align: right;\n",
       "    }\n",
       "</style>\n",
       "<table border=\"1\" class=\"dataframe\">\n",
       "  <thead>\n",
       "    <tr style=\"text-align: right;\">\n",
       "      <th></th>\n",
       "      <th>type</th>\n",
       "      <th>idx</th>\n",
       "      <th>sec_idx</th>\n",
       "      <th>loc</th>\n",
       "      <th>n_per_seg</th>\n",
       "    </tr>\n",
       "  </thead>\n",
       "  <tbody>\n",
       "    <tr>\n",
       "      <th>0</th>\n",
       "      <td>recording</td>\n",
       "      <td>0.0</td>\n",
       "      <td>0</td>\n",
       "      <td>0.5</td>\n",
       "      <td>1.0</td>\n",
       "    </tr>\n",
       "    <tr>\n",
       "      <th>1</th>\n",
       "      <td>iclamp</td>\n",
       "      <td>0.0</td>\n",
       "      <td>0</td>\n",
       "      <td>0.5</td>\n",
       "      <td>1.0</td>\n",
       "    </tr>\n",
       "  </tbody>\n",
       "</table>\n",
       "</div>"
      ],
      "text/plain": [
       "        type  idx  sec_idx  loc  n_per_seg\n",
       "0  recording  0.0        0  0.5        1.0\n",
       "1     iclamp  0.0        0  0.5        1.0"
      ]
     },
     "execution_count": 87,
     "metadata": {},
     "output_type": "execute_result"
    }
   ],
   "source": [
    "model._stimuli_to_csv()"
   ]
  },
  {
   "cell_type": "code",
   "execution_count": 89,
   "metadata": {},
   "outputs": [],
   "source": [
    "model.export_membrane(version='test', indent=4)"
   ]
  },
  {
   "cell_type": "markdown",
   "metadata": {},
   "source": [
    "# Synapses"
   ]
  },
  {
   "cell_type": "code",
   "execution_count": 90,
   "metadata": {},
   "outputs": [
    {
     "name": "stdout",
     "output_type": "stream",
     "text": [
      "├── AMPA\n",
      "│   ├── AMPA.mod\n",
      "│   └── x86_64\n",
      "├── AMPA.mod\n",
      "├── AMPA_NMDA\n",
      "│   ├── AMPA_NMDA.mod\n",
      "│   └── x86_64\n",
      "├── AMPA_NMDA.mod\n",
      "├── GABAa\n",
      "│   ├── GABAa.mod\n",
      "│   └── x86_64\n",
      "├── GABAa.mod\n",
      "├── Leak\n",
      "│   ├── Leak.mod\n",
      "│   └── x86_64\n",
      "├── Leak.mod\n",
      "├── NMDA\n",
      "│   ├── NMDA.mod\n",
      "│   └── x86_64\n",
      "├── NMDA.mod\n",
      "├── vecstim\n",
      "│   ├── vecstim.mod\n",
      "│   └── x86_64\n",
      "└── vecstim.mod\n"
     ]
    }
   ],
   "source": [
    "model.path_manager.print_directory_tree('default_mod')"
   ]
  },
  {
   "cell_type": "code",
   "execution_count": 91,
   "metadata": {},
   "outputs": [],
   "source": [
    "model.add_population(\n",
    "    segments=[seg for sec in model.get_sections(lambda sec: sec.domain == 'dend') for seg in sec.segments], \n",
    "    N=10, \n",
    "    syn_type='AMPA'\n",
    ")"
   ]
  },
  {
   "cell_type": "code",
   "execution_count": 92,
   "metadata": {},
   "outputs": [],
   "source": [
    "pop = model.populations['AMPA']['AMPA_0']"
   ]
  },
  {
   "cell_type": "code",
   "execution_count": 93,
   "metadata": {},
   "outputs": [
    {
     "data": {
      "text/plain": [
       "Text(0, 0.5, 'Number of synapses')"
      ]
     },
     "execution_count": 93,
     "metadata": {},
     "output_type": "execute_result"
    },
    {
     "data": {
      "image/png": "[encoded data removed]",
      "text/plain": [
       "<Figure size 500x200 with 1 Axes>"
      ]
     },
     "metadata": {},
     "output_type": "display_data"
    }
   ],
   "source": [
    "fig, ax = plt.subplots(figsize=(5, 2))\n",
    "# histogram of synapse N per secton (pop.n_per_sec)\n",
    "plt.plot([v for k,v in pop.n_per_seg.items()], 'o-');\n",
    "plt.xlabel('Segment index')\n",
    "plt.ylabel('Number of synapses')"
   ]
  },
  {
   "cell_type": "code",
   "execution_count": 94,
   "metadata": {},
   "outputs": [],
   "source": [
    "pop.update_input_params({'rate':100, 'weight':1, 'noise':1})"
   ]
  },
  {
   "cell_type": "code",
   "execution_count": 95,
   "metadata": {},
   "outputs": [
    {
     "name": "stdout",
     "output_type": "stream",
     "text": [
      "{'metadata': {'name': 'Park_2019'},\n",
      " 'd_lambda': 0.1,\n",
      " 'domains': {'dend': ['Leak',\n",
      "                      'Na',\n",
      "                      'Kv'],\n",
      "             'soma': ['Leak',\n",
      "                      'Na',\n",
      "                      'Kv'],\n",
      "             'apic': ['Leak',\n",
      "                      'Na',\n",
      "                      'Kv'],\n",
      "             'axon': ['Leak',\n",
      "                      'Na',\n",
      "                      'Kv']},\n",
      " 'groups': [{'name': 'all',\n",
      "             'domains': ['dend',\n",
      "                         'soma',\n",
      "                         'apic',\n",
      "                         'axon']},\n",
      "            {'name': 'dendritic',\n",
      "             'domains': ['dend']},\n",
      "            {'name': 'somatic',\n",
      "             'domains': ['soma']},\n",
      "            {'name': 'apical',\n",
      "             'domains': ['apic']},\n",
      "            {'name': 'axonal',\n",
      "             'domains': ['axon']}],\n",
      " 'params': {'cm': {'all': {'function': 'constant',\n",
      "                           'parameters': {'value': 1}},\n",
      "                   'somatic': {'function': 'constant',\n",
      "                               'parameters': {'value': 2}}},\n",
      "            'Ra': {'all': {'function': 'constant',\n",
      "                           'parameters': {'value': 100}}},\n",
      "            'gbar_Leak': {'all': {'function': 'constant',\n",
      "                                  'parameters': {'value': 0.0001}}},\n",
      "            'e_Leak': {'all': {'function': 'constant',\n",
      "                               'parameters': {'value': -79}}},\n",
      "            'gbar_Na': {'all': {'function': 'constant',\n",
      "                                'parameters': {'value': 0.03}},\n",
      "                        'somatic': {'function': 'constant',\n",
      "                                    'parameters': {'value': 0.05}}},\n",
      "            'Rma_Na': {'all': {'function': 'constant',\n",
      "                               'parameters': {'value': 0.182}}},\n",
      "            'Rmb_Na': {'all': {'function': 'constant',\n",
      "                               'parameters': {'value': 0.14}}},\n",
      "            'v12m_Na': {'all': {'function': 'constant',\n",
      "                                'parameters': {'value': -30}}},\n",
      "            'qm_Na': {'all': {'function': 'constant',\n",
      "                              'parameters': {'value': 9.8}}},\n",
      "            'Rhb_Na': {'all': {'function': 'constant',\n",
      "                               'parameters': {'value': 0.0091}}},\n",
      "            'Rha_Na': {'all': {'function': 'constant',\n",
      "                               'parameters': {'value': 0.024}}},\n",
      "            'v12ha_Na': {'all': {'function': 'constant',\n",
      "                                 'parameters': {'value': -45}}},\n",
      "            'v12hb_Na': {'all': {'function': 'constant',\n",
      "                                 'parameters': {'value': -70}}},\n",
      "            'qh_Na': {'all': {'function': 'constant',\n",
      "                              'parameters': {'value': 5}}},\n",
      "            'v12hinf_Na': {'all': {'function': 'constant',\n",
      "                                   'parameters': {'value': -60}}},\n",
      "            'qhinf_Na': {'all': {'function': 'constant',\n",
      "                                 'parameters': {'value': 6.2}}},\n",
      "            'ena': {'all': {'function': 'constant',\n",
      "                            'parameters': {'value': 60}}},\n",
      "            'gbar_Kv': {'all': {'function': 'constant',\n",
      "                                'parameters': {'value': 0.003}},\n",
      "                        'somatic': {'function': 'constant',\n",
      "                                    'parameters': {'value': 0.005}}},\n",
      "            'v12_Kv': {'all': {'function': 'constant',\n",
      "                               'parameters': {'value': 25}}},\n",
      "            'q_Kv': {'all': {'function': 'constant',\n",
      "                             'parameters': {'value': 9}}},\n",
      "            'ek': {'all': {'function': 'constant',\n",
      "                           'parameters': {'value': -80}}}}}\n"
     ]
    }
   ],
   "source": [
    "pprint(model.to_dict(), sort_dicts=False, width=1)"
   ]
  },
  {
   "cell_type": "code",
   "execution_count": 97,
   "metadata": {},
   "outputs": [
    {
     "name": "stdout",
     "output_type": "stream",
     "text": [
      "{'type': ['recording'], 'idx': [0], 'sec_idx': [0], 'loc': [0.5], 'n_per_seg': [1]}\n"
     ]
    }
   ],
   "source": [
    "model.export_stimuli(version='test', indent=4)"
   ]
  }
 ],
 "metadata": {
  "kernelspec": {
   "display_name": "dendrotweaks",
   "language": "python",
   "name": "python3"
  },
  "language_info": {
   "codemirror_mode": {
    "name": "ipython",
    "version": 3
   },
   "file_extension": ".py",
   "mimetype": "text/x-python",
   "name": "python",
   "nbconvert_exporter": "python",
   "pygments_lexer": "ipython3",
   "version": "3.11.3"
  }
 },
 "nbformat": 4,
 "nbformat_minor": 2
}
