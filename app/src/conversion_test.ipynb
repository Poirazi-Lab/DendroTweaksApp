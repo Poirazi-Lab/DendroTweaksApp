{
 "cells": [
  {
   "cell_type": "code",
   "execution_count": 1,
   "metadata": {},
   "outputs": [],
   "source": [
    "import os\n",
    "cwd = os.getcwd()"
   ]
  },
  {
   "cell_type": "code",
   "execution_count": 2,
   "metadata": {},
   "outputs": [],
   "source": [
    "import sys\n",
    "sys.path.insert(0, cwd + \"/src\")"
   ]
  },
  {
   "cell_type": "code",
   "execution_count": 3,
   "metadata": {},
   "outputs": [
    {
     "name": "stdout",
     "output_type": "stream",
     "text": [
      "/home/roman/Documents/code/DendroTweaks/app/src\n"
     ]
    }
   ],
   "source": [
    "from dendrotweaks.utils import *\n",
    "from dendrotweaks.membrane.io.reader import Reader\n",
    "from dendrotweaks.membrane.io.parser import Parser\n",
    "from dendrotweaks.membrane.io.code_generators import PythonCodeGenerator"
   ]
  },
  {
   "cell_type": "code",
   "execution_count": 4,
   "metadata": {},
   "outputs": [],
   "source": [
    "mechanism_name = \"Kv\"\n",
    "archive_name = \"Park_test\"\n",
    "path_to_mod_file = cwd + f\"/data/mod/{archive_name}/{mechanism_name}.mod\"\n",
    "path_to_python_file = cwd + f\"/data/mechanisms/{archive_name}/{mechanism_name}.py\"\n",
    "path_to_json_file = cwd + f\"/data/json/{archive_name}/{mechanism_name}.json\"\n",
    "path_to_template = cwd + \"/data/templates/template_dd_new.py\""
   ]
  },
  {
   "cell_type": "markdown",
   "metadata": {},
   "source": [
    "# Read and preprocess"
   ]
  },
  {
   "cell_type": "code",
   "execution_count": 5,
   "metadata": {},
   "outputs": [],
   "source": [
    "reader = Reader()"
   ]
  },
  {
   "cell_type": "code",
   "execution_count": 6,
   "metadata": {},
   "outputs": [],
   "source": [
    "reader.read_file(path_to_mod_file)"
   ]
  },
  {
   "cell_type": "code",
   "execution_count": 7,
   "metadata": {},
   "outputs": [],
   "source": [
    "reader.preprocess()"
   ]
  },
  {
   "cell_type": "code",
   "execution_count": 8,
   "metadata": {},
   "outputs": [
    {
     "name": "stdout",
     "output_type": "stream",
     "text": [
      "Split content into blocks:\n",
      "    1 - TITLE\n",
      "    1 - COMMENT\n",
      "    1 - NEURON\n",
      "    1 - UNITS\n",
      "    1 - PARAMETER\n",
      "    1 - ASSIGNED\n",
      "    1 - STATE\n",
      "    1 - BREAKPOINT\n",
      "    1 - DERIVATIVE\n",
      "    1 - INITIAL\n",
      "    1 - FUNCTION\n",
      "    1 - PROCEDURE\n",
      "    0 - KINETIC\n",
      "No unmatched content.\n"
     ]
    }
   ],
   "source": [
    "reader.split_content_in_blocks()"
   ]
  },
  {
   "cell_type": "code",
   "execution_count": 9,
   "metadata": {},
   "outputs": [
    {
     "data": {
      "text/plain": [
       "{'TITLE': ['TITLE Kv_Park_ref\\n'],\n",
       " 'COMMENT': ['COMMENT\\n26 Ago 2002 Modification of original channel to allow variable time step and to correct an initialization error.\\n    Done by Michael Hines(michael.hines@yale.e) and Ruggero Scorcioni(rscorcio@gmu.edu) at EU Advance Course in Computational Neuroscience. Obidos, Portugal\\n\\nkv.mod\\n\\nPotassium channel, Hodgkin-Huxley style kinetics\\nKinetic rates based roughly on Sah et al. and Hamill et al. (1991)\\n\\nAuthor\\nENDCOMMENT'],\n",
       " 'NEURON': ['NEURON {\\n\\tSUFFIX Kv\\n\\tUSEION k READ ek WRITE ik\\n\\tRANGE gbar, i, v12, q\\n}'],\n",
       " 'UNITS': ['UNITS {\\n\\t(mA) = (milliamp)\\n\\t(mV) = (millivolt)\\n\\t(S)  = (siemens)\\n\\t(um) = (micron)\\n}'],\n",
       " 'PARAMETER': ['PARAMETER {\\n\\tgbar = 0.0   (S/cm2)                                                                                      \\n\\tRa   = 0.02  (/mV/ms) \\n\\tRb   = 0.006 (/mV/ms) \\n\\tv12  = 25    (mV)\\t  \\n\\tq    = 9     (mV)     \\n\\ttemp = 23    (degC)   \\n\\tq10  = 2.3   (1)\\t  \\n}'],\n",
       " 'ASSIGNED': ['ASSIGNED {\\n\\tv       (mV)\\n\\ti \\t    (mA/cm2)\\n\\tik      (mA/cm2)\\n\\tgk      (S/cm2)\\n\\tek      (mV)\\n\\tninf    (1)\\n\\tntau    (ms)\\n\\ttadj    (1)\\n\\tcelsius (degC)\\n}'],\n",
       " 'STATE': ['STATE { n }'],\n",
       " 'BREAKPOINT': ['BREAKPOINT {\\n    SOLVE states METHOD cnexp\\n\\tgk = tadj * gbar * n\\n\\ti = gk * (v - ek)\\n\\tik = i\\n}'],\n",
       " 'DERIVATIVE': [\"DERIVATIVE  states {   \\n        rates(v)\\n        n' =  (ninf - n)/ntau\\n}\"],\n",
       " 'INITIAL': ['INITIAL { \\n\\trates(v)\\n\\tn = ninf\\n}'],\n",
       " 'FUNCTION': ['FUNCTION rateconst(v (mV), r (/mV/ms), th (mV), q (mV)) (/ms) {\\n\\trateconst = r * (v - th) / (1 - exp(-(v - th)/q))\\n}'],\n",
       " 'PROCEDURE': ['PROCEDURE rates(v (mV)) {\\n\\n\\tLOCAL alpn, betn\\n\\n\\ttadj = q10^((celsius - temp)/10(degC))\\n\\n\\talpn = rateconst(v, Ra, v12, q)\\n\\tbetn = rateconst(v, -Rb, v12, -q)\\n\\n    ntau = 1 / (tadj * (alpn + betn))\\n\\tninf = alpn/(alpn + betn)\\n}'],\n",
       " 'KINETIC': []}"
      ]
     },
     "execution_count": 9,
     "metadata": {},
     "output_type": "execute_result"
    }
   ],
   "source": [
    "reader.blocks"
   ]
  },
  {
   "cell_type": "markdown",
   "metadata": {},
   "source": [
    "# Parse"
   ]
  },
  {
   "cell_type": "code",
   "execution_count": 10,
   "metadata": {},
   "outputs": [],
   "source": [
    "parser = Parser()"
   ]
  },
  {
   "cell_type": "code",
   "execution_count": 11,
   "metadata": {},
   "outputs": [
    {
     "name": "stdout",
     "output_type": "stream",
     "text": [
      "Parsed TITLE block.\n",
      "Parsed COMMENT block.\n",
      "Parsed NEURON block.\n",
      "Parsed UNITS block.\n",
      "Parsed PARAMETER block.\n",
      "Parsed ASSIGNED block.\n",
      "Parsed STATE block.\n",
      "Parsed BREAKPOINT block.\n",
      "Parsed DERIVATIVE block.\n",
      "Parsed INITIAL block.\n",
      "Parsed FUNCTION block.\n",
      "Parsed PROCEDURE block.\n"
     ]
    }
   ],
   "source": [
    "parser.parse(reader.blocks)"
   ]
  },
  {
   "cell_type": "code",
   "execution_count": 12,
   "metadata": {},
   "outputs": [
    {
     "name": "stdout",
     "output_type": "stream",
     "text": [
      "Restoring expressions in BREAKPOINT\n",
      "Restoring expressions in DERIVATIVE\n",
      "Restoring expressions in FUNCTION\n",
      "Restoring expressions in PROCEDURE\n"
     ]
    }
   ],
   "source": [
    "parser.postprocess()"
   ]
  },
  {
   "cell_type": "code",
   "execution_count": 13,
   "metadata": {},
   "outputs": [
    {
     "data": {
      "text/plain": [
       "{'TITLE': ' Kv_Park_ref',\n",
       " 'COMMENT': ['26 Ago 2002 Modification of original channel to allow variable '\n",
       "             'time step and to correct an initialization error.',\n",
       "             '    Done by Michael Hines(michael.hines@yale.e) and Ruggero '\n",
       "             'Scorcioni(rscorcio@gmu.edu) at EU Advance Course in '\n",
       "             'Computational Neuroscience. Obidos, Portugal',\n",
       "             'kv.mod',\n",
       "             'Potassium channel, Hodgkin-Huxley style kinetics',\n",
       "             'Kinetic rates based roughly on Sah et al. and Hamill et al. '\n",
       "             '(1991)',\n",
       "             'Author'],\n",
       " 'NEURON': {'suffix': 'Kv',\n",
       "            'useion': [{'ion': 'k', 'read': ['ek'], 'write': ['ik']}],\n",
       "            'range': ['gbar', 'i', 'v12', 'q']},\n",
       " 'UNITS': {'mA': 'milliamp', 'mV': 'millivolt', 'S': 'siemens', 'um': 'micron'},\n",
       " 'PARAMETER': [{'name': 'gbar', 'value': 0.0, 'unit': 'S/cm2'},\n",
       "               {'name': 'Ra', 'value': 0.02, 'unit': '/mV/ms'},\n",
       "               {'name': 'Rb', 'value': 0.006, 'unit': '/mV/ms'},\n",
       "               {'name': 'v12', 'value': 25, 'unit': 'mV'},\n",
       "               {'name': 'q', 'value': 9, 'unit': 'mV'},\n",
       "               {'name': 'temp', 'value': 23, 'unit': 'degC'},\n",
       "               {'name': 'q10', 'value': 2.3, 'unit': '1'}],\n",
       " 'ASSIGNED': [{'name': 'v', 'unit': 'mV'},\n",
       "              {'name': 'i', 'unit': 'mA/cm2'},\n",
       "              {'name': 'ik', 'unit': 'mA/cm2'},\n",
       "              {'name': 'gk', 'unit': 'S/cm2'},\n",
       "              {'name': 'ek', 'unit': 'mV'},\n",
       "              {'name': 'ninf', 'unit': '1'},\n",
       "              {'name': 'ntau', 'unit': 'ms'},\n",
       "              {'name': 'tadj', 'unit': '1'},\n",
       "              {'name': 'celsius', 'unit': 'degC'}],\n",
       " 'STATE': {'n': {'power': 1}},\n",
       " 'BREAKPOINT': {'solve_stmt': {'solve': 'states', 'method': 'cnexp'},\n",
       "                'statements': [{'assigned_var': 'gk',\n",
       "                                'expression': '(tadj * gbar) * n'},\n",
       "                               {'assigned_var': 'i',\n",
       "                                'expression': 'gk * (v - ek)'},\n",
       "                               {'assigned_var': 'ik', 'expression': 'i'}]},\n",
       " 'DERIVATIVE': {'name': 'states',\n",
       "                'func_calls': [{'rates': ['v']}],\n",
       "                'statements': [{'assigned_var': 'n',\n",
       "                                'expression': '(ninf - n) / ntau'}]},\n",
       " 'INITIAL': {'statements': [{'rates': ['v']},\n",
       "                            {'assigned_var': 'n', 'expression': 'ninf'}]},\n",
       " 'FUNCTION': [{'signature': {'name': 'rateconst',\n",
       "                             'params': [{'name': 'v', 'unit': 'mV'},\n",
       "                                        {'name': 'r', 'unit': '/mV/ms'},\n",
       "                                        {'name': 'th', 'unit': 'mV'},\n",
       "                                        {'name': 'q', 'unit': 'mV'}],\n",
       "                             'returned_unit': '/ms'},\n",
       "               'locals': [],\n",
       "               'statements': [{'assigned_var': 'rateconst',\n",
       "                               'expression': '(r * (v - th)) / (1 - '\n",
       "                                             'np.exp((-(v - th) / q)))'}]}],\n",
       " 'PROCEDURE': [{'signature': {'name': 'rates',\n",
       "                              'params': [{'name': 'v', 'unit': 'mV'}]},\n",
       "                'locals': ['alpn', 'betn'],\n",
       "                'statements': [{'assigned_var': 'tadj',\n",
       "                                'expression': 'q10 ** ((celsius - temp) / 10)'},\n",
       "                               {'assigned_var': 'alpn',\n",
       "                                'expression': 'rateconst(v, Ra, v12, q)'},\n",
       "                               {'assigned_var': 'betn',\n",
       "                                'expression': 'rateconst(v, -Rb, v12, -q)'},\n",
       "                               {'assigned_var': 'nTau',\n",
       "                                'expression': '1 / (tadj * (alpn + betn))'},\n",
       "                               {'assigned_var': 'nInf',\n",
       "                                'expression': 'alpn / (alpn + betn)'}]}]}"
      ]
     },
     "execution_count": 13,
     "metadata": {},
     "output_type": "execute_result"
    }
   ],
   "source": [
    "parser.ast"
   ]
  },
  {
   "cell_type": "code",
   "execution_count": 14,
   "metadata": {},
   "outputs": [],
   "source": [
    "import json\n",
    "\n",
    "with open(path_to_json_file, 'w') as f:\n",
    "    json.dump(parser._ast, f, indent=4)"
   ]
  },
  {
   "cell_type": "markdown",
   "metadata": {},
   "source": [
    "# Generate python code"
   ]
  },
  {
   "cell_type": "code",
   "execution_count": 15,
   "metadata": {},
   "outputs": [],
   "source": [
    "generator = PythonCodeGenerator()"
   ]
  },
  {
   "cell_type": "code",
   "execution_count": 16,
   "metadata": {},
   "outputs": [],
   "source": [
    "generator.generate(parser.ast, path_to_template)"
   ]
  },
  {
   "cell_type": "code",
   "execution_count": 17,
   "metadata": {},
   "outputs": [
    {
     "name": "stdout",
     "output_type": "stream",
     "text": [
      "Saved content to /home/roman/Documents/code/DendroTweaks/app/src/data/mechanisms/Park_test/Kv.py\n"
     ]
    }
   ],
   "source": [
    "generator.write_file(path_to_python_file)"
   ]
  }
 ],
 "metadata": {
  "kernelspec": {
   "display_name": "dendrotweaks",
   "language": "python",
   "name": "python3"
  },
  "language_info": {
   "codemirror_mode": {
    "name": "ipython",
    "version": 3
   },
   "file_extension": ".py",
   "mimetype": "text/x-python",
   "name": "python",
   "nbconvert_exporter": "python",
   "pygments_lexer": "ipython3",
   "version": "3.11.3"
  }
 },
 "nbformat": 4,
 "nbformat_minor": 2
}
