{
 "cells": [
  {
   "cell_type": "code",
   "execution_count": 1,
   "metadata": {},
   "outputs": [],
   "source": [
    "import os\n",
    "cwd = os.getcwd()"
   ]
  },
  {
   "cell_type": "code",
   "execution_count": 2,
   "metadata": {},
   "outputs": [],
   "source": [
    "import sys\n",
    "sys.path.insert(0, cwd + \"/src\")"
   ]
  },
  {
   "cell_type": "code",
   "execution_count": 3,
   "metadata": {},
   "outputs": [],
   "source": [
    "mechanism_name = \"Kv\"\n",
    "archive_name = \"Park_test\"\n",
    "path_to_mod_file = cwd + f\"/data/mod/{archive_name}/{mechanism_name}.mod\"\n",
    "path_to_python_file = cwd + f\"/data/mechanisms/{archive_name}/{mechanism_name}.py\"\n",
    "path_to_json_file = cwd + f\"/data/json/{archive_name}/{mechanism_name}.json\"\n",
    "path_to_template = cwd + \"/data/templates/template_dd_new.py\""
   ]
  },
  {
   "cell_type": "code",
   "execution_count": 4,
   "metadata": {},
   "outputs": [
    {
     "name": "stdout",
     "output_type": "stream",
     "text": [
      "/home/roman/Documents/code/DendroTweaks/app/src\n"
     ]
    }
   ],
   "source": [
    "from dendrotweaks.membrane.io.converter import MODFileConverter"
   ]
  },
  {
   "cell_type": "code",
   "execution_count": 5,
   "metadata": {},
   "outputs": [],
   "source": [
    "converter = MODFileConverter()"
   ]
  },
  {
   "cell_type": "code",
   "execution_count": 6,
   "metadata": {},
   "outputs": [
    {
     "name": "stdout",
     "output_type": "stream",
     "text": [
      "READING\n",
      "Split content into blocks:\n",
      "    1 - TITLE\n",
      "    1 - COMMENT\n",
      "    1 - NEURON\n",
      "    1 - UNITS\n",
      "    1 - PARAMETER\n",
      "    1 - ASSIGNED\n",
      "    1 - STATE\n",
      "    1 - BREAKPOINT\n",
      "    1 - DERIVATIVE\n",
      "    1 - INITIAL\n",
      "    1 - FUNCTION\n",
      "    1 - PROCEDURE\n",
      "    0 - KINETIC\n",
      "No unmatched content.\n",
      "\n",
      "PARSING\n",
      "Parsed TITLE block.\n",
      "Parsed COMMENT block.\n",
      "Parsed NEURON block.\n",
      "Parsed UNITS block.\n",
      "Parsed PARAMETER block.\n",
      "Parsed ASSIGNED block.\n",
      "Parsed STATE block.\n",
      "Parsed BREAKPOINT block.\n",
      "Parsed DERIVATIVE block.\n",
      "Parsed INITIAL block.\n",
      "Parsed FUNCTION block.\n",
      "Parsed PROCEDURE block.\n",
      "Restoring expressions in BREAKPOINT\n",
      "Restoring expressions in DERIVATIVE\n",
      "Restoring expressions in FUNCTION\n",
      "Restoring expressions in PROCEDURE\n",
      "\n",
      "GENERATING\n",
      "Saved content to /home/roman/Documents/code/DendroTweaks/app/src/data/mechanisms/Park_test/Kv.py\n"
     ]
    }
   ],
   "source": [
    "converter.convert(path_to_mod_file, path_to_python_file, path_to_template)"
   ]
  }
 ],
 "metadata": {
  "kernelspec": {
   "display_name": "dendrotweaks",
   "language": "python",
   "name": "python3"
  },
  "language_info": {
   "codemirror_mode": {
    "name": "ipython",
    "version": 3
   },
   "file_extension": ".py",
   "mimetype": "text/x-python",
   "name": "python",
   "nbconvert_exporter": "python",
   "pygments_lexer": "ipython3",
   "version": "3.11.3"
  }
 },
 "nbformat": 4,
 "nbformat_minor": 2
}
