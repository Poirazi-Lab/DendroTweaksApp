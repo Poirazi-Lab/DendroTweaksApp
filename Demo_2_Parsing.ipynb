{
 "cells": [
  {
   "cell_type": "markdown",
   "metadata": {},
   "source": [
    "# Introduction"
   ]
  },
  {
   "cell_type": "markdown",
   "metadata": {},
   "source": [
    "In this notebook we will demonstrate the use of a custom parser for `.mod` files written in PyParsing. In DendroTweaks, this parser automatically creates Python classes for ion channels that provide an interface to the channel models for visualization and refinement."
   ]
  },
  {
   "cell_type": "markdown",
   "metadata": {},
   "source": [
    "# Imports"
   ]
  },
  {
   "cell_type": "code",
   "execution_count": 1,
   "metadata": {},
   "outputs": [],
   "source": [
    "import sys\n",
    "sys.path.append('app')"
   ]
  },
  {
   "cell_type": "code",
   "execution_count": 2,
   "metadata": {},
   "outputs": [],
   "source": [
    "from model.mechanisms.pparser import parser\n",
    "from pprint import pprint"
   ]
  },
  {
   "cell_type": "markdown",
   "metadata": {},
   "source": [
    "# Parsing a `.mod` file"
   ]
  },
  {
   "cell_type": "markdown",
   "metadata": {},
   "source": [
    "We'll parse a `.mod` file describing a potassium channel from Park et al. 2019. The parse method reads data from the file and applies the grammar defined in `app/model/mechanisms/pparsing.py` to obtain an abstract syntax tree (AST)."
   ]
  },
  {
   "cell_type": "code",
   "execution_count": 3,
   "metadata": {},
   "outputs": [
    {
     "name": "stdout",
     "output_type": "stream",
     "text": [
      "app/model/mechanisms/mod/Park_Kv/Park_Kv.mod\n"
     ]
    }
   ],
   "source": [
    "file_name = 'Park_Kv'\n",
    "path_to_file = f'app/model/mechanisms/mod/{file_name}/{file_name}.mod'\n",
    "print(path_to_file)\n",
    "parser.parse(mod_file=path_to_file)"
   ]
  },
  {
   "cell_type": "code",
   "execution_count": 4,
   "metadata": {},
   "outputs": [
    {
     "data": {
      "text/plain": [
       "{'mod_file': {'title': ' Kv_Park_ref',\n",
       "  'comment_block': '\\n26 Ago 2002 Modification of original channel to allow variable time step and to correct an initialization error.\\n    Done by Michael Hines(michael.hines@yale.e) and Ruggero Scorcioni(rscorcio@gmu.edu) at EU Advance Course in Computational Neuroscience. Obidos, Portugal\\n\\nkv.mod\\n\\nPotassium channel, Hodgkin-Huxley style kinetics\\nKinetic rates based roughly on Sah et al. and Hamill et al. (1991)\\n\\nAuthor\\n',\n",
       "  'neuron_block': {'suffix': 'kv',\n",
       "   'useion': [{'ion': 'k', 'read': ['ek'], 'write': ['ik']}],\n",
       "   'range': ['gbar', 'i', 'v12', 'q']},\n",
       "  'units_block': {'mA': 'milliamp',\n",
       "   'mV': 'millivolt',\n",
       "   'S': 'siemens',\n",
       "   'um': 'micron'},\n",
       "  'parameter_block': [{'name': 'gbar', 'value': 0.0, 'unit': 'S/cm2'},\n",
       "   {'name': 'Ra', 'value': 0.02, 'unit': '/mV/ms'},\n",
       "   {'name': 'Rb', 'value': 0.006, 'unit': '/mV/ms'},\n",
       "   {'name': 'v12', 'value': 25, 'unit': 'mV'},\n",
       "   {'name': 'q', 'value': 9, 'unit': 'mV'},\n",
       "   {'name': 'temp', 'value': 23, 'unit': 'degC'},\n",
       "   {'name': 'q10', 'value': 2.3, 'unit': '1'}],\n",
       "  'assigned_block': [{'name': 'v', 'unit': 'mV'},\n",
       "   {'name': 'i', 'unit': 'mA/cm2'},\n",
       "   {'name': 'ik', 'unit': 'mA/cm2'},\n",
       "   {'name': 'gk', 'unit': 'S/cm2'},\n",
       "   {'name': 'ek', 'unit': 'mV'},\n",
       "   {'name': 'ninf', 'unit': '1'},\n",
       "   {'name': 'ntau', 'unit': 'ms'},\n",
       "   {'name': 'tadj', 'unit': '1'},\n",
       "   {'name': 'celsius', 'unit': 'degC'}],\n",
       "  'state_block': {'n': 1},\n",
       "  'breakpoint_block': {'solve_stmt': {'solve': 'states', 'method': 'cnexp'},\n",
       "   'statements': [{'assigned_var': 'gk',\n",
       "     'expression': {'*': [{'*': ['tadj', 'gbar']}, 'n']}},\n",
       "    {'assigned_var': 'i', 'expression': {'*': ['gk', {'-': ['v', 'ek']}]}},\n",
       "    {'assigned_var': 'ik', 'expression': 'i'}]},\n",
       "  'derivative_block': {'name': 'states',\n",
       "   'func_calls': [{'rates': ['v']}],\n",
       "   'statements': [{'assigned_var': 'n',\n",
       "     'expression': {'/': [{'-': ['ninf', 'n']}, 'ntau']}}]},\n",
       "  'initial_block': {'statements': [{'rates': ['v']},\n",
       "    {'assigned_var': 'n', 'expression': 'ninf'}]},\n",
       "  'function_blocks': [{'signature': {'f_name': 'rateconst',\n",
       "     'params': [{'name': 'v', 'unit': 'mV'},\n",
       "      {'name': 'r', 'unit': '/mV/ms'},\n",
       "      {'name': 'th', 'unit': 'mV'},\n",
       "      {'name': 'q', 'unit': 'mV'}],\n",
       "     'returned_unit': '/ms'},\n",
       "    'locals': [],\n",
       "    'assignment_statements': [{'assigned_var': 'rateconst',\n",
       "      'expression': {'/': [{'*': ['r', {'-': ['v', 'th']}]},\n",
       "        {'-': [1, {'exp': [{'/': [{'-': [{'-': ['v', 'th']}]}, 'q']}]}]}]}}],\n",
       "    'statements': [{'assigned_var': 'rateconst',\n",
       "      'expression': {'/': [{'*': ['r', {'-': ['v', 'th']}]},\n",
       "        {'-': [1, {'exp': [{'/': [{'-': [{'-': ['v', 'th']}]}, 'q']}]}]}]}}]}],\n",
       "  'procedure_blocks': [{'signature': {'f_name': 'rates',\n",
       "     'params': [{'name': 'v', 'unit': 'mV'}]},\n",
       "    'locals': ['alpn', 'betn'],\n",
       "    'assignment_statements': [{'assigned_var': 'tadj',\n",
       "      'expression': {'^': ['q10', {'/': [{'-': ['celsius', 'temp']}, 10]}]}},\n",
       "     {'assigned_var': 'alpn',\n",
       "      'expression': {'rateconst': ['v', 'Ra', 'v12', 'q']}},\n",
       "     {'assigned_var': 'betn',\n",
       "      'expression': {'rateconst': ['v', {'-': ['Rb']}, 'v12', {'-': ['q']}]}},\n",
       "     {'assigned_var': 'ntau',\n",
       "      'expression': {'/': [1, {'*': ['tadj', {'+': ['alpn', 'betn']}]}]}},\n",
       "     {'assigned_var': 'ninf',\n",
       "      'expression': {'/': ['alpn', {'+': ['alpn', 'betn']}]}}],\n",
       "    'statements': [{'assigned_var': 'tadj',\n",
       "      'expression': {'^': ['q10', {'/': [{'-': ['celsius', 'temp']}, 10]}]}},\n",
       "     {'assigned_var': 'alpn',\n",
       "      'expression': {'rateconst': ['v', 'Ra', 'v12', 'q']}},\n",
       "     {'assigned_var': 'betn',\n",
       "      'expression': {'rateconst': ['v', {'-': ['Rb']}, 'v12', {'-': ['q']}]}},\n",
       "     {'assigned_var': 'ntau',\n",
       "      'expression': {'/': [1, {'*': ['tadj', {'+': ['alpn', 'betn']}]}]}},\n",
       "     {'assigned_var': 'ninf',\n",
       "      'expression': {'/': ['alpn', {'+': ['alpn', 'betn']}]}}]}]}}"
      ]
     },
     "execution_count": 4,
     "metadata": {},
     "output_type": "execute_result"
    }
   ],
   "source": [
    "parser.ast"
   ]
  },
  {
   "cell_type": "markdown",
   "metadata": {},
   "source": [
    "# NMODL blocks"
   ]
  },
  {
   "cell_type": "markdown",
   "metadata": {},
   "source": [
    "Next, we'll print the NMODL blocks of the file one by one, comparing the original lines with their resulting AST representation."
   ]
  },
  {
   "cell_type": "code",
   "execution_count": 5,
   "metadata": {},
   "outputs": [
    {
     "name": "stdout",
     "output_type": "stream",
     "text": [
      "UNITS {\n",
      "\t(mA) = (milliamp)\n",
      "\t(mV) = (millivolt)\n",
      "\t(S)  = (siemens)\n",
      "\t(um) = (micron)\n",
      "} \n",
      "\n",
      "\n",
      "{'S': 'siemens', 'mA': 'milliamp', 'mV': 'millivolt', 'um': 'micron'}\n"
     ]
    }
   ],
   "source": [
    "print(parser._get_block_regex('UNITS')[0], '\\n\\n')\n",
    "pprint(parser.ast['mod_file']['units_block'])"
   ]
  },
  {
   "cell_type": "code",
   "execution_count": 6,
   "metadata": {},
   "outputs": [
    {
     "name": "stdout",
     "output_type": "stream",
     "text": [
      "PARAMETER {\n",
      "\tgbar = 0.0   (S/cm2)                                                                                      \n",
      "\tRa   = 0.02  (/mV/ms) \n",
      "\tRb   = 0.006 (/mV/ms) \n",
      "\tv12  = 25    (mV)\t  \n",
      "\tq    = 9     (mV)     \n",
      "\ttemp = 23    (degC)   \n",
      "\tq10  = 2.3   (1)\t  \n",
      "} \n",
      "\n",
      "\n",
      "[{'name': 'gbar', 'unit': 'S/cm2', 'value': 0.0},\n",
      " {'name': 'Ra', 'unit': '/mV/ms', 'value': 0.02},\n",
      " {'name': 'Rb', 'unit': '/mV/ms', 'value': 0.006},\n",
      " {'name': 'v12', 'unit': 'mV', 'value': 25},\n",
      " {'name': 'q', 'unit': 'mV', 'value': 9},\n",
      " {'name': 'temp', 'unit': 'degC', 'value': 23},\n",
      " {'name': 'q10', 'unit': '1', 'value': 2.3}]\n"
     ]
    }
   ],
   "source": [
    "print(parser._get_block_regex('PARAMETER')[0], '\\n\\n')\n",
    "\n",
    "pprint(parser.ast['mod_file']['parameter_block'])"
   ]
  },
  {
   "cell_type": "code",
   "execution_count": 7,
   "metadata": {},
   "outputs": [
    {
     "name": "stdout",
     "output_type": "stream",
     "text": [
      "ASSIGNED {\n",
      "\tv       (mV)\n",
      "\ti \t    (mA/cm2)\n",
      "\tik      (mA/cm2)\n",
      "\tgk      (S/cm2)\n",
      "\tek      (mV)\n",
      "\tninf    (1)\n",
      "\tntau    (ms)\n",
      "\ttadj    (1)\n",
      "\tcelsius (degC)\n",
      "} \n",
      "\n",
      "\n",
      "[{'name': 'v', 'unit': 'mV'},\n",
      " {'name': 'i', 'unit': 'mA/cm2'},\n",
      " {'name': 'ik', 'unit': 'mA/cm2'},\n",
      " {'name': 'gk', 'unit': 'S/cm2'},\n",
      " {'name': 'ek', 'unit': 'mV'},\n",
      " {'name': 'ninf', 'unit': '1'},\n",
      " {'name': 'ntau', 'unit': 'ms'},\n",
      " {'name': 'tadj', 'unit': '1'},\n",
      " {'name': 'celsius', 'unit': 'degC'}]\n"
     ]
    }
   ],
   "source": [
    "print(parser._get_block_regex('ASSIGNED')[0], '\\n\\n')\n",
    "\n",
    "pprint(parser.ast['mod_file']['assigned_block'])"
   ]
  },
  {
   "cell_type": "code",
   "execution_count": 8,
   "metadata": {},
   "outputs": [
    {
     "name": "stdout",
     "output_type": "stream",
     "text": [
      "STATE { n } \n",
      "\n",
      "\n",
      "{'n': 1}\n"
     ]
    }
   ],
   "source": [
    "print(parser._get_block_regex('STATE')[0], '\\n\\n')\n",
    "\n",
    "print(parser.ast['mod_file']['state_block'])"
   ]
  },
  {
   "cell_type": "code",
   "execution_count": 9,
   "metadata": {},
   "outputs": [
    {
     "name": "stdout",
     "output_type": "stream",
     "text": [
      "BREAKPOINT {\n",
      "    SOLVE states METHOD cnexp\n",
      "\tgk = tadj * gbar * n\n",
      "\ti = gk * (v - ek)\n",
      "\tik = i\n",
      "} \n",
      "\n",
      "\n",
      "{'solve_stmt': {'method': 'cnexp', 'solve': 'states'},\n",
      " 'statements': [{'assigned_var': 'gk',\n",
      "                 'expression': {'*': [{'*': ['tadj', 'gbar']}, 'n']}},\n",
      "                {'assigned_var': 'i',\n",
      "                 'expression': {'*': ['gk', {'-': ['v', 'ek']}]}},\n",
      "                {'assigned_var': 'ik', 'expression': 'i'}]}\n"
     ]
    }
   ],
   "source": [
    "print(parser._get_block_regex('BREAKPOINT')[0], '\\n\\n')\n",
    "\n",
    "pprint(parser.ast['mod_file']['breakpoint_block'])"
   ]
  },
  {
   "cell_type": "code",
   "execution_count": 10,
   "metadata": {},
   "outputs": [
    {
     "name": "stdout",
     "output_type": "stream",
     "text": [
      "INITIAL { \n",
      "\trates(v)\n",
      "\tn = ninf\n",
      "} \n",
      "\n",
      "\n",
      "{'statements': [{'rates': ['v']}, {'assigned_var': 'n', 'expression': 'ninf'}]}\n"
     ]
    }
   ],
   "source": [
    "print(parser._get_block_regex('INITIAL')[0], '\\n\\n')\n",
    "\n",
    "pprint(parser.ast['mod_file']['initial_block'])"
   ]
  },
  {
   "cell_type": "code",
   "execution_count": 11,
   "metadata": {},
   "outputs": [
    {
     "name": "stdout",
     "output_type": "stream",
     "text": [
      "DERIVATIVE  states {   \n",
      "        rates(v)\n",
      "        n' =  (ninf - n)/ntau\n",
      "} \n",
      "\n",
      "\n",
      "{'func_calls': [{'rates': ['v']}],\n",
      " 'name': 'states',\n",
      " 'statements': [{'assigned_var': 'n',\n",
      "                 'expression': {'/': [{'-': ['ninf', 'n']}, 'ntau']}}]}\n"
     ]
    }
   ],
   "source": [
    "print(parser._get_block_regex('DERIVATIVE')[0], '\\n\\n')\n",
    "\n",
    "pprint(parser.ast['mod_file']['derivative_block'])"
   ]
  },
  {
   "cell_type": "code",
   "execution_count": 12,
   "metadata": {},
   "outputs": [
    {
     "name": "stdout",
     "output_type": "stream",
     "text": [
      "Number of functions: 1\n"
     ]
    }
   ],
   "source": [
    "print(f\"Number of functions: {len(parser.ast['mod_file']['function_blocks'])}\")"
   ]
  },
  {
   "cell_type": "code",
   "execution_count": 13,
   "metadata": {},
   "outputs": [
    {
     "name": "stdout",
     "output_type": "stream",
     "text": [
      "FUNCTION rateconst(v (mV), r (/mV/ms), th (mV), q (mV)) (/ms) {\n",
      "\trateconst = r * (v - th) / (1 - exp(-(v - th)/q))\n",
      "} \n",
      "\n",
      "\n",
      "{'assignment_statements': [{'assigned_var': 'rateconst',\n",
      "                            'expression': {'/': [{'*': ['r',\n",
      "                                                        {'-': ['v', 'th']}]},\n",
      "                                                 {'-': [1,\n",
      "                                                        {'exp': [{'/': [{'-': [{'-': ['v',\n",
      "                                                                                      'th']}]},\n",
      "                                                                        'q']}]}]}]}}],\n",
      " 'locals': [],\n",
      " 'signature': {'f_name': 'rateconst',\n",
      "               'params': [{'name': 'v', 'unit': 'mV'},\n",
      "                          {'name': 'r', 'unit': '/mV/ms'},\n",
      "                          {'name': 'th', 'unit': 'mV'},\n",
      "                          {'name': 'q', 'unit': 'mV'}],\n",
      "               'returned_unit': '/ms'},\n",
      " 'statements': [{'assigned_var': 'rateconst',\n",
      "                 'expression': {'/': [{'*': ['r', {'-': ['v', 'th']}]},\n",
      "                                      {'-': [1,\n",
      "                                             {'exp': [{'/': [{'-': [{'-': ['v',\n",
      "                                                                           'th']}]},\n",
      "                                                             'q']}]}]}]}}]}\n"
     ]
    }
   ],
   "source": [
    "print(parser._get_block_regex('FUNCTION')[0], '\\n\\n')\n",
    "\n",
    "for f in parser.ast['mod_file']['function_blocks']:\n",
    "    pprint(f)"
   ]
  },
  {
   "cell_type": "code",
   "execution_count": 14,
   "metadata": {},
   "outputs": [
    {
     "name": "stdout",
     "output_type": "stream",
     "text": [
      "Number of procedures: 1\n"
     ]
    }
   ],
   "source": [
    "print(f\"Number of procedures: {len(parser.ast['mod_file']['procedure_blocks'])}\")"
   ]
  },
  {
   "cell_type": "code",
   "execution_count": 15,
   "metadata": {},
   "outputs": [
    {
     "name": "stdout",
     "output_type": "stream",
     "text": [
      "PROCEDURE rates(v (mV)) {\n",
      "\n",
      "\tLOCAL alpn, betn\n",
      "\n",
      "\ttadj = q10^((celsius - temp)/10(degC))\n",
      "\n",
      "\talpn = rateconst(v, Ra, v12, q)\n",
      "\tbetn = rateconst(v, -Rb, v12, -q)\n",
      "\n",
      "    ntau = 1 / (tadj * (alpn + betn))\n",
      "\tninf = alpn/(alpn + betn)\n",
      "} \n",
      "\n",
      "\n",
      "{'assignment_statements': [{'assigned_var': 'tadj',\n",
      "                            'expression': {'^': ['q10',\n",
      "                                                 {'/': [{'-': ['celsius',\n",
      "                                                               'temp']},\n",
      "                                                        10]}]}},\n",
      "                           {'assigned_var': 'alpn',\n",
      "                            'expression': {'rateconst': ['v',\n",
      "                                                         'Ra',\n",
      "                                                         'v12',\n",
      "                                                         'q']}},\n",
      "                           {'assigned_var': 'betn',\n",
      "                            'expression': {'rateconst': ['v',\n",
      "                                                         {'-': ['Rb']},\n",
      "                                                         'v12',\n",
      "                                                         {'-': ['q']}]}},\n",
      "                           {'assigned_var': 'ntau',\n",
      "                            'expression': {'/': [1,\n",
      "                                                 {'*': ['tadj',\n",
      "                                                        {'+': ['alpn',\n",
      "                                                               'betn']}]}]}},\n",
      "                           {'assigned_var': 'ninf',\n",
      "                            'expression': {'/': ['alpn',\n",
      "                                                 {'+': ['alpn', 'betn']}]}}],\n",
      " 'locals': ['alpn', 'betn'],\n",
      " 'signature': {'f_name': 'rates', 'params': [{'name': 'v', 'unit': 'mV'}]},\n",
      " 'statements': [{'assigned_var': 'tadj',\n",
      "                 'expression': {'^': ['q10',\n",
      "                                      {'/': [{'-': ['celsius', 'temp']},\n",
      "                                             10]}]}},\n",
      "                {'assigned_var': 'alpn',\n",
      "                 'expression': {'rateconst': ['v', 'Ra', 'v12', 'q']}},\n",
      "                {'assigned_var': 'betn',\n",
      "                 'expression': {'rateconst': ['v',\n",
      "                                              {'-': ['Rb']},\n",
      "                                              'v12',\n",
      "                                              {'-': ['q']}]}},\n",
      "                {'assigned_var': 'ntau',\n",
      "                 'expression': {'/': [1,\n",
      "                                      {'*': ['tadj',\n",
      "                                             {'+': ['alpn', 'betn']}]}]}},\n",
      "                {'assigned_var': 'ninf',\n",
      "                 'expression': {'/': ['alpn', {'+': ['alpn', 'betn']}]}}]}\n"
     ]
    }
   ],
   "source": [
    "print(parser._get_block_regex('PROCEDURE')[0], '\\n\\n')\n",
    "\n",
    "pprint(parser.ast['mod_file']['procedure_blocks'][0])"
   ]
  },
  {
   "cell_type": "markdown",
   "metadata": {},
   "source": [
    "# Building a Python Class"
   ]
  },
  {
   "cell_type": "markdown",
   "metadata": {},
   "source": [
    "Using the AST representation, we can construct a Python class."
   ]
  },
  {
   "cell_type": "code",
   "execution_count": 16,
   "metadata": {},
   "outputs": [
    {
     "name": "stdout",
     "output_type": "stream",
     "text": [
      "import numpy as np\n",
      "try:\n",
      "    from ..channels import CustomVoltageDependentIonChannel\n",
      "except:\n",
      "    from channels import CustomVoltageDependentIonChannel\n",
      "\n",
      "class Park_Kv(CustomVoltageDependentIonChannel):\n",
      "    def __init__(self, cell=None):\n",
      "        super().__init__(name='Park_Kv', suffix='kv', cell=cell)\n",
      "        self.ion = 'k'\n",
      "        self.range_params = [\n",
      "            'gbar',\n",
      "            'v12',\n",
      "            'q',\n",
      "        ]\n",
      "        self.gbar = 0.0 # S/cm2\n",
      "        self.Ra = 0.02 # /mV/ms\n",
      "        self.Rb = 0.006 # /mV/ms\n",
      "        self.v12 = 25 # mV\n",
      "        self.q = 9 # mV\n",
      "        self.temp = 23 # degC\n",
      "        self.q10 = 2.3 # 1\n",
      "        self.celsius = 37 # degC\n",
      "        self.v = np.linspace(-100, 100, 1000)\n",
      "        self.state_vars = {\n",
      "            \"n\": {\n",
      "                \"inf\": \"ninf\",\n",
      "                \"tau\": \"ntau\",\n",
      "                \"power\": 1\n",
      "            },\n",
      "        }\n",
      "\n",
      "    def rateconst(self, v, r, th, q):\n",
      "        rateconst = (r * (v - th)) / (1 - np.exp((-((v - th)) / q)))\n",
      "        return rateconst\n",
      "\n",
      "    def rates(self, v):\n",
      "        self.tadj = self.q10 ** ((self.celsius - self.temp) / 10)\n",
      "        self.alpn = self.rateconst(v, self.Ra, self.v12, self.q)\n",
      "        self.betn = self.rateconst(v, -(self.Rb), self.v12, -(self.q))\n",
      "        self.ntau = 1 / (self.tadj * (self.alpn + self.betn))\n",
      "        self.ninf = self.alpn / (self.alpn + self.betn)\n",
      "\n",
      "    def update(self, x_range):\n",
      "        super().update(x_range)\n",
      "        v = x_range\n",
      "        self.x_range = x_range\n",
      "        self.rates(v, )\n",
      "        self.update_constant_state_vars(x_range)\n",
      "\n"
     ]
    }
   ],
   "source": [
    "print(parser.ast_to_python())"
   ]
  },
  {
   "cell_type": "code",
   "execution_count": 17,
   "metadata": {},
   "outputs": [
    {
     "name": "stdout",
     "output_type": "stream",
     "text": [
      "Wrote app/model/mechanisms/collection/Park_Kv.py\n"
     ]
    }
   ],
   "source": [
    "parser.write_python(py_file=f'app/model/mechanisms/collection/{file_name}.py')"
   ]
  },
  {
   "cell_type": "markdown",
   "metadata": {},
   "source": [
    "# Using the Python class"
   ]
  },
  {
   "cell_type": "markdown",
   "metadata": {},
   "source": [
    "Finally, we'll instantiate the Python class and visualize the channel's kinetics."
   ]
  },
  {
   "cell_type": "code",
   "execution_count": 18,
   "metadata": {},
   "outputs": [],
   "source": [
    "from model.mechanisms.collection.Park_Kv import Park_Kv"
   ]
  },
  {
   "cell_type": "code",
   "execution_count": 19,
   "metadata": {},
   "outputs": [],
   "source": [
    "kv = Park_Kv()"
   ]
  },
  {
   "cell_type": "code",
   "execution_count": 20,
   "metadata": {},
   "outputs": [],
   "source": [
    "import numpy as np\n",
    "kv.update(np.linspace(-100, 100, 100)) # voltage in mV"
   ]
  },
  {
   "cell_type": "code",
   "execution_count": 21,
   "metadata": {},
   "outputs": [
    {
     "data": {
      "text/plain": [
       "{'n': {'inf': 'ninf', 'tau': 'ntau', 'power': 1}}"
      ]
     },
     "execution_count": 21,
     "metadata": {},
     "output_type": "execute_result"
    }
   ],
   "source": [
    "kv.state_vars"
   ]
  },
  {
   "cell_type": "code",
   "execution_count": 22,
   "metadata": {},
   "outputs": [
    {
     "data": {
      "image/png": "[encoded data removed]",
      "text/plain": [
       "<Figure size 600x800 with 2 Axes>"
      ]
     },
     "metadata": {},
     "output_type": "display_data"
    }
   ],
   "source": [
    "import matplotlib.pyplot as plt\n",
    "fig, axes = plt.subplots(2, 1, figsize=(6, 8))\n",
    "plt.sca(axes[0])\n",
    "plt.plot(np.linspace(-100, 100, 100), kv.ninf)\n",
    "plt.xlabel('Voltage (mV)')\n",
    "plt.title('ninf')\n",
    "plt.sca(axes[1])\n",
    "plt.plot(np.linspace(-100, 100, 100), kv.ntau)\n",
    "plt.title('ntau')\n",
    "plt.xlabel('Voltage (mV)')\n",
    "plt.tight_layout()"
   ]
  }
 ],
 "metadata": {
  "kernelspec": {
   "display_name": "chapy",
   "language": "python",
   "name": "python3"
  },
  "language_info": {
   "codemirror_mode": {
    "name": "ipython",
    "version": 3
   },
   "file_extension": ".py",
   "mimetype": "text/x-python",
   "name": "python",
   "nbconvert_exporter": "python",
   "pygments_lexer": "ipython3",
   "version": "3.11.3"
  }
 },
 "nbformat": 4,
 "nbformat_minor": 2
}
