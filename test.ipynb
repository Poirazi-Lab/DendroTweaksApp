{
 "cells": [
  {
   "cell_type": "code",
   "execution_count": 1,
   "metadata": {},
   "outputs": [],
   "source": [
    "from app.view import create_palette, CANOPY_PALETTE"
   ]
  },
  {
   "cell_type": "code",
   "execution_count": 2,
   "metadata": {},
   "outputs": [
    {
     "data": {
      "image/png": "[encoded data removed]",
      "text/html": [
       "<div style=\"vertical-align: middle;\"><strong>concatenated</strong> </div><div class=\"cmap\"><img alt=\"concatenated colormap\" title=\"concatenated\" style=\"border: 1px solid #555;\" src=\"data:image/png;base64,iVBORw0KGgoAAAANSUhEUgAAAgAAAABACAYAAABsv8+/AAAAG3RFWHRUaXRsZQBjb25jYXRlbmF0ZWQgY29sb3JtYXBfDkR3AAAAIXRFWHREZXNjcmlwdGlvbgBjb25jYXRlbmF0ZWQgY29sb3JtYXDdl67yAAAAMXRFWHRBdXRob3IATWF0cGxvdGxpYiB2My4xMC4xLCBodHRwczovL21hdHBsb3RsaWIub3JnFhxeCAAAADN0RVh0U29mdHdhcmUATWF0cGxvdGxpYiB2My4xMC4xLCBodHRwczovL21hdHBsb3RsaWIub3JnszhN/AAAAgZJREFUeJzt1kty4jAARVFJePNZTq8vwc4AOV0oLWwoBl31zpmo9LFsGN368ee6lVLKZ7nZx6+3z+tT5199z7qtpZRStu16G/uJbfu6e+Jnv69vJ9fLcN/fc9eH6+X0e/p37u/7Na4H+0+eW9983/TcOrxvHMfvORiPzv3aH7/v1Xu2UkoprU/bWu/n1zrZn60/O3/PPZc+7mq9/T+trg/H2h7v/5zb5wfnz547f/72e5b+uy77WIf5ZH05Ov/qcy+fb328/HteW79vsr/P68H+k+eX4f1H99V+X9nHNszrMsyPxmVyz8nnZvvT+/bn2rDe7sc2Wf9Pn+szACCJAACAQAIAAAIJAAAIJAAAIJAAAIBAAgAAAgkAAAgkAAAgkAAAgEACAAACCQAACCQAACCQAACAQAIAAAIJAAAIJAAAIJAAAIBAAgAAAgkAAAgkAAAgkAAAgEACAAACCQAACCQAACCQAACAQAIAAAIJAAAIJAAAIJAAAIBAAgAAAgkAAAgkAAAgkAAAgEACAAACCQAACCQAACCQAACAQAIAAAIJAAAIJAAAIJAAAIBAAgAAAgkAAAgkAAAgkAAAgEACAAACCQAACCQAACCQAACAQAIAAAIJAAAIJAAAIJAAAIBAAgAAAgkAAAgkAAAgkAAAgEACAAACCQAACCQAACCQAACAQAIAAAJ9A5fF9d5yoUWJAAAAAElFTkSuQmCC\"></div><div style=\"vertical-align: middle; max-width: 514px; display: flex; justify-content: space-between;\"><div style=\"float: left;\"><div title=\"#89b1fdff\" style=\"display: inline-block; width: 1em; height: 1em; margin: 0; vertical-align: middle; border: 1px solid #555; background-color: #89b1fdff;\"></div> under</div><div style=\"margin: 0 auto; display: inline-block;\">bad <div title=\"#00000000\" style=\"display: inline-block; width: 1em; height: 1em; margin: 0; vertical-align: middle; border: 1px solid #555; background-color: #00000000;\"></div></div><div style=\"float: right;\">over <div title=\"#ff97c9ff\" style=\"display: inline-block; width: 1em; height: 1em; margin: 0; vertical-align: middle; border: 1px solid #555; background-color: #ff97c9ff;\"></div></div></div>"
      ],
      "text/plain": [
       "<matplotlib.colors.LinearSegmentedColormap at 0x74cabc10b950>"
      ]
     },
     "execution_count": 2,
     "metadata": {},
     "output_type": "execute_result"
    }
   ],
   "source": [
    "canopy = create_palette(CANOPY_PALETTE)\n",
    "canopy"
   ]
  },
  {
   "cell_type": "code",
   "execution_count": 3,
   "metadata": {},
   "outputs": [],
   "source": [
    "from app.view import canopy"
   ]
  },
  {
   "cell_type": "code",
   "execution_count": 4,
   "metadata": {},
   "outputs": [
    {
     "data": {
      "text/plain": [
       "['#89b1fd',\n",
       " '#84b1fd',\n",
       " '#7fb1fd',\n",
       " '#7bb1fd',\n",
       " '#76b1fd',\n",
       " '#72b1fd',\n",
       " '#6db1fd',\n",
       " '#69b1fd',\n",
       " '#64b1fd',\n",
       " '#60b1fd',\n",
       " '#5bb1fd',\n",
       " '#57b1fd',\n",
       " '#52b1fd',\n",
       " '#4eb1fe',\n",
       " '#49b1fe',\n",
       " '#45b1fe',\n",
       " '#40b1fe',\n",
       " '#3cb1fe',\n",
       " '#37b1fe',\n",
       " '#32b1fe',\n",
       " '#2eb1fe',\n",
       " '#29b1fe',\n",
       " '#25b1fe',\n",
       " '#20b1fe',\n",
       " '#1cb1fe',\n",
       " '#17b1fe',\n",
       " '#15b0fc',\n",
       " '#14aff9',\n",
       " '#13aff5',\n",
       " '#12aef1',\n",
       " '#12aeed',\n",
       " '#11adea',\n",
       " '#10ace6',\n",
       " '#0face2',\n",
       " '#0eabdf',\n",
       " '#0daadb',\n",
       " '#0caad7',\n",
       " '#0ba9d4',\n",
       " '#0ba9d0',\n",
       " '#0aa8cc',\n",
       " '#09a7c8',\n",
       " '#08a7c5',\n",
       " '#07a6c1',\n",
       " '#06a5bd',\n",
       " '#05a5ba',\n",
       " '#05a4b6',\n",
       " '#04a4b2',\n",
       " '#03a3af',\n",
       " '#02a2ab',\n",
       " '#01a2a7',\n",
       " '#00a1a3',\n",
       " '#00a0a0',\n",
       " '#009f9d',\n",
       " '#009e9a',\n",
       " '#009d98',\n",
       " '#009c95',\n",
       " '#009b92',\n",
       " '#009a8f',\n",
       " '#00998c',\n",
       " '#00988a',\n",
       " '#009787',\n",
       " '#009684',\n",
       " '#009581',\n",
       " '#00947e',\n",
       " '#00927c',\n",
       " '#009179',\n",
       " '#009076',\n",
       " '#008f73',\n",
       " '#008e70',\n",
       " '#008d6e',\n",
       " '#008c6b',\n",
       " '#008b68',\n",
       " '#008a65',\n",
       " '#008962',\n",
       " '#008860',\n",
       " '#00875d',\n",
       " '#00865a',\n",
       " '#008558',\n",
       " '#008356',\n",
       " '#008254',\n",
       " '#008152',\n",
       " '#00804f',\n",
       " '#007e4d',\n",
       " '#007d4b',\n",
       " '#007c49',\n",
       " '#007b47',\n",
       " '#007a45',\n",
       " '#007843',\n",
       " '#007741',\n",
       " '#00763f',\n",
       " '#00753d',\n",
       " '#00733b',\n",
       " '#007239',\n",
       " '#007136',\n",
       " '#007034',\n",
       " '#006f32',\n",
       " '#006d30',\n",
       " '#006c2e',\n",
       " '#006b2c',\n",
       " '#006a2a',\n",
       " '#006828',\n",
       " '#006726',\n",
       " '#006625',\n",
       " '#026425',\n",
       " '#046226',\n",
       " '#066026',\n",
       " '#085d27',\n",
       " '#0a5b27',\n",
       " '#0c5928',\n",
       " '#0e5729',\n",
       " '#105529',\n",
       " '#12532a',\n",
       " '#14512a',\n",
       " '#164f2b',\n",
       " '#184d2b',\n",
       " '#1a4b2c',\n",
       " '#1c492c',\n",
       " '#1e472d',\n",
       " '#20452e',\n",
       " '#22432e',\n",
       " '#24412f',\n",
       " '#263f2f',\n",
       " '#283d30',\n",
       " '#2a3b30',\n",
       " '#2c3931',\n",
       " '#2e3731',\n",
       " '#303532',\n",
       " '#333333',\n",
       " 'gray',\n",
       " '#333333',\n",
       " '#343430',\n",
       " '#36352e',\n",
       " '#38362c',\n",
       " '#3a372a',\n",
       " '#3c3828',\n",
       " '#3d3a26',\n",
       " '#3f3b24',\n",
       " '#413c22',\n",
       " '#433d20',\n",
       " '#453e1e',\n",
       " '#463f1c',\n",
       " '#48411a',\n",
       " '#4a4218',\n",
       " '#4c4316',\n",
       " '#4e4414',\n",
       " '#4f4512',\n",
       " '#514710',\n",
       " '#53480e',\n",
       " '#55490c',\n",
       " '#574a0a',\n",
       " '#594b08',\n",
       " '#5a4c06',\n",
       " '#5c4e04',\n",
       " '#5e4f02',\n",
       " '#605000',\n",
       " '#625100',\n",
       " '#665100',\n",
       " '#695100',\n",
       " '#6c5200',\n",
       " '#6f5200',\n",
       " '#725200',\n",
       " '#755300',\n",
       " '#785300',\n",
       " '#7c5300',\n",
       " '#7f5400',\n",
       " '#825400',\n",
       " '#855400',\n",
       " '#885400',\n",
       " '#8b5500',\n",
       " '#8e5500',\n",
       " '#925500',\n",
       " '#955600',\n",
       " '#985600',\n",
       " '#9b5600',\n",
       " '#9e5700',\n",
       " '#a15700',\n",
       " '#a55700',\n",
       " '#a85800',\n",
       " '#ab5800',\n",
       " '#ae5800',\n",
       " '#b15900',\n",
       " '#b45902',\n",
       " '#b75905',\n",
       " '#ba5907',\n",
       " '#bd590a',\n",
       " '#c05a0c',\n",
       " '#c45a0f',\n",
       " '#c75a11',\n",
       " '#ca5a14',\n",
       " '#cd5a16',\n",
       " '#d05b19',\n",
       " '#d35b1b',\n",
       " '#d65b1e',\n",
       " '#d95b20',\n",
       " '#dc5b23',\n",
       " '#df5b25',\n",
       " '#e25c28',\n",
       " '#e55c2a',\n",
       " '#e85c2d',\n",
       " '#eb5c2f',\n",
       " '#ef5c32',\n",
       " '#f25d34',\n",
       " '#f55d37',\n",
       " '#f85d39',\n",
       " '#fb5d3c',\n",
       " '#fe5d3e',\n",
       " '#ff5e41',\n",
       " '#ff5f44',\n",
       " '#ff6147',\n",
       " '#ff624a',\n",
       " '#ff634e',\n",
       " '#ff6451',\n",
       " '#ff6554',\n",
       " '#ff6657',\n",
       " '#ff675a',\n",
       " '#ff685d',\n",
       " '#ff6961',\n",
       " '#ff6b64',\n",
       " '#ff6c67',\n",
       " '#ff6d6a',\n",
       " '#ff6e6d',\n",
       " '#ff6f70',\n",
       " '#ff7073',\n",
       " '#ff7177',\n",
       " '#ff727a',\n",
       " '#ff737d',\n",
       " '#ff7480',\n",
       " '#ff7683',\n",
       " '#ff7786',\n",
       " '#ff7889',\n",
       " '#ff798d',\n",
       " '#ff7a8f',\n",
       " '#ff7b92',\n",
       " '#ff7c94',\n",
       " '#ff7d96',\n",
       " '#ff7f99',\n",
       " '#ff809b',\n",
       " '#ff819d',\n",
       " '#ff829f',\n",
       " '#ff83a2',\n",
       " '#ff84a4',\n",
       " '#ff85a6',\n",
       " '#ff87a9',\n",
       " '#ff88ab',\n",
       " '#ff89ad',\n",
       " '#ff8aaf',\n",
       " '#ff8bb2',\n",
       " '#ff8cb4',\n",
       " '#ff8db6',\n",
       " '#ff8fb9',\n",
       " '#ff90bb',\n",
       " '#ff91bd',\n",
       " '#ff92bf',\n",
       " '#ff93c2',\n",
       " '#ff94c4',\n",
       " '#ff95c6',\n",
       " '#ff97c9']"
      ]
     },
     "execution_count": 4,
     "metadata": {},
     "output_type": "execute_result"
    }
   ],
   "source": [
    "canopy"
   ]
  },
  {
   "cell_type": "code",
   "execution_count": 2,
   "metadata": {},
   "outputs": [
    {
     "data": {
      "text/plain": [
       "'0.2.1'"
      ]
     },
     "execution_count": 2,
     "metadata": {},
     "output_type": "execute_result"
    }
   ],
   "source": [
    "import dendrotweaks as dd\n",
    "dd.__version__"
   ]
  },
  {
   "cell_type": "code",
   "execution_count": 5,
   "metadata": {},
   "outputs": [
    {
     "data": {
      "text/plain": [
       "'/home/roman/Documents/code/Personal/DendroTweaks/app/data'"
      ]
     },
     "execution_count": 5,
     "metadata": {},
     "output_type": "execute_result"
    }
   ],
   "source": [
    "import os\n",
    "path_to_data = os.path.join(os.getcwd(), 'app', 'data')\n",
    "path_to_data"
   ]
  },
  {
   "cell_type": "code",
   "execution_count": 6,
   "metadata": {},
   "outputs": [
    {
     "name": "stdout",
     "output_type": "stream",
     "text": [
      "Downloading examples from https://github.com/Poirazi-Lab/DendroTweaks/archive/refs/heads/main.zip...\n",
      "Extracting examples to /home/roman/Documents/code/Personal/DendroTweaks/app/data\n",
      "Examples downloaded successfully to /home/roman/Documents/code/Personal/DendroTweaks/app/data/.\n"
     ]
    }
   ],
   "source": [
    "dd.download_example_data(path_to_data)"
   ]
  },
  {
   "cell_type": "code",
   "execution_count": 9,
   "metadata": {},
   "outputs": [],
   "source": [
    "import bokeh"
   ]
  },
  {
   "cell_type": "code",
   "execution_count": 10,
   "metadata": {},
   "outputs": [
    {
     "data": {
      "text/plain": [
       "'3.7.0'"
      ]
     },
     "execution_count": 10,
     "metadata": {},
     "output_type": "execute_result"
    }
   ],
   "source": [
    "bokeh.__version__"
   ]
  },
  {
   "cell_type": "code",
   "execution_count": 11,
   "metadata": {},
   "outputs": [],
   "source": [
    "import networkx as nx"
   ]
  },
  {
   "cell_type": "code",
   "execution_count": 13,
   "metadata": {},
   "outputs": [
    {
     "data": {
      "text/plain": [
       "'3.4.2'"
      ]
     },
     "execution_count": 13,
     "metadata": {},
     "output_type": "execute_result"
    }
   ],
   "source": [
    "nx.__version__"
   ]
  },
  {
   "cell_type": "code",
   "execution_count": 14,
   "metadata": {},
   "outputs": [],
   "source": [
    "from networkx.drawing.nx_agraph import graphviz_layout "
   ]
  },
  {
   "cell_type": "code",
   "execution_count": 24,
   "metadata": {},
   "outputs": [
    {
     "data": {
      "text/plain": [
       "(array([15., 28., 41., 54., 67., 80.]),\n",
       " array([-15.,  -3.,   9.,  21.,  33.,  45.]))"
      ]
     },
     "execution_count": 24,
     "metadata": {},
     "output_type": "execute_result"
    }
   ],
   "source": [
    "import numpy as np\n",
    "np.linspace(15, 80, 6), np.linspace(-15, 45, 6)"
   ]
  },
  {
   "cell_type": "code",
   "execution_count": 17,
   "metadata": {},
   "outputs": [
    {
     "ename": "ImportError",
     "evalue": "requires pygraphviz http://pygraphviz.github.io/",
     "output_type": "error",
     "traceback": [
      "\u001b[31m---------------------------------------------------------------------------\u001b[39m",
      "\u001b[31mModuleNotFoundError\u001b[39m                       Traceback (most recent call last)",
      "\u001b[36mFile \u001b[39m\u001b[32m~/anaconda3/envs/dendrotweaksapp/lib/python3.11/site-packages/networkx/drawing/nx_agraph.py:301\u001b[39m, in \u001b[36mpygraphviz_layout\u001b[39m\u001b[34m(G, prog, root, args)\u001b[39m\n\u001b[32m    300\u001b[39m \u001b[38;5;28;01mtry\u001b[39;00m:\n\u001b[32m--> \u001b[39m\u001b[32m301\u001b[39m     \u001b[38;5;28;01mimport\u001b[39;00m\u001b[38;5;250m \u001b[39m\u001b[34;01mpygraphviz\u001b[39;00m\n\u001b[32m    302\u001b[39m \u001b[38;5;28;01mexcept\u001b[39;00m \u001b[38;5;167;01mImportError\u001b[39;00m \u001b[38;5;28;01mas\u001b[39;00m err:\n",
      "\u001b[31mModuleNotFoundError\u001b[39m: No module named 'pygraphviz'",
      "\nThe above exception was the direct cause of the following exception:\n",
      "\u001b[31mImportError\u001b[39m                               Traceback (most recent call last)",
      "\u001b[36mCell\u001b[39m\u001b[36m \u001b[39m\u001b[32mIn[17]\u001b[39m\u001b[32m, line 8\u001b[39m\n\u001b[32m      5\u001b[39m G.add_edge(\u001b[33m'\u001b[39m\u001b[33mC\u001b[39m\u001b[33m'\u001b[39m, \u001b[33m'\u001b[39m\u001b[33mD\u001b[39m\u001b[33m'\u001b[39m)\n\u001b[32m      7\u001b[39m \u001b[38;5;66;03m# use graphviz to find radial layout\u001b[39;00m\n\u001b[32m----> \u001b[39m\u001b[32m8\u001b[39m pos = \u001b[43mgraphviz_layout\u001b[49m\u001b[43m(\u001b[49m\u001b[43mG\u001b[49m\u001b[43m,\u001b[49m\u001b[43m \u001b[49m\u001b[43mprog\u001b[49m\u001b[43m=\u001b[49m\u001b[33;43m'\u001b[39;49m\u001b[33;43mdot\u001b[39;49m\u001b[33;43m'\u001b[39;49m\u001b[43m)\u001b[49m\n\u001b[32m     10\u001b[39m \u001b[38;5;28;01mimport\u001b[39;00m\u001b[38;5;250m \u001b[39m\u001b[34;01mmatplotlib\u001b[39;00m\u001b[34;01m.\u001b[39;00m\u001b[34;01mpyplot\u001b[39;00m\u001b[38;5;250m \u001b[39m\u001b[38;5;28;01mas\u001b[39;00m\u001b[38;5;250m \u001b[39m\u001b[34;01mplt\u001b[39;00m\n\u001b[32m     12\u001b[39m plt.figure(figsize=(\u001b[32m5\u001b[39m, \u001b[32m5\u001b[39m))\n",
      "\u001b[36mFile \u001b[39m\u001b[32m~/anaconda3/envs/dendrotweaksapp/lib/python3.11/site-packages/networkx/drawing/nx_agraph.py:257\u001b[39m, in \u001b[36mgraphviz_layout\u001b[39m\u001b[34m(G, prog, root, args)\u001b[39m\n\u001b[32m    226\u001b[39m \u001b[38;5;28;01mdef\u001b[39;00m\u001b[38;5;250m \u001b[39m\u001b[34mgraphviz_layout\u001b[39m(G, prog=\u001b[33m\"\u001b[39m\u001b[33mneato\u001b[39m\u001b[33m\"\u001b[39m, root=\u001b[38;5;28;01mNone\u001b[39;00m, args=\u001b[33m\"\u001b[39m\u001b[33m\"\u001b[39m):\n\u001b[32m    227\u001b[39m \u001b[38;5;250m    \u001b[39m\u001b[33;03m\"\"\"Create node positions for G using Graphviz.\u001b[39;00m\n\u001b[32m    228\u001b[39m \n\u001b[32m    229\u001b[39m \u001b[33;03m    Parameters\u001b[39;00m\n\u001b[32m   (...)\u001b[39m\u001b[32m    255\u001b[39m \u001b[33;03m    see https://gitlab.com/graphviz/graphviz/-/issues/1767 for more info.\u001b[39;00m\n\u001b[32m    256\u001b[39m \u001b[33;03m    \"\"\"\u001b[39;00m\n\u001b[32m--> \u001b[39m\u001b[32m257\u001b[39m     \u001b[38;5;28;01mreturn\u001b[39;00m \u001b[43mpygraphviz_layout\u001b[49m\u001b[43m(\u001b[49m\u001b[43mG\u001b[49m\u001b[43m,\u001b[49m\u001b[43m \u001b[49m\u001b[43mprog\u001b[49m\u001b[43m=\u001b[49m\u001b[43mprog\u001b[49m\u001b[43m,\u001b[49m\u001b[43m \u001b[49m\u001b[43mroot\u001b[49m\u001b[43m=\u001b[49m\u001b[43mroot\u001b[49m\u001b[43m,\u001b[49m\u001b[43m \u001b[49m\u001b[43margs\u001b[49m\u001b[43m=\u001b[49m\u001b[43margs\u001b[49m\u001b[43m)\u001b[49m\n",
      "\u001b[36mFile \u001b[39m\u001b[32m~/anaconda3/envs/dendrotweaksapp/lib/python3.11/site-packages/networkx/drawing/nx_agraph.py:303\u001b[39m, in \u001b[36mpygraphviz_layout\u001b[39m\u001b[34m(G, prog, root, args)\u001b[39m\n\u001b[32m    301\u001b[39m     \u001b[38;5;28;01mimport\u001b[39;00m\u001b[38;5;250m \u001b[39m\u001b[34;01mpygraphviz\u001b[39;00m\n\u001b[32m    302\u001b[39m \u001b[38;5;28;01mexcept\u001b[39;00m \u001b[38;5;167;01mImportError\u001b[39;00m \u001b[38;5;28;01mas\u001b[39;00m err:\n\u001b[32m--> \u001b[39m\u001b[32m303\u001b[39m     \u001b[38;5;28;01mraise\u001b[39;00m \u001b[38;5;167;01mImportError\u001b[39;00m(\u001b[33m\"\u001b[39m\u001b[33mrequires pygraphviz http://pygraphviz.github.io/\u001b[39m\u001b[33m\"\u001b[39m) \u001b[38;5;28;01mfrom\u001b[39;00m\u001b[38;5;250m \u001b[39m\u001b[34;01merr\u001b[39;00m\n\u001b[32m    304\u001b[39m \u001b[38;5;28;01mif\u001b[39;00m root \u001b[38;5;129;01mis\u001b[39;00m \u001b[38;5;129;01mnot\u001b[39;00m \u001b[38;5;28;01mNone\u001b[39;00m:\n\u001b[32m    305\u001b[39m     args += \u001b[33mf\u001b[39m\u001b[33m\"\u001b[39m\u001b[33m-Groot=\u001b[39m\u001b[38;5;132;01m{\u001b[39;00mroot\u001b[38;5;132;01m}\u001b[39;00m\u001b[33m\"\u001b[39m\n",
      "\u001b[31mImportError\u001b[39m: requires pygraphviz http://pygraphviz.github.io/"
     ]
    }
   ],
   "source": [
    "G = nx.DiGraph()\n",
    "\n",
    "G.add_edge('A', 'B')\n",
    "G.add_edge('B', 'C')\n",
    "G.add_edge('C', 'D')\n",
    "\n",
    "# use graphviz to find radial layout\n",
    "pos = graphviz_layout(G, prog='dot')\n",
    "\n",
    "import matplotlib.pyplot as plt\n",
    "\n",
    "plt.figure(figsize=(5, 5))\n",
    "nx.draw(G, pos, with_labels=True, arrows=True)\n"
   ]
  },
  {
   "cell_type": "code",
   "execution_count": null,
   "metadata": {},
   "outputs": [
    {
     "data": {
      "text/plain": [
       "<function networkx.drawing.nx_agraph.graphviz_layout(G, prog='neato', root=None, args='')>"
      ]
     },
     "execution_count": 15,
     "metadata": {},
     "output_type": "execute_result"
    }
   ],
   "source": []
  }
 ],
 "metadata": {
  "kernelspec": {
   "display_name": "dendrotweaksapp",
   "language": "python",
   "name": "python3"
  },
  "language_info": {
   "codemirror_mode": {
    "name": "ipython",
    "version": 3
   },
   "file_extension": ".py",
   "mimetype": "text/x-python",
   "name": "python",
   "nbconvert_exporter": "python",
   "pygments_lexer": "ipython3",
   "version": "3.11.11"
  }
 },
 "nbformat": 4,
 "nbformat_minor": 2
}
