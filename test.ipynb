{
 "cells": [
  {
   "cell_type": "code",
   "execution_count": 2,
   "metadata": {},
   "outputs": [
    {
     "data": {
      "text/plain": [
       "'0.2.1'"
      ]
     },
     "execution_count": 2,
     "metadata": {},
     "output_type": "execute_result"
    }
   ],
   "source": [
    "import dendrotweaks as dd\n",
    "dd.__version__"
   ]
  },
  {
   "cell_type": "code",
   "execution_count": 5,
   "metadata": {},
   "outputs": [
    {
     "data": {
      "text/plain": [
       "'/home/roman/Documents/code/Personal/DendroTweaks/app/data'"
      ]
     },
     "execution_count": 5,
     "metadata": {},
     "output_type": "execute_result"
    }
   ],
   "source": [
    "import os\n",
    "path_to_data = os.path.join(os.getcwd(), 'app', 'data')\n",
    "path_to_data"
   ]
  },
  {
   "cell_type": "code",
   "execution_count": 6,
   "metadata": {},
   "outputs": [
    {
     "name": "stdout",
     "output_type": "stream",
     "text": [
      "Downloading examples from https://github.com/Poirazi-Lab/DendroTweaks/archive/refs/heads/main.zip...\n",
      "Extracting examples to /home/roman/Documents/code/Personal/DendroTweaks/app/data\n",
      "Examples downloaded successfully to /home/roman/Documents/code/Personal/DendroTweaks/app/data/.\n"
     ]
    }
   ],
   "source": [
    "dd.download_example_data(path_to_data)"
   ]
  }
 ],
 "metadata": {
  "kernelspec": {
   "display_name": "dendrotweaksapp",
   "language": "python",
   "name": "python3"
  },
  "language_info": {
   "codemirror_mode": {
    "name": "ipython",
    "version": 3
   },
   "file_extension": ".py",
   "mimetype": "text/x-python",
   "name": "python",
   "nbconvert_exporter": "python",
   "pygments_lexer": "ipython3",
   "version": "3.11.11"
  }
 },
 "nbformat": 4,
 "nbformat_minor": 2
}
