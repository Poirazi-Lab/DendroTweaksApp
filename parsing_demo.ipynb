{
 "cells": [
  {
   "cell_type": "code",
   "execution_count": 1,
   "metadata": {},
   "outputs": [
    {
     "data": {
      "text/plain": [
       "['/home/roman/Documents/code/DendroTweaks',\n",
       " '/home/roman/anaconda3/envs/chapy/lib/python311.zip',\n",
       " '/home/roman/anaconda3/envs/chapy/lib/python3.11',\n",
       " '/home/roman/anaconda3/envs/chapy/lib/python3.11/lib-dynload',\n",
       " '',\n",
       " '/home/roman/anaconda3/envs/chapy/lib/python3.11/site-packages',\n",
       " 'app']"
      ]
     },
     "execution_count": 1,
     "metadata": {},
     "output_type": "execute_result"
    }
   ],
   "source": [
    "import sys\n",
    "sys.path.append('app')\n",
    "sys.path"
   ]
  },
  {
   "cell_type": "code",
   "execution_count": 2,
   "metadata": {},
   "outputs": [
    {
     "name": "stderr",
     "output_type": "stream",
     "text": [
      "INFO       - cells.py - load_mechanisms : Loaded mod files from \"app/model/mechanisms/mod/Synapses/\"\n"
     ]
    },
    {
     "name": "stdout",
     "output_type": "stream",
     "text": [
      "NEURON mechanisms not found in app/model/mechanisms/mod/Synapses/.\n"
     ]
    }
   ],
   "source": [
    "from model.model import CellModel\n",
    "from model.mechanisms.pparser import parser\n",
    "from pprint import pprint\n",
    "import re"
   ]
  },
  {
   "cell_type": "code",
   "execution_count": 3,
   "metadata": {},
   "outputs": [],
   "source": [
    "from model.mechanisms.pparser import *"
   ]
  },
  {
   "cell_type": "code",
   "execution_count": 4,
   "metadata": {},
   "outputs": [],
   "source": [
    "mdl = CellModel(path_to_model='app/model/')"
   ]
  },
  {
   "cell_type": "code",
   "execution_count": 5,
   "metadata": {},
   "outputs": [
    {
     "data": {
      "text/plain": [
       "['Hay_cadyn', 'Park_cadyn', 'Poirazi_cadyn']"
      ]
     },
     "execution_count": 5,
     "metadata": {},
     "output_type": "execute_result"
    }
   ],
   "source": [
    "mdl.list_mod_files(mod_folder='mod_cadyn')"
   ]
  },
  {
   "cell_type": "code",
   "execution_count": 6,
   "metadata": {},
   "outputs": [
    {
     "data": {
      "text/plain": [
       "['app/model/mechanisms/mod_cadyn/Poirazi_cadyn/Poirazi_cadyn.mod',\n",
       " 'app/model/mechanisms/mod_cadyn/Hay_cadyn/Hay_cadyn.mod',\n",
       " 'app/model/mechanisms/mod_cadyn/Park_cadyn/Park_cadyn.mod']"
      ]
     },
     "execution_count": 6,
     "metadata": {},
     "output_type": "execute_result"
    }
   ],
   "source": [
    "import os\n",
    "path_to_mod_files = 'app/model/mechanisms/mod_cadyn'\n",
    "list_of_mod_files = [path_to_mod_files + '/' + file + '/' + file + '.mod' for file in os.listdir(path_to_mod_files)]\n",
    "list_of_mod_files"
   ]
  },
  {
   "cell_type": "code",
   "execution_count": 7,
   "metadata": {},
   "outputs": [],
   "source": [
    "# import os\n",
    "# path_to_mod_files = 'model/mechanisms/mod_standard'\n",
    "# list_of_mod_files = [path_to_mod_files + '/' + file + '/' + file + '.mod' for file in os.listdir(path_to_mod_files)]\n",
    "# list_of_mod_files"
   ]
  },
  {
   "cell_type": "code",
   "execution_count": 8,
   "metadata": {},
   "outputs": [],
   "source": [
    "for i, mod_file in enumerate(list_of_mod_files):\n",
    "    if 'SK' in mod_file:\n",
    "        print(i, mod_file)\n"
   ]
  },
  {
   "cell_type": "code",
   "execution_count": 9,
   "metadata": {},
   "outputs": [
    {
     "name": "stdout",
     "output_type": "stream",
     "text": [
      "app/model/mechanisms/mod_cadyn/Poirazi_cadyn/Poirazi_cadyn.mod\n"
     ]
    }
   ],
   "source": [
    "path_to_mod_file = list_of_mod_files[0]\n",
    "print(path_to_mod_file)\n",
    "parser.read_file(path_to_mod_file)\n",
    "parser.clean()"
   ]
  },
  {
   "cell_type": "code",
   "execution_count": 10,
   "metadata": {},
   "outputs": [],
   "source": [
    "parser.parse_basic(mod_file=path_to_mod_file)"
   ]
  },
  {
   "cell_type": "code",
   "execution_count": 11,
   "metadata": {},
   "outputs": [
    {
     "data": {
      "text/plain": [
       "'cadyn_poirazi'"
      ]
     },
     "execution_count": 11,
     "metadata": {},
     "output_type": "execute_result"
    }
   ],
   "source": [
    "parser.suffix"
   ]
  },
  {
   "cell_type": "code",
   "execution_count": 14,
   "metadata": {},
   "outputs": [
    {
     "name": "stdout",
     "output_type": "stream",
     "text": [
      "import numpy as np\n",
      "try:\n",
      "    from ..channels import CustomVoltageDependentIonChannel\n",
      "except:\n",
      "    from channels import CustomVoltageDependentIonChannel\n",
      "\n",
      "class Poirazi_km(CustomVoltageDependentIonChannel):\n",
      "    def __init__(self, cell=None):\n",
      "        super().__init__(name='Poirazi_km', suffix='km', cell=cell)\n",
      "        self.ion = 'k'\n",
      "        self.range_params = [\n",
      "            'gbar',\n",
      "        ]\n",
      "        self.gbar = 0 # pS/um2\n",
      "        self.tha = -30 # mV\n",
      "        self.qa = 9 # mV\n",
      "        self.Ra = 0.001 # /ms\n",
      "        self.Rb = 0.001 # /ms\n",
      "        self.temp = 23 # degC\n",
      "        self.q10 = 2.3 # \n",
      "        self.celsius = 37 # degC\n",
      "        self.v = np.linspace(-100, 100, 1000)\n",
      "        self.state_vars = {\n",
      "            \"n\": {\n",
      "                \"inf\": \"ninf\",\n",
      "                \"tau\": \"ntau\",\n",
      "                \"power\": 1\n",
      "            },\n",
      "        }\n",
      "\n",
      "    def rates(self, v):\n",
      "        self.tadj = self.q10 ** ((self.celsius - self.temp) / 10)\n",
      "        self.a = (self.Ra * (v - self.tha)) / (1 - np.exp((-((v - self.tha)) / self.qa)))\n",
      "        self.b = (-(self.Rb) * (v - self.tha)) / (1 - np.exp(((v - self.tha) / self.qa)))\n",
      "        self.ntau = 1 / (self.a + self.b)\n",
      "        self.ninf = self.a * self.ntau\n",
      "\n",
      "    def update(self, x_range):\n",
      "        super().update(x_range)\n",
      "        v = x_range\n",
      "        self.x_range = x_range\n",
      "        self.rates(v, )\n",
      "        self.update_constant_state_vars(x_range)\n",
      "\n"
     ]
    }
   ],
   "source": [
    "print(parser.ast_to_python())"
   ]
  },
  {
   "cell_type": "code",
   "execution_count": 13,
   "metadata": {},
   "outputs": [
    {
     "data": {
      "text/plain": [
       "[{'signature': {'f_name': 'alpm', 'params': [{'name': 'v', 'unit': 'mV'}]},\n",
       "  'locals': [],\n",
       "  'assignment_statements': [{'assigned_var': 'alpm',\n",
       "    'expression': {'exp': [{'/': [{'*': [{'*': [{'*': [0.001, 'zetam']},\n",
       "            {'-': ['v', 'vhalfm']}]},\n",
       "          96480.0]},\n",
       "        {'*': [8.315, {'+': [273.16, 'celsius']}]}]}]}}],\n",
       "  'statements': [{'assigned_var': 'alpm',\n",
       "    'expression': {'exp': [{'/': [{'*': [{'*': [{'*': [0.001, 'zetam']},\n",
       "            {'-': ['v', 'vhalfm']}]},\n",
       "          96480.0]},\n",
       "        {'*': [8.315, {'+': [273.16, 'celsius']}]}]}]}}]},\n",
       " {'signature': {'f_name': 'alph', 'params': [{'name': 'v', 'unit': 'mV'}]},\n",
       "  'locals': [],\n",
       "  'assignment_statements': [{'assigned_var': 'alph',\n",
       "    'expression': {'exp': [{'/': [{'*': [{'*': [{'*': [0.001, 'zetah']},\n",
       "            {'-': ['v', 'vhalfh']}]},\n",
       "          96480.0]},\n",
       "        {'*': [8.315, {'+': [273.16, 'celsius']}]}]}]}}],\n",
       "  'statements': [{'assigned_var': 'alph',\n",
       "    'expression': {'exp': [{'/': [{'*': [{'*': [{'*': [0.001, 'zetah']},\n",
       "            {'-': ['v', 'vhalfh']}]},\n",
       "          96480.0]},\n",
       "        {'*': [8.315, {'+': [273.16, 'celsius']}]}]}]}}]}]"
      ]
     },
     "execution_count": 13,
     "metadata": {},
     "output_type": "execute_result"
    }
   ],
   "source": [
    "parser.ast['mod_file']['function_blocks']"
   ]
  },
  {
   "cell_type": "code",
   "execution_count": 9,
   "metadata": {},
   "outputs": [],
   "source": [
    "# parser.remove_suffix_from_variable_names()"
   ]
  },
  {
   "cell_type": "code",
   "execution_count": 10,
   "metadata": {},
   "outputs": [
    {
     "name": "stdout",
     "output_type": "stream",
     "text": [
      "NEURON {\n",
      "\tSUFFIX can\n",
      "\tUSEION ca READ cai, eca WRITE ica \n",
      "    RANGE gcabar, ica, po\n",
      "\tGLOBAL hinf, minf, s_inf\n",
      "}\n"
     ]
    },
    {
     "data": {
      "text/plain": [
       "{'neuron_block': {'suffix': 'can',\n",
       "  'use_ion': [{'ion': 'ca', 'read_var': 'eca', 'write_var': 'ica'}],\n",
       "  'range_vars': ['gcabar', 'ica', 'po'],\n",
       "  'global_vars': ['hinf', 'minf', 's_inf']}}"
      ]
     },
     "execution_count": 10,
     "metadata": {},
     "output_type": "execute_result"
    }
   ],
   "source": [
    "print(parser._get_block_regex('NEURON')[0])\n",
    "neuron_block.parseString(parser._get_block_regex('NEURON')[0]).as_dict()"
   ]
  },
  {
   "cell_type": "code",
   "execution_count": 11,
   "metadata": {},
   "outputs": [
    {
     "name": "stdout",
     "output_type": "stream",
     "text": [
      "UNITS {\n",
      "\t(mA) = (milliamp)\n",
      "\t(mV) = (millivolt)\n",
      "\t(molar) = (1/liter)\n",
      "\t(mM) =\t(millimolar)\n",
      "\tFARADAY = (faraday) (coulomb)\n",
      "\tR = (k-mole) (joule/degC)\n",
      "}\n"
     ]
    },
    {
     "data": {
      "text/plain": [
       "{'units_block': {'mA': 'milliamp',\n",
       "  'mV': 'millivolt',\n",
       "  'molar': '1/liter',\n",
       "  'mM': 'millimolar'}}"
      ]
     },
     "execution_count": 11,
     "metadata": {},
     "output_type": "execute_result"
    }
   ],
   "source": [
    "print(parser._get_block_regex('UNITS')[0])\n",
    "units_block.parseString(parser._get_block_regex('UNITS')[0]).as_dict()"
   ]
  },
  {
   "cell_type": "code",
   "execution_count": 12,
   "metadata": {},
   "outputs": [
    {
     "name": "stdout",
     "output_type": "stream",
     "text": [
      "ASSIGNED {     \n",
      "\tv            (mV)\n",
      "\tcelsius      (degC)\n",
      "\tica          (mA/cm2)\n",
      "\tpo\n",
      "\tcai          (mM)      \n",
      "\teca             (mV)\n",
      "        minf\n",
      "        hinf\n",
      "\ts_inf\n",
      "}\n"
     ]
    },
    {
     "data": {
      "text/plain": [
       "{'assigned_block': [{'name': 'v', 'unit': 'mV'},\n",
       "  {'name': 'celsius', 'unit': 'degC'},\n",
       "  {'name': 'ica', 'unit': 'mA/cm2'},\n",
       "  {'name': 'po'},\n",
       "  {'name': 'cai', 'unit': 'mM'},\n",
       "  {'name': 'eca', 'unit': 'mV'},\n",
       "  {'name': 'minf'},\n",
       "  {'name': 'hinf'},\n",
       "  {'name': 's_inf'}]}"
      ]
     },
     "execution_count": 12,
     "metadata": {},
     "output_type": "execute_result"
    }
   ],
   "source": [
    "print(parser._get_block_regex('ASSIGNED')[0])\n",
    "assigned_block.parseString(parser._get_block_regex('ASSIGNED')[0]).as_dict()"
   ]
  },
  {
   "cell_type": "code",
   "execution_count": 13,
   "metadata": {},
   "outputs": [
    {
     "name": "stdout",
     "output_type": "stream",
     "text": [
      "PARAMETER {           \n",
      "\tgcabar = 0   (mho/cm2)  \n",
      "  \tki     = 0.025  (mM)            \n",
      "\tzetam = -3.4\n",
      "\tzetah = 2\n",
      "\tvhalfm =-21 (mV)\n",
      "\tvhalfh =-40 (mV)\n",
      "\ttm0=1.5(ms)\n",
      "\tth0=75(ms)\n",
      "\ttaumin  = 2    (ms)            \n",
      "}\n"
     ]
    },
    {
     "data": {
      "text/plain": [
       "{'parameter_block': [{'name': 'gcabar', 'value': 0, 'unit': 'mho/cm2'},\n",
       "  {'name': 'ki', 'value': 0.025, 'unit': 'mM'},\n",
       "  {'name': 'zetam', 'value': -3.4},\n",
       "  {'name': 'zetah', 'value': 2},\n",
       "  {'name': 'vhalfm', 'value': -21, 'unit': 'mV'},\n",
       "  {'name': 'vhalfh', 'value': -40, 'unit': 'mV'},\n",
       "  {'name': 'tm0', 'value': 1.5, 'unit': 'ms'},\n",
       "  {'name': 'th0', 'value': 75, 'unit': 'ms'},\n",
       "  {'name': 'taumin', 'value': 2, 'unit': 'ms'}]}"
      ]
     },
     "execution_count": 13,
     "metadata": {},
     "output_type": "execute_result"
    }
   ],
   "source": [
    "print(parser._get_block_regex('PARAMETER')[0])\n",
    "parameter_block.parseString(parser._get_block_regex('PARAMETER')[0]).as_dict()"
   ]
  },
  {
   "cell_type": "code",
   "execution_count": 14,
   "metadata": {},
   "outputs": [
    {
     "name": "stdout",
     "output_type": "stream",
     "text": [
      "STATE {\t\n",
      "\tm \n",
      "\th \n",
      "\ts\n",
      "}\n"
     ]
    },
    {
     "data": {
      "text/plain": [
       "{'state_block': ['m', 'h', 's']}"
      ]
     },
     "execution_count": 14,
     "metadata": {},
     "output_type": "execute_result"
    }
   ],
   "source": [
    "print(parser._get_block_regex('STATE')[0])\n",
    "state_block.parseString(parser._get_block_regex('STATE')[0]).as_dict()"
   ]
  },
  {
   "cell_type": "code",
   "execution_count": 15,
   "metadata": {},
   "outputs": [
    {
     "name": "stdout",
     "output_type": "stream",
     "text": [
      "BREAKPOINT {\n",
      "\tSOLVE states METHOD cnexp\n",
      "\tpo = m*m*h\n",
      " \tica = gcabar *po*h2(cai) * (v - eca)\n",
      "\n",
      "}\n"
     ]
    },
    {
     "data": {
      "text/plain": [
       "{'breakpoint_block': {'solve_stmt': {'solve': 'states', 'method': 'cnexp'},\n",
       "  'statements': [{'assigned_var': 'po',\n",
       "    'expression': {'*': [{'*': ['m', 'm']}, 'h']}},\n",
       "   {'assigned_var': 'ica',\n",
       "    'expression': {'*': [{'*': [{'*': ['gcabar', 'po']}, {'h2': ['cai']}]},\n",
       "      {'-': ['v', 'eca']}]}}]}}"
      ]
     },
     "execution_count": 15,
     "metadata": {},
     "output_type": "execute_result"
    }
   ],
   "source": [
    "print(parser._get_block_regex('BREAKPOINT')[0])\n",
    "breakpoint_block.parseString(parser._get_block_regex('BREAKPOINT')[0]).as_dict()"
   ]
  },
  {
   "cell_type": "code",
   "execution_count": 16,
   "metadata": {},
   "outputs": [
    {
     "name": "stdout",
     "output_type": "stream",
     "text": [
      "INITIAL {\n",
      "\trates(v,cai)\n",
      "        m = minf\n",
      "        h = hinf\n",
      "\ts = s_inf\n",
      "}\n"
     ]
    },
    {
     "data": {
      "text/plain": [
       "{'initial_block': {'statements': [{'rates': ['v', 'cai']},\n",
       "   {'assigned_var': 'm', 'expression': 'minf'},\n",
       "   {'assigned_var': 'h', 'expression': 'hinf'},\n",
       "   {'assigned_var': 's', 'expression': 's_inf'}]}}"
      ]
     },
     "execution_count": 16,
     "metadata": {},
     "output_type": "execute_result"
    }
   ],
   "source": [
    "print(parser._get_block_regex('INITIAL')[0])\n",
    "initial_block.parseString(parser._get_block_regex('INITIAL')[0]).as_dict()"
   ]
  },
  {
   "cell_type": "code",
   "execution_count": 17,
   "metadata": {},
   "outputs": [
    {
     "name": "stdout",
     "output_type": "stream",
     "text": [
      "DERIVATIVE states {\n",
      "\trates(v,cai)\n",
      "\tm' = (minf -m)/tm0\n",
      "\th'=  (hinf - h)/th0\n",
      "\ts' = (s_inf-s)/taumin\n",
      "}\n"
     ]
    },
    {
     "data": {
      "text/plain": [
       "{'derivative_block': {'name': 'states',\n",
       "  'func_calls': [{'rates': ['v', 'cai']}],\n",
       "  'statements': [{'assigned_var': 'm',\n",
       "    'expression': {'/': [{'-': ['minf', 'm']}, 'tm0']}},\n",
       "   {'assigned_var': 'h', 'expression': {'/': [{'-': ['hinf', 'h']}, 'th0']}},\n",
       "   {'assigned_var': 's',\n",
       "    'expression': {'/': [{'-': ['s_inf', 's']}, 'taumin']}}]}}"
      ]
     },
     "execution_count": 17,
     "metadata": {},
     "output_type": "execute_result"
    }
   ],
   "source": [
    "print(parser._get_block_regex('DERIVATIVE')[0])\n",
    "derivative_block.parseString(parser._get_block_regex('DERIVATIVE')[0]).as_dict()"
   ]
  },
  {
   "cell_type": "code",
   "execution_count": 18,
   "metadata": {},
   "outputs": [
    {
     "name": "stdout",
     "output_type": "stream",
     "text": [
      "FUNCTION h2(cai(mM)) {\n",
      "\th2 = ki/(ki+cai)\n",
      "}\n",
      "FUNCTION ghk(v(mV), ci(mM), co(mM)) (coul/cm3) {\n",
      "\tLOCAL z, eci, eco\n",
      "\tz = (1e-3)*2*FARADAY*v/(R*(celsius+273.15))\n",
      "\teco = co*efun(z)\n",
      "\teci = ci*efun(-z)\n",
      "\tghk = (.001)*2*FARADAY*(eci - eco)\n",
      "}\n",
      "FUNCTION efun(z) {\n",
      "\tif (fabs(z) < 1e-4) {\n",
      "\t\tefun = 1 - z/2\n",
      "\t}else{\n",
      "\t\tefun = z/(exp(z) - 1)\n",
      "\t}\n",
      "}\n",
      "FUNCTION alpm(v(mV)) {\n",
      "\n",
      "  alpm = exp(1.e-3*zetam*(v-vhalfm)*9.648e4/(8.315*(273.16+celsius))) \n",
      "\n",
      "}\n",
      "FUNCTION alph(v(mV)) {\n",
      "\n",
      "  alph = exp(1.e-3*zetah*(v-vhalfh)*9.648e4/(8.315*(273.16+celsius))) \n",
      "\n",
      "}\n"
     ]
    },
    {
     "data": {
      "text/plain": [
       "{'function_blocks': [{'signature': {'f_name': 'h2',\n",
       "    'params': [{'name': 'cai', 'unit': 'mM'}]},\n",
       "   'locals': [],\n",
       "   'assignment_statements': [{'assigned_var': 'h2',\n",
       "     'expression': {'/': ['ki', {'+': ['ki', 'cai']}]}}],\n",
       "   'statements': [{'assigned_var': 'h2',\n",
       "     'expression': {'/': ['ki', {'+': ['ki', 'cai']}]}}]},\n",
       "  {'signature': {'f_name': 'ghk',\n",
       "    'params': [{'name': 'v', 'unit': 'mV'},\n",
       "     {'name': 'ci', 'unit': 'mM'},\n",
       "     {'name': 'co', 'unit': 'mM'}],\n",
       "    'returned_unit': 'coul/cm3'},\n",
       "   'locals': ['z', 'eci', 'eco'],\n",
       "   'assignment_statements': [{'assigned_var': 'z',\n",
       "     'expression': {'/': [{'*': [{'*': [{'*': [0.001, 2]}, 'FARADAY']}, 'v']},\n",
       "       {'*': ['R', {'+': ['celsius', 273.15]}]}]}},\n",
       "    {'assigned_var': 'eco', 'expression': {'*': ['co', {'efun': ['z']}]}},\n",
       "    {'assigned_var': 'eci',\n",
       "     'expression': {'*': ['ci', {'efun': [{'-': ['z']}]}]}},\n",
       "    {'assigned_var': 'ghk',\n",
       "     'expression': {'*': [{'*': [{'*': [0.001, 2]}, 'FARADAY']},\n",
       "       {'-': ['eci', 'eco']}]}}],\n",
       "   'statements': [{'assigned_var': 'z',\n",
       "     'expression': {'/': [{'*': [{'*': [{'*': [0.001, 2]}, 'FARADAY']}, 'v']},\n",
       "       {'*': ['R', {'+': ['celsius', 273.15]}]}]}},\n",
       "    {'assigned_var': 'eco', 'expression': {'*': ['co', {'efun': ['z']}]}},\n",
       "    {'assigned_var': 'eci',\n",
       "     'expression': {'*': ['ci', {'efun': [{'-': ['z']}]}]}},\n",
       "    {'assigned_var': 'ghk',\n",
       "     'expression': {'*': [{'*': [{'*': [0.001, 2]}, 'FARADAY']},\n",
       "       {'-': ['eci', 'eco']}]}}]},\n",
       "  {'signature': {'f_name': 'efun', 'params': [{'name': 'z'}]},\n",
       "   'locals': [],\n",
       "   'if_else_statements': [{'expression': {'<': [{'fabs': ['z']}, 0.0001]},\n",
       "     'condition': {'<': [{'fabs': ['z']}, 0.0001]},\n",
       "     'if_statements': [{'assigned_var': 'efun',\n",
       "       'expression': {'-': [1, {'/': ['z', 2]}]}}],\n",
       "     'else_statements': [{'assigned_var': 'efun',\n",
       "       'expression': {'/': ['z', {'-': [{'exp': ['z']}, 1]}]}}]}],\n",
       "   'statements': [{'expression': {'<': [{'fabs': ['z']}, 0.0001]},\n",
       "     'condition': {'<': [{'fabs': ['z']}, 0.0001]},\n",
       "     'if_statements': [{'assigned_var': 'efun',\n",
       "       'expression': {'-': [1, {'/': ['z', 2]}]}}],\n",
       "     'else_statements': [{'assigned_var': 'efun',\n",
       "       'expression': {'/': ['z', {'-': [{'exp': ['z']}, 1]}]}}]}]},\n",
       "  {'signature': {'f_name': 'alpm', 'params': [{'name': 'v', 'unit': 'mV'}]},\n",
       "   'locals': [],\n",
       "   'assignment_statements': [{'assigned_var': 'alpm',\n",
       "     'expression': {'exp': [{'/': [{'*': [{'*': [{'*': [0.001, 'zetam']},\n",
       "             {'-': ['v', 'vhalfm']}]},\n",
       "           96480.0]},\n",
       "         {'*': [8.315, {'+': [273.16, 'celsius']}]}]}]}}],\n",
       "   'statements': [{'assigned_var': 'alpm',\n",
       "     'expression': {'exp': [{'/': [{'*': [{'*': [{'*': [0.001, 'zetam']},\n",
       "             {'-': ['v', 'vhalfm']}]},\n",
       "           96480.0]},\n",
       "         {'*': [8.315, {'+': [273.16, 'celsius']}]}]}]}}]},\n",
       "  {'signature': {'f_name': 'alph', 'params': [{'name': 'v', 'unit': 'mV'}]},\n",
       "   'locals': [],\n",
       "   'assignment_statements': [{'assigned_var': 'alph',\n",
       "     'expression': {'exp': [{'/': [{'*': [{'*': [{'*': [0.001, 'zetah']},\n",
       "             {'-': ['v', 'vhalfh']}]},\n",
       "           96480.0]},\n",
       "         {'*': [8.315, {'+': [273.16, 'celsius']}]}]}]}}],\n",
       "   'statements': [{'assigned_var': 'alph',\n",
       "     'expression': {'exp': [{'/': [{'*': [{'*': [{'*': [0.001, 'zetah']},\n",
       "             {'-': ['v', 'vhalfh']}]},\n",
       "           96480.0]},\n",
       "         {'*': [8.315, {'+': [273.16, 'celsius']}]}]}]}}]}]}"
      ]
     },
     "execution_count": 18,
     "metadata": {},
     "output_type": "execute_result"
    }
   ],
   "source": [
    "print('\\n'.join(parser._get_block_regex('FUNCTION')))\n",
    "function_blocks.parseString('\\n'.join(parser._get_block_regex('FUNCTION'))).as_dict()"
   ]
  },
  {
   "cell_type": "code",
   "execution_count": 18,
   "metadata": {},
   "outputs": [
    {
     "name": "stdout",
     "output_type": "stream",
     "text": [
      "PROCEDURE rates(v (mV), cai(mM)) { \n",
      "        LOCAL a, b, alpha2\n",
      "        \n",
      "\ta = alpm(v)\n",
      "\tminf = 1/(1+a)\n",
      "        \n",
      "        b = alph(v)\n",
      "\thinf = 1/(1+b)\n",
      "\talpha2 = (ki/cai)^2\n",
      "\ts_inf = alpha2 / (alpha2 + 1)\n",
      "}\n"
     ]
    },
    {
     "data": {
      "text/plain": [
       "{'procedure_blocks': [{'signature': {'f_name': 'rates',\n",
       "    'params': [{'name': 'v', 'unit': 'mV'}, {'name': 'cai', 'unit': 'mM'}]},\n",
       "   'locals': ['a', 'b', 'alpha2'],\n",
       "   'assignment_statements': [{'assigned_var': 'a',\n",
       "     'expression': {'alpm': ['v']}},\n",
       "    {'assigned_var': 'minf', 'expression': {'/': [1, {'+': [1, 'a']}]}},\n",
       "    {'assigned_var': 'b', 'expression': {'alph': ['v']}},\n",
       "    {'assigned_var': 'hinf', 'expression': {'/': [1, {'+': [1, 'b']}]}},\n",
       "    {'assigned_var': 'alpha2', 'expression': {'^': [{'/': ['ki', 'cai']}, 2]}},\n",
       "    {'assigned_var': 's_inf',\n",
       "     'expression': {'/': ['alpha2', {'+': ['alpha2', 1]}]}}],\n",
       "   'statements': [{'assigned_var': 'a', 'expression': {'alpm': ['v']}},\n",
       "    {'assigned_var': 'minf', 'expression': {'/': [1, {'+': [1, 'a']}]}},\n",
       "    {'assigned_var': 'b', 'expression': {'alph': ['v']}},\n",
       "    {'assigned_var': 'hinf', 'expression': {'/': [1, {'+': [1, 'b']}]}},\n",
       "    {'assigned_var': 'alpha2', 'expression': {'^': [{'/': ['ki', 'cai']}, 2]}},\n",
       "    {'assigned_var': 's_inf',\n",
       "     'expression': {'/': ['alpha2', {'+': ['alpha2', 1]}]}}]}]}"
      ]
     },
     "execution_count": 18,
     "metadata": {},
     "output_type": "execute_result"
    }
   ],
   "source": [
    "print('\\n'.join(parser._get_block_regex('PROCEDURE')))\n",
    "procedure_blocks.parseString('\\n'.join(parser._get_block_regex('PROCEDURE'))).as_dict()"
   ]
  },
  {
   "cell_type": "code",
   "execution_count": 20,
   "metadata": {},
   "outputs": [],
   "source": [
    "parser.parse(path_to_mod_file)"
   ]
  },
  {
   "cell_type": "code",
   "execution_count": 21,
   "metadata": {},
   "outputs": [
    {
     "name": "stdout",
     "output_type": "stream",
     "text": [
      "+ title\n",
      "  comment_block\n",
      "+ neuron_block\n",
      "+ units_block\n",
      "+ parameter_block\n",
      "+ assigned_block\n",
      "+ state_block\n",
      "+ breakpoint_block\n",
      "+ initial_block\n",
      "+ derivative_block\n",
      "+ function_blocks\n",
      "+ procedure_blocks\n"
     ]
    }
   ],
   "source": [
    "for block in ['title',\n",
    "              'comment_block',\n",
    "              'neuron_block',\n",
    "              'units_block',\n",
    "              'parameter_block',\n",
    "              'assigned_block',\n",
    "              'state_block',\n",
    "              'breakpoint_block',\n",
    "              'initial_block',\n",
    "              'derivative_block',\n",
    "              'function_blocks',\n",
    "              'procedure_blocks']:\n",
    "    if block not in parser.ast['mod_file']:\n",
    "        print(f'  {block}')\n",
    "    else:\n",
    "        print(f'+ {block}')\n",
    "    \n",
    "# pprint([k for k in parser.ast['mod_file']])"
   ]
  },
  {
   "cell_type": "code",
   "execution_count": 23,
   "metadata": {},
   "outputs": [
    {
     "name": "stdout",
     "output_type": "stream",
     "text": [
      "['alf', 'v', 'va']\n",
      "['bet', 'v', 'vb']\n"
     ]
    },
    {
     "data": {
      "text/plain": [
       "'import numpy as np\\ntry:\\n    from ..channels import CustomIonChannel\\nexcept:\\n    from channels import CustomIonChannel\\n\\nclass kdrin_PV(CustomIonChannel):\\n    def __init__(self, cell=None):\\n        super().__init__(name=\\'kdrin_PV\\', suffix=\\'kdrin\\', cell=cell)\\n        self.ion = \\'k\\'\\n        self.range_params = [\\n            \\'gbar\\',\\n        ]\\n        self.gbar = 0.0338 # mho/cm2\\n        self.celsius = 37 # degC\\n        self.v = np.linspace(-100, 100, 1000)\\n        self.state_vars = {\\n            \"n\": {\\n                \"inf\": \"inf_n\",\\n                \"tau\": \"tau_n\",\\n                \"power\": 4\\n            },\\n        }\\n\\n    def alf(self, v):\\n        va = v - 13\\n        conditions = [np.abs(va) < 0.0001,\\n                      ~(np.abs(va) < 0.0001)]\\n        choices = [va + 0.0001,\\n                   va]\\n        va = np.select(conditions, choices)\\n        conditions = [np.abs(va) < 0.0001,\\n                      ~(np.abs(va) < 0.0001)]\\n        choices = [(-(0.018) * va) / (-(1) + np.exp(-((va / 25)))),\\n                   (-(0.018) * (v - 13)) / (-(1) + np.exp(-(((v - 13) / 25))))]\\n        alf = np.select(conditions, choices)\\n        return alf\\n\\n    def bet(self, v):\\n        vb = v - 23\\n        conditions = [np.abs(vb) < 0.0001,\\n                      ~(np.abs(vb) < 0.0001)]\\n        choices = [vb + 0.0001,\\n                   vb]\\n        vb = np.select(conditions, choices)\\n        conditions = [np.abs(vb) < 0.0001,\\n                      ~(np.abs(vb) < 0.0001)]\\n        choices = [(0.0054 * vb) / (-(1) + np.exp((vb / 12))),\\n                   (0.0054 * (v - 23)) / (-(1) + np.exp(((v - 23) / 12)))]\\n        bet = np.select(conditions, choices)\\n        return bet\\n\\n    def rate(self, v):\\n        self.aa = self.alf(v)\\n        self.ab = self.bet(v)\\n        self.sum = self.aa + self.ab\\n        self.inf_n = self.aa / self.sum\\n        self.tau_n = 1 / self.sum\\n\\n    def update(self, x_range):\\n        super().update(x_range)\\n        v = x_range\\n        self.v = x_range\\n        self.rate(v, )\\n'"
      ]
     },
     "execution_count": 23,
     "metadata": {},
     "output_type": "execute_result"
    }
   ],
   "source": [
    "parser.ast_to_python()"
   ]
  },
  {
   "cell_type": "markdown",
   "metadata": {},
   "source": [
    "# Parameter blocks"
   ]
  },
  {
   "cell_type": "code",
   "execution_count": 17,
   "metadata": {},
   "outputs": [
    {
     "name": "stdout",
     "output_type": "stream",
     "text": [
      "{'S': 'siemens',\n",
      " 'mA': 'milliamp',\n",
      " 'mM': 'millimolar',\n",
      " 'mV': 'millivolt',\n",
      " 'molar': '1/liter'}\n"
     ]
    }
   ],
   "source": [
    "pprint(parser.ast['mod_file']['units_block'])"
   ]
  },
  {
   "cell_type": "code",
   "execution_count": 18,
   "metadata": {},
   "outputs": [
    {
     "name": "stdout",
     "output_type": "stream",
     "text": [
      "[{'name': 'gbar', 'unit': 'S/cm2', 'value': 0.0},\n",
      " {'name': 'caix', 'unit': '1', 'value': 1},\n",
      " {'name': 'Ra', 'unit': '/ms', 'value': 0.01},\n",
      " {'name': 'Rb', 'unit': '/ms', 'value': 0.02},\n",
      " {'name': 'temp', 'unit': 'degC', 'value': 23},\n",
      " {'name': 'q10', 'unit': '1', 'value': 2.3}]\n"
     ]
    }
   ],
   "source": [
    "pprint(parser.ast['mod_file']['parameter_block'])"
   ]
  },
  {
   "cell_type": "code",
   "execution_count": 19,
   "metadata": {},
   "outputs": [
    {
     "data": {
      "text/plain": [
       "True"
      ]
     },
     "execution_count": 19,
     "metadata": {},
     "output_type": "execute_result"
    }
   ],
   "source": [
    "parser.is_ca_dependent()"
   ]
  },
  {
   "cell_type": "code",
   "execution_count": 20,
   "metadata": {},
   "outputs": [
    {
     "name": "stdout",
     "output_type": "stream",
     "text": [
      "cai\n"
     ]
    }
   ],
   "source": [
    "for assigned in parser.ast['mod_file']['assigned_block']:\n",
    "    if 'cai' in assigned['name'].lower():\n",
    "        print(assigned['name'])\n",
    "    # print(assigned['name'])"
   ]
  },
  {
   "cell_type": "code",
   "execution_count": 14,
   "metadata": {},
   "outputs": [
    {
     "name": "stdout",
     "output_type": "stream",
     "text": [
      "[{'name': 'v', 'unit': 'mV'},\n",
      " {'name': 'cai', 'unit': 'mM'},\n",
      " {'name': 'ik', 'unit': 'mA/cm2'},\n",
      " {'name': 'gk', 'unit': 'S/cm2'},\n",
      " {'name': 'ek', 'unit': 'mV'},\n",
      " {'name': 'ninf', 'unit': '1'},\n",
      " {'name': 'ntau', 'unit': 'ms'},\n",
      " {'name': 'tadj', 'unit': '1'},\n",
      " {'name': 'celsius', 'unit': 'degC'}]\n"
     ]
    }
   ],
   "source": [
    "pprint(parser.ast['mod_file']['assigned_block'])"
   ]
  },
  {
   "cell_type": "code",
   "execution_count": null,
   "metadata": {},
   "outputs": [
    {
     "name": "stdout",
     "output_type": "stream",
     "text": [
      "{'m': 2, 'h': 1}\n"
     ]
    }
   ],
   "source": [
    "print(parser.ast['mod_file']['state_block'])"
   ]
  },
  {
   "cell_type": "code",
   "execution_count": null,
   "metadata": {},
   "outputs": [
    {
     "name": "stdout",
     "output_type": "stream",
     "text": [
      "{'solve_stmt': {'method': 'cnexp', 'solve': 'states'},\n",
      " 'statements': [{'assigned_var': 'g',\n",
      "                 'expression': {'*': [{'*': [{'*': ['gbar', 'm']}, 'm']},\n",
      "                                      'h']}},\n",
      "                {'assigned_var': 'ik',\n",
      "                 'expression': {'*': ['g', {'-': ['v', 'ek']}]}}]}\n"
     ]
    }
   ],
   "source": [
    "pprint(parser.ast['mod_file']['breakpoint_block'])"
   ]
  },
  {
   "cell_type": "code",
   "execution_count": 18,
   "metadata": {},
   "outputs": [
    {
     "data": {
      "text/plain": [
       "array([3.72007598e-42, 4.53552246e-42, 5.52969384e-42, 6.74175703e-42,\n",
       "       8.21946111e-42, 1.00210176e-41, 1.22173925e-41, 1.48951008e-41,\n",
       "       1.81596125e-41, 2.21395051e-41, 2.69915258e-41, 3.29067620e-41,\n",
       "       4.01181635e-41, 4.89097126e-41, 5.96276018e-41, 7.26938603e-41,\n",
       "       8.86229640e-41, 1.08042084e-40, 1.31715768e-40, 1.60576028e-40,\n",
       "       1.95759016e-40, 2.38649729e-40, 2.90936508e-40, 3.54677463e-40,\n",
       "       4.32381448e-40, 5.27106764e-40, 6.42581471e-40, 7.83350040e-40,\n",
       "       9.54952118e-40, 1.16414042e-39, 1.41914634e-39, 1.73000366e-39,\n",
       "       2.10894320e-39, 2.57087380e-39, 3.13396858e-39, 3.82037956e-39,\n",
       "       4.65710871e-39, 5.67706957e-39, 6.92038135e-39, 8.43594614e-39,\n",
       "       1.02833714e-38, 1.25353132e-38, 1.52803319e-38, 1.86263738e-38,\n",
       "       2.27050131e-38, 2.76766234e-38, 3.37366807e-38, 4.11234446e-38,\n",
       "       5.01273214e-38, 6.11022751e-38, 7.44797353e-38, 9.07855477e-38,\n",
       "       1.10660634e-37, 1.34886168e-37, 1.64414269e-37, 2.00405393e-37,\n",
       "       2.44273922e-37, 2.97743712e-37, 3.62915798e-37, 4.42350906e-37,\n",
       "       5.39170013e-37, 6.57176901e-37, 8.01007518e-37, 9.76311995e-37,\n",
       "       1.18997648e-36, 1.45039349e-36, 1.76779135e-36, 2.15463573e-36,\n",
       "       2.62611892e-36, 3.20075613e-36, 3.90111220e-36, 4.75468709e-36,\n",
       "       5.79499514e-36, 7.06288012e-36, 8.60811789e-36, 1.04913694e-35,\n",
       "       1.27865606e-35, 1.55837826e-35, 1.89928260e-35, 2.31474872e-35,\n",
       "       2.82108168e-35, 3.43815142e-35, 4.19017208e-35, 5.10665158e-35,\n",
       "       6.22354869e-35, 7.58468312e-35, 9.24345353e-35, 1.12649312e-34,\n",
       "       1.37284110e-34, 1.67305199e-34, 2.03890046e-34, 2.48473467e-34,\n",
       "       3.02803865e-34, 3.69011749e-34, 4.49693225e-34, 5.48011730e-34,\n",
       "       6.67821981e-34, 8.13821010e-34, 9.91732178e-34, 1.20852939e-33,\n",
       "       1.47271030e-33, 1.79462911e-33, 2.18690218e-33, 2.66490209e-33,\n",
       "       3.24735970e-33, 3.95709756e-33, 4.82192365e-33, 5.87572006e-33,\n",
       "       7.15976954e-33, 8.72437165e-33, 1.06308116e-32, 1.29537594e-32,\n",
       "       1.57841919e-32, 1.92329537e-32, 2.34350947e-32, 2.85551547e-32,\n",
       "       3.47936014e-32, 4.23946737e-32, 5.16559368e-32, 6.29399223e-32,\n",
       "       7.66883094e-32, 9.34391997e-32, 1.13848162e-31, 1.38713871e-31,\n",
       "       1.69009335e-31, 2.05919947e-31, 2.50889822e-31, 3.05678263e-31,\n",
       "       3.72428527e-31, 4.53751607e-31, 5.52828277e-31, 6.73533406e-31,\n",
       "       8.20587381e-31, 9.99740559e-31, 1.21799795e-30, 1.48389288e-30,\n",
       "       1.80782037e-30, 2.20244318e-30, 2.68318641e-30, 3.26883994e-30,\n",
       "       3.98229220e-30, 4.85142398e-30, 5.91019702e-30, 7.19997999e-30,\n",
       "       8.77116341e-30, 1.06851268e-29, 1.30166342e-29, 1.58567524e-29,\n",
       "       1.93164047e-29, 2.35306991e-29, 2.86642003e-29, 3.49173499e-29,\n",
       "       4.25342857e-29, 5.18123650e-29, 6.31137625e-29, 7.68795952e-29,\n",
       "       9.36471242e-29, 1.14070704e-28, 1.38947295e-28, 1.69247533e-28,\n",
       "       2.06153566e-28, 2.51105132e-28, 3.05855669e-28, 3.72540650e-28,\n",
       "       4.53760791e-28, 5.52683381e-28, 6.73165677e-28, 8.19905157e-28,\n",
       "       9.98622492e-28, 1.21628434e-27, 1.48137467e-27, 1.80422506e-27,\n",
       "       2.19741702e-27, 2.67627173e-27, 3.25944650e-27, 3.96966088e-27,\n",
       "       4.83458092e-27, 5.88789572e-27, 7.17062829e-27, 8.73273153e-27,\n",
       "       1.06350315e-26, 1.29515932e-26, 1.57726015e-26, 1.92078678e-26,\n",
       "       2.33911002e-26, 2.84851019e-26, 3.46881003e-26, 4.22414516e-26,\n",
       "       5.14390224e-26, 6.26386085e-26, 7.62758389e-26, 9.28811000e-26,\n",
       "       1.13100140e-25, 1.37719154e-25, 1.67695312e-25, 2.04193939e-25,\n",
       "       2.48633755e-25, 3.02741957e-25, 3.68621272e-25, 4.48831569e-25,\n",
       "       5.46489206e-25, 6.65387962e-25, 8.10146232e-25, 9.86386196e-25,\n",
       "       1.20095191e-24, 1.46217472e-24, 1.78019641e-24, 2.16736236e-24,\n",
       "       2.63870025e-24, 3.21250253e-24, 3.91103545e-24, 4.76140193e-24,\n",
       "       5.79659179e-24, 7.05675983e-24, 8.59078134e-24, 1.04581452e-23,\n",
       "       1.27312575e-23, 1.54982453e-23, 1.88663688e-23, 2.29661729e-23,\n",
       "       2.79565399e-23, 3.40308383e-23, 4.14244049e-23, 5.04236487e-23,\n",
       "       6.13771302e-23, 7.47090418e-23, 9.09356112e-23, 1.10685061e-22,\n",
       "       1.34721893e-22, 1.63976441e-22, 1.99580818e-22, 2.42912666e-22,\n",
       "       2.95648377e-22, 3.59827845e-22, 4.37933253e-22, 5.32984913e-22,\n",
       "       6.48657884e-22, 7.89423829e-22, 9.60723600e-22, 1.16917720e-21,\n",
       "       1.42283917e-21, 1.73150935e-21, 2.10711078e-21, 2.56414952e-21,\n",
       "       3.12027394e-21, 3.79695499e-21, 4.62031375e-21, 5.62212799e-21,\n",
       "       6.84105651e-21, 8.32412821e-21, 1.01285534e-20, 1.23239267e-20,\n",
       "       1.49949064e-20, 1.82444730e-20, 2.21978922e-20, 2.70075350e-20,\n",
       "       3.28587389e-20, 3.99769366e-20, 4.86363243e-20, 5.91704039e-20,\n",
       "       7.19848017e-20, 8.75728574e-20, 1.06534579e-19, 1.29599691e-19,\n",
       "       1.57655663e-19, 1.91781784e-19, 2.33290596e-19, 2.83778277e-19,\n",
       "       3.45185885e-19, 4.19873828e-19, 5.10712405e-19, 6.21191871e-19,\n",
       "       7.55556251e-19, 9.18966014e-19, 1.11769583e-18, 1.35937498e-18,\n",
       "       1.65327957e-18, 2.01068773e-18, 2.44531147e-18, 2.97382146e-18,\n",
       "       3.61648497e-18, 4.39794125e-18, 5.34814391e-18, 6.50350632e-18,\n",
       "       7.90829357e-18, 9.61631425e-18, 1.16929764e-17, 1.42177859e-17,\n",
       "       1.72873828e-17, 2.10192308e-17, 2.55561006e-17, 3.10715174e-17,\n",
       "       3.77763808e-17, 4.59270070e-17, 5.58349018e-17, 6.78786326e-17,\n",
       "       8.25182537e-17, 1.00312830e-16, 1.21941729e-16, 1.48230481e-16,\n",
       "       1.80182199e-16, 2.19015745e-16, 2.66212086e-16, 3.23570608e-16,\n",
       "       3.93277513e-16, 4.77988888e-16, 5.80931608e-16, 7.06025868e-16,\n",
       "       8.58034005e-16, 1.04274123e-15, 1.26717507e-15, 1.53987193e-15,\n",
       "       1.87120066e-15, 2.27375553e-15, 2.76283335e-15, 3.35701273e-15,\n",
       "       4.07885745e-15, 4.95577032e-15, 6.02102975e-15, 7.31504821e-15,\n",
       "       8.88689976e-15, 1.07961744e-14, 1.31152288e-14, 1.59319181e-14,\n",
       "       1.93529118e-14, 2.35077179e-14, 2.85535664e-14, 3.46813363e-14,\n",
       "       4.21227475e-14, 5.11590878e-14, 6.21318025e-14, 7.54553431e-14,\n",
       "       9.16327555e-14, 1.11274593e-13, 1.35121861e-13, 1.64073848e-13,\n",
       "       1.99221892e-13, 2.41890333e-13, 2.93686183e-13, 3.56559381e-13,\n",
       "       4.32875853e-13, 5.25506124e-13, 6.37932775e-13, 7.74380737e-13,\n",
       "       9.39975286e-13, 1.14093359e-12, 1.38479697e-12, 1.68071243e-12,\n",
       "       2.03977396e-12, 2.47543629e-12, 3.00401632e-12, 3.64530097e-12,\n",
       "       4.42328375e-12, 5.36705748e-12, 6.51189602e-12, 7.90056505e-12,\n",
       "       9.58491023e-12, 1.16277813e-11, 1.41053632e-11, 1.71099996e-11,\n",
       "       2.07536135e-11, 2.51718499e-11, 3.05290929e-11, 3.70245420e-11,\n",
       "       4.48995700e-11, 5.44466311e-11, 6.60200481e-11, 8.00490701e-11,\n",
       "       9.70536802e-11, 1.17663729e-10, 1.42642095e-10, 1.72912707e-10,\n",
       "       2.09594465e-10, 2.54042274e-10, 3.07896700e-10, 3.73144034e-10,\n",
       "       4.52188955e-10, 5.47942420e-10, 6.63927955e-10, 8.04410196e-10,\n",
       "       9.74550317e-10, 1.18059395e-09, 1.43009837e-09, 1.73220710e-09,\n",
       "       2.09798179e-09, 2.54080339e-09, 3.07685675e-09, 3.72571628e-09,\n",
       "       4.51105339e-09, 5.46149097e-09, 6.61163551e-09, 8.00332337e-09,\n",
       "       9.68712565e-09, 1.17241649e-08, 1.41883082e-08, 1.71688136e-08,\n",
       "       2.07735246e-08, 2.51327230e-08, 3.04037788e-08, 3.67767567e-08,\n",
       "       4.44811788e-08, 5.37941786e-08, 6.50503306e-08, 7.86534991e-08,\n",
       "       9.50911170e-08, 1.14951390e-07, 1.38944024e-07, 1.67925186e-07,\n",
       "       2.02927564e-07, 2.45196559e-07, 2.96233842e-07, 3.57849776e-07,\n",
       "       4.32226487e-07, 5.21993717e-07, 6.30320059e-07, 7.61022624e-07,\n",
       "       9.18698868e-07, 1.10888498e-06, 1.33824617e-06, 1.61480517e-06,\n",
       "       1.94821657e-06, 2.35009606e-06, 2.83441552e-06, 3.41797679e-06,\n",
       "       4.12097984e-06, 4.96770364e-06, 5.98732206e-06, 7.21488094e-06,\n",
       "       8.69246787e-06, 1.04706121e-05, 1.26099589e-05, 1.51832718e-05,\n",
       "       1.82778251e-05, 2.19982616e-05, 2.64700047e-05, 3.18433294e-05,\n",
       "       3.82982174e-05, 4.60501431e-05, 5.53569660e-05, 6.65271338e-05,\n",
       "       7.99294409e-05, 9.60046268e-05, 1.15279152e-04, 1.38381547e-04,\n",
       "       1.66061799e-04, 1.99214313e-04, 2.38905098e-04, 2.86403900e-04,\n",
       "       3.43222159e-04, 4.11157782e-04, 4.92347903e-04, 5.89330960e-04,\n",
       "       7.05119642e-04, 8.43286477e-04, 1.00806408e-03, 1.20446241e-03,\n",
       "       1.43840556e-03, 1.71689118e-03, 2.04817566e-03, 2.44198899e-03,\n",
       "       2.90978304e-03, 3.46501808e-03, 4.12349206e-03, 4.90371787e-03,\n",
       "       5.82735409e-03, 6.91969459e-03, 8.21022256e-03, 9.73323439e-03,\n",
       "       1.15285381e-02, 1.36422302e-02, 1.61275542e-02, 1.90458404e-02,\n",
       "       2.24675261e-02, 2.64732515e-02, 3.11550200e-02, 3.66174103e-02,\n",
       "       4.29788182e-02, 5.03726992e-02, 5.89487766e-02, 6.88741667e-02,\n",
       "       8.03343677e-02, 9.35340433e-02, 1.08697530e-01, 1.26068979e-01,\n",
       "       1.45912058e-01, 1.68509102e-01, 1.94159654e-01, 2.23178301e-01,\n",
       "       2.55891760e-01, 2.92635178e-01, 3.33747659e-01, 3.79567050e-01,\n",
       "       4.30424101e-01, 4.86636118e-01, 5.48500329e-01, 6.16287177e-01,\n",
       "       6.90233829e-01, 7.70538175e-01, 8.57353601e-01, 9.50784813e-01,\n",
       "       1.05088491e+00, 1.15765390e+00, 1.27103868e+00, 1.39093453e+00,\n",
       "       1.51718808e+00, 1.64960143e+00, 1.78793742e+00, 1.93192560e+00,\n",
       "       2.08126875e+00, 2.23564956e+00, 2.39473728e+00, 2.55819406e+00,\n",
       "       2.72568080e+00, 2.89686236e+00, 3.07141201e+00, 3.24901516e+00,\n",
       "       3.42937228e+00, 3.61220103e+00, 3.79723775e+00, 3.98423827e+00,\n",
       "       4.17297827e+00, 4.36325308e+00, 4.55487720e+00, 4.74768352e+00,\n",
       "       4.94152232e+00, 5.13626013e+00, 5.33177856e+00, 5.52797303e+00,\n",
       "       5.72475155e+00, 5.92203346e+00, 6.11974834e+00, 6.31783484e+00,\n",
       "       6.51623974e+00, 6.71491693e+00, 6.91382660e+00, 7.11293446e+00,\n",
       "       7.31221103e+00, 7.51163100e+00, 7.71117273e+00, 7.91081769e+00,\n",
       "       8.11055010e+00, 8.31035648e+00, 8.51022540e+00, 8.71014711e+00,\n",
       "       8.91011337e+00, 9.11011717e+00, 9.31015260e+00, 9.51021463e+00,\n",
       "       9.71029904e+00, 9.91040226e+00, 1.01105213e+01, 1.03106535e+01,\n",
       "       1.05107969e+01, 1.07109496e+01, 1.09111101e+01, 1.11112772e+01,\n",
       "       1.13114497e+01, 1.15116268e+01, 1.17118077e+01, 1.19119918e+01,\n",
       "       1.21121786e+01, 1.23123677e+01, 1.25125586e+01, 1.27127510e+01,\n",
       "       1.29129448e+01, 1.31131396e+01, 1.33133353e+01, 1.35135318e+01,\n",
       "       1.37137289e+01, 1.39139265e+01, 1.41141246e+01, 1.43143230e+01,\n",
       "       1.45145217e+01, 1.47147207e+01, 1.49149199e+01, 1.51151192e+01,\n",
       "       1.53153187e+01, 1.55155183e+01, 1.57157181e+01, 1.59159179e+01,\n",
       "       1.61161177e+01, 1.63163177e+01, 1.65165176e+01, 1.67167176e+01,\n",
       "       1.69169177e+01, 1.71171177e+01, 1.73173178e+01, 1.75175179e+01,\n",
       "       1.77177181e+01, 1.79179182e+01, 1.81181184e+01, 1.83183185e+01,\n",
       "       1.85185187e+01, 1.87187189e+01, 1.89189190e+01, 1.91191192e+01,\n",
       "       1.93193194e+01, 1.95195196e+01, 1.97197198e+01, 1.99199200e+01,\n",
       "       2.01201202e+01, 2.03203204e+01, 2.05205205e+01, 2.07207207e+01,\n",
       "       2.09209209e+01, 2.11211211e+01, 2.13213213e+01, 2.15215215e+01,\n",
       "       2.17217217e+01, 2.19219219e+01, 2.21221221e+01, 2.23223223e+01,\n",
       "       2.25225225e+01, 2.27227227e+01, 2.29229229e+01, 2.31231231e+01,\n",
       "       2.33233233e+01, 2.35235235e+01, 2.37237237e+01, 2.39239239e+01,\n",
       "       2.41241241e+01, 2.43243243e+01, 2.45245245e+01, 2.47247247e+01,\n",
       "       2.49249249e+01, 2.51251251e+01, 2.53253253e+01, 2.55255255e+01,\n",
       "       2.57257257e+01, 2.59259259e+01, 2.61261261e+01, 2.63263263e+01,\n",
       "       2.65265265e+01, 2.67267267e+01, 2.69269269e+01, 2.71271271e+01,\n",
       "       2.73273273e+01, 2.75275275e+01, 2.77277277e+01, 2.79279279e+01,\n",
       "       2.81281281e+01, 2.83283283e+01, 2.85285285e+01, 2.87287287e+01,\n",
       "       2.89289289e+01, 2.91291291e+01, 2.93293293e+01, 2.95295295e+01,\n",
       "       2.97297297e+01, 2.99299299e+01, 3.01301301e+01, 3.03303303e+01,\n",
       "       3.05305305e+01, 3.07307307e+01, 3.09309309e+01, 3.11311311e+01,\n",
       "       3.13313313e+01, 3.15315315e+01, 3.17317317e+01, 3.19319319e+01,\n",
       "       3.21321321e+01, 3.23323323e+01, 3.25325325e+01, 3.27327327e+01,\n",
       "       3.29329329e+01, 3.31331331e+01, 3.33333333e+01, 3.35335335e+01,\n",
       "       3.37337337e+01, 3.39339339e+01, 3.41341341e+01, 3.43343343e+01,\n",
       "       3.45345345e+01, 3.47347347e+01, 3.49349349e+01, 3.51351351e+01,\n",
       "       3.53353353e+01, 3.55355355e+01, 3.57357357e+01, 3.59359359e+01,\n",
       "       3.61361361e+01, 3.63363363e+01, 3.65365365e+01, 3.67367367e+01,\n",
       "       3.69369369e+01, 3.71371371e+01, 3.73373373e+01, 3.75375375e+01,\n",
       "       3.77377377e+01, 3.79379379e+01, 3.81381381e+01, 3.83383383e+01,\n",
       "       3.85385385e+01, 3.87387387e+01, 3.89389389e+01, 3.91391391e+01,\n",
       "       3.93393393e+01, 3.95395395e+01, 3.97397397e+01, 3.99399399e+01,\n",
       "       4.01401401e+01, 4.03403403e+01, 4.05405405e+01, 4.07407407e+01,\n",
       "       4.09409409e+01, 4.11411411e+01, 4.13413413e+01, 4.15415415e+01,\n",
       "       4.17417417e+01, 4.19419419e+01, 4.21421421e+01, 4.23423423e+01,\n",
       "       4.25425425e+01, 4.27427427e+01, 4.29429429e+01, 4.31431431e+01,\n",
       "       4.33433433e+01, 4.35435435e+01, 4.37437437e+01, 4.39439439e+01,\n",
       "       4.41441441e+01, 4.43443443e+01, 4.45445445e+01, 4.47447447e+01,\n",
       "       4.49449449e+01, 4.51451451e+01, 4.53453453e+01, 4.55455455e+01,\n",
       "       4.57457457e+01, 4.59459459e+01, 4.61461461e+01, 4.63463463e+01,\n",
       "       4.65465465e+01, 4.67467467e+01, 4.69469469e+01, 4.71471471e+01,\n",
       "       4.73473473e+01, 4.75475475e+01, 4.77477477e+01, 4.79479479e+01,\n",
       "       4.81481481e+01, 4.83483483e+01, 4.85485485e+01, 4.87487487e+01,\n",
       "       4.89489489e+01, 4.91491491e+01, 4.93493493e+01, 4.95495495e+01,\n",
       "       4.97497497e+01, 4.99499499e+01, 5.01501502e+01, 5.03503504e+01,\n",
       "       5.05505506e+01, 5.07507508e+01, 5.09509510e+01, 5.11511512e+01,\n",
       "       5.13513514e+01, 5.15515516e+01, 5.17517518e+01, 5.19519520e+01,\n",
       "       5.21521522e+01, 5.23523524e+01, 5.25525526e+01, 5.27527528e+01,\n",
       "       5.29529530e+01, 5.31531532e+01, 5.33533534e+01, 5.35535536e+01,\n",
       "       5.37537538e+01, 5.39539540e+01, 5.41541542e+01, 5.43543544e+01,\n",
       "       5.45545546e+01, 5.47547548e+01, 5.49549550e+01, 5.51551552e+01,\n",
       "       5.53553554e+01, 5.55555556e+01, 5.57557558e+01, 5.59559560e+01,\n",
       "       5.61561562e+01, 5.63563564e+01, 5.65565566e+01, 5.67567568e+01,\n",
       "       5.69569570e+01, 5.71571572e+01, 5.73573574e+01, 5.75575576e+01,\n",
       "       5.77577578e+01, 5.79579580e+01, 5.81581582e+01, 5.83583584e+01,\n",
       "       5.85585586e+01, 5.87587588e+01, 5.89589590e+01, 5.91591592e+01,\n",
       "       5.93593594e+01, 5.95595596e+01, 5.97597598e+01, 5.99599600e+01,\n",
       "       6.01601602e+01, 6.03603604e+01, 6.05605606e+01, 6.07607608e+01,\n",
       "       6.09609610e+01, 6.11611612e+01, 6.13613614e+01, 6.15615616e+01,\n",
       "       6.17617618e+01, 6.19619620e+01, 6.21621622e+01, 6.23623624e+01,\n",
       "       6.25625626e+01, 6.27627628e+01, 6.29629630e+01, 6.31631632e+01,\n",
       "       6.33633634e+01, 6.35635636e+01, 6.37637638e+01, 6.39639640e+01,\n",
       "       6.41641642e+01, 6.43643644e+01, 6.45645646e+01, 6.47647648e+01,\n",
       "       6.49649650e+01, 6.51651652e+01, 6.53653654e+01, 6.55655656e+01,\n",
       "       6.57657658e+01, 6.59659660e+01, 6.61661662e+01, 6.63663664e+01,\n",
       "       6.65665666e+01, 6.67667668e+01, 6.69669670e+01, 6.71671672e+01,\n",
       "       6.73673674e+01, 6.75675676e+01, 6.77677678e+01, 6.79679680e+01,\n",
       "       6.81681682e+01, 6.83683684e+01, 6.85685686e+01, 6.87687688e+01,\n",
       "       6.89689690e+01, 6.91691692e+01, 6.93693694e+01, 6.95695696e+01,\n",
       "       6.97697698e+01, 6.99699700e+01, 7.01701702e+01, 7.03703704e+01,\n",
       "       7.05705706e+01, 7.07707708e+01, 7.09709710e+01, 7.11711712e+01,\n",
       "       7.13713714e+01, 7.15715716e+01, 7.17717718e+01, 7.19719720e+01,\n",
       "       7.21721722e+01, 7.23723724e+01, 7.25725726e+01, 7.27727728e+01,\n",
       "       7.29729730e+01, 7.31731732e+01, 7.33733734e+01, 7.35735736e+01,\n",
       "       7.37737738e+01, 7.39739740e+01, 7.41741742e+01, 7.43743744e+01,\n",
       "       7.45745746e+01, 7.47747748e+01, 7.49749750e+01, 7.51751752e+01,\n",
       "       7.53753754e+01, 7.55755756e+01, 7.57757758e+01, 7.59759760e+01,\n",
       "       7.61761762e+01, 7.63763764e+01, 7.65765766e+01, 7.67767768e+01,\n",
       "       7.69769770e+01, 7.71771772e+01, 7.73773774e+01, 7.75775776e+01,\n",
       "       7.77777778e+01, 7.79779780e+01, 7.81781782e+01, 7.83783784e+01,\n",
       "       7.85785786e+01, 7.87787788e+01, 7.89789790e+01, 7.91791792e+01,\n",
       "       7.93793794e+01, 7.95795796e+01, 7.97797798e+01, 7.99799800e+01,\n",
       "       8.01801802e+01, 8.03803804e+01, 8.05805806e+01, 8.07807808e+01,\n",
       "       8.09809810e+01, 8.11811812e+01, 8.13813814e+01, 8.15815816e+01,\n",
       "       8.17817818e+01, 8.19819820e+01, 8.21821822e+01, 8.23823824e+01,\n",
       "       8.25825826e+01, 8.27827828e+01, 8.29829830e+01, 8.31831832e+01,\n",
       "       8.33833834e+01, 8.35835836e+01, 8.37837838e+01, 8.39839840e+01,\n",
       "       8.41841842e+01, 8.43843844e+01, 8.45845846e+01, 8.47847848e+01,\n",
       "       8.49849850e+01, 8.51851852e+01, 8.53853854e+01, 8.55855856e+01,\n",
       "       8.57857858e+01, 8.59859860e+01, 8.61861862e+01, 8.63863864e+01,\n",
       "       8.65865866e+01, 8.67867868e+01, 8.69869870e+01, 8.71871872e+01,\n",
       "       8.73873874e+01, 8.75875876e+01, 8.77877878e+01, 8.79879880e+01,\n",
       "       8.81881882e+01, 8.83883884e+01, 8.85885886e+01, 8.87887888e+01,\n",
       "       8.89889890e+01, 8.91891892e+01, 8.93893894e+01, 8.95895896e+01,\n",
       "       8.97897898e+01, 8.99899900e+01, 9.01901902e+01, 9.03903904e+01,\n",
       "       9.05905906e+01, 9.07907908e+01, 9.09909910e+01, 9.11911912e+01,\n",
       "       9.13913914e+01, 9.15915916e+01, 9.17917918e+01, 9.19919920e+01,\n",
       "       9.21921922e+01, 9.23923924e+01, 9.25925926e+01, 9.27927928e+01,\n",
       "       9.29929930e+01, 9.31931932e+01, 9.33933934e+01, 9.35935936e+01,\n",
       "       9.37937938e+01, 9.39939940e+01, 9.41941942e+01, 9.43943944e+01,\n",
       "       9.45945946e+01, 9.47947948e+01, 9.49949950e+01, 9.51951952e+01,\n",
       "       9.53953954e+01, 9.55955956e+01, 9.57957958e+01, 9.59959960e+01,\n",
       "       9.61961962e+01, 9.63963964e+01, 9.65965966e+01, 9.67967968e+01,\n",
       "       9.69969970e+01, 9.71971972e+01, 9.73973974e+01, 9.75975976e+01,\n",
       "       9.77977978e+01, 9.79979980e+01, 9.81981982e+01, 9.83983984e+01,\n",
       "       9.85985986e+01, 9.87987988e+01, 9.89989990e+01, 9.91991992e+01,\n",
       "       9.93993994e+01, 9.95995996e+01, 9.97997998e+01, 1.00000000e+02])"
      ]
     },
     "execution_count": 18,
     "metadata": {},
     "output_type": "execute_result"
    },
    {
     "data": {
      "image/png": "[encoded data removed]",
      "text/plain": [
       "<Figure size 640x480 with 1 Axes>"
      ]
     },
     "metadata": {},
     "output_type": "display_data"
    }
   ],
   "source": [
    "import numpy as np\n",
    "def rateconst(v, r, v12, q):\n",
    "    conditions = [((np.abs(((v - v12) / q)) > 0)), ~(((np.abs(((v - v12) / q)) > 0)))]\n",
    "    choices = [((r * (v - v12)) / (1 - np.exp((-((v - v12)) / q)))), (r * q)]\n",
    "    rateconst = np.select(conditions, choices)\n",
    "    return rateconst\n",
    "\n",
    "_v = np.linspace(-100, 100, 1000)\n",
    "import matplotlib.pyplot as plt\n",
    "plt.plot(_v, rateconst(_v, 1, 0, 1))\n",
    "rateconst(_v, 1, 0, 1)"
   ]
  },
  {
   "cell_type": "code",
   "execution_count": null,
   "metadata": {},
   "outputs": [
    {
     "name": "stdout",
     "output_type": "stream",
     "text": [
      "{'func_calls': [{'rates': []}],\n",
      " 'statements': [{'assigned_var': 'm', 'expression': 'mInf'},\n",
      "                {'assigned_var': 'h', 'expression': 'hInf'}]}\n"
     ]
    }
   ],
   "source": [
    "pprint(parser.ast['mod_file']['initial_block'])"
   ]
  },
  {
   "cell_type": "code",
   "execution_count": null,
   "metadata": {},
   "outputs": [
    {
     "name": "stdout",
     "output_type": "stream",
     "text": [
      "{'func_calls': [{'rates': []}],\n",
      " 'name': 'states',\n",
      " 'statements': [{'assigned_var': 'm',\n",
      "                 'expression': {'/': [{'-': ['mInf', 'm']}, 'mTau']}},\n",
      "                {'assigned_var': 'h',\n",
      "                 'expression': {'/': [{'-': ['hInf', 'h']}, 'hTau']}}]}\n"
     ]
    }
   ],
   "source": [
    "pprint(parser.ast['mod_file']['derivative_block'])"
   ]
  },
  {
   "cell_type": "markdown",
   "metadata": {},
   "source": [
    "# Functional blocks"
   ]
  },
  {
   "cell_type": "code",
   "execution_count": null,
   "metadata": {},
   "outputs": [
    {
     "ename": "KeyError",
     "evalue": "'function_blocks'",
     "output_type": "error",
     "traceback": [
      "\u001b[0;31m---------------------------------------------------------------------------\u001b[0m",
      "\u001b[0;31mKeyError\u001b[0m                                  Traceback (most recent call last)",
      "Cell \u001b[0;32mIn[15], line 1\u001b[0m\n\u001b[0;32m----> 1\u001b[0m \u001b[38;5;28mprint\u001b[39m(\u001b[38;5;124mf\u001b[39m\u001b[38;5;124m\"\u001b[39m\u001b[38;5;124mNumber of functions: \u001b[39m\u001b[38;5;132;01m{\u001b[39;00m\u001b[38;5;28mlen\u001b[39m(parser\u001b[38;5;241m.\u001b[39mast[\u001b[38;5;124m'\u001b[39m\u001b[38;5;124mmod_file\u001b[39m\u001b[38;5;124m'\u001b[39m][\u001b[38;5;124m'\u001b[39m\u001b[38;5;124mfunction_blocks\u001b[39m\u001b[38;5;124m'\u001b[39m])\u001b[38;5;132;01m}\u001b[39;00m\u001b[38;5;124m\"\u001b[39m)\n",
      "\u001b[0;31mKeyError\u001b[0m: 'function_blocks'"
     ]
    }
   ],
   "source": [
    "print(f\"Number of functions: {len(parser.ast['mod_file']['function_blocks'])}\")"
   ]
  },
  {
   "cell_type": "code",
   "execution_count": null,
   "metadata": {},
   "outputs": [
    {
     "name": "stdout",
     "output_type": "stream",
     "text": [
      "{'if_else_statements': [],\n",
      " 'locals': [],\n",
      " 'signature': {'f_name': 'alpha_prime',\n",
      "               'params': [{'name': 'v', 'unit': 'mV'},\n",
      "                          {'name': 'k', 'unit': '1/ms'},\n",
      "                          {'name': 'delta', 'unit': ['1']},\n",
      "                          {'name': 'vhalf', 'unit': 'mV'},\n",
      "                          {'name': 'sigma', 'unit': 'mV'}],\n",
      "               'returned_unit': '1/ms'},\n",
      " 'statements': [{'assigned_var': 'alpha_prime',\n",
      "                 'expression': {'*': ['k',\n",
      "                                      {'exp': [{'/': [{'*': ['delta',\n",
      "                                                             {'-': ['v',\n",
      "                                                                    'vhalf']}]},\n",
      "                                                      'sigma']}]}]}}]}\n",
      "{'if_else_statements': [],\n",
      " 'locals': [],\n",
      " 'signature': {'f_name': 'beta_prime',\n",
      "               'params': [{'name': 'v', 'unit': 'mV'},\n",
      "                          {'name': 'k', 'unit': '1/ms'},\n",
      "                          {'name': 'delta', 'unit': ['1']},\n",
      "                          {'name': 'vhalf', 'unit': 'mV'},\n",
      "                          {'name': 'sigma', 'unit': 'mV'}],\n",
      "               'returned_unit': '1/ms'},\n",
      " 'statements': [{'assigned_var': 'beta_prime',\n",
      "                 'expression': {'*': ['k',\n",
      "                                      {'exp': [{'/': [{'*': [{'-': [{'-': [1,\n",
      "                                                                           'delta']}]},\n",
      "                                                             {'-': ['v',\n",
      "                                                                    'vhalf']}]},\n",
      "                                                      'sigma']}]}]}}]}\n"
     ]
    }
   ],
   "source": [
    "for f in parser.ast['mod_file']['function_blocks']:\n",
    "    pprint(f)"
   ]
  },
  {
   "cell_type": "markdown",
   "metadata": {},
   "source": [
    "# Procedure blocks"
   ]
  },
  {
   "cell_type": "code",
   "execution_count": 12,
   "metadata": {},
   "outputs": [
    {
     "name": "stdout",
     "output_type": "stream",
     "text": [
      "Number of procedures: 1\n"
     ]
    }
   ],
   "source": [
    "print(f\"Number of procedures: {len(parser.ast['mod_file']['procedure_blocks'])}\")"
   ]
  },
  {
   "cell_type": "code",
   "execution_count": 13,
   "metadata": {},
   "outputs": [
    {
     "data": {
      "text/plain": [
       "{'signature': {'f_name': 'rates'},\n",
       " 'locals': [],\n",
       " 'if_else_statements': [{'expression': {'==': ['v', {'-': [27]}]},\n",
       "   'condition': {'==': ['v', {'-': [27]}]},\n",
       "   'if_statements': [{'assigned_var': 'v',\n",
       "     'expression': {'+': ['v', 0.0001]}}]}],\n",
       " 'assignment_statements': [{'assigned_var': 'mAlpha',\n",
       "   'expression': {'/': [{'*': [0.055, {'-': [{'-': [27]}, 'v']}]},\n",
       "     {'-': [{'exp': [{'/': [{'-': [{'-': [27]}, 'v']}, 3.8]}]}, 1]}]}},\n",
       "  {'assigned_var': 'mBeta',\n",
       "   'expression': {'*': [0.94,\n",
       "     {'exp': [{'/': [{'-': [{'-': [75]}, 'v']}, 17]}]}]}},\n",
       "  {'assigned_var': 'mInf',\n",
       "   'expression': {'/': ['mAlpha', {'+': ['mAlpha', 'mBeta']}]}},\n",
       "  {'assigned_var': 'mTau',\n",
       "   'expression': {'/': [1, {'+': ['mAlpha', 'mBeta']}]}},\n",
       "  {'assigned_var': 'hAlpha',\n",
       "   'expression': {'*': [0.000457,\n",
       "     {'exp': [{'/': [{'-': [{'-': [13]}, 'v']}, 50]}]}]}},\n",
       "  {'assigned_var': 'hBeta',\n",
       "   'expression': {'/': [0.0065,\n",
       "     {'+': [{'exp': [{'/': [{'-': [{'-': ['v']}, 15]}, 28]}]}, 1]}]}},\n",
       "  {'assigned_var': 'hInf',\n",
       "   'expression': {'/': ['hAlpha', {'+': ['hAlpha', 'hBeta']}]}},\n",
       "  {'assigned_var': 'hTau',\n",
       "   'expression': {'/': [1, {'+': ['hAlpha', 'hBeta']}]}}],\n",
       " 'statements': [{'expression': {'==': ['v', {'-': [27]}]},\n",
       "   'condition': {'==': ['v', {'-': [27]}]},\n",
       "   'if_statements': [{'assigned_var': 'v',\n",
       "     'expression': {'+': ['v', 0.0001]}}]},\n",
       "  {'assigned_var': 'mAlpha',\n",
       "   'expression': {'/': [{'*': [0.055, {'-': [{'-': [27]}, 'v']}]},\n",
       "     {'-': [{'exp': [{'/': [{'-': [{'-': [27]}, 'v']}, 3.8]}]}, 1]}]}},\n",
       "  {'assigned_var': 'mBeta',\n",
       "   'expression': {'*': [0.94,\n",
       "     {'exp': [{'/': [{'-': [{'-': [75]}, 'v']}, 17]}]}]}},\n",
       "  {'assigned_var': 'mInf',\n",
       "   'expression': {'/': ['mAlpha', {'+': ['mAlpha', 'mBeta']}]}},\n",
       "  {'assigned_var': 'mTau',\n",
       "   'expression': {'/': [1, {'+': ['mAlpha', 'mBeta']}]}},\n",
       "  {'assigned_var': 'hAlpha',\n",
       "   'expression': {'*': [0.000457,\n",
       "     {'exp': [{'/': [{'-': [{'-': [13]}, 'v']}, 50]}]}]}},\n",
       "  {'assigned_var': 'hBeta',\n",
       "   'expression': {'/': [0.0065,\n",
       "     {'+': [{'exp': [{'/': [{'-': [{'-': ['v']}, 15]}, 28]}]}, 1]}]}},\n",
       "  {'assigned_var': 'hInf',\n",
       "   'expression': {'/': ['hAlpha', {'+': ['hAlpha', 'hBeta']}]}},\n",
       "  {'assigned_var': 'hTau',\n",
       "   'expression': {'/': [1, {'+': ['hAlpha', 'hBeta']}]}}]}"
      ]
     },
     "execution_count": 13,
     "metadata": {},
     "output_type": "execute_result"
    }
   ],
   "source": [
    "parser.ast['mod_file']['procedure_blocks'][0]"
   ]
  },
  {
   "cell_type": "code",
   "execution_count": 18,
   "metadata": {},
   "outputs": [
    {
     "ename": "KeyError",
     "evalue": "'if_else_statements'",
     "output_type": "error",
     "traceback": [
      "\u001b[0;31m---------------------------------------------------------------------------\u001b[0m",
      "\u001b[0;31mKeyError\u001b[0m                                  Traceback (most recent call last)",
      "Cell \u001b[0;32mIn[18], line 1\u001b[0m\n\u001b[0;32m----> 1\u001b[0m parser\u001b[38;5;241m.\u001b[39mast[\u001b[38;5;124m'\u001b[39m\u001b[38;5;124mmod_file\u001b[39m\u001b[38;5;124m'\u001b[39m][\u001b[38;5;124m'\u001b[39m\u001b[38;5;124mprocedure_blocks\u001b[39m\u001b[38;5;124m'\u001b[39m][\u001b[38;5;241m0\u001b[39m][\u001b[38;5;124m'\u001b[39m\u001b[38;5;124mif_else_statements\u001b[39m\u001b[38;5;124m'\u001b[39m]\n",
      "\u001b[0;31mKeyError\u001b[0m: 'if_else_statements'"
     ]
    }
   ],
   "source": [
    "parser.ast['mod_file']['procedure_blocks'][0]['if_else_statements']"
   ]
  },
  {
   "cell_type": "markdown",
   "metadata": {},
   "source": [
    "# Class"
   ]
  },
  {
   "cell_type": "code",
   "execution_count": null,
   "metadata": {},
   "outputs": [
    {
     "data": {
      "text/plain": [
       "'alpn(v)'"
      ]
     },
     "execution_count": 18,
     "metadata": {},
     "output_type": "execute_result"
    }
   ],
   "source": [
    "parser.restore_expression({'alpn': ['v']})"
   ]
  },
  {
   "cell_type": "code",
   "execution_count": 14,
   "metadata": {},
   "outputs": [
    {
     "data": {
      "text/plain": [
       "[{'expression': {'<': ['v', {'-': [50]}]},\n",
       "  'condition': {'<': ['v', {'-': [50]}]},\n",
       "  'if_statements': [{'assigned_var': 'mTau',\n",
       "    'expression': {'/': [{'+': [1.25,\n",
       "        {'*': [175.03, {'exp': [{'*': [{'-': ['v']}, {'-': [0.026]}]}]}]}]},\n",
       "      'qt']}}],\n",
       "  'else_statements': [{'assigned_var': 'mTau',\n",
       "    'expression': {'/': [{'+': [1.25,\n",
       "        {'*': [13, {'exp': [{'*': [{'-': ['v']}, 0.026]}]}]}]},\n",
       "      'qt']}}]}]"
      ]
     },
     "execution_count": 14,
     "metadata": {},
     "output_type": "execute_result"
    }
   ],
   "source": [
    "parser.ast['mod_file']['procedure_blocks'][0]['if_else_statements']"
   ]
  },
  {
   "cell_type": "code",
   "execution_count": 12,
   "metadata": {},
   "outputs": [
    {
     "data": {
      "text/plain": [
       "'\\nif (self.v == -38) {\\n    self.v = self.v + 0.0001\\n}\\n'"
      ]
     },
     "execution_count": 12,
     "metadata": {},
     "output_type": "execute_result"
    }
   ],
   "source": [
    "txt = \"\"\"\n",
    "if (v == -38) {\n",
    "    v = v + 0.0001\n",
    "}\n",
    "\"\"\"\n",
    "parser.extend_expression(txt)"
   ]
  },
  {
   "cell_type": "code",
   "execution_count": 9,
   "metadata": {},
   "outputs": [
    {
     "name": "stdout",
     "output_type": "stream",
     "text": [
      "import numpy as np\n",
      "try:\n",
      "    from ..channels import CustomIonChannel\n",
      "except:\n",
      "    from channels import CustomIonChannel\n",
      "\n",
      "class K_Pst_Hay(CustomIonChannel):\n",
      "    def __init__(self, cell=None):\n",
      "        super().__init__(name='K_Pst_Hay', suffix='K_Pst', cell=cell)\n",
      "        self.ion = 'k'\n",
      "        self.range_params = [\n",
      "            'gbar',\n",
      "        ]\n",
      "        self.gbar = 1e-05 # S/cm2\n",
      "        self.celsius = 37 # degC\n",
      "        self.v = np.linspace(-100, 100, 1000)\n",
      "        self.state_vars = {\n",
      "            \"m\": {\n",
      "                \"inf\": \"mInf\",\n",
      "                \"tau\": \"mTau\",\n",
      "                \"power\": 2\n",
      "            },\n",
      "            \"h\": {\n",
      "                \"inf\": \"hInf\",\n",
      "                \"tau\": \"hTau\",\n",
      "                \"power\": 1\n",
      "            },\n",
      "        }\n",
      "\n",
      "    def rates(self):\n",
      "        self.qt = 2.3 ** ((34 - 21) / 10)\n",
      "        self.v = self.v + 10\n",
      "        self.mInf = 1 / (1 + np.exp((-((self.v + 1)) / 12)))\n",
      "        self.hInf = 1 / (1 + np.exp((-((self.v + 54)) / -(11))))\n",
      "        self.hTau = (360 + ((1010 + (24 * (self.v + 55))) * np.exp((-(((self.v + 75) / 48)) ** 2)))) / self.qt\n",
      "        self.v = self.v - 10\n",
      "\n",
      "    def update(self, ):\n",
      "        self.rates()\n",
      "\n"
     ]
    }
   ],
   "source": [
    "print(parser.ast_to_python())"
   ]
  },
  {
   "cell_type": "code",
   "execution_count": 9,
   "metadata": {},
   "outputs": [],
   "source": [
    "from model.mechanisms.collection.KCa_Park_ref import KCa_Park_ref"
   ]
  },
  {
   "cell_type": "code",
   "execution_count": 10,
   "metadata": {},
   "outputs": [],
   "source": [
    "kca = KCa_Park_ref()"
   ]
  },
  {
   "cell_type": "code",
   "execution_count": 12,
   "metadata": {},
   "outputs": [],
   "source": [
    "import numpy as np\n",
    "kca.update(np.logspace(-5, 5, 1000))"
   ]
  },
  {
   "cell_type": "code",
   "execution_count": 16,
   "metadata": {},
   "outputs": [
    {
     "data": {
      "text/plain": [
       "{'n': {'inf': 'ninf', 'tau': 'ntau', 'power': 1}}"
      ]
     },
     "execution_count": 16,
     "metadata": {},
     "output_type": "execute_result"
    }
   ],
   "source": [
    "kca.state_vars"
   ]
  },
  {
   "cell_type": "code",
   "execution_count": 22,
   "metadata": {},
   "outputs": [
    {
     "data": {
      "image/png": "[encoded data removed]",
      "text/plain": [
       "<Figure size 600x800 with 2 Axes>"
      ]
     },
     "metadata": {},
     "output_type": "display_data"
    }
   ],
   "source": [
    "import matplotlib.pyplot as plt\n",
    "fig, axes = plt.subplots(2, 1, figsize=(6, 8))\n",
    "axes[0].plot(np.logspace(-5, 5, 1000), kca.ninf)\n",
    "axes[0].set_title('ninf')\n",
    "axes[1].plot(np.logspace(-5, 5, 1000), kca.ntau)\n",
    "axes[1].set_title('ntau')\n",
    "\n",
    "for ax in axes:\n",
    "    ax.set_xscale('log')"
   ]
  }
 ],
 "metadata": {
  "kernelspec": {
   "display_name": "chapy",
   "language": "python",
   "name": "python3"
  },
  "language_info": {
   "codemirror_mode": {
    "name": "ipython",
    "version": 3
   },
   "file_extension": ".py",
   "mimetype": "text/x-python",
   "name": "python",
   "nbconvert_exporter": "python",
   "pygments_lexer": "ipython3",
   "version": "3.11.3"
  }
 },
 "nbformat": 4,
 "nbformat_minor": 2
}
